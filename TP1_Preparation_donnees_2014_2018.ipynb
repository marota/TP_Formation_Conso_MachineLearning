{
 "cells": [
  {
   "cell_type": "markdown",
   "metadata": {},
   "source": [
    "# TP facultatif : Préparation du jeu de données brut"
   ]
  },
  {
   "cell_type": "markdown",
   "metadata": {},
   "source": [
    "Quand on se lance avec enthousiasme dans un nouveau projet de machine-learning, on pense avant tout au choix du modèle que l'on va utiliser. Cependant, et même s'il ne s'agit pas de l'étape la plus agréable du travail, un préalable indispensable est de réunir les données brutes et de les mettre en forme pour qu'elles puissent être ingérées par le modèle.\n",
    "\n",
    "L'objectif de ce TP est de comprendre comment, à partir de différentes sources de données, on construit nos jeux de données \"propres\" pour ensuite construire le meilleur modèle d'apprentissage possible pour la prévision de consommation nationale.\n",
    "\n",
    "Nos fichiers d'entrée bruts sont les suivants :\n",
    "> * historique de consommation nationale (source : Eco2mix) : Yconso_2014_2018.csv\n",
    "> * calendrier des jours fériés : joursFeries.csv\n",
    "> * coordonnées géographiques et les poids associés aux stations Météo France : StationsMeteoRTE.csv   \n",
    "> * historique d'observations et de prévisions à 24h de température : Xtemperature.csv\n",
    "\n",
    "Et les fichiers que l'on va créer sont :\n",
    "> * Xinput.csv  # Les entrées pour le modèle d'apprentissage\n",
    "> * Yconso.csv  # les sorties pour le modèle d'apprentissage"
   ]
  },
  {
   "cell_type": "markdown",
   "metadata": {},
   "source": [
    "## Environnement\n",
    "\n",
    "Chargement des librairies python, et quelques éléments de configuration."
   ]
  },
  {
   "cell_type": "code",
   "execution_count": 78,
   "metadata": {},
   "outputs": [
    {
     "data": {
      "application/javascript": [
       "IPython.notebook.set_autosave_interval(0)"
      ]
     },
     "metadata": {},
     "output_type": "display_data"
    },
    {
     "name": "stdout",
     "output_type": "stream",
     "text": [
      "Autosave disabled\n",
      "\n",
      "Mon repertoire de data est : D:\\Users\\montuelleluc\\Documents\\Formations-RTE\\MOOC IA&DeepLearning\\TP_Formation_Conso_DeepLearning\\data\n",
      "\n",
      "Fichiers contenus dans ce répertoire :\n",
      " - communes_coordonnees.csv\n",
      " - eCO2mix_RTE_tempo_2017-2018.xls\n",
      " - joursFeries.csv\n",
      " - meteoX_T0_T24.zip\n",
      " - StationsMeteoRTE.csv\n",
      " - X2input.csv\n",
      " - X2input.zip\n",
      " - Xinput.csv\n",
      " - Xinput.zip\n",
      " - Xtemperature.csv\n",
      " - Xtemperature.zip\n",
      " - Yconso.csv\n",
      " - YconsoT0.csv\n",
      " - Yconso_2014_2018.csv\n",
      " - zia00436\n",
      " - zia06312\n",
      " - zia06812\n"
     ]
    }
   ],
   "source": [
    "# Exécutez la cellule ci-dessous (par exemple avec shift-entrée)\n",
    "# Si vous exécuter ce notebook depuis votre PC, il faudra peut-etre installer certaines librairies avec \n",
    "# 'pip3 install ma_librairie'\n",
    "import os  # accès aux commandes système\n",
    "import datetime  # structure de données pour gérer des objets calendaires\n",
    "import pandas as pd  # gérer des tables de données en python\n",
    "import numpy as np  # librairie d'opérations mathématiques\n",
    "import zipfile # manipulation de fichiers zip\n",
    "import urllib3 # téléchargement de fichier\n",
    "\n",
    "import plotly\n",
    "from plotly.offline import download_plotlyjs, init_notebook_mode, plot, iplot, iplot_mpl\n",
    "import matplotlib.pyplot as plt  # tracer des visualisations\n",
    "from pandas.plotting import register_matplotlib_converters\n",
    "register_matplotlib_converters()\n",
    "\n",
    "%autosave 0\n",
    "\n",
    "data_folder = os.path.join(os.getcwd(),\"data\")\n",
    "\n",
    "print(\"\")\n",
    "print(\"Mon repertoire de data est : {}\".format(data_folder))\n",
    "print(\"\")\n",
    "print(\"Fichiers contenus dans ce répertoire :\")\n",
    "for file in os.listdir(data_folder):\n",
    "    print(\" - \" + file)"
   ]
  },
  {
   "cell_type": "markdown",
   "metadata": {},
   "source": [
    "## Récupération des données\n"
   ]
  },
  {
   "cell_type": "markdown",
   "metadata": {},
   "source": [
    "### Données de consommation\n",
    "\n",
    "Dans un premier temps on importe les données de consommation réalisée à partir du fichier \"YconsoT0.csv\". La date et l'heure sont données dans les deux premières colonnes, et les autres colonnes correspondent aux consommations des 12 régions françaises (hors Corse) et à la consommation nationale.\n",
    "\n",
    "Pour cela on utilise la bibliothèque **pandas** pour la manipulation de données et la fonction **read_csv**."
   ]
  },
  {
   "cell_type": "markdown",
   "metadata": {},
   "source": [
    "#### Import depuis un csv"
   ]
  },
  {
   "cell_type": "code",
   "execution_count": 79,
   "metadata": {},
   "outputs": [],
   "source": [
    "# Les données du csv sont importé dans un objet de type dataframe\n",
    "conso_csv = os.path.join(data_folder, \"Yconso_2014_2018.csv\")\n",
    "conso_df = pd.read_csv(conso_csv, sep=\",\")"
   ]
  },
  {
   "cell_type": "markdown",
   "metadata": {},
   "source": [
    "Il faut ensuite vérifier que les données sont importées correctement"
   ]
  },
  {
   "cell_type": "code",
   "execution_count": 80,
   "metadata": {},
   "outputs": [
    {
     "name": "stdout",
     "output_type": "stream",
     "text": [
      "(43824, 2)\n"
     ]
    }
   ],
   "source": [
    "# Afficher les dimensions et le noms des colonnes de la data frame\n",
    "print(conso_df.shape)  # Nombre de lignes, nombre de colonnes"
   ]
  },
  {
   "cell_type": "code",
   "execution_count": 81,
   "metadata": {},
   "outputs": [
    {
     "name": "stdout",
     "output_type": "stream",
     "text": [
      "Index(['ds', 'y'], dtype='object')\n"
     ]
    }
   ],
   "source": [
    "# Liste des colonnes de la data-frama\n",
    "print(conso_df.columns)"
   ]
  },
  {
   "cell_type": "code",
   "execution_count": 82,
   "metadata": {},
   "outputs": [
    {
     "name": "stdout",
     "output_type": "stream",
     "text": [
      "                     ds      y\n",
      "0  2014-01-01T00:00:00Z  64660\n",
      "1  2014-01-01T01:00:00Z  61362\n",
      "2  2014-01-01T02:00:00Z  60748\n",
      "3  2014-01-01T03:00:00Z  58061\n",
      "4  2014-01-01T04:00:00Z  54475\n",
      "                         ds      y\n",
      "43819  2018-12-31T19:00:00Z  67276\n",
      "43820  2018-12-31T20:00:00Z  64679\n",
      "43821  2018-12-31T21:00:00Z  61496\n",
      "43822  2018-12-31T22:00:00Z  59901\n",
      "43823  2018-12-31T23:00:00Z  63977\n"
     ]
    }
   ],
   "source": [
    "# Affichage des premières lignes\n",
    "print(conso_df.head(5))\n",
    "print(conso_df.tail(5))"
   ]
  },
  {
   "cell_type": "markdown",
   "metadata": {},
   "source": [
    "#### Petit détour pour gérer les dates\n",
    "\n",
    "Le fichier Yconso_2014_2018.csv contient en particulier la colonnes 'ds'. Celle-ci contient une variable de type \"string\" correspondant à la date et à l'heure. \n",
    "\n",
    "<img src=\"pictures/clock.png\" width=60 height=60>\n",
    "\n",
    "Pour manipuler facilement cette variable, il faut la convertir en variable de type **datetime**. Cela permet notamment de calculer l'heure, le jour de la semaine, le mois, l'année."
   ]
  },
  {
   "cell_type": "code",
   "execution_count": 83,
   "metadata": {},
   "outputs": [],
   "source": [
    "# On appelle \"ds\" (dateStamp) cette nouvelle colonne\n",
    "conso_df['ds'] = pd.to_datetime(conso_df['ds'])"
   ]
  },
  {
   "cell_type": "code",
   "execution_count": 84,
   "metadata": {},
   "outputs": [
    {
     "data": {
      "text/html": [
       "<div>\n",
       "<style scoped>\n",
       "    .dataframe tbody tr th:only-of-type {\n",
       "        vertical-align: middle;\n",
       "    }\n",
       "\n",
       "    .dataframe tbody tr th {\n",
       "        vertical-align: top;\n",
       "    }\n",
       "\n",
       "    .dataframe thead th {\n",
       "        text-align: right;\n",
       "    }\n",
       "</style>\n",
       "<table border=\"1\" class=\"dataframe\">\n",
       "  <thead>\n",
       "    <tr style=\"text-align: right;\">\n",
       "      <th></th>\n",
       "      <th>ds</th>\n",
       "      <th>y</th>\n",
       "    </tr>\n",
       "  </thead>\n",
       "  <tbody>\n",
       "    <tr>\n",
       "      <td>0</td>\n",
       "      <td>2014-01-01 00:00:00+00:00</td>\n",
       "      <td>64660</td>\n",
       "    </tr>\n",
       "    <tr>\n",
       "      <td>1</td>\n",
       "      <td>2014-01-01 01:00:00+00:00</td>\n",
       "      <td>61362</td>\n",
       "    </tr>\n",
       "    <tr>\n",
       "      <td>2</td>\n",
       "      <td>2014-01-01 02:00:00+00:00</td>\n",
       "      <td>60748</td>\n",
       "    </tr>\n",
       "    <tr>\n",
       "      <td>3</td>\n",
       "      <td>2014-01-01 03:00:00+00:00</td>\n",
       "      <td>58061</td>\n",
       "    </tr>\n",
       "    <tr>\n",
       "      <td>4</td>\n",
       "      <td>2014-01-01 04:00:00+00:00</td>\n",
       "      <td>54475</td>\n",
       "    </tr>\n",
       "  </tbody>\n",
       "</table>\n",
       "</div>"
      ],
      "text/plain": [
       "                         ds      y\n",
       "0 2014-01-01 00:00:00+00:00  64660\n",
       "1 2014-01-01 01:00:00+00:00  61362\n",
       "2 2014-01-01 02:00:00+00:00  60748\n",
       "3 2014-01-01 03:00:00+00:00  58061\n",
       "4 2014-01-01 04:00:00+00:00  54475"
      ]
     },
     "execution_count": 84,
     "metadata": {},
     "output_type": "execute_result"
    }
   ],
   "source": [
    "conso_df.head(5)"
   ]
  },
  {
   "cell_type": "markdown",
   "metadata": {},
   "source": [
    "La cellule ci-dessous a pour but d'illustrer comment utiliser ces objets."
   ]
  },
  {
   "cell_type": "code",
   "execution_count": 85,
   "metadata": {},
   "outputs": [
    {
     "name": "stdout",
     "output_type": "stream",
     "text": [
      "noel_2017_date vaut : 2017-12-25, et est de type <class 'datetime.date'>\n",
      "noel_2017_str vaut : 2017-12-25, et est de type <class 'str'>\n",
      "---\n",
      "starwars_day_2017_date vaut : 2017-05-04 00:00:00, et est de type <class 'datetime.datetime'>\n",
      "D'ailleurs, c'était le 4 ème jour de la semaine, où 0 correspond à lundi et 6 correspond à dimanche\n",
      "starwars_day_2017_str vaut : 2017-05-04, et est de type <class 'str'>\n",
      "---\n",
      "Le 31 décembre 2017 plus un jour ça donne le 2018-01-01\n"
     ]
    }
   ],
   "source": [
    "# datetime vers string\n",
    "noel_2017_date = datetime.date(2017, 12, 25)\n",
    "noel_2017_str = datetime.datetime.strftime(noel_2017_date, format=\"%Y-%m-%d\")\n",
    "print(\"noel_2017_date vaut : {}, et est de type {}\".format(noel_2017_date, str(type(noel_2017_date))))\n",
    "print(\"noel_2017_str vaut : {}, et est de type {}\".format(noel_2017_str, str(type(noel_2017_str))))\n",
    "print(\"---\")\n",
    "\n",
    "# string vers datetime\n",
    "starwars_day_2017_str = \"2017-05-04\"\n",
    "starwars_day_2017_date = datetime.datetime.strptime(starwars_day_2017_str, \"%Y-%m-%d\")\n",
    "print(\"starwars_day_2017_date vaut : {}, et est de type {}\".format(starwars_day_2017_date, str(type(starwars_day_2017_date))))\n",
    "print(\"D'ailleurs, c'était le \" + str(starwars_day_2017_date.weekday() + 1) + \" ème jour de la semaine, où 0 correspond à lundi et 6 correspond à dimanche\")\n",
    "print(\"starwars_day_2017_str vaut : {}, et est de type {}\".format(starwars_day_2017_str, str(type(starwars_day_2017_str))))\n",
    "print(\"---\")\n",
    "\n",
    "# Voyager dans le temps\n",
    "saint_sylvestre_2017_date = datetime.date(2017, 12, 31)\n",
    "bienvenu_en_2018_date = saint_sylvestre_2017_date + datetime.timedelta(days=1)\n",
    "print(\"Le 31 décembre 2017 plus un jour ça donne le {}\".format(bienvenu_en_2018_date))"
   ]
  },
  {
   "cell_type": "markdown",
   "metadata": {},
   "source": [
    "### Récuperation des jours fériés\n",
    "\n",
    "Le fichier *joursFeries.csv* contient la liste des jours fériés. \n",
    "\n",
    "**Attention** : la granularité temporelle est différente du fichier de consommation.\n",
    "\n",
    "On importe le fichier comme les données de consommation et on traite le champ ds."
   ]
  },
  {
   "cell_type": "code",
   "execution_count": 86,
   "metadata": {},
   "outputs": [
    {
     "data": {
      "text/html": [
       "<div>\n",
       "<style scoped>\n",
       "    .dataframe tbody tr th:only-of-type {\n",
       "        vertical-align: middle;\n",
       "    }\n",
       "\n",
       "    .dataframe tbody tr th {\n",
       "        vertical-align: top;\n",
       "    }\n",
       "\n",
       "    .dataframe thead th {\n",
       "        text-align: right;\n",
       "    }\n",
       "</style>\n",
       "<table border=\"1\" class=\"dataframe\">\n",
       "  <thead>\n",
       "    <tr style=\"text-align: right;\">\n",
       "      <th></th>\n",
       "      <th>ds</th>\n",
       "      <th>holiday</th>\n",
       "    </tr>\n",
       "  </thead>\n",
       "  <tbody>\n",
       "    <tr>\n",
       "      <td>0</td>\n",
       "      <td>2012-12-25</td>\n",
       "      <td>Noel</td>\n",
       "    </tr>\n",
       "    <tr>\n",
       "      <td>1</td>\n",
       "      <td>2013-01-01</td>\n",
       "      <td>NouvelAn</td>\n",
       "    </tr>\n",
       "    <tr>\n",
       "      <td>2</td>\n",
       "      <td>2013-04-01</td>\n",
       "      <td>Paques</td>\n",
       "    </tr>\n",
       "    <tr>\n",
       "      <td>3</td>\n",
       "      <td>2013-05-01</td>\n",
       "      <td>1erMai</td>\n",
       "    </tr>\n",
       "    <tr>\n",
       "      <td>4</td>\n",
       "      <td>2013-05-08</td>\n",
       "      <td>8Mai</td>\n",
       "    </tr>\n",
       "  </tbody>\n",
       "</table>\n",
       "</div>"
      ],
      "text/plain": [
       "           ds   holiday\n",
       "0  2012-12-25      Noel\n",
       "1  2013-01-01  NouvelAn\n",
       "2  2013-04-01    Paques\n",
       "3  2013-05-01    1erMai\n",
       "4  2013-05-08      8Mai"
      ]
     },
     "execution_count": 86,
     "metadata": {},
     "output_type": "execute_result"
    }
   ],
   "source": [
    "jours_feries_csv = os.path.join(data_folder,\"joursFeries.csv\")\n",
    "jours_feries_df = pd.read_csv(jours_feries_csv, sep=\";\")\n",
    "\n",
    "jours_feries_df.head(5)"
   ]
  },
  {
   "cell_type": "code",
   "execution_count": 87,
   "metadata": {},
   "outputs": [
    {
     "name": "stdout",
     "output_type": "stream",
     "text": [
      "Après import du csv, la colonne ds est de type <class 'str'>\n"
     ]
    }
   ],
   "source": [
    "# Pour la première colonne, les dates sont au format \"string\"\n",
    "# Nous allons les convertir en objet \"datetime\" mieux adaptés pour la manipulation de dates\n",
    "print(\"Après import du csv, la colonne ds est de type \" + str(type(jours_feries_df.ds[0])))"
   ]
  },
  {
   "cell_type": "code",
   "execution_count": 88,
   "metadata": {},
   "outputs": [
    {
     "name": "stdout",
     "output_type": "stream",
     "text": [
      "maintenant, la colonne ds est de type <class 'pandas._libs.tslibs.timestamps.Timestamp'>\n"
     ]
    }
   ],
   "source": [
    "jours_feries_df.ds = pd.to_datetime(jours_feries_df.ds)\n",
    "print(\"maintenant, la colonne ds est de type \" + str(type(jours_feries_df.ds[0])))"
   ]
  },
  {
   "cell_type": "code",
   "execution_count": 89,
   "metadata": {},
   "outputs": [
    {
     "data": {
      "text/html": [
       "<div>\n",
       "<style scoped>\n",
       "    .dataframe tbody tr th:only-of-type {\n",
       "        vertical-align: middle;\n",
       "    }\n",
       "\n",
       "    .dataframe tbody tr th {\n",
       "        vertical-align: top;\n",
       "    }\n",
       "\n",
       "    .dataframe thead th {\n",
       "        text-align: right;\n",
       "    }\n",
       "</style>\n",
       "<table border=\"1\" class=\"dataframe\">\n",
       "  <thead>\n",
       "    <tr style=\"text-align: right;\">\n",
       "      <th></th>\n",
       "      <th>ds</th>\n",
       "      <th>holiday</th>\n",
       "    </tr>\n",
       "  </thead>\n",
       "  <tbody>\n",
       "    <tr>\n",
       "      <td>0</td>\n",
       "      <td>2012-12-25</td>\n",
       "      <td>Noel</td>\n",
       "    </tr>\n",
       "    <tr>\n",
       "      <td>1</td>\n",
       "      <td>2013-01-01</td>\n",
       "      <td>NouvelAn</td>\n",
       "    </tr>\n",
       "    <tr>\n",
       "      <td>2</td>\n",
       "      <td>2013-04-01</td>\n",
       "      <td>Paques</td>\n",
       "    </tr>\n",
       "    <tr>\n",
       "      <td>3</td>\n",
       "      <td>2013-05-01</td>\n",
       "      <td>1erMai</td>\n",
       "    </tr>\n",
       "    <tr>\n",
       "      <td>4</td>\n",
       "      <td>2013-05-08</td>\n",
       "      <td>8Mai</td>\n",
       "    </tr>\n",
       "    <tr>\n",
       "      <td>5</td>\n",
       "      <td>2013-05-09</td>\n",
       "      <td>Ascension</td>\n",
       "    </tr>\n",
       "    <tr>\n",
       "      <td>6</td>\n",
       "      <td>2013-05-20</td>\n",
       "      <td>Pentecote</td>\n",
       "    </tr>\n",
       "    <tr>\n",
       "      <td>7</td>\n",
       "      <td>2013-07-14</td>\n",
       "      <td>FeteNationale</td>\n",
       "    </tr>\n",
       "  </tbody>\n",
       "</table>\n",
       "</div>"
      ],
      "text/plain": [
       "          ds        holiday\n",
       "0 2012-12-25           Noel\n",
       "1 2013-01-01       NouvelAn\n",
       "2 2013-04-01         Paques\n",
       "3 2013-05-01         1erMai\n",
       "4 2013-05-08           8Mai\n",
       "5 2013-05-09      Ascension\n",
       "6 2013-05-20      Pentecote\n",
       "7 2013-07-14  FeteNationale"
      ]
     },
     "execution_count": 89,
     "metadata": {},
     "output_type": "execute_result"
    }
   ],
   "source": [
    "jours_feries_df.head(8)"
   ]
  },
  {
   "cell_type": "markdown",
   "metadata": {},
   "source": [
    "**Attention**  L'heure n'apparaît pas ici mais inmplicitement, elle vaut 00:00 pour toutes les observations.\n",
    "Il faut y prendre garde pour la fusion avec les données de consommation. Pour cela, on crée dans les deux jeux de données une colonne **day**, qui ne conserve que la date. Et on utilise cette colonne pour fusionner les deux jeux de données.\n",
    "\n",
    "## Fusion des données de consommation et de jours fériés"
   ]
  },
  {
   "cell_type": "code",
   "execution_count": 90,
   "metadata": {},
   "outputs": [
    {
     "name": "stdout",
     "output_type": "stream",
     "text": [
      "                          ds      y   holiday\n",
      "0  2014-01-01 00:00:00+00:00  64660  NouvelAn\n",
      "1  2014-01-01 01:00:00+00:00  61362  NouvelAn\n",
      "2  2014-01-01 02:00:00+00:00  60748  NouvelAn\n",
      "3  2014-01-01 03:00:00+00:00  58061  NouvelAn\n",
      "4  2014-01-01 04:00:00+00:00  54475  NouvelAn\n",
      "5  2014-01-01 05:00:00+00:00  52534  NouvelAn\n",
      "6  2014-01-01 06:00:00+00:00  52262  NouvelAn\n",
      "7  2014-01-01 07:00:00+00:00  52302  NouvelAn\n",
      "8  2014-01-01 08:00:00+00:00  52429  NouvelAn\n",
      "9  2014-01-01 09:00:00+00:00  51663  NouvelAn\n",
      "10 2014-01-01 10:00:00+00:00  52953  NouvelAn\n",
      "11 2014-01-01 11:00:00+00:00  54561  NouvelAn\n",
      "12 2014-01-01 12:00:00+00:00  56449  NouvelAn\n",
      "13 2014-01-01 13:00:00+00:00  59253  NouvelAn\n",
      "14 2014-01-01 14:00:00+00:00  56957  NouvelAn\n",
      "15 2014-01-01 15:00:00+00:00  55005  NouvelAn\n",
      "16 2014-01-01 16:00:00+00:00  54249  NouvelAn\n",
      "17 2014-01-01 17:00:00+00:00  55189  NouvelAn\n",
      "18 2014-01-01 18:00:00+00:00  59859  NouvelAn\n",
      "19 2014-01-01 19:00:00+00:00  61961  NouvelAn\n",
      "20 2014-01-01 20:00:00+00:00  61956  NouvelAn\n",
      "21 2014-01-01 21:00:00+00:00  59917  NouvelAn\n",
      "22 2014-01-01 22:00:00+00:00  57452  NouvelAn\n",
      "23 2014-01-01 23:00:00+00:00  60626  NouvelAn\n",
      "24 2014-01-02 00:00:00+00:00  59416       NaN\n"
     ]
    }
   ],
   "source": [
    "conso_df['day'] = conso_df['ds'].apply(lambda x: datetime.datetime.strftime(x, format=\"%Y-%m-%d\"))\n",
    "jours_feries_df['day'] = jours_feries_df['ds'].apply(lambda x: datetime.datetime.strftime(x, format=\"%Y-%m-%d\"))\n",
    "\n",
    "conso_df = pd.merge(conso_df, jours_feries_df, on='day', how=\"left\", suffixes=(\"\", \"_tmp\"))\n",
    "\n",
    "conso_df = conso_df[[\"ds\",\"y\", \"holiday\"]]\n",
    "print(conso_df.loc[0:24])"
   ]
  },
  {
   "cell_type": "markdown",
   "metadata": {},
   "source": [
    "## Récupération des coordonnées géographiques des stations météo\n",
    "\n",
    "On va charger le csv qui à chaque station météo attribue sa longitude/latitude/poids. Pour en savoir plus sur les poids :  \n",
    "https://clients.rte-france.com/lang/fr/visiteurs/services/actualites.jsp?id=9482&mode=detail\n",
    "\n",
    "**Votre mission** :\n",
    "- Importez les données contenues dans le fichier csv *StationsMeteoRTE.csv* qui se situe dans data_folder vers un dataframe *stations_meteo_df*\n",
    "- Regardez à quoi ces données ressemblent "
   ]
  },
  {
   "cell_type": "code",
   "execution_count": 91,
   "metadata": {},
   "outputs": [],
   "source": [
    "# Chargez les données de StationsMeteoRTE.csv vers stations_meteo_df\n",
    "stations_meteo_csv = os.path.join(data_folder, \"StationsMeteoRTE.csv\")\n",
    "stations_meteo_df = pd.read_csv(stations_meteo_csv, sep=\";\")"
   ]
  },
  {
   "cell_type": "code",
   "execution_count": 92,
   "metadata": {},
   "outputs": [
    {
     "data": {
      "text/html": [
       "<div>\n",
       "<style scoped>\n",
       "    .dataframe tbody tr th:only-of-type {\n",
       "        vertical-align: middle;\n",
       "    }\n",
       "\n",
       "    .dataframe tbody tr th {\n",
       "        vertical-align: top;\n",
       "    }\n",
       "\n",
       "    .dataframe thead th {\n",
       "        text-align: right;\n",
       "    }\n",
       "</style>\n",
       "<table border=\"1\" class=\"dataframe\">\n",
       "  <thead>\n",
       "    <tr style=\"text-align: right;\">\n",
       "      <th></th>\n",
       "      <th>ID</th>\n",
       "      <th>Nom</th>\n",
       "      <th>longitude</th>\n",
       "      <th>latitude</th>\n",
       "      <th>Poids</th>\n",
       "    </tr>\n",
       "  </thead>\n",
       "  <tbody>\n",
       "    <tr>\n",
       "      <td>0</td>\n",
       "      <td>2</td>\n",
       "      <td>BOULOGNE-SUR-MER</td>\n",
       "      <td>1.616670</td>\n",
       "      <td>50.716670</td>\n",
       "      <td>0.010</td>\n",
       "    </tr>\n",
       "    <tr>\n",
       "      <td>1</td>\n",
       "      <td>5</td>\n",
       "      <td>ABBEVILLE</td>\n",
       "      <td>1.833330</td>\n",
       "      <td>50.100000</td>\n",
       "      <td>0.010</td>\n",
       "    </tr>\n",
       "    <tr>\n",
       "      <td>2</td>\n",
       "      <td>15</td>\n",
       "      <td>LILLE</td>\n",
       "      <td>3.058580</td>\n",
       "      <td>50.632970</td>\n",
       "      <td>0.030</td>\n",
       "    </tr>\n",
       "    <tr>\n",
       "      <td>3</td>\n",
       "      <td>27</td>\n",
       "      <td>CAEN</td>\n",
       "      <td>-0.359120</td>\n",
       "      <td>49.185850</td>\n",
       "      <td>0.025</td>\n",
       "    </tr>\n",
       "    <tr>\n",
       "      <td>4</td>\n",
       "      <td>70</td>\n",
       "      <td>REIMS</td>\n",
       "      <td>4.031696</td>\n",
       "      <td>49.258329</td>\n",
       "      <td>0.000</td>\n",
       "    </tr>\n",
       "  </tbody>\n",
       "</table>\n",
       "</div>"
      ],
      "text/plain": [
       "   ID               Nom  longitude   latitude  Poids\n",
       "0   2  BOULOGNE-SUR-MER   1.616670  50.716670  0.010\n",
       "1   5         ABBEVILLE   1.833330  50.100000  0.010\n",
       "2  15             LILLE   3.058580  50.632970  0.030\n",
       "3  27              CAEN  -0.359120  49.185850  0.025\n",
       "4  70             REIMS   4.031696  49.258329  0.000"
      ]
     },
     "execution_count": 92,
     "metadata": {},
     "output_type": "execute_result"
    }
   ],
   "source": [
    "stations_meteo_df.head(5)"
   ]
  },
  {
   "cell_type": "code",
   "execution_count": 93,
   "metadata": {},
   "outputs": [
    {
     "name": "stdout",
     "output_type": "stream",
     "text": [
      "35\n"
     ]
    }
   ],
   "source": [
    "# Pour compter le nombre de stations il suffit de compter le nombre de lignes dans le data-frame\n",
    "# Ceci se fait un utilisant \"shape\"\n",
    "nb_stations = stations_meteo_df.shape[0]\n",
    "print(nb_stations)"
   ]
  },
  {
   "cell_type": "markdown",
   "metadata": {},
   "source": [
    "## Récupération du dataframe de météo\n",
    "\n",
    "<img src=\"pictures/weather.png\" width=60 height=60>\n",
    "\n",
    "On va utiliser les mêmes fonctions que précédemment pour lire le fichier **'meteoX_T.csv'**, qui est situé dans data_folder et contient les historiques de température réalisée et prévue pour différentes stations Météo France.\n",
    "\n",
    "**Attention : Les données météo sont encryptées dans un fichier zip.**  \n",
    "Pour les lire vous avez besoin d'un mot de passe qui ne peut vous être donné que dans le cadre d'un travail au sein de RTE."
   ]
  },
  {
   "cell_type": "code",
   "execution_count": 94,
   "metadata": {},
   "outputs": [],
   "source": [
    "meteo_zip = os.path.join(data_folder, \"Xtemperature.zip\")"
   ]
  },
  {
   "cell_type": "code",
   "execution_count": 95,
   "metadata": {
    "lines_to_next_cell": 2
   },
   "outputs": [],
   "source": [
    "password = \"FIFA_Meteo\""
   ]
  },
  {
   "cell_type": "code",
   "execution_count": 96,
   "metadata": {},
   "outputs": [],
   "source": [
    "# Cette étape peut être un peu longue car le fichier est volumineux\n",
    "\n",
    "# Pour travailler avec les fichiers zip, on utilise la bibliothèque **zipfile**.\n",
    "zipfile_meteo = zipfile.ZipFile(meteo_zip)\n",
    "zipfile_meteo.setpassword(bytes(password,'utf-8'))\n",
    "meteo_df = pd.read_csv(zipfile_meteo.open('Xtemperature.csv'),sep=\",\",engine='c',header=0)\n",
    "meteo_df['ds'] = pd.to_datetime(meteo_df.date_cible) \n",
    "meteo_df = meteo_df.drop(columns=['date_cible'])"
   ]
  },
  {
   "cell_type": "code",
   "execution_count": 97,
   "metadata": {},
   "outputs": [
    {
     "name": "stdout",
     "output_type": "stream",
     "text": [
      "(43577, 71)\n",
      "Index(['002_0', '002_24', '005_0', '005_24', '015_0', '015_24', '027_0',\n",
      "       '027_24', '070_0', '070_24', '110_0', '110_24', '120_0', '120_24',\n",
      "       '130_0', '130_24', '145_0', '145_24', '149_0', '149_24', '156_0',\n",
      "       '156_24', '168_0', '168_24', '180_0', '180_24', '190_0', '190_24',\n",
      "       '222_0', '222_24', '240_0', '240_24', '255_0', '255_24', '260_0',\n",
      "       '260_24', '280_0', '280_24', '299_0', '299_24', '434_0', '434_24',\n",
      "       '460_0', '460_24', '481_0', '481_24', '497_0', '497_24', '510_0',\n",
      "       '510_24', '579_0', '579_24', '588_0', '588_24', '621_0', '621_24',\n",
      "       '630_0', '630_24', '643_0', '643_24', '645_0', '645_24', '650_0',\n",
      "       '650_24', '675_0', '675_24', '690_0', '690_24', '747_0', '747_24',\n",
      "       'ds'],\n",
      "      dtype='object')\n"
     ]
    }
   ],
   "source": [
    "print(meteo_df.shape)  # (nb lignes , nb_colonnes)\n",
    "print(meteo_df.columns)"
   ]
  },
  {
   "cell_type": "code",
   "execution_count": 98,
   "metadata": {},
   "outputs": [
    {
     "name": "stdout",
     "output_type": "stream",
     "text": [
      "   002_0  002_24  005_0  005_24  015_0  015_24  027_0  027_24  070_0  070_24  \\\n",
      "0    7.2     7.4   5.50     6.4    5.9    5.40    5.5     6.6    6.6     5.7   \n",
      "1    7.1     7.1   5.50     6.2    6.5    5.20    5.5     6.6    6.8     5.8   \n",
      "2    6.9     6.9   5.20     6.0    5.4    5.20    6.0     6.6    6.8     5.7   \n",
      "3    7.1     6.7   5.00     5.7    5.2    5.09    5.9     6.6    6.5     5.6   \n",
      "4    7.1     6.5   5.09     5.6    5.2    5.00    6.4     6.7    5.7     5.5   \n",
      "\n",
      "   ...  645_24  650_0  650_24  675_0  675_24  690_0  690_24  747_0  747_24  \\\n",
      "0  ...     7.1   9.60     7.3    0.5     3.4   5.60     6.5    4.2     7.6   \n",
      "1  ...     6.6   9.69     7.1    1.0     2.8   5.60     6.4    3.6     7.7   \n",
      "2  ...     6.5   8.60     6.6    0.4     2.4   5.50     6.2    3.5     7.5   \n",
      "3  ...     6.5   8.69     6.2    0.5     2.0   5.40     6.1    3.5     7.1   \n",
      "4  ...     6.3   8.30     5.9    0.4     1.7   5.09     5.9    3.7     6.4   \n",
      "\n",
      "                         ds  \n",
      "0 2013-12-31 23:00:00+00:00  \n",
      "1 2014-01-01 00:00:00+00:00  \n",
      "2 2014-01-01 01:00:00+00:00  \n",
      "3 2014-01-01 02:00:00+00:00  \n",
      "4 2014-01-01 03:00:00+00:00  \n",
      "\n",
      "[5 rows x 71 columns]\n",
      "       002_0  002_24  005_0  005_24  015_0  015_24  027_0  027_24  070_0  \\\n",
      "43572    NaN    12.5    NaN    13.5    NaN    13.5    NaN    13.2    NaN   \n",
      "43573    NaN    12.0    NaN    13.3    NaN    13.5    NaN    13.5    NaN   \n",
      "43574    NaN    11.6    NaN    12.8    NaN    13.4    NaN    13.5    NaN   \n",
      "43575    NaN    11.2    NaN    12.3    NaN    13.1    NaN    13.3    NaN   \n",
      "43576    NaN    11.2    NaN    11.8    NaN    12.7    NaN    13.0    NaN   \n",
      "\n",
      "       070_24  ...  645_24  650_0  650_24  675_0  675_24  690_0  690_24  \\\n",
      "43572    12.6  ...     9.5    NaN    12.6    NaN    12.1    NaN    11.3   \n",
      "43573    12.8  ...    10.9    NaN    13.6    NaN    13.1    NaN    13.1   \n",
      "43574    12.9  ...    11.2    NaN    14.0    NaN    13.6    NaN    13.8   \n",
      "43575    13.0  ...    10.8    NaN    13.8    NaN    13.6    NaN    13.8   \n",
      "43576    12.9  ...    10.0    NaN    13.2    NaN    13.0    NaN    13.2   \n",
      "\n",
      "       747_0  747_24                        ds  \n",
      "43572    NaN    12.0 2018-12-21 11:00:00+00:00  \n",
      "43573    NaN    13.3 2018-12-21 12:00:00+00:00  \n",
      "43574    NaN    13.9 2018-12-21 13:00:00+00:00  \n",
      "43575    NaN    13.9 2018-12-21 14:00:00+00:00  \n",
      "43576    NaN    13.1 2018-12-21 15:00:00+00:00  \n",
      "\n",
      "[5 rows x 71 columns]\n"
     ]
    }
   ],
   "source": [
    "print(meteo_df.head(5))\n",
    "print(meteo_df.tail(5))"
   ]
  },
  {
   "cell_type": "markdown",
   "metadata": {},
   "source": [
    "On remarque que les données s'arrête au 21/12/2018 et que pour cette date, on ne dispose que des prévisions à 24h, pas des réalisations."
   ]
  },
  {
   "cell_type": "markdown",
   "metadata": {},
   "source": [
    "## Bonus : récupération de données depuis internet\n",
    "\n",
    "Dans le but d'automatiser un processus, nous pouvons implémenter une fonction qui va chercher les dernières données mises à disposition sur internet.  \n",
    "\n",
    "Pour l'exemple de la prévision de consommation, il serait pertinent de fournir en entrée du modèle l'information sur le type de jour Tempo. Les clients ayant souscrit à ce type de contrat sont incités à réduire leur consommations les jours BLANC et ROUGE, aussi on peut penser que cette information permettra d'améliorer la qualité des prédictions."
   ]
  },
  {
   "cell_type": "markdown",
   "metadata": {},
   "source": [
    "### Manipulation à la main\n",
    "\n",
    "Avant d'implémenter la version automatique, faisons une fois à la main cette manipulation.\n",
    "\n",
    " - Recupérez à la main le calendrier TEMPO pour 2017-2018 :\n",
    " http://www.rte-france.com/fr/eco2mix/eco2mix-telechargement\n",
    " - Le déposer dans _data&#95;folder_\n",
    " - Le dézipper\n",
    " - Regarder les données dans excel ou autre. Notez en particulier la fin du fichier, la supprimer\n",
    " \n",
    "Importez ces données dans un dataframe avec 'read_excel' de la librairie pandas ou autre méthode"
   ]
  },
  {
   "cell_type": "code",
   "execution_count": 99,
   "metadata": {},
   "outputs": [],
   "source": [
    "tempo_xls = os.path.join(data_folder, \"eCO2mix_RTE_tempo_2017-2018.xls\")\n",
    "tempo_df = pd.read_csv(tempo_xls, sep=\"\\t\", encoding=\"ISO-8859-1\")  # ce fichier est en fait un csv et non un xls..."
   ]
  },
  {
   "cell_type": "code",
   "execution_count": 100,
   "metadata": {},
   "outputs": [
    {
     "name": "stdout",
     "output_type": "stream",
     "text": [
      "         Date Type de jour TEMPO\n",
      "0  2017-09-01               BLEU\n",
      "1  2017-09-02               BLEU\n",
      "2  2017-09-03               BLEU\n",
      "3  2017-09-04               BLEU\n",
      "4  2017-09-05               BLEU\n"
     ]
    }
   ],
   "source": [
    "print(tempo_df.head(5))"
   ]
  },
  {
   "cell_type": "markdown",
   "metadata": {},
   "source": [
    "### La même chose automatisée\n",
    "\n",
    "On récupère maintenant automatiquement les informations sur Internet à partir de l'url, sans devoir les chercher à la main soi-même."
   ]
  },
  {
   "cell_type": "code",
   "execution_count": 101,
   "metadata": {},
   "outputs": [],
   "source": [
    "def get_tempo_data(url, data_folder, tempo_xls_zip_name):\n",
    "    \n",
    "    tempo_xls_zip = os.path.join(data_folder, tempo_xls_zip_name)\n",
    "    \n",
    "    # Récupération du fichier zip depuis internet\n",
    "    urllib3.disable_warnings(urllib3.exceptions.InsecureRequestWarning)\n",
    "    http = urllib3.PoolManager()    \n",
    "    with http.request('GET', url, preload_content=False) as resp, open(tempo_xls_zip, 'wb') as out_file:\n",
    "        shutil.copyfileobj(resp, out_file)\n",
    "        \n",
    "    with zipfile.ZipFile(tempo_xls_zip, \"r\") as zip_file:\n",
    "        zip_file.extractall(data_folder)\n",
    "\n",
    "    # Petite vérification\n",
    "    if not os.path.isfile(tempo_xls_zip):\n",
    "        print(\"ERROR!! {} not found in {}\".format(\"eCO2mix_RTE_tempo_2017-2018.xls\", data_folder))\n",
    "        raise RuntimeError(\"Tempo data not uploaded :-(\")\n",
    "\n",
    "    # Import de ces données dans un dataframe\n",
    "    tempo_df = pd.read_csv(tempo_xls_zip, sep=\"\\t\", encoding=\"ISO-8859-1\")\n",
    "    # Suppression du disclaimer de la dernière ligne de tempo_df, par exemple avec la méthode drop d'un dataframe\n",
    "    last_row = len(tempo_df.index) - 1\n",
    "    tempo_df = tempo_df.drop(tempo_df.index[last_row])\n",
    "\n",
    "    return tempo_df"
   ]
  },
  {
   "cell_type": "markdown",
   "metadata": {},
   "source": [
    "On teste la fonction définie ci-dessus. Parfois pour de sombres raisons de proxy la connection au serveur peut échouer. Comme ce TP porte sur le machine-learning on ne s'acharnera pas sur cette partie en cas d'échec :-)"
   ]
  },
  {
   "cell_type": "code",
   "execution_count": 102,
   "metadata": {},
   "outputs": [],
   "source": [
    "#url = \"https://eco2mix.rte-france.com/curves/downloadCalendrierTempo?season=17-18\"\n",
    "#tempo_xls_zip_name = \"eCO2mix_RTE_tempo_2017-2018.zip\"\n",
    "\n",
    "#tempo_df = get_tempo_data(url, data_folder, tempo_xls_zip_name)\n",
    "\n",
    "#print(tempo_df)"
   ]
  },
  {
   "cell_type": "markdown",
   "metadata": {},
   "source": [
    "Pour les personnes intéressées par le webscrapping, jeter un oeil du côté de <a href=\"https://www.crummy.com/software/BeautifulSoup/bs4/doc/\" title=\"link to google\">BeautifulSoup</a>"
   ]
  },
  {
   "cell_type": "markdown",
   "metadata": {},
   "source": [
    "##  Fusion des données\n",
    "\n",
    "<img src=\"pictures/fusion.png\" width=600 height=200>\n",
    "\n",
    "On va maintenant construire un dataframe unique qui regroupe toutes les données nécessaire à notre modèle de prévision. On aura ici une ligne pour chaque timestamp, et dans cette ligne à la fois notre X et notre Y pour le futur modèle de machine-learning."
   ]
  },
  {
   "cell_type": "code",
   "execution_count": 103,
   "metadata": {},
   "outputs": [],
   "source": [
    "# Dans un premier temps, on fusionne la consommation et la température.\n",
    "merged_df = pd.merge(conso_df, meteo_df, on = 'ds')"
   ]
  },
  {
   "cell_type": "code",
   "execution_count": 104,
   "metadata": {},
   "outputs": [
    {
     "name": "stdout",
     "output_type": "stream",
     "text": [
      "(43576, 73)\n",
      "Index(['ds', 'y', 'holiday', '002_0', '002_24', '005_0', '005_24', '015_0',\n",
      "       '015_24', '027_0', '027_24', '070_0', '070_24', '110_0', '110_24',\n",
      "       '120_0', '120_24', '130_0', '130_24', '145_0', '145_24', '149_0',\n",
      "       '149_24', '156_0', '156_24', '168_0', '168_24', '180_0', '180_24',\n",
      "       '190_0', '190_24', '222_0', '222_24', '240_0', '240_24', '255_0',\n",
      "       '255_24', '260_0', '260_24', '280_0', '280_24', '299_0', '299_24',\n",
      "       '434_0', '434_24', '460_0', '460_24', '481_0', '481_24', '497_0',\n",
      "       '497_24', '510_0', '510_24', '579_0', '579_24', '588_0', '588_24',\n",
      "       '621_0', '621_24', '630_0', '630_24', '643_0', '643_24', '645_0',\n",
      "       '645_24', '650_0', '650_24', '675_0', '675_24', '690_0', '690_24',\n",
      "       '747_0', '747_24'],\n",
      "      dtype='object')\n"
     ]
    }
   ],
   "source": [
    "print(merged_df.shape)\n",
    "print(merged_df.columns)"
   ]
  },
  {
   "cell_type": "markdown",
   "metadata": {},
   "source": [
    "### Calcul de la température France 32 villes \n",
    "\n",
    "On va ajouter une colonne à notre dataframe, colonne que - par expérience/expertise - on sait pouvoir être utile pour prévoir la consommation.\n",
    "\n",
    "La température France est une moyenne pondérée de la température de 32 stations. On a donc besoin des poids de stations_meteo_df."
   ]
  },
  {
   "cell_type": "code",
   "execution_count": 105,
   "metadata": {
    "lines_to_next_cell": 2
   },
   "outputs": [],
   "source": [
    "merged_df['France_0'] = np.dot(merged_df[list(merged_df.columns[merged_df.columns.str.endswith(\"_0\")])], stations_meteo_df['Poids'])\n",
    "merged_df['France_24'] = np.dot(merged_df[list(merged_df.columns[merged_df.columns.str.endswith(\"_24\")])], stations_meteo_df['Poids'])"
   ]
  },
  {
   "cell_type": "code",
   "execution_count": 106,
   "metadata": {},
   "outputs": [
    {
     "name": "stdout",
     "output_type": "stream",
     "text": [
      "(43576, 75)\n",
      "Index(['ds', 'y', 'holiday', '002_0', '002_24', '005_0', '005_24', '015_0',\n",
      "       '015_24', '027_0', '027_24', '070_0', '070_24', '110_0', '110_24',\n",
      "       '120_0', '120_24', '130_0', '130_24', '145_0', '145_24', '149_0',\n",
      "       '149_24', '156_0', '156_24', '168_0', '168_24', '180_0', '180_24',\n",
      "       '190_0', '190_24', '222_0', '222_24', '240_0', '240_24', '255_0',\n",
      "       '255_24', '260_0', '260_24', '280_0', '280_24', '299_0', '299_24',\n",
      "       '434_0', '434_24', '460_0', '460_24', '481_0', '481_24', '497_0',\n",
      "       '497_24', '510_0', '510_24', '579_0', '579_24', '588_0', '588_24',\n",
      "       '621_0', '621_24', '630_0', '630_24', '643_0', '643_24', '645_0',\n",
      "       '645_24', '650_0', '650_24', '675_0', '675_24', '690_0', '690_24',\n",
      "       '747_0', '747_24', 'France_0', 'France_24'],\n",
      "      dtype='object')\n"
     ]
    }
   ],
   "source": [
    "print(merged_df.shape)\n",
    "print(merged_df.columns)"
   ]
  },
  {
   "cell_type": "markdown",
   "metadata": {},
   "source": [
    "## Jeu de données complet "
   ]
  },
  {
   "cell_type": "markdown",
   "metadata": {},
   "source": [
    "Prenons quelques instants pour regarder les données que l'on a pour l'instant :"
   ]
  },
  {
   "cell_type": "code",
   "execution_count": 107,
   "metadata": {},
   "outputs": [
    {
     "data": {
      "text/html": [
       "<div>\n",
       "<style scoped>\n",
       "    .dataframe tbody tr th:only-of-type {\n",
       "        vertical-align: middle;\n",
       "    }\n",
       "\n",
       "    .dataframe tbody tr th {\n",
       "        vertical-align: top;\n",
       "    }\n",
       "\n",
       "    .dataframe thead th {\n",
       "        text-align: right;\n",
       "    }\n",
       "</style>\n",
       "<table border=\"1\" class=\"dataframe\">\n",
       "  <thead>\n",
       "    <tr style=\"text-align: right;\">\n",
       "      <th></th>\n",
       "      <th>ds</th>\n",
       "      <th>y</th>\n",
       "      <th>holiday</th>\n",
       "      <th>002_0</th>\n",
       "      <th>002_24</th>\n",
       "      <th>005_0</th>\n",
       "      <th>005_24</th>\n",
       "      <th>015_0</th>\n",
       "      <th>015_24</th>\n",
       "      <th>027_0</th>\n",
       "      <th>...</th>\n",
       "      <th>650_0</th>\n",
       "      <th>650_24</th>\n",
       "      <th>675_0</th>\n",
       "      <th>675_24</th>\n",
       "      <th>690_0</th>\n",
       "      <th>690_24</th>\n",
       "      <th>747_0</th>\n",
       "      <th>747_24</th>\n",
       "      <th>France_0</th>\n",
       "      <th>France_24</th>\n",
       "    </tr>\n",
       "  </thead>\n",
       "  <tbody>\n",
       "    <tr>\n",
       "      <td>0</td>\n",
       "      <td>2014-01-01 00:00:00+00:00</td>\n",
       "      <td>64660</td>\n",
       "      <td>NouvelAn</td>\n",
       "      <td>7.1</td>\n",
       "      <td>7.1</td>\n",
       "      <td>5.50</td>\n",
       "      <td>6.2</td>\n",
       "      <td>6.5</td>\n",
       "      <td>5.20</td>\n",
       "      <td>5.5</td>\n",
       "      <td>...</td>\n",
       "      <td>9.69</td>\n",
       "      <td>7.1</td>\n",
       "      <td>1.0</td>\n",
       "      <td>2.8</td>\n",
       "      <td>5.60</td>\n",
       "      <td>6.4</td>\n",
       "      <td>3.6</td>\n",
       "      <td>7.7</td>\n",
       "      <td>6.46539</td>\n",
       "      <td>5.99449</td>\n",
       "    </tr>\n",
       "    <tr>\n",
       "      <td>1</td>\n",
       "      <td>2014-01-01 01:00:00+00:00</td>\n",
       "      <td>61362</td>\n",
       "      <td>NouvelAn</td>\n",
       "      <td>6.9</td>\n",
       "      <td>6.9</td>\n",
       "      <td>5.20</td>\n",
       "      <td>6.0</td>\n",
       "      <td>5.4</td>\n",
       "      <td>5.20</td>\n",
       "      <td>6.0</td>\n",
       "      <td>...</td>\n",
       "      <td>8.60</td>\n",
       "      <td>6.6</td>\n",
       "      <td>0.4</td>\n",
       "      <td>2.4</td>\n",
       "      <td>5.50</td>\n",
       "      <td>6.2</td>\n",
       "      <td>3.5</td>\n",
       "      <td>7.5</td>\n",
       "      <td>6.33415</td>\n",
       "      <td>5.93226</td>\n",
       "    </tr>\n",
       "    <tr>\n",
       "      <td>2</td>\n",
       "      <td>2014-01-01 02:00:00+00:00</td>\n",
       "      <td>60748</td>\n",
       "      <td>NouvelAn</td>\n",
       "      <td>7.1</td>\n",
       "      <td>6.7</td>\n",
       "      <td>5.00</td>\n",
       "      <td>5.7</td>\n",
       "      <td>5.2</td>\n",
       "      <td>5.09</td>\n",
       "      <td>5.9</td>\n",
       "      <td>...</td>\n",
       "      <td>8.69</td>\n",
       "      <td>6.2</td>\n",
       "      <td>0.5</td>\n",
       "      <td>2.0</td>\n",
       "      <td>5.40</td>\n",
       "      <td>6.1</td>\n",
       "      <td>3.5</td>\n",
       "      <td>7.1</td>\n",
       "      <td>6.26140</td>\n",
       "      <td>5.90790</td>\n",
       "    </tr>\n",
       "    <tr>\n",
       "      <td>3</td>\n",
       "      <td>2014-01-01 03:00:00+00:00</td>\n",
       "      <td>58061</td>\n",
       "      <td>NouvelAn</td>\n",
       "      <td>7.1</td>\n",
       "      <td>6.5</td>\n",
       "      <td>5.09</td>\n",
       "      <td>5.6</td>\n",
       "      <td>5.2</td>\n",
       "      <td>5.00</td>\n",
       "      <td>6.4</td>\n",
       "      <td>...</td>\n",
       "      <td>8.30</td>\n",
       "      <td>5.9</td>\n",
       "      <td>0.4</td>\n",
       "      <td>1.7</td>\n",
       "      <td>5.09</td>\n",
       "      <td>5.9</td>\n",
       "      <td>3.7</td>\n",
       "      <td>6.4</td>\n",
       "      <td>6.30562</td>\n",
       "      <td>5.87923</td>\n",
       "    </tr>\n",
       "    <tr>\n",
       "      <td>4</td>\n",
       "      <td>2014-01-01 04:00:00+00:00</td>\n",
       "      <td>54475</td>\n",
       "      <td>NouvelAn</td>\n",
       "      <td>6.9</td>\n",
       "      <td>6.5</td>\n",
       "      <td>4.90</td>\n",
       "      <td>5.7</td>\n",
       "      <td>5.3</td>\n",
       "      <td>4.90</td>\n",
       "      <td>6.8</td>\n",
       "      <td>...</td>\n",
       "      <td>8.60</td>\n",
       "      <td>5.9</td>\n",
       "      <td>-0.1</td>\n",
       "      <td>1.9</td>\n",
       "      <td>4.70</td>\n",
       "      <td>5.8</td>\n",
       "      <td>3.6</td>\n",
       "      <td>5.6</td>\n",
       "      <td>6.12588</td>\n",
       "      <td>5.84320</td>\n",
       "    </tr>\n",
       "    <tr>\n",
       "      <td>...</td>\n",
       "      <td>...</td>\n",
       "      <td>...</td>\n",
       "      <td>...</td>\n",
       "      <td>...</td>\n",
       "      <td>...</td>\n",
       "      <td>...</td>\n",
       "      <td>...</td>\n",
       "      <td>...</td>\n",
       "      <td>...</td>\n",
       "      <td>...</td>\n",
       "      <td>...</td>\n",
       "      <td>...</td>\n",
       "      <td>...</td>\n",
       "      <td>...</td>\n",
       "      <td>...</td>\n",
       "      <td>...</td>\n",
       "      <td>...</td>\n",
       "      <td>...</td>\n",
       "      <td>...</td>\n",
       "      <td>...</td>\n",
       "      <td>...</td>\n",
       "    </tr>\n",
       "    <tr>\n",
       "      <td>43571</td>\n",
       "      <td>2018-12-21 11:00:00+00:00</td>\n",
       "      <td>69666</td>\n",
       "      <td>NaN</td>\n",
       "      <td>NaN</td>\n",
       "      <td>12.5</td>\n",
       "      <td>NaN</td>\n",
       "      <td>13.5</td>\n",
       "      <td>NaN</td>\n",
       "      <td>13.50</td>\n",
       "      <td>NaN</td>\n",
       "      <td>...</td>\n",
       "      <td>NaN</td>\n",
       "      <td>12.6</td>\n",
       "      <td>NaN</td>\n",
       "      <td>12.1</td>\n",
       "      <td>NaN</td>\n",
       "      <td>11.3</td>\n",
       "      <td>NaN</td>\n",
       "      <td>12.0</td>\n",
       "      <td>NaN</td>\n",
       "      <td>11.59645</td>\n",
       "    </tr>\n",
       "    <tr>\n",
       "      <td>43572</td>\n",
       "      <td>2018-12-21 12:00:00+00:00</td>\n",
       "      <td>69591</td>\n",
       "      <td>NaN</td>\n",
       "      <td>NaN</td>\n",
       "      <td>12.0</td>\n",
       "      <td>NaN</td>\n",
       "      <td>13.3</td>\n",
       "      <td>NaN</td>\n",
       "      <td>13.50</td>\n",
       "      <td>NaN</td>\n",
       "      <td>...</td>\n",
       "      <td>NaN</td>\n",
       "      <td>13.6</td>\n",
       "      <td>NaN</td>\n",
       "      <td>13.1</td>\n",
       "      <td>NaN</td>\n",
       "      <td>13.1</td>\n",
       "      <td>NaN</td>\n",
       "      <td>13.3</td>\n",
       "      <td>NaN</td>\n",
       "      <td>12.30995</td>\n",
       "    </tr>\n",
       "    <tr>\n",
       "      <td>43573</td>\n",
       "      <td>2018-12-21 13:00:00+00:00</td>\n",
       "      <td>69176</td>\n",
       "      <td>NaN</td>\n",
       "      <td>NaN</td>\n",
       "      <td>11.6</td>\n",
       "      <td>NaN</td>\n",
       "      <td>12.8</td>\n",
       "      <td>NaN</td>\n",
       "      <td>13.40</td>\n",
       "      <td>NaN</td>\n",
       "      <td>...</td>\n",
       "      <td>NaN</td>\n",
       "      <td>14.0</td>\n",
       "      <td>NaN</td>\n",
       "      <td>13.6</td>\n",
       "      <td>NaN</td>\n",
       "      <td>13.8</td>\n",
       "      <td>NaN</td>\n",
       "      <td>13.9</td>\n",
       "      <td>NaN</td>\n",
       "      <td>12.65085</td>\n",
       "    </tr>\n",
       "    <tr>\n",
       "      <td>43574</td>\n",
       "      <td>2018-12-21 14:00:00+00:00</td>\n",
       "      <td>66831</td>\n",
       "      <td>NaN</td>\n",
       "      <td>NaN</td>\n",
       "      <td>11.2</td>\n",
       "      <td>NaN</td>\n",
       "      <td>12.3</td>\n",
       "      <td>NaN</td>\n",
       "      <td>13.10</td>\n",
       "      <td>NaN</td>\n",
       "      <td>...</td>\n",
       "      <td>NaN</td>\n",
       "      <td>13.8</td>\n",
       "      <td>NaN</td>\n",
       "      <td>13.6</td>\n",
       "      <td>NaN</td>\n",
       "      <td>13.8</td>\n",
       "      <td>NaN</td>\n",
       "      <td>13.9</td>\n",
       "      <td>NaN</td>\n",
       "      <td>12.65885</td>\n",
       "    </tr>\n",
       "    <tr>\n",
       "      <td>43575</td>\n",
       "      <td>2018-12-21 15:00:00+00:00</td>\n",
       "      <td>64814</td>\n",
       "      <td>NaN</td>\n",
       "      <td>NaN</td>\n",
       "      <td>11.2</td>\n",
       "      <td>NaN</td>\n",
       "      <td>11.8</td>\n",
       "      <td>NaN</td>\n",
       "      <td>12.70</td>\n",
       "      <td>NaN</td>\n",
       "      <td>...</td>\n",
       "      <td>NaN</td>\n",
       "      <td>13.2</td>\n",
       "      <td>NaN</td>\n",
       "      <td>13.0</td>\n",
       "      <td>NaN</td>\n",
       "      <td>13.2</td>\n",
       "      <td>NaN</td>\n",
       "      <td>13.1</td>\n",
       "      <td>NaN</td>\n",
       "      <td>12.47990</td>\n",
       "    </tr>\n",
       "  </tbody>\n",
       "</table>\n",
       "<p>43576 rows × 75 columns</p>\n",
       "</div>"
      ],
      "text/plain": [
       "                             ds      y   holiday  002_0  002_24  005_0  \\\n",
       "0     2014-01-01 00:00:00+00:00  64660  NouvelAn    7.1     7.1   5.50   \n",
       "1     2014-01-01 01:00:00+00:00  61362  NouvelAn    6.9     6.9   5.20   \n",
       "2     2014-01-01 02:00:00+00:00  60748  NouvelAn    7.1     6.7   5.00   \n",
       "3     2014-01-01 03:00:00+00:00  58061  NouvelAn    7.1     6.5   5.09   \n",
       "4     2014-01-01 04:00:00+00:00  54475  NouvelAn    6.9     6.5   4.90   \n",
       "...                         ...    ...       ...    ...     ...    ...   \n",
       "43571 2018-12-21 11:00:00+00:00  69666       NaN    NaN    12.5    NaN   \n",
       "43572 2018-12-21 12:00:00+00:00  69591       NaN    NaN    12.0    NaN   \n",
       "43573 2018-12-21 13:00:00+00:00  69176       NaN    NaN    11.6    NaN   \n",
       "43574 2018-12-21 14:00:00+00:00  66831       NaN    NaN    11.2    NaN   \n",
       "43575 2018-12-21 15:00:00+00:00  64814       NaN    NaN    11.2    NaN   \n",
       "\n",
       "       005_24  015_0  015_24  027_0  ...  650_0  650_24  675_0  675_24  690_0  \\\n",
       "0         6.2    6.5    5.20    5.5  ...   9.69     7.1    1.0     2.8   5.60   \n",
       "1         6.0    5.4    5.20    6.0  ...   8.60     6.6    0.4     2.4   5.50   \n",
       "2         5.7    5.2    5.09    5.9  ...   8.69     6.2    0.5     2.0   5.40   \n",
       "3         5.6    5.2    5.00    6.4  ...   8.30     5.9    0.4     1.7   5.09   \n",
       "4         5.7    5.3    4.90    6.8  ...   8.60     5.9   -0.1     1.9   4.70   \n",
       "...       ...    ...     ...    ...  ...    ...     ...    ...     ...    ...   \n",
       "43571    13.5    NaN   13.50    NaN  ...    NaN    12.6    NaN    12.1    NaN   \n",
       "43572    13.3    NaN   13.50    NaN  ...    NaN    13.6    NaN    13.1    NaN   \n",
       "43573    12.8    NaN   13.40    NaN  ...    NaN    14.0    NaN    13.6    NaN   \n",
       "43574    12.3    NaN   13.10    NaN  ...    NaN    13.8    NaN    13.6    NaN   \n",
       "43575    11.8    NaN   12.70    NaN  ...    NaN    13.2    NaN    13.0    NaN   \n",
       "\n",
       "       690_24  747_0  747_24  France_0  France_24  \n",
       "0         6.4    3.6     7.7   6.46539    5.99449  \n",
       "1         6.2    3.5     7.5   6.33415    5.93226  \n",
       "2         6.1    3.5     7.1   6.26140    5.90790  \n",
       "3         5.9    3.7     6.4   6.30562    5.87923  \n",
       "4         5.8    3.6     5.6   6.12588    5.84320  \n",
       "...       ...    ...     ...       ...        ...  \n",
       "43571    11.3    NaN    12.0       NaN   11.59645  \n",
       "43572    13.1    NaN    13.3       NaN   12.30995  \n",
       "43573    13.8    NaN    13.9       NaN   12.65085  \n",
       "43574    13.8    NaN    13.9       NaN   12.65885  \n",
       "43575    13.2    NaN    13.1       NaN   12.47990  \n",
       "\n",
       "[43576 rows x 75 columns]"
      ]
     },
     "execution_count": 107,
     "metadata": {},
     "output_type": "execute_result"
    }
   ],
   "source": [
    "merged_df"
   ]
  },
  {
   "cell_type": "code",
   "execution_count": 108,
   "metadata": {},
   "outputs": [
    {
     "data": {
      "text/html": [
       "<div>\n",
       "<style scoped>\n",
       "    .dataframe tbody tr th:only-of-type {\n",
       "        vertical-align: middle;\n",
       "    }\n",
       "\n",
       "    .dataframe tbody tr th {\n",
       "        vertical-align: top;\n",
       "    }\n",
       "\n",
       "    .dataframe thead th {\n",
       "        text-align: right;\n",
       "    }\n",
       "</style>\n",
       "<table border=\"1\" class=\"dataframe\">\n",
       "  <thead>\n",
       "    <tr style=\"text-align: right;\">\n",
       "      <th></th>\n",
       "      <th>y</th>\n",
       "      <th>002_0</th>\n",
       "      <th>002_24</th>\n",
       "      <th>005_0</th>\n",
       "      <th>005_24</th>\n",
       "      <th>015_0</th>\n",
       "      <th>015_24</th>\n",
       "      <th>027_0</th>\n",
       "      <th>027_24</th>\n",
       "      <th>070_0</th>\n",
       "      <th>...</th>\n",
       "      <th>650_0</th>\n",
       "      <th>650_24</th>\n",
       "      <th>675_0</th>\n",
       "      <th>675_24</th>\n",
       "      <th>690_0</th>\n",
       "      <th>690_24</th>\n",
       "      <th>747_0</th>\n",
       "      <th>747_24</th>\n",
       "      <th>France_0</th>\n",
       "      <th>France_24</th>\n",
       "    </tr>\n",
       "  </thead>\n",
       "  <tbody>\n",
       "    <tr>\n",
       "      <td>count</td>\n",
       "      <td>43576.000000</td>\n",
       "      <td>43551.000000</td>\n",
       "      <td>43575.000000</td>\n",
       "      <td>43551.000000</td>\n",
       "      <td>43575.000000</td>\n",
       "      <td>43551.000000</td>\n",
       "      <td>43575.000000</td>\n",
       "      <td>43551.000000</td>\n",
       "      <td>43575.000000</td>\n",
       "      <td>43551.000000</td>\n",
       "      <td>...</td>\n",
       "      <td>43551.000000</td>\n",
       "      <td>43575.000000</td>\n",
       "      <td>43551.000000</td>\n",
       "      <td>43575.000000</td>\n",
       "      <td>43551.000000</td>\n",
       "      <td>43575.000000</td>\n",
       "      <td>43551.000000</td>\n",
       "      <td>43575.000000</td>\n",
       "      <td>43551.000000</td>\n",
       "      <td>43575.000000</td>\n",
       "    </tr>\n",
       "    <tr>\n",
       "      <td>mean</td>\n",
       "      <td>54046.783826</td>\n",
       "      <td>11.579542</td>\n",
       "      <td>11.729742</td>\n",
       "      <td>11.406616</td>\n",
       "      <td>11.499077</td>\n",
       "      <td>11.659079</td>\n",
       "      <td>11.629891</td>\n",
       "      <td>11.646468</td>\n",
       "      <td>11.690013</td>\n",
       "      <td>11.358906</td>\n",
       "      <td>...</td>\n",
       "      <td>16.389517</td>\n",
       "      <td>16.385763</td>\n",
       "      <td>15.935210</td>\n",
       "      <td>15.945110</td>\n",
       "      <td>16.801673</td>\n",
       "      <td>16.756448</td>\n",
       "      <td>16.554677</td>\n",
       "      <td>16.540928</td>\n",
       "      <td>12.991477</td>\n",
       "      <td>12.989294</td>\n",
       "    </tr>\n",
       "    <tr>\n",
       "      <td>std</td>\n",
       "      <td>11828.733740</td>\n",
       "      <td>5.316638</td>\n",
       "      <td>5.179404</td>\n",
       "      <td>6.136379</td>\n",
       "      <td>5.833656</td>\n",
       "      <td>6.735357</td>\n",
       "      <td>6.648256</td>\n",
       "      <td>5.867294</td>\n",
       "      <td>5.716437</td>\n",
       "      <td>7.419970</td>\n",
       "      <td>...</td>\n",
       "      <td>7.400202</td>\n",
       "      <td>7.272001</td>\n",
       "      <td>8.155727</td>\n",
       "      <td>7.958932</td>\n",
       "      <td>6.302711</td>\n",
       "      <td>6.139574</td>\n",
       "      <td>6.942082</td>\n",
       "      <td>6.671904</td>\n",
       "      <td>6.737861</td>\n",
       "      <td>6.727910</td>\n",
       "    </tr>\n",
       "    <tr>\n",
       "      <td>min</td>\n",
       "      <td>29477.000000</td>\n",
       "      <td>-6.900000</td>\n",
       "      <td>-5.300000</td>\n",
       "      <td>-7.500000</td>\n",
       "      <td>-5.800000</td>\n",
       "      <td>-7.500000</td>\n",
       "      <td>-6.500000</td>\n",
       "      <td>-8.100000</td>\n",
       "      <td>-6.300000</td>\n",
       "      <td>-11.100000</td>\n",
       "      <td>...</td>\n",
       "      <td>-5.090000</td>\n",
       "      <td>-2.600000</td>\n",
       "      <td>-7.100000</td>\n",
       "      <td>-3.100000</td>\n",
       "      <td>-1.700000</td>\n",
       "      <td>0.500000</td>\n",
       "      <td>-3.900000</td>\n",
       "      <td>-1.000000</td>\n",
       "      <td>-6.947230</td>\n",
       "      <td>-5.245000</td>\n",
       "    </tr>\n",
       "    <tr>\n",
       "      <td>25%</td>\n",
       "      <td>45076.000000</td>\n",
       "      <td>7.700000</td>\n",
       "      <td>7.800000</td>\n",
       "      <td>6.900000</td>\n",
       "      <td>7.200000</td>\n",
       "      <td>6.600000</td>\n",
       "      <td>6.600000</td>\n",
       "      <td>7.500000</td>\n",
       "      <td>7.600000</td>\n",
       "      <td>5.900000</td>\n",
       "      <td>...</td>\n",
       "      <td>10.700000</td>\n",
       "      <td>10.800000</td>\n",
       "      <td>9.800000</td>\n",
       "      <td>9.800000</td>\n",
       "      <td>11.800000</td>\n",
       "      <td>11.700000</td>\n",
       "      <td>11.200000</td>\n",
       "      <td>11.200000</td>\n",
       "      <td>7.811208</td>\n",
       "      <td>7.784678</td>\n",
       "    </tr>\n",
       "    <tr>\n",
       "      <td>50%</td>\n",
       "      <td>52473.000000</td>\n",
       "      <td>11.500000</td>\n",
       "      <td>11.700000</td>\n",
       "      <td>11.300000</td>\n",
       "      <td>11.400000</td>\n",
       "      <td>11.400000</td>\n",
       "      <td>11.400000</td>\n",
       "      <td>11.400000</td>\n",
       "      <td>11.400000</td>\n",
       "      <td>10.900000</td>\n",
       "      <td>...</td>\n",
       "      <td>16.200000</td>\n",
       "      <td>16.000000</td>\n",
       "      <td>15.500000</td>\n",
       "      <td>15.300000</td>\n",
       "      <td>16.500000</td>\n",
       "      <td>16.390000</td>\n",
       "      <td>16.300000</td>\n",
       "      <td>16.200000</td>\n",
       "      <td>12.503000</td>\n",
       "      <td>12.484950</td>\n",
       "    </tr>\n",
       "    <tr>\n",
       "      <td>75%</td>\n",
       "      <td>62233.000000</td>\n",
       "      <td>15.600000</td>\n",
       "      <td>15.800000</td>\n",
       "      <td>15.700000</td>\n",
       "      <td>15.600000</td>\n",
       "      <td>16.390000</td>\n",
       "      <td>16.300000</td>\n",
       "      <td>15.600000</td>\n",
       "      <td>15.600000</td>\n",
       "      <td>16.500000</td>\n",
       "      <td>...</td>\n",
       "      <td>21.900000</td>\n",
       "      <td>21.900000</td>\n",
       "      <td>21.600000</td>\n",
       "      <td>21.500000</td>\n",
       "      <td>22.100000</td>\n",
       "      <td>22.000000</td>\n",
       "      <td>21.700000</td>\n",
       "      <td>21.600000</td>\n",
       "      <td>17.851173</td>\n",
       "      <td>17.880108</td>\n",
       "    </tr>\n",
       "    <tr>\n",
       "      <td>max</td>\n",
       "      <td>95987.000000</td>\n",
       "      <td>35.400000</td>\n",
       "      <td>33.700000</td>\n",
       "      <td>36.200000</td>\n",
       "      <td>34.500000</td>\n",
       "      <td>36.900000</td>\n",
       "      <td>36.000000</td>\n",
       "      <td>35.900000</td>\n",
       "      <td>35.400000</td>\n",
       "      <td>36.700000</td>\n",
       "      <td>...</td>\n",
       "      <td>38.900000</td>\n",
       "      <td>37.600000</td>\n",
       "      <td>41.600000</td>\n",
       "      <td>40.100000</td>\n",
       "      <td>36.500000</td>\n",
       "      <td>35.000000</td>\n",
       "      <td>38.200000</td>\n",
       "      <td>37.700000</td>\n",
       "      <td>33.449175</td>\n",
       "      <td>34.020680</td>\n",
       "    </tr>\n",
       "  </tbody>\n",
       "</table>\n",
       "<p>8 rows × 73 columns</p>\n",
       "</div>"
      ],
      "text/plain": [
       "                  y         002_0        002_24         005_0        005_24  \\\n",
       "count  43576.000000  43551.000000  43575.000000  43551.000000  43575.000000   \n",
       "mean   54046.783826     11.579542     11.729742     11.406616     11.499077   \n",
       "std    11828.733740      5.316638      5.179404      6.136379      5.833656   \n",
       "min    29477.000000     -6.900000     -5.300000     -7.500000     -5.800000   \n",
       "25%    45076.000000      7.700000      7.800000      6.900000      7.200000   \n",
       "50%    52473.000000     11.500000     11.700000     11.300000     11.400000   \n",
       "75%    62233.000000     15.600000     15.800000     15.700000     15.600000   \n",
       "max    95987.000000     35.400000     33.700000     36.200000     34.500000   \n",
       "\n",
       "              015_0        015_24         027_0        027_24         070_0  \\\n",
       "count  43551.000000  43575.000000  43551.000000  43575.000000  43551.000000   \n",
       "mean      11.659079     11.629891     11.646468     11.690013     11.358906   \n",
       "std        6.735357      6.648256      5.867294      5.716437      7.419970   \n",
       "min       -7.500000     -6.500000     -8.100000     -6.300000    -11.100000   \n",
       "25%        6.600000      6.600000      7.500000      7.600000      5.900000   \n",
       "50%       11.400000     11.400000     11.400000     11.400000     10.900000   \n",
       "75%       16.390000     16.300000     15.600000     15.600000     16.500000   \n",
       "max       36.900000     36.000000     35.900000     35.400000     36.700000   \n",
       "\n",
       "       ...         650_0        650_24         675_0        675_24  \\\n",
       "count  ...  43551.000000  43575.000000  43551.000000  43575.000000   \n",
       "mean   ...     16.389517     16.385763     15.935210     15.945110   \n",
       "std    ...      7.400202      7.272001      8.155727      7.958932   \n",
       "min    ...     -5.090000     -2.600000     -7.100000     -3.100000   \n",
       "25%    ...     10.700000     10.800000      9.800000      9.800000   \n",
       "50%    ...     16.200000     16.000000     15.500000     15.300000   \n",
       "75%    ...     21.900000     21.900000     21.600000     21.500000   \n",
       "max    ...     38.900000     37.600000     41.600000     40.100000   \n",
       "\n",
       "              690_0        690_24         747_0        747_24      France_0  \\\n",
       "count  43551.000000  43575.000000  43551.000000  43575.000000  43551.000000   \n",
       "mean      16.801673     16.756448     16.554677     16.540928     12.991477   \n",
       "std        6.302711      6.139574      6.942082      6.671904      6.737861   \n",
       "min       -1.700000      0.500000     -3.900000     -1.000000     -6.947230   \n",
       "25%       11.800000     11.700000     11.200000     11.200000      7.811208   \n",
       "50%       16.500000     16.390000     16.300000     16.200000     12.503000   \n",
       "75%       22.100000     22.000000     21.700000     21.600000     17.851173   \n",
       "max       36.500000     35.000000     38.200000     37.700000     33.449175   \n",
       "\n",
       "          France_24  \n",
       "count  43575.000000  \n",
       "mean      12.989294  \n",
       "std        6.727910  \n",
       "min       -5.245000  \n",
       "25%        7.784678  \n",
       "50%       12.484950  \n",
       "75%       17.880108  \n",
       "max       34.020680  \n",
       "\n",
       "[8 rows x 73 columns]"
      ]
     },
     "execution_count": 108,
     "metadata": {},
     "output_type": "execute_result"
    }
   ],
   "source": [
    "merged_df.describe()"
   ]
  },
  {
   "cell_type": "code",
   "execution_count": 109,
   "metadata": {},
   "outputs": [],
   "source": [
    "## Utilisation de la température observée 24h avant"
   ]
  },
  {
   "cell_type": "code",
   "execution_count": 110,
   "metadata": {},
   "outputs": [
    {
     "name": "stdout",
     "output_type": "stream",
     "text": [
      "['ds', 'y', 'holiday', '002_0', '002_24', '005_0', '005_24', '015_0', '015_24', '027_0', '027_24', '070_0', '070_24', '110_0', '110_24', '120_0', '120_24', '130_0', '130_24', '145_0', '145_24', '149_0', '149_24', '156_0', '156_24', '168_0', '168_24', '180_0', '180_24', '190_0', '190_24', '222_0', '222_24', '240_0', '240_24', '255_0', '255_24', '260_0', '260_24', '280_0', '280_24', '299_0', '299_24', '434_0', '434_24', '460_0', '460_24', '481_0', '481_24', '497_0', '497_24', '510_0', '510_24', '579_0', '579_24', '588_0', '588_24', '621_0', '621_24', '630_0', '630_24', '643_0', '643_24', '645_0', '645_24', '650_0', '650_24', '675_0', '675_24', '690_0', '690_24', '747_0', '747_24', 'Th_real_24h_avant', 'Th_prev']\n"
     ]
    }
   ],
   "source": [
    "merged_df[list(merged_df.columns[merged_df.columns.str.endswith(\"_0\")])] = merged_df[list(merged_df.columns[merged_df.columns.str.endswith(\"_0\")])].shift(24)\n",
    "new_columns = [column.replace(\"France_0\", \"Th_real_24h_avant\").replace(\"France_24\", \"Th_prev\") for column in merged_df.columns]\n",
    "print(new_columns)\n",
    "\n",
    "merged_df.columns = new_columns"
   ]
  },
  {
   "cell_type": "markdown",
   "metadata": {},
   "source": [
    "## Suppression des NaN\n",
    "\n",
    "On souhaite avoir un jeu de données complet : pas de trous dans les dates et pour chaque point horaire, toutes les informations disponibles (consommation, température réalisée et prévue)\n",
    "On affiche donc les dates pour lesquelles il manque des informations et on conservera un intervalle ne contenant pas ces dates.\n",
    "\n",
    "NB : Attention il est normal que la colonne \"_holiday_\" comporte des NaN"
   ]
  },
  {
   "cell_type": "code",
   "execution_count": 111,
   "metadata": {},
   "outputs": [
    {
     "data": {
      "text/plain": [
       "0     2014-01-01 00:00:00+00:00\n",
       "1     2014-01-01 01:00:00+00:00\n",
       "2     2014-01-01 02:00:00+00:00\n",
       "3     2014-01-01 03:00:00+00:00\n",
       "4     2014-01-01 04:00:00+00:00\n",
       "5     2014-01-01 05:00:00+00:00\n",
       "6     2014-01-01 06:00:00+00:00\n",
       "7     2014-01-01 07:00:00+00:00\n",
       "8     2014-01-01 08:00:00+00:00\n",
       "9     2014-01-01 09:00:00+00:00\n",
       "10    2014-01-01 10:00:00+00:00\n",
       "11    2014-01-01 11:00:00+00:00\n",
       "12    2014-01-01 12:00:00+00:00\n",
       "13    2014-01-01 13:00:00+00:00\n",
       "14    2014-01-01 14:00:00+00:00\n",
       "15    2014-01-01 15:00:00+00:00\n",
       "16    2014-01-01 16:00:00+00:00\n",
       "17    2014-01-01 17:00:00+00:00\n",
       "18    2014-01-01 18:00:00+00:00\n",
       "19    2014-01-01 19:00:00+00:00\n",
       "20    2014-01-01 20:00:00+00:00\n",
       "21    2014-01-01 21:00:00+00:00\n",
       "22    2014-01-01 22:00:00+00:00\n",
       "23    2014-01-01 23:00:00+00:00\n",
       "165   2014-01-07 21:00:00+00:00\n",
       "Name: ds, dtype: datetime64[ns, UTC]"
      ]
     },
     "execution_count": 111,
     "metadata": {},
     "output_type": "execute_result"
    }
   ],
   "source": [
    "mask = merged_df.drop(columns='holiday').isnull().any(axis=1)\n",
    "merged_df[mask].ds"
   ]
  },
  {
   "cell_type": "code",
   "execution_count": 112,
   "metadata": {},
   "outputs": [
    {
     "data": {
      "text/plain": [
       "Series([], Name: ds, dtype: datetime64[ns, UTC])"
      ]
     },
     "execution_count": 112,
     "metadata": {},
     "output_type": "execute_result"
    }
   ],
   "source": [
    "import pytz\n",
    "merged_df = merged_df[(merged_df.ds >= pytz.utc.localize(datetime.datetime(year=2014, month=1, day=8))) & (merged_df.ds < pytz.utc.localize(datetime.datetime(year=2018, month=12, day=20)))]\n",
    "mask = merged_df.drop(columns='holiday').isnull().any(axis=1)\n",
    "merged_df[mask].ds"
   ]
  },
  {
   "cell_type": "markdown",
   "metadata": {},
   "source": [
    "Pour chaque point horaire, on a :\n",
    "* la consommation réalisée (au niveau national)\n",
    "* la température réalisée 24h avant pour chaque station météo, ainsi qu'une valeur représentative de la température moyenne à l'échelle nationale\n",
    "* la prévision de température à 24 heures **pour ce point horaire** pour chaque station météo, ainsi qu'une prévision de la température moyenne France\n",
    "* l'information si le point horaire appartient à un jour férié ou non (et si oui lequel)   "
   ]
  },
  {
   "cell_type": "markdown",
   "metadata": {},
   "source": [
    "## Sauvegarde du fichier \n",
    "\n",
    "Tout d'abord on sépare les données en deux : \n",
    "- le vecteur de consommation à prévoir : y_conso\n",
    "- La matrice des variables explicatives : X_input\n",
    "\n",
    "Sachant que plus tard notre modèle aura pour mission d'établir une correspondance _f_ telle que l'on ait du mieux possible une relation *y = f(X)*."
   ]
  },
  {
   "cell_type": "code",
   "execution_count": 113,
   "metadata": {},
   "outputs": [],
   "source": [
    "y_conso = merged_df[['ds', 'y']]\n"
   ]
  },
  {
   "cell_type": "code",
   "execution_count": 114,
   "metadata": {},
   "outputs": [],
   "source": [
    "X_input = merged_df.drop(['y'], axis=1)"
   ]
  },
  {
   "cell_type": "code",
   "execution_count": 115,
   "metadata": {},
   "outputs": [],
   "source": [
    "y_conso.to_csv( os.path.join(data_folder,\"Yconso.csv\"), index = False)\n",
    "X_input.to_csv(os.path.join(data_folder,\"Xinput.csv\"), index = False)"
   ]
  },
  {
   "cell_type": "markdown",
   "metadata": {},
   "source": [
    "Et enfin on zip Xinput.csv avec un mot de passe.  \n",
    "Depuis un terminal :\n",
    "\n",
    "> zip -e Xinput.zip Xinput.csv"
   ]
  },
  {
   "cell_type": "markdown",
   "metadata": {},
   "source": [
    "# Visualisation des données \n",
    "\n",
    "La DataScience et le Machine Learning supposent de bien appréhender les données sur lesquelles nos modèles vont être entrainés. Pour cela, il est utile de faire des statistiques descriptives et des visualisations de nos différentes variables.\n",
    "\n",
    "Traitant d'un problème de prévision, on visualisera en particulier des séries temporelles.\n",
    "\n",
    "Vous allez voir des :\n",
    "- échantillons de données\n",
    "- profils de courbe de consommation journaliers et saisonniers\n",
    "- visualisations de corrélation entre conso J et conso retardée\n",
    "\n",
    "## Calcul de statistiques descriptives sur la consommation nationale\n",
    "\n",
    "A l'aide de la fonction *describe*, on calcule les indicateurs classiques. On cherche les données manquantes avec la fonction *isnull*.\n"
   ]
  },
  {
   "cell_type": "code",
   "execution_count": 57,
   "metadata": {},
   "outputs": [
    {
     "name": "stderr",
     "output_type": "stream",
     "text": [
      "D:\\Users\\montuelleluc\\Documents\\Portable\\Anaconda\\lib\\site-packages\\ipykernel_launcher.py:6: SettingWithCopyWarning: \n",
      "A value is trying to be set on a copy of a slice from a DataFrame.\n",
      "Try using .loc[row_indexer,col_indexer] = value instead\n",
      "\n",
      "See the caveats in the documentation: http://pandas.pydata.org/pandas-docs/stable/user_guide/indexing.html#returning-a-view-versus-a-copy\n",
      "  \n"
     ]
    }
   ],
   "source": [
    "Yconso = y_conso\n",
    "Xinput = X_input\n",
    "\n",
    "#Yconso_csv = os.path.join(data_folder, \"Yconso.csv\")\n",
    "#Yconso = pd.read_csv(Yconso_csv)\n",
    "Yconso['ds'] = pd.to_datetime(Yconso['ds'],utc=True)\n",
    "\n",
    "#password = ''\n",
    "#Xinput_zip = os.path.join(data_folder, \"Xinput.zip\")\n",
    "# Pour travailler avec les fichiers zip, on utilise la bibliothèque **zipfile**.\n",
    "#zipfile_xinput = zipfile.ZipFile(Xinput_zip)\n",
    "#zipfile_xinput.setpassword(bytes(password,'utf-8'))\n",
    "#Xinput = pd.read_csv(zipfile_xinput.open('Xinput.csv'),sep=\",\",engine='c',header=0)\n",
    "\n",
    "Xinput['ds'] = pd.to_datetime(Xinput['ds'],utc=True)\n"
   ]
  },
  {
   "cell_type": "code",
   "execution_count": 58,
   "metadata": {},
   "outputs": [
    {
     "data": {
      "text/plain": [
       "count                         43368\n",
       "unique                        43368\n",
       "top       2015-09-21 23:00:00+00:00\n",
       "freq                              1\n",
       "first     2014-01-08 00:00:00+00:00\n",
       "last      2018-12-19 23:00:00+00:00\n",
       "Name: ds, dtype: object"
      ]
     },
     "execution_count": 58,
     "metadata": {},
     "output_type": "execute_result"
    }
   ],
   "source": [
    "Yconso['ds'].describe()"
   ]
  },
  {
   "cell_type": "code",
   "execution_count": 59,
   "metadata": {},
   "outputs": [
    {
     "data": {
      "text/plain": [
       "count    43368.000000\n",
       "mean     54010.378574\n",
       "std      11837.807039\n",
       "min      29477.000000\n",
       "25%      45025.250000\n",
       "50%      52422.000000\n",
       "75%      62167.000000\n",
       "max      95987.000000\n",
       "Name: y, dtype: float64"
      ]
     },
     "execution_count": 59,
     "metadata": {},
     "output_type": "execute_result"
    }
   ],
   "source": [
    "Yconso['y'].describe()"
   ]
  },
  {
   "cell_type": "code",
   "execution_count": 60,
   "metadata": {},
   "outputs": [
    {
     "data": {
      "text/plain": [
       "0"
      ]
     },
     "execution_count": 60,
     "metadata": {},
     "output_type": "execute_result"
    }
   ],
   "source": [
    "Yconso['y'].isnull().sum()"
   ]
  },
  {
   "cell_type": "markdown",
   "metadata": {},
   "source": [
    "<font color='green'>\n",
    "\n",
    "* Quelle est la valeur moyenne de la consommation horaire? son min et son max? \n",
    "* Quelle est la période temporelle étudiée?\n",
    "\n",
    "</font>"
   ]
  },
  {
   "cell_type": "markdown",
   "metadata": {},
   "source": [
    "## Visualiser la consommation d'un jour particulier\n",
    "On souhaite visualiser la consommation réalisée pour un jour donné de l'historique. Pour cela on construit une fonction."
   ]
  },
  {
   "cell_type": "code",
   "execution_count": 61,
   "metadata": {},
   "outputs": [],
   "source": [
    "def plot_load(var_load, year, month, day, delta_days):\n",
    "    date_cible = pytz.utc.localize(datetime.datetime(year=year, month=month, day=day))\n",
    "    date_lendemain_cible = date_cible + datetime.timedelta(days=delta_days)\n",
    "\n",
    "    conso_periode = var_load[(var_load.ds >= date_cible) \n",
    "                                      & (var_load.ds <= date_lendemain_cible)]\n",
    "    plt.plot(conso_periode['ds'], conso_periode['y'], color='blue')\n",
    "    plt.show()"
   ]
  },
  {
   "cell_type": "code",
   "execution_count": 64,
   "metadata": {},
   "outputs": [
    {
     "data": {
      "image/png": "[encoded data removed]",
      "text/plain": [
       "<Figure size 432x288 with 1 Axes>"
      ]
     },
     "metadata": {
      "needs_background": "light"
     },
     "output_type": "display_data"
    }
   ],
   "source": [
    "plot_load(Yconso, 2016, 12, 20,1)"
   ]
  },
  {
   "cell_type": "markdown",
   "metadata": {},
   "source": [
    "<font color='green'>\n",
    "\n",
    "* Afficher un jour ouvré d’hiver, un jour ouvré d’été, commenter.\n",
    "\n",
    "</font>"
   ]
  },
  {
   "cell_type": "markdown",
   "metadata": {},
   "source": [
    "## Afficher une semaine arbitraire de consommation"
   ]
  },
  {
   "cell_type": "code",
   "execution_count": 65,
   "metadata": {},
   "outputs": [
    {
     "data": {
      "image/png": "[encoded data removed]",
      "text/plain": [
       "<Figure size 432x288 with 1 Axes>"
      ]
     },
     "metadata": {
      "needs_background": "light"
     },
     "output_type": "display_data"
    }
   ],
   "source": [
    "plot_load(Yconso, 2016, 12, 20, delta_days=7)"
   ]
  },
  {
   "cell_type": "markdown",
   "metadata": {},
   "source": [
    "<font color='green'>\n",
    "\n",
    "* Commenter.\n",
    "\n",
    "</font>"
   ]
  },
  {
   "cell_type": "markdown",
   "metadata": {},
   "source": [
    "## Observation des profils de la consommation pour les mois d'hiver et les mois d'été\n",
    "Toujours dans le but d'appréhender nos données, on va regarder les profils moyens pour les mois d'été et pour ceux d'hiver. On va également observer le min et le max pour avoir une idée de la variabilité du signal."
   ]
  },
  {
   "cell_type": "code",
   "execution_count": 66,
   "metadata": {},
   "outputs": [],
   "source": [
    "# Par commodité, on isole le mois pour après attraper les mois d'hiver et d'été\n",
    "Xinput['month'] = Xinput['ds'].dt.month\n",
    "\n",
    "# On isole aussi les heures\n",
    "Xinput['hour'] = Xinput['ds'].dt.hour\n",
    "\n",
    "# On sépare les jours de la semaine \n",
    "# La fonction datetime.weekday() renvoie 0 => Lundi, 1 => Mardi, ..., 5 => Samedi, 6 => Dimanche\n",
    "Xinput['weekday'] = Xinput['ds'].dt.weekday "
   ]
  },
  {
   "cell_type": "code",
   "execution_count": 67,
   "metadata": {},
   "outputs": [
    {
     "data": {
      "text/html": [
       "<div>\n",
       "<style scoped>\n",
       "    .dataframe tbody tr th:only-of-type {\n",
       "        vertical-align: middle;\n",
       "    }\n",
       "\n",
       "    .dataframe tbody tr th {\n",
       "        vertical-align: top;\n",
       "    }\n",
       "\n",
       "    .dataframe thead th {\n",
       "        text-align: right;\n",
       "    }\n",
       "</style>\n",
       "<table border=\"1\" class=\"dataframe\">\n",
       "  <thead>\n",
       "    <tr style=\"text-align: right;\">\n",
       "      <th></th>\n",
       "      <th>ds</th>\n",
       "      <th>holiday</th>\n",
       "      <th>002_0</th>\n",
       "      <th>002_24</th>\n",
       "      <th>005_0</th>\n",
       "      <th>005_24</th>\n",
       "      <th>015_0</th>\n",
       "      <th>015_24</th>\n",
       "      <th>027_0</th>\n",
       "      <th>027_24</th>\n",
       "      <th>...</th>\n",
       "      <th>675_24</th>\n",
       "      <th>690_0</th>\n",
       "      <th>690_24</th>\n",
       "      <th>747_0</th>\n",
       "      <th>747_24</th>\n",
       "      <th>Th_real_24h_avant</th>\n",
       "      <th>Th_prev</th>\n",
       "      <th>month</th>\n",
       "      <th>hour</th>\n",
       "      <th>weekday</th>\n",
       "    </tr>\n",
       "  </thead>\n",
       "  <tbody>\n",
       "    <tr>\n",
       "      <td>168</td>\n",
       "      <td>2014-01-08 00:00:00+00:00</td>\n",
       "      <td>NaN</td>\n",
       "      <td>10.3</td>\n",
       "      <td>9.69</td>\n",
       "      <td>10.00</td>\n",
       "      <td>9.80</td>\n",
       "      <td>9.69</td>\n",
       "      <td>9.30</td>\n",
       "      <td>10.19</td>\n",
       "      <td>10.5</td>\n",
       "      <td>...</td>\n",
       "      <td>10.6</td>\n",
       "      <td>8.5</td>\n",
       "      <td>9.5</td>\n",
       "      <td>10.7</td>\n",
       "      <td>11.2</td>\n",
       "      <td>9.84693</td>\n",
       "      <td>9.911160</td>\n",
       "      <td>1</td>\n",
       "      <td>0</td>\n",
       "      <td>2</td>\n",
       "    </tr>\n",
       "    <tr>\n",
       "      <td>169</td>\n",
       "      <td>2014-01-08 01:00:00+00:00</td>\n",
       "      <td>NaN</td>\n",
       "      <td>10.1</td>\n",
       "      <td>9.40</td>\n",
       "      <td>9.69</td>\n",
       "      <td>9.80</td>\n",
       "      <td>9.40</td>\n",
       "      <td>9.30</td>\n",
       "      <td>10.30</td>\n",
       "      <td>10.3</td>\n",
       "      <td>...</td>\n",
       "      <td>10.1</td>\n",
       "      <td>8.4</td>\n",
       "      <td>9.4</td>\n",
       "      <td>11.0</td>\n",
       "      <td>11.1</td>\n",
       "      <td>9.84850</td>\n",
       "      <td>9.790830</td>\n",
       "      <td>1</td>\n",
       "      <td>1</td>\n",
       "      <td>2</td>\n",
       "    </tr>\n",
       "    <tr>\n",
       "      <td>170</td>\n",
       "      <td>2014-01-08 02:00:00+00:00</td>\n",
       "      <td>NaN</td>\n",
       "      <td>10.0</td>\n",
       "      <td>9.19</td>\n",
       "      <td>9.90</td>\n",
       "      <td>9.60</td>\n",
       "      <td>9.19</td>\n",
       "      <td>9.40</td>\n",
       "      <td>10.30</td>\n",
       "      <td>10.0</td>\n",
       "      <td>...</td>\n",
       "      <td>9.6</td>\n",
       "      <td>7.9</td>\n",
       "      <td>9.3</td>\n",
       "      <td>11.6</td>\n",
       "      <td>11.0</td>\n",
       "      <td>9.68158</td>\n",
       "      <td>9.634990</td>\n",
       "      <td>1</td>\n",
       "      <td>2</td>\n",
       "      <td>2</td>\n",
       "    </tr>\n",
       "    <tr>\n",
       "      <td>171</td>\n",
       "      <td>2014-01-08 03:00:00+00:00</td>\n",
       "      <td>NaN</td>\n",
       "      <td>9.9</td>\n",
       "      <td>9.00</td>\n",
       "      <td>9.50</td>\n",
       "      <td>9.19</td>\n",
       "      <td>9.19</td>\n",
       "      <td>9.19</td>\n",
       "      <td>10.19</td>\n",
       "      <td>9.8</td>\n",
       "      <td>...</td>\n",
       "      <td>9.1</td>\n",
       "      <td>7.5</td>\n",
       "      <td>9.3</td>\n",
       "      <td>11.1</td>\n",
       "      <td>10.9</td>\n",
       "      <td>9.48713</td>\n",
       "      <td>9.445360</td>\n",
       "      <td>1</td>\n",
       "      <td>3</td>\n",
       "      <td>2</td>\n",
       "    </tr>\n",
       "    <tr>\n",
       "      <td>172</td>\n",
       "      <td>2014-01-08 04:00:00+00:00</td>\n",
       "      <td>NaN</td>\n",
       "      <td>9.9</td>\n",
       "      <td>8.80</td>\n",
       "      <td>9.00</td>\n",
       "      <td>8.90</td>\n",
       "      <td>8.90</td>\n",
       "      <td>9.00</td>\n",
       "      <td>10.19</td>\n",
       "      <td>9.6</td>\n",
       "      <td>...</td>\n",
       "      <td>8.8</td>\n",
       "      <td>7.3</td>\n",
       "      <td>9.0</td>\n",
       "      <td>10.8</td>\n",
       "      <td>10.8</td>\n",
       "      <td>9.49041</td>\n",
       "      <td>9.241585</td>\n",
       "      <td>1</td>\n",
       "      <td>4</td>\n",
       "      <td>2</td>\n",
       "    </tr>\n",
       "  </tbody>\n",
       "</table>\n",
       "<p>5 rows × 77 columns</p>\n",
       "</div>"
      ],
      "text/plain": [
       "                           ds holiday  002_0  002_24  005_0  005_24  015_0  \\\n",
       "168 2014-01-08 00:00:00+00:00     NaN   10.3    9.69  10.00    9.80   9.69   \n",
       "169 2014-01-08 01:00:00+00:00     NaN   10.1    9.40   9.69    9.80   9.40   \n",
       "170 2014-01-08 02:00:00+00:00     NaN   10.0    9.19   9.90    9.60   9.19   \n",
       "171 2014-01-08 03:00:00+00:00     NaN    9.9    9.00   9.50    9.19   9.19   \n",
       "172 2014-01-08 04:00:00+00:00     NaN    9.9    8.80   9.00    8.90   8.90   \n",
       "\n",
       "     015_24  027_0  027_24  ...  675_24  690_0  690_24  747_0  747_24  \\\n",
       "168    9.30  10.19    10.5  ...    10.6    8.5     9.5   10.7    11.2   \n",
       "169    9.30  10.30    10.3  ...    10.1    8.4     9.4   11.0    11.1   \n",
       "170    9.40  10.30    10.0  ...     9.6    7.9     9.3   11.6    11.0   \n",
       "171    9.19  10.19     9.8  ...     9.1    7.5     9.3   11.1    10.9   \n",
       "172    9.00  10.19     9.6  ...     8.8    7.3     9.0   10.8    10.8   \n",
       "\n",
       "     Th_real_24h_avant   Th_prev  month  hour  weekday  \n",
       "168            9.84693  9.911160      1     0        2  \n",
       "169            9.84850  9.790830      1     1        2  \n",
       "170            9.68158  9.634990      1     2        2  \n",
       "171            9.48713  9.445360      1     3        2  \n",
       "172            9.49041  9.241585      1     4        2  \n",
       "\n",
       "[5 rows x 77 columns]"
      ]
     },
     "execution_count": 67,
     "metadata": {},
     "output_type": "execute_result"
    }
   ],
   "source": [
    "Xinput.head(5)"
   ]
  },
  {
   "cell_type": "code",
   "execution_count": 68,
   "metadata": {},
   "outputs": [
    {
     "data": {
      "text/html": [
       "<div>\n",
       "<style scoped>\n",
       "    .dataframe tbody tr th:only-of-type {\n",
       "        vertical-align: middle;\n",
       "    }\n",
       "\n",
       "    .dataframe tbody tr th {\n",
       "        vertical-align: top;\n",
       "    }\n",
       "\n",
       "    .dataframe thead th {\n",
       "        text-align: right;\n",
       "    }\n",
       "</style>\n",
       "<table border=\"1\" class=\"dataframe\">\n",
       "  <thead>\n",
       "    <tr style=\"text-align: right;\">\n",
       "      <th></th>\n",
       "      <th></th>\n",
       "      <th>mean</th>\n",
       "      <th>amin</th>\n",
       "      <th>amax</th>\n",
       "    </tr>\n",
       "    <tr>\n",
       "      <th>weekday</th>\n",
       "      <th>hour</th>\n",
       "      <th></th>\n",
       "      <th></th>\n",
       "      <th></th>\n",
       "    </tr>\n",
       "  </thead>\n",
       "  <tbody>\n",
       "    <tr>\n",
       "      <td rowspan=\"5\" valign=\"top\">0</td>\n",
       "      <td>0</td>\n",
       "      <td>65365.258065</td>\n",
       "      <td>55360</td>\n",
       "      <td>78454</td>\n",
       "    </tr>\n",
       "    <tr>\n",
       "      <td>1</td>\n",
       "      <td>61460.306452</td>\n",
       "      <td>51056</td>\n",
       "      <td>75197</td>\n",
       "    </tr>\n",
       "    <tr>\n",
       "      <td>2</td>\n",
       "      <td>60760.354839</td>\n",
       "      <td>49822</td>\n",
       "      <td>75197</td>\n",
       "    </tr>\n",
       "    <tr>\n",
       "      <td>3</td>\n",
       "      <td>58676.000000</td>\n",
       "      <td>47461</td>\n",
       "      <td>73091</td>\n",
       "    </tr>\n",
       "    <tr>\n",
       "      <td>4</td>\n",
       "      <td>56715.241935</td>\n",
       "      <td>45691</td>\n",
       "      <td>71194</td>\n",
       "    </tr>\n",
       "    <tr>\n",
       "      <td>...</td>\n",
       "      <td>...</td>\n",
       "      <td>...</td>\n",
       "      <td>...</td>\n",
       "      <td>...</td>\n",
       "    </tr>\n",
       "    <tr>\n",
       "      <td rowspan=\"5\" valign=\"top\">6</td>\n",
       "      <td>19</td>\n",
       "      <td>67981.901639</td>\n",
       "      <td>57070</td>\n",
       "      <td>80942</td>\n",
       "    </tr>\n",
       "    <tr>\n",
       "      <td>20</td>\n",
       "      <td>67888.163934</td>\n",
       "      <td>57139</td>\n",
       "      <td>80422</td>\n",
       "    </tr>\n",
       "    <tr>\n",
       "      <td>21</td>\n",
       "      <td>65419.344262</td>\n",
       "      <td>55295</td>\n",
       "      <td>77923</td>\n",
       "    </tr>\n",
       "    <tr>\n",
       "      <td>22</td>\n",
       "      <td>62934.213115</td>\n",
       "      <td>53033</td>\n",
       "      <td>75755</td>\n",
       "    </tr>\n",
       "    <tr>\n",
       "      <td>23</td>\n",
       "      <td>66101.393443</td>\n",
       "      <td>56162</td>\n",
       "      <td>79201</td>\n",
       "    </tr>\n",
       "  </tbody>\n",
       "</table>\n",
       "<p>168 rows × 3 columns</p>\n",
       "</div>"
      ],
      "text/plain": [
       "                      mean   amin   amax\n",
       "weekday hour                            \n",
       "0       0     65365.258065  55360  78454\n",
       "        1     61460.306452  51056  75197\n",
       "        2     60760.354839  49822  75197\n",
       "        3     58676.000000  47461  73091\n",
       "        4     56715.241935  45691  71194\n",
       "...                    ...    ...    ...\n",
       "6       19    67981.901639  57070  80942\n",
       "        20    67888.163934  57139  80422\n",
       "        21    65419.344262  55295  77923\n",
       "        22    62934.213115  53033  75755\n",
       "        23    66101.393443  56162  79201\n",
       "\n",
       "[168 rows x 3 columns]"
      ]
     },
     "metadata": {},
     "output_type": "display_data"
    }
   ],
   "source": [
    "# On aggrège les mois d'hiver ensemble\n",
    "XY_df = pd.merge(Yconso, Xinput, on = 'ds')\n",
    "groupedHiver = XY_df[(XY_df.month == 12) | \n",
    "                                     (XY_df.month == 1) | \n",
    "                                     (XY_df.month == 2)].groupby(['weekday', 'hour'], as_index=True)\n",
    "\n",
    "# Idem pour les mois d'été\n",
    "groupedEte = XY_df[(XY_df.month == 6) | \n",
    "                                   (XY_df.month == 7) | \n",
    "                                   (XY_df.month == 8)].groupby(['weekday', 'hour'], as_index=True)\n",
    "\n",
    "statsHiver = groupedHiver['y'].aggregate([np.mean, np.min, np.max])\n",
    "statsEte = groupedEte['y'].aggregate([np.mean, np.min, np.max])\n",
    "display(statsHiver)"
   ]
  },
  {
   "cell_type": "code",
   "execution_count": 69,
   "metadata": {},
   "outputs": [
    {
     "data": {
      "image/png": "[encoded data removed]",
      "text/plain": [
       "<Figure size 432x288 with 1 Axes>"
      ]
     },
     "metadata": {
      "needs_background": "light"
     },
     "output_type": "display_data"
    }
   ],
   "source": [
    "# On affiche des infos sur le profil pour les jours de la semaine\n",
    "# 0 => Lundi, 1 => Mardi, ..., 5 => Samedi, 6 => Dimanche\n",
    "jour = statsHiver.loc[6]  \n",
    "\n",
    "plt.plot(jour['amin'], color='cyan')\n",
    "plt.plot(jour['mean'], color='blue')\n",
    "plt.plot(jour['amax'], color='cyan')\n",
    "plt.show()"
   ]
  },
  {
   "cell_type": "markdown",
   "metadata": {},
   "source": [
    "## Lien avec la consommation passée\n",
    "A l'aide de la fonction shift, pour un point horaire cible on regarde  :\n",
    "- la consommation de l'heure précédente, \n",
    "- du jour précédent, \n",
    "- de la semaine précédente.\n"
   ]
  },
  {
   "cell_type": "code",
   "execution_count": 70,
   "metadata": {},
   "outputs": [
    {
     "data": {
      "text/html": [
       "<div>\n",
       "<style scoped>\n",
       "    .dataframe tbody tr th:only-of-type {\n",
       "        vertical-align: middle;\n",
       "    }\n",
       "\n",
       "    .dataframe tbody tr th {\n",
       "        vertical-align: top;\n",
       "    }\n",
       "\n",
       "    .dataframe thead th {\n",
       "        text-align: right;\n",
       "    }\n",
       "</style>\n",
       "<table border=\"1\" class=\"dataframe\">\n",
       "  <thead>\n",
       "    <tr style=\"text-align: right;\">\n",
       "      <th></th>\n",
       "      <th>ds</th>\n",
       "      <th>holiday</th>\n",
       "      <th>002_0</th>\n",
       "      <th>002_24</th>\n",
       "      <th>005_0</th>\n",
       "      <th>005_24</th>\n",
       "      <th>015_0</th>\n",
       "      <th>015_24</th>\n",
       "      <th>027_0</th>\n",
       "      <th>027_24</th>\n",
       "      <th>...</th>\n",
       "      <th>747_0</th>\n",
       "      <th>747_24</th>\n",
       "      <th>Th_real_24h_avant</th>\n",
       "      <th>Th_prev</th>\n",
       "      <th>month</th>\n",
       "      <th>hour</th>\n",
       "      <th>weekday</th>\n",
       "      <th>lag1H</th>\n",
       "      <th>lag1D</th>\n",
       "      <th>lag1W</th>\n",
       "    </tr>\n",
       "  </thead>\n",
       "  <tbody>\n",
       "    <tr>\n",
       "      <td>168</td>\n",
       "      <td>2014-01-08 00:00:00+00:00</td>\n",
       "      <td>NaN</td>\n",
       "      <td>10.3</td>\n",
       "      <td>9.69</td>\n",
       "      <td>10.00</td>\n",
       "      <td>9.80</td>\n",
       "      <td>9.69</td>\n",
       "      <td>9.30</td>\n",
       "      <td>10.19</td>\n",
       "      <td>10.5</td>\n",
       "      <td>...</td>\n",
       "      <td>10.7</td>\n",
       "      <td>11.20</td>\n",
       "      <td>9.84693</td>\n",
       "      <td>9.911160</td>\n",
       "      <td>1</td>\n",
       "      <td>0</td>\n",
       "      <td>2</td>\n",
       "      <td>NaN</td>\n",
       "      <td>NaN</td>\n",
       "      <td>NaN</td>\n",
       "    </tr>\n",
       "    <tr>\n",
       "      <td>169</td>\n",
       "      <td>2014-01-08 01:00:00+00:00</td>\n",
       "      <td>NaN</td>\n",
       "      <td>10.1</td>\n",
       "      <td>9.40</td>\n",
       "      <td>9.69</td>\n",
       "      <td>9.80</td>\n",
       "      <td>9.40</td>\n",
       "      <td>9.30</td>\n",
       "      <td>10.30</td>\n",
       "      <td>10.3</td>\n",
       "      <td>...</td>\n",
       "      <td>11.0</td>\n",
       "      <td>11.10</td>\n",
       "      <td>9.84850</td>\n",
       "      <td>9.790830</td>\n",
       "      <td>1</td>\n",
       "      <td>1</td>\n",
       "      <td>2</td>\n",
       "      <td>62008.0</td>\n",
       "      <td>NaN</td>\n",
       "      <td>NaN</td>\n",
       "    </tr>\n",
       "    <tr>\n",
       "      <td>170</td>\n",
       "      <td>2014-01-08 02:00:00+00:00</td>\n",
       "      <td>NaN</td>\n",
       "      <td>10.0</td>\n",
       "      <td>9.19</td>\n",
       "      <td>9.90</td>\n",
       "      <td>9.60</td>\n",
       "      <td>9.19</td>\n",
       "      <td>9.40</td>\n",
       "      <td>10.30</td>\n",
       "      <td>10.0</td>\n",
       "      <td>...</td>\n",
       "      <td>11.6</td>\n",
       "      <td>11.00</td>\n",
       "      <td>9.68158</td>\n",
       "      <td>9.634990</td>\n",
       "      <td>1</td>\n",
       "      <td>2</td>\n",
       "      <td>2</td>\n",
       "      <td>57298.0</td>\n",
       "      <td>NaN</td>\n",
       "      <td>NaN</td>\n",
       "    </tr>\n",
       "    <tr>\n",
       "      <td>171</td>\n",
       "      <td>2014-01-08 03:00:00+00:00</td>\n",
       "      <td>NaN</td>\n",
       "      <td>9.9</td>\n",
       "      <td>9.00</td>\n",
       "      <td>9.50</td>\n",
       "      <td>9.19</td>\n",
       "      <td>9.19</td>\n",
       "      <td>9.19</td>\n",
       "      <td>10.19</td>\n",
       "      <td>9.8</td>\n",
       "      <td>...</td>\n",
       "      <td>11.1</td>\n",
       "      <td>10.90</td>\n",
       "      <td>9.48713</td>\n",
       "      <td>9.445360</td>\n",
       "      <td>1</td>\n",
       "      <td>3</td>\n",
       "      <td>2</td>\n",
       "      <td>56216.0</td>\n",
       "      <td>NaN</td>\n",
       "      <td>NaN</td>\n",
       "    </tr>\n",
       "    <tr>\n",
       "      <td>172</td>\n",
       "      <td>2014-01-08 04:00:00+00:00</td>\n",
       "      <td>NaN</td>\n",
       "      <td>9.9</td>\n",
       "      <td>8.80</td>\n",
       "      <td>9.00</td>\n",
       "      <td>8.90</td>\n",
       "      <td>8.90</td>\n",
       "      <td>9.00</td>\n",
       "      <td>10.19</td>\n",
       "      <td>9.6</td>\n",
       "      <td>...</td>\n",
       "      <td>10.8</td>\n",
       "      <td>10.80</td>\n",
       "      <td>9.49041</td>\n",
       "      <td>9.241585</td>\n",
       "      <td>1</td>\n",
       "      <td>4</td>\n",
       "      <td>2</td>\n",
       "      <td>53719.0</td>\n",
       "      <td>NaN</td>\n",
       "      <td>NaN</td>\n",
       "    </tr>\n",
       "    <tr>\n",
       "      <td>...</td>\n",
       "      <td>...</td>\n",
       "      <td>...</td>\n",
       "      <td>...</td>\n",
       "      <td>...</td>\n",
       "      <td>...</td>\n",
       "      <td>...</td>\n",
       "      <td>...</td>\n",
       "      <td>...</td>\n",
       "      <td>...</td>\n",
       "      <td>...</td>\n",
       "      <td>...</td>\n",
       "      <td>...</td>\n",
       "      <td>...</td>\n",
       "      <td>...</td>\n",
       "      <td>...</td>\n",
       "      <td>...</td>\n",
       "      <td>...</td>\n",
       "      <td>...</td>\n",
       "      <td>...</td>\n",
       "      <td>...</td>\n",
       "      <td>...</td>\n",
       "    </tr>\n",
       "    <tr>\n",
       "      <td>332</td>\n",
       "      <td>2014-01-14 20:00:00+00:00</td>\n",
       "      <td>NaN</td>\n",
       "      <td>7.4</td>\n",
       "      <td>4.59</td>\n",
       "      <td>6.40</td>\n",
       "      <td>3.60</td>\n",
       "      <td>5.50</td>\n",
       "      <td>3.90</td>\n",
       "      <td>5.90</td>\n",
       "      <td>4.9</td>\n",
       "      <td>...</td>\n",
       "      <td>9.4</td>\n",
       "      <td>8.30</td>\n",
       "      <td>6.40173</td>\n",
       "      <td>4.849600</td>\n",
       "      <td>1</td>\n",
       "      <td>20</td>\n",
       "      <td>1</td>\n",
       "      <td>78424.0</td>\n",
       "      <td>73042.0</td>\n",
       "      <td>NaN</td>\n",
       "    </tr>\n",
       "    <tr>\n",
       "      <td>333</td>\n",
       "      <td>2014-01-14 21:00:00+00:00</td>\n",
       "      <td>NaN</td>\n",
       "      <td>7.0</td>\n",
       "      <td>4.59</td>\n",
       "      <td>6.50</td>\n",
       "      <td>3.70</td>\n",
       "      <td>5.09</td>\n",
       "      <td>3.60</td>\n",
       "      <td>5.90</td>\n",
       "      <td>5.5</td>\n",
       "      <td>...</td>\n",
       "      <td>8.6</td>\n",
       "      <td>8.19</td>\n",
       "      <td>6.20150</td>\n",
       "      <td>4.762620</td>\n",
       "      <td>1</td>\n",
       "      <td>21</td>\n",
       "      <td>1</td>\n",
       "      <td>76005.0</td>\n",
       "      <td>68737.0</td>\n",
       "      <td>NaN</td>\n",
       "    </tr>\n",
       "    <tr>\n",
       "      <td>334</td>\n",
       "      <td>2014-01-14 22:00:00+00:00</td>\n",
       "      <td>NaN</td>\n",
       "      <td>6.9</td>\n",
       "      <td>6.20</td>\n",
       "      <td>5.90</td>\n",
       "      <td>3.80</td>\n",
       "      <td>5.20</td>\n",
       "      <td>3.40</td>\n",
       "      <td>6.10</td>\n",
       "      <td>5.5</td>\n",
       "      <td>...</td>\n",
       "      <td>8.5</td>\n",
       "      <td>8.90</td>\n",
       "      <td>5.97445</td>\n",
       "      <td>4.701705</td>\n",
       "      <td>1</td>\n",
       "      <td>22</td>\n",
       "      <td>1</td>\n",
       "      <td>71543.0</td>\n",
       "      <td>64773.0</td>\n",
       "      <td>NaN</td>\n",
       "    </tr>\n",
       "    <tr>\n",
       "      <td>335</td>\n",
       "      <td>2014-01-14 23:00:00+00:00</td>\n",
       "      <td>NaN</td>\n",
       "      <td>6.6</td>\n",
       "      <td>6.50</td>\n",
       "      <td>6.00</td>\n",
       "      <td>3.80</td>\n",
       "      <td>5.20</td>\n",
       "      <td>3.20</td>\n",
       "      <td>6.10</td>\n",
       "      <td>5.8</td>\n",
       "      <td>...</td>\n",
       "      <td>8.1</td>\n",
       "      <td>8.80</td>\n",
       "      <td>5.76064</td>\n",
       "      <td>4.572135</td>\n",
       "      <td>1</td>\n",
       "      <td>23</td>\n",
       "      <td>1</td>\n",
       "      <td>67736.0</td>\n",
       "      <td>67615.0</td>\n",
       "      <td>NaN</td>\n",
       "    </tr>\n",
       "    <tr>\n",
       "      <td>336</td>\n",
       "      <td>2014-01-15 00:00:00+00:00</td>\n",
       "      <td>NaN</td>\n",
       "      <td>6.3</td>\n",
       "      <td>7.00</td>\n",
       "      <td>6.00</td>\n",
       "      <td>3.70</td>\n",
       "      <td>4.70</td>\n",
       "      <td>2.90</td>\n",
       "      <td>5.90</td>\n",
       "      <td>5.9</td>\n",
       "      <td>...</td>\n",
       "      <td>7.5</td>\n",
       "      <td>8.90</td>\n",
       "      <td>5.37866</td>\n",
       "      <td>4.479105</td>\n",
       "      <td>1</td>\n",
       "      <td>0</td>\n",
       "      <td>2</td>\n",
       "      <td>70554.0</td>\n",
       "      <td>66368.0</td>\n",
       "      <td>62008.0</td>\n",
       "    </tr>\n",
       "  </tbody>\n",
       "</table>\n",
       "<p>169 rows × 80 columns</p>\n",
       "</div>"
      ],
      "text/plain": [
       "                           ds holiday  002_0  002_24  005_0  005_24  015_0  \\\n",
       "168 2014-01-08 00:00:00+00:00     NaN   10.3    9.69  10.00    9.80   9.69   \n",
       "169 2014-01-08 01:00:00+00:00     NaN   10.1    9.40   9.69    9.80   9.40   \n",
       "170 2014-01-08 02:00:00+00:00     NaN   10.0    9.19   9.90    9.60   9.19   \n",
       "171 2014-01-08 03:00:00+00:00     NaN    9.9    9.00   9.50    9.19   9.19   \n",
       "172 2014-01-08 04:00:00+00:00     NaN    9.9    8.80   9.00    8.90   8.90   \n",
       "..                        ...     ...    ...     ...    ...     ...    ...   \n",
       "332 2014-01-14 20:00:00+00:00     NaN    7.4    4.59   6.40    3.60   5.50   \n",
       "333 2014-01-14 21:00:00+00:00     NaN    7.0    4.59   6.50    3.70   5.09   \n",
       "334 2014-01-14 22:00:00+00:00     NaN    6.9    6.20   5.90    3.80   5.20   \n",
       "335 2014-01-14 23:00:00+00:00     NaN    6.6    6.50   6.00    3.80   5.20   \n",
       "336 2014-01-15 00:00:00+00:00     NaN    6.3    7.00   6.00    3.70   4.70   \n",
       "\n",
       "     015_24  027_0  027_24  ...  747_0  747_24  Th_real_24h_avant   Th_prev  \\\n",
       "168    9.30  10.19    10.5  ...   10.7   11.20            9.84693  9.911160   \n",
       "169    9.30  10.30    10.3  ...   11.0   11.10            9.84850  9.790830   \n",
       "170    9.40  10.30    10.0  ...   11.6   11.00            9.68158  9.634990   \n",
       "171    9.19  10.19     9.8  ...   11.1   10.90            9.48713  9.445360   \n",
       "172    9.00  10.19     9.6  ...   10.8   10.80            9.49041  9.241585   \n",
       "..      ...    ...     ...  ...    ...     ...                ...       ...   \n",
       "332    3.90   5.90     4.9  ...    9.4    8.30            6.40173  4.849600   \n",
       "333    3.60   5.90     5.5  ...    8.6    8.19            6.20150  4.762620   \n",
       "334    3.40   6.10     5.5  ...    8.5    8.90            5.97445  4.701705   \n",
       "335    3.20   6.10     5.8  ...    8.1    8.80            5.76064  4.572135   \n",
       "336    2.90   5.90     5.9  ...    7.5    8.90            5.37866  4.479105   \n",
       "\n",
       "     month  hour  weekday    lag1H    lag1D    lag1W  \n",
       "168      1     0        2      NaN      NaN      NaN  \n",
       "169      1     1        2  62008.0      NaN      NaN  \n",
       "170      1     2        2  57298.0      NaN      NaN  \n",
       "171      1     3        2  56216.0      NaN      NaN  \n",
       "172      1     4        2  53719.0      NaN      NaN  \n",
       "..     ...   ...      ...      ...      ...      ...  \n",
       "332      1    20        1  78424.0  73042.0      NaN  \n",
       "333      1    21        1  76005.0  68737.0      NaN  \n",
       "334      1    22        1  71543.0  64773.0      NaN  \n",
       "335      1    23        1  67736.0  67615.0      NaN  \n",
       "336      1     0        2  70554.0  66368.0  62008.0  \n",
       "\n",
       "[169 rows x 80 columns]"
      ]
     },
     "execution_count": 70,
     "metadata": {},
     "output_type": "execute_result"
    }
   ],
   "source": [
    "Xinput['lag1H'] = Yconso['y'].shift(1)\n",
    "Xinput['lag1D'] = Yconso['y'].shift(24)\n",
    "Xinput['lag1W'] = Yconso['y'].shift(24*7)\n",
    "\n",
    "Xinput.head(24 * 7 + 1)"
   ]
  },
  {
   "cell_type": "markdown",
   "metadata": {},
   "source": [
    "On trace maintenant les nuages de points afin de voir s'il y a corrélation ou non :"
   ]
  },
  {
   "cell_type": "code",
   "execution_count": 71,
   "metadata": {},
   "outputs": [],
   "source": [
    "def plot_scatter_load(var_x):\n",
    "    plt.scatter(Xinput[var_x],Yconso['y'])\n",
    "    plt.title(var_x)\n",
    "    plt.show()"
   ]
  },
  {
   "cell_type": "code",
   "execution_count": 72,
   "metadata": {},
   "outputs": [
    {
     "data": {
      "image/png": "[encoded data removed]",
      "text/plain": [
       "<Figure size 432x288 with 1 Axes>"
      ]
     },
     "metadata": {
      "needs_background": "light"
     },
     "output_type": "display_data"
    },
    {
     "data": {
      "image/png": "[encoded data removed]",
      "text/plain": [
       "<Figure size 432x288 with 1 Axes>"
      ]
     },
     "metadata": {
      "needs_background": "light"
     },
     "output_type": "display_data"
    },
    {
     "data": {
      "image/png": "[encoded data removed]",
      "text/plain": [
       "<Figure size 432x288 with 1 Axes>"
      ]
     },
     "metadata": {
      "needs_background": "light"
     },
     "output_type": "display_data"
    }
   ],
   "source": [
    "plot_scatter_load('lag1H')\n",
    "plot_scatter_load('lag1D')\n",
    "plot_scatter_load('lag1W')"
   ]
  },
  {
   "cell_type": "markdown",
   "metadata": {},
   "source": [
    "<font color='green'>\n",
    "    \n",
    "* Quelle(s) variable(s) vous semble(nt) pertinentes pour construire un modèle de prévision à J+1?\n",
    "\n",
    "* Lesquelles pouvez-vous raisonnablement utiliser dans un processus opérationnel?\n",
    "\n",
    "</font>"
   ]
  },
  {
   "cell_type": "markdown",
   "metadata": {},
   "source": [
    "## Visualiser la consommation en fonction de la température \n",
    "\n",
    "On voudrait savoir si la consommation nationale peut s'expliquer en regardant simplement la température moyenne sur la France. Pour cela, on peut aussi tracer un nuage de points."
   ]
  },
  {
   "cell_type": "code",
   "execution_count": 74,
   "metadata": {},
   "outputs": [
    {
     "data": {
      "image/png": "[encoded data removed]",
      "text/plain": [
       "<Figure size 432x288 with 1 Axes>"
      ]
     },
     "metadata": {
      "needs_background": "light"
     },
     "output_type": "display_data"
    }
   ],
   "source": [
    "plt.scatter(Xinput['Th_prev'], Yconso['y'], alpha=0.2)\n",
    "plt.show()"
   ]
  },
  {
   "cell_type": "markdown",
   "metadata": {},
   "source": [
    "<font color='green'>\n",
    "    \n",
    "* Que pensez-vous de ce nuage ? \n",
    "* Quelles autres variables explicatives proposeriez-vous? De quels types sont-elles?\n",
    "\n",
    "<font color='green'>"
   ]
  },
  {
   "cell_type": "markdown",
   "metadata": {},
   "source": [
    "# Ajout de variables"
   ]
  },
  {
   "cell_type": "markdown",
   "metadata": {},
   "source": [
    "On récupère le jour de l'année grâce à la fonction *dayofyear*"
   ]
  },
  {
   "cell_type": "code",
   "execution_count": 75,
   "metadata": {},
   "outputs": [],
   "source": [
    "time = pd.to_datetime(Xinput['ds'], yearfirst=True,utc=True)\n",
    "Xinput['posan']= time.dt.dayofyear"
   ]
  },
  {
   "cell_type": "code",
   "execution_count": 76,
   "metadata": {},
   "outputs": [
    {
     "data": {
      "text/plain": [
       "Index(['ds', 'holiday', '002_0', '002_24', '005_0', '005_24', '015_0',\n",
       "       '015_24', '027_0', '027_24', '070_0', '070_24', '110_0', '110_24',\n",
       "       '120_0', '120_24', '130_0', '130_24', '145_0', '145_24', '149_0',\n",
       "       '149_24', '156_0', '156_24', '168_0', '168_24', '180_0', '180_24',\n",
       "       '190_0', '190_24', '222_0', '222_24', '240_0', '240_24', '255_0',\n",
       "       '255_24', '260_0', '260_24', '280_0', '280_24', '299_0', '299_24',\n",
       "       '434_0', '434_24', '460_0', '460_24', '481_0', '481_24', '497_0',\n",
       "       '497_24', '510_0', '510_24', '579_0', '579_24', '588_0', '588_24',\n",
       "       '621_0', '621_24', '630_0', '630_24', '643_0', '643_24', '645_0',\n",
       "       '645_24', '650_0', '650_24', '675_0', '675_24', '690_0', '690_24',\n",
       "       '747_0', '747_24', 'Th_real_24h_avant', 'Th_prev', 'month', 'hour',\n",
       "       'weekday', 'lag1H', 'lag1D', 'lag1W', 'posan'],\n",
       "      dtype='object')"
      ]
     },
     "execution_count": 76,
     "metadata": {},
     "output_type": "execute_result"
    }
   ],
   "source": [
    "Xinput.columns\n"
   ]
  },
  {
   "cell_type": "code",
   "execution_count": 77,
   "metadata": {},
   "outputs": [],
   "source": [
    "Xinput.to_csv(\"data/X2input.csv\", index = False)"
   ]
  },
  {
   "cell_type": "code",
   "execution_count": null,
   "metadata": {},
   "outputs": [],
   "source": []
  }
 ],
 "metadata": {
  "jupytext": {
   "formats": "ipynb,py"
  },
  "kernelspec": {
   "display_name": "Python 3",
   "language": "python",
   "name": "python3"
  },
  "language_info": {
   "codemirror_mode": {
    "name": "ipython",
    "version": 3
   },
   "file_extension": ".py",
   "mimetype": "text/x-python",
   "name": "python",
   "nbconvert_exporter": "python",
   "pygments_lexer": "ipython3",
   "version": "3.7.4"
  }
 },
 "nbformat": 4,
 "nbformat_minor": 2
}
