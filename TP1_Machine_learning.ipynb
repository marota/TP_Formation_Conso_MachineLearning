{
 "cells": [
  {
   "cell_type": "markdown",
   "metadata": {},
   "source": [
    "# Le problème\n",
    "\n",
    "Pour garantir l'équilibre offre-demande à chaque instant, RTE construit ses propres prévisions de la consommation nationale, régionale, et locale. \n",
    "\n",
    "Nous nous concentrons ici sur la prévision nationale. Un challenge lancé par RTE (https://dataanalyticspost.com/wp-content/uploads/2017/06/Challenge-RTE-Prevision-de-Consommation.pdf) a permis de tester des approches alternatives aux modèles internes (POPCORN, PREMIS).\n",
    "\n",
    "<img src=\"pictures/ChallengeConso.png\" width=1000 height=100>\n",
    "\n",
    "Comme dans ce challenge, nous voulons aider RTE à faire de meilleures prévisions de conso ! "
   ]
  },
  {
   "cell_type": "markdown",
   "metadata": {},
   "source": [
    "## Un outil: le Machine Learning\n",
    "\n",
    "Pour cela, nous allons avoir recours au Machine Learning. Cela nous permettra de créer un modèle qui apprend et s'adapte au contexte sans programmer un système expert avec des \"centaines\" de règles en dur, par de la programmation logique. \n",
    "\n",
    "Le Machine Learning nécessite toutefois de la connaissance experte dans le domaine d'intérêt pour créer des modèles pertinents et efficaces. En effet, si notre modèle embarque trop de variables peu explicatives, il sera noyé dans l'information, surapprendra sur les exemples qu'on lui a montrés, et aura du mal à généraliser en prédisant avec justesse sur de nouveaux exemples. "
   ]
  },
  {
   "cell_type": "markdown",
   "metadata": {},
   "source": [
    "## Une difficulté: le feature engineering\n",
    "\n",
    "Au-delà de la simple sélection de variables pertinentes, on fait surtout ce que l'on appelle du feature engineering avec notre expertise: on crée des variables transformées ou agrégées, comme une consommation moyenne sur le mois précédent ou une température moyenne sur la France, pour guider l'algorithme et l'aider à apprendre sur l'information la plus pertinente et synthétique. Cela implique de bien connaître nos données, de passer du temps à les visualiser, et de les prétraiter avant de les fournir au modèle de machine-learning.\n",
    "\n",
    "Nous allons ici voir ce que cela implique en terme de développement et d'implémentation de participer à un tel challenge, en montrant les capacités du Machine Learning sur la base de modèles \"classiques\".\n",
    "\n",
    "## Ce que l'on va voir dans ce premier TP :\n",
    "1) Formaliser le problème: que souhaite-t-on prédire (quel est mon Y) ? Avec quelles variables explicatives (quel est mon X) ?\n",
    "\n",
    "2) Collecter les données: où se trouvent les données ? Quel est le format ? Comment les récupérer ? (FACULTATIF - voir TP \"TP1_Preparation_donnees\")\n",
    "\n",
    "3) Investiguer les données: visualiser des séries temporelles, faire quelques statistiques descriptives\n",
    "\n",
    "4) Préparer les données: pour entrainer et tester un premier modèle\n",
    "\n",
    "5) Créer et entrainer un premier modèle simple: ce sera notre baseline\n",
    "\n",
    "6) Evaluer un modèle\n",
    "\n",
    "7) Itérer en créant de nouveaux modèles avec de nouvelles variables explicatives\n",
    "\n",
    "8) Jouez: créer vos propres modèles, tester sur une saison différente, tester sur une région différente, faire une prévision avec incertitudes, détecter des outliers\n",
    "\n",
    "## To be continued\n",
    "Le deuxième TP permettra d'investiguer les modèles \"Deep\" avec réseaux de neurones, en montrant le moindre besoin en feature engineering et leur plus grande capacité à absorber l'information grâce aux représentations hiérarchiques qu'ils créent."
   ]
  },
  {
   "cell_type": "markdown",
   "metadata": {},
   "source": [
    "## Dimensionnement en temps\n",
    "On prévoit un une durée d'environ 2h pour ce TP1, debrief inclus :\n",
    "- 20-30 minutes pour charger et préparer les données [FACULTATIF]\n",
    "- 30-40 minutes pour analyser et visualiser les données\n",
    "- 45-60 minutes pour créer, entrainer, évaluer et interpréter les modèles"
   ]
  },
  {
   "cell_type": "markdown",
   "metadata": {},
   "source": [
    "## Se familiariser avec le problème: Eco2mix\n",
    "Quand on parle de courbe de consommation France, il y a une application incontournable : eco2mix !\n",
    "Allons voir à quoi ressemblent ces courbes de consommation, pour nous faire une idée du problème et se donner quelques intuitions:\n",
    "http://www.rte-france.com/fr/eco2mix/eco2mix\n",
    "ou sur application mobile"
   ]
  },
  {
   "cell_type": "markdown",
   "metadata": {},
   "source": [
    "# On passe au code : import de librairies et configuration"
   ]
  },
  {
   "cell_type": "markdown",
   "metadata": {},
   "source": [
    "** L'aide de python est accessible en tapant help(nom_de_la_commande) **"
   ]
  },
  {
   "cell_type": "markdown",
   "metadata": {},
   "source": [
    "## Chargement des Librairies"
   ]
  },
  {
   "cell_type": "code",
   "execution_count": 1,
   "metadata": {},
   "outputs": [
    {
     "data": {
      "application/javascript": [
       "IPython.notebook.set_autosave_interval(0)"
      ]
     },
     "metadata": {},
     "output_type": "display_data"
    },
    {
     "name": "stdout",
     "output_type": "stream",
     "text": [
      "Autosave disabled\n"
     ]
    }
   ],
   "source": [
    "# Exécutez la cellule ci-dessous (par exemple avec shift-entrée)\n",
    "# Si vous exécuter ce notebook depuis votre PC, il faudra peut-etre installer certaines librairies avec \n",
    "# 'pip install ma_librairie'\n",
    "import os  # accès aux commandes système\n",
    "import datetime  # structure de données pour gérer des objets calendaires\n",
    "import pandas as pd  # gérer des tables de données en python\n",
    "import numpy as np  # librairie d'opérations mathématiques\n",
    "import matplotlib.pyplot as plt  # tracer des visualisations\n",
    "import sklearn  # librairie de machine learning\n",
    "from sklearn.metrics import mean_absolute_error\n",
    "from sklearn.metrics import mean_squared_error\n",
    "from sklearn import linear_model\n",
    "from math import sqrt\n",
    "\n",
    "import shutil  # move ou copier fichier\n",
    "import zipfile  # compresser ou décompresser fichier\n",
    "import urllib3 # téléchargement de fichier\n",
    "\n",
    "from bokeh.palettes import inferno\n",
    "from bokeh.io import show, output_notebook\n",
    "from bokeh.models import (\n",
    "  GMapPlot, GMapOptions, ColumnDataSource, Circle, Range1d, PanTool, WheelZoomTool, BoxSelectTool, ColorBar, LogTicker,\n",
    "    LabelSet, Label,HoverTool\n",
    ")\n",
    "from bokeh.models.mappers import LogColorMapper\n",
    "from collections import OrderedDict\n",
    "\n",
    "import seaborn as sns\n",
    "\n",
    "%matplotlib inline\n",
    "\n",
    "%autosave 0"
   ]
  },
  {
   "cell_type": "markdown",
   "metadata": {},
   "source": [
    "## Configuration\n",
    "Choix du répertoire de travail \"data_folder\" dans lequel tous les fichiers csv seront entreposés"
   ]
  },
  {
   "cell_type": "code",
   "execution_count": 2,
   "metadata": {
    "lines_to_next_cell": 2
   },
   "outputs": [],
   "source": [
    "data_folder = os.path.join(os.getcwd(), \"data\")"
   ]
  },
  {
   "cell_type": "code",
   "execution_count": 3,
   "metadata": {},
   "outputs": [
    {
     "name": "stdout",
     "output_type": "stream",
     "text": [
      "Mon repertoire est : D:\\Users\\montuelleluc\\Documents\\Etudes\\Formations-RTE\\MOOC IA&DeepLearning\\TP_Formation_Conso_DeepLearning\\data\n",
      "Fichiers contenus dans ce répertoire :\n",
      " - communes_coordonnees.csv\n",
      " - eCO2mix_RTE_tempo_2017-2018.xls\n",
      " - joursFeries.csv\n",
      " - meteoX_T0_T24.zip\n",
      " - StationsMeteoRTE.csv\n",
      " - Xinput.csv\n",
      " - Xinput.zip\n",
      " - Xtemperature.csv\n",
      " - Yconso.csv\n",
      " - YconsoT0.csv\n",
      " - Yconso_2014_2018.csv\n"
     ]
    }
   ],
   "source": [
    "# Petite vérification\n",
    "print(\"Mon repertoire est : {}\".format(data_folder))\n",
    "print(\"Fichiers contenus dans ce répertoire :\")\n",
    "for file in os.listdir(data_folder):\n",
    "    print(\" - \" + file)"
   ]
  },
  {
   "cell_type": "markdown",
   "metadata": {},
   "source": [
    "# Récupération des données\n",
    "\n",
    "Dans cette partie nous allons charger les fichiers csv nécessaires pour l'analyse, puis les convertir en data-frame python.\n",
    "Les données brutes ont été pré-traitées à l'aide du notebook TP1_Preparation_donnees :\n",
    "- Yconso.csv\n",
    "- Xinput.csv"
   ]
  },
  {
   "cell_type": "code",
   "execution_count": 4,
   "metadata": {
    "lines_to_next_cell": 2
   },
   "outputs": [],
   "source": [
    "Yconso_csv = os.path.join(data_folder, \"Yconso.csv\")\n",
    "Yconso = pd.read_csv(Yconso_csv)"
   ]
  },
  {
   "cell_type": "markdown",
   "metadata": {},
   "source": [
    "La colonne \"ds\" contient des objets de type string. On va la convertir en objets de type \"datetime\" plus approprié.  \n",
    "Pour plus d'information, voir le TP1_Preparation_donnees."
   ]
  },
  {
   "cell_type": "code",
   "execution_count": 5,
   "metadata": {},
   "outputs": [],
   "source": [
    "Yconso['ds'] = pd.to_datetime(Yconso['ds'])"
   ]
  },
  {
   "cell_type": "code",
   "execution_count": 6,
   "metadata": {},
   "outputs": [
    {
     "name": "stdout",
     "output_type": "stream",
     "text": [
      "                   ds      y\n",
      "0 2014-01-08 00:00:00  62008\n",
      "1 2014-01-08 01:00:00  57298\n",
      "2 2014-01-08 02:00:00  56216\n",
      "3 2014-01-08 03:00:00  53719\n",
      "4 2014-01-08 04:00:00  51798\n",
      "(43368, 2)\n"
     ]
    }
   ],
   "source": [
    "print(Yconso.head(5))\n",
    "print(Yconso.shape)"
   ]
  },
  {
   "cell_type": "markdown",
   "metadata": {},
   "source": [
    "**Attention : Les données Xinput sont encryptées dans un fichier zip. du fait de données météo**  \n",
    "Pour les lire vous avez besoin d'un mot de passe qui ne peut vous être donné que dans le cadre d'un travail au sein de RTE."
   ]
  },
  {
   "cell_type": "code",
   "execution_count": 7,
   "metadata": {},
   "outputs": [],
   "source": [
    "Xinput_zip = os.path.join(data_folder, \"Xinput.zip\")"
   ]
  },
  {
   "cell_type": "code",
   "execution_count": 8,
   "metadata": {
    "lines_to_next_cell": 2
   },
   "outputs": [],
   "source": [
    "password = \"FIFA\""
   ]
  },
  {
   "cell_type": "code",
   "execution_count": 9,
   "metadata": {},
   "outputs": [],
   "source": [
    "# Pour travailler avec les fichiers zip, on utilise la bibliothèque **zipfile**.\n",
    "zipfile_xinput = zipfile.ZipFile(Xinput_zip)\n",
    "zipfile_xinput.setpassword(bytes(password,'utf-8'))\n",
    "Xinput = pd.read_csv(zipfile_xinput.open('Xinput.csv'),sep=\",\",engine='c',header=0)\n",
    "\n",
    "Xinput['ds'] = pd.to_datetime(Xinput['ds'])"
   ]
  },
  {
   "cell_type": "markdown",
   "metadata": {},
   "source": [
    "Vous disposez de relevés de températures en stations, d'une température France prévue et réalisée."
   ]
  },
  {
   "cell_type": "code",
   "execution_count": 10,
   "metadata": {},
   "outputs": [
    {
     "name": "stdout",
     "output_type": "stream",
     "text": [
      "                    ds holiday  002_0  002_24  005_0  005_24  015_0  015_24  \\\n",
      "0  2014-01-08 00:00:00     NaN  10.30    9.69  10.00    9.80   9.69    9.30   \n",
      "1  2014-01-08 01:00:00     NaN  10.10    9.40   9.69    9.80   9.40    9.30   \n",
      "2  2014-01-08 02:00:00     NaN  10.00    9.19   9.90    9.60   9.19    9.40   \n",
      "3  2014-01-08 03:00:00     NaN   9.90    9.00   9.50    9.19   9.19    9.19   \n",
      "4  2014-01-08 04:00:00     NaN   9.90    8.80   9.00    8.90   8.90    9.00   \n",
      "5  2014-01-08 05:00:00     NaN   9.69    9.40   9.40    9.10   9.30    9.40   \n",
      "6  2014-01-08 06:00:00     NaN   9.60    9.19   9.60    8.90   9.19    9.10   \n",
      "7  2014-01-08 07:00:00     NaN   9.60    9.50   9.50    8.60   9.19    9.50   \n",
      "8  2014-01-08 08:00:00     NaN   9.90    9.40   9.19    8.60   9.30    9.50   \n",
      "9  2014-01-08 09:00:00     NaN  10.00    9.40  10.00    9.10   9.69    9.80   \n",
      "10 2014-01-08 10:00:00     NaN  10.40    9.00  10.00    9.69  10.30    9.69   \n",
      "11 2014-01-08 11:00:00     NaN  10.50    9.40  11.80   10.60  10.70   10.60   \n",
      "12 2014-01-08 12:00:00     NaN  10.60    9.80  12.60   11.30  11.80   11.20   \n",
      "13 2014-01-08 13:00:00     NaN  10.90   10.00  12.60   11.40  12.80   11.30   \n",
      "14 2014-01-08 14:00:00     NaN  11.20    9.90  12.60   11.30  12.70   11.20   \n",
      "15 2014-01-08 15:00:00     NaN  11.30    9.69  12.80   11.10  12.20   10.90   \n",
      "16 2014-01-08 16:00:00     NaN  11.10    9.69  11.90   10.90  11.40   10.80   \n",
      "17 2014-01-08 17:00:00     NaN  10.50    9.50  11.50   10.70  11.10   10.50   \n",
      "18 2014-01-08 18:00:00     NaN  10.80    9.60  10.80   10.60  10.80   10.40   \n",
      "19 2014-01-08 19:00:00     NaN  11.00    9.80   9.90   10.60  10.40   10.30   \n",
      "20 2014-01-08 20:00:00     NaN  10.80   10.00  10.10   10.80  10.10   10.30   \n",
      "21 2014-01-08 21:00:00     NaN  10.40   10.19   9.69   10.70   9.60   10.40   \n",
      "22 2014-01-08 22:00:00     NaN  10.10   10.70  10.30   10.80   9.50   10.19   \n",
      "23 2014-01-08 23:00:00     NaN   9.50   11.00  10.40   11.10   9.80   10.50   \n",
      "24 2014-01-09 00:00:00     NaN   8.80   11.40  10.90   11.30   9.80   10.80   \n",
      "25 2014-01-09 01:00:00     NaN   8.30   11.60   8.50   11.40  10.50   10.90   \n",
      "26 2014-01-09 02:00:00     NaN   9.19   11.70   8.69   11.50   9.80   11.20   \n",
      "27 2014-01-09 03:00:00     NaN   9.50   11.90   8.80   11.60   8.80   11.30   \n",
      "28 2014-01-09 04:00:00     NaN   9.60   12.00   8.10   11.70   8.80   11.40   \n",
      "29 2014-01-09 05:00:00     NaN   9.80   10.60   8.50   10.19   8.90   10.10   \n",
      "30 2014-01-09 06:00:00     NaN   9.50   10.60   7.40   10.40   9.10   10.00   \n",
      "31 2014-01-09 07:00:00     NaN   9.40   11.10   7.00   10.70   8.80   10.30   \n",
      "32 2014-01-09 08:00:00     NaN   9.10   11.30   6.80   10.90   8.19   10.50   \n",
      "33 2014-01-09 09:00:00     NaN   8.80   11.30   7.10   11.10   8.40   10.80   \n",
      "34 2014-01-09 10:00:00     NaN   8.90   10.10   8.40   11.30   9.40   11.20   \n",
      "\n",
      "    027_0  027_24    ...      650_0  650_24  675_0  675_24  690_0  690_24  \\\n",
      "0   10.19   10.50    ...       10.8   12.90   5.60   10.60   8.50    9.50   \n",
      "1   10.30   10.30    ...       10.8   12.50   4.00   10.10   8.40    9.40   \n",
      "2   10.30   10.00    ...       10.6   12.30   4.40    9.60   7.90    9.30   \n",
      "3   10.19    9.80    ...        9.8   12.00   4.00    9.10   7.50    9.30   \n",
      "4   10.19    9.60    ...       11.1   11.80   3.00    8.80   7.30    9.00   \n",
      "5   10.10    9.50    ...       11.0   11.50   3.40    8.80   7.20    9.60   \n",
      "6   10.30    9.50    ...       11.9   11.60   4.50    8.90   7.20    9.40   \n",
      "7   10.50    9.60    ...       11.9   12.10   5.09    8.90   7.40    9.69   \n",
      "8   10.70    9.50    ...       12.1   12.50   5.80    9.40   8.00    9.60   \n",
      "9   10.80    9.60    ...       12.6   13.00   6.60   10.00   8.50    9.90   \n",
      "10  11.60    9.90    ...       13.1   13.80   7.40   10.90   9.30   10.80   \n",
      "11  11.60   10.40    ...       13.9   14.60   9.00   11.70  10.30   11.90   \n",
      "12  12.50   11.00    ...       14.5   15.20   9.40   12.80  11.10   12.80   \n",
      "13  12.80   11.30    ...       15.2   15.50  10.00   13.80  12.70   13.30   \n",
      "14  12.90   11.40    ...       14.4   15.40  10.40   14.30  13.10   13.40   \n",
      "15  12.50   11.50    ...       14.3   14.80  10.80   14.10  13.10   13.00   \n",
      "16  11.50   11.30    ...       13.8   13.90  10.70   12.80  12.50   12.40   \n",
      "17  10.30   11.20    ...       13.7   12.90  10.30   10.90  12.10   11.40   \n",
      "18  11.00   11.10    ...       13.0   12.00  10.30    9.30  11.50   10.80   \n",
      "19  10.60   11.10    ...       12.4   11.50  10.30    8.40  10.90   10.50   \n",
      "20  10.80   11.20    ...       12.6   11.30  10.40    8.00  10.80   10.19   \n",
      "21  10.10   11.30    ...       12.5   11.10  10.60    7.90  10.70   10.19   \n",
      "22  10.40   10.80    ...       12.7   11.00  10.50    6.90  10.40   10.10   \n",
      "23   9.90   11.10    ...       11.8   10.90   9.90    6.80  10.50   10.00   \n",
      "24   9.80   11.30    ...       12.3   10.70   8.60    6.50  10.50    9.80   \n",
      "25   9.19   11.30    ...       12.3   10.50   7.10    6.20  10.30    9.69   \n",
      "26   8.50   11.30    ...       12.3   10.19   6.80    5.90  10.10    9.60   \n",
      "27   7.80   11.20    ...       11.2    9.90   7.70    5.40   9.90    9.40   \n",
      "28   7.50   11.10    ...       11.6    9.30   7.40    5.00   9.80    9.10   \n",
      "29   6.50   11.00    ...       11.0    9.40   7.50    5.30   9.50    8.19   \n",
      "30   6.00   11.00    ...       10.9    9.40   7.30    5.50   9.00    8.00   \n",
      "31   6.40   10.50    ...       11.3   10.00   7.60    6.30   8.69    7.60   \n",
      "32   6.50   10.30    ...       11.6   10.60   7.80    7.00   8.90    8.00   \n",
      "33   7.60   10.19    ...       12.2   11.40   8.10    8.19   9.19    8.80   \n",
      "34   8.69    9.90    ...       13.4   12.40   8.80    9.69  10.60   10.50   \n",
      "\n",
      "    747_0  747_24  Th_real_24h_avant    Th_prev  \n",
      "0    10.7   11.20           9.846930   9.911160  \n",
      "1    11.0   11.10           9.848500   9.790830  \n",
      "2    11.6   11.00           9.681580   9.634990  \n",
      "3    11.1   10.90           9.487130   9.445360  \n",
      "4    10.8   10.80           9.490410   9.241585  \n",
      "5    10.6    9.19           9.346880   9.045105  \n",
      "6    10.5    9.00           9.284855   8.915265  \n",
      "7    10.3    9.50           9.377060   8.964100  \n",
      "8    10.3    9.90           9.543030   9.106500  \n",
      "9    11.0   10.70          10.109460   9.630050  \n",
      "10   12.0   10.80          11.010330  10.447800  \n",
      "11   12.9   12.00          12.087900  11.583100  \n",
      "12   13.3   12.90          12.750200  12.571250  \n",
      "13   13.2   13.30          13.010425  13.199100  \n",
      "14   13.1   13.40          13.034650  13.415650  \n",
      "15   12.9   13.10          12.795650  13.190725  \n",
      "16   12.7   12.90          12.026650  12.621550  \n",
      "17   12.3   12.40          11.561000  11.866250  \n",
      "18   12.0   12.00          11.147930  11.217425  \n",
      "19   11.8   11.70          10.985900  10.803830  \n",
      "20   11.9   11.30          10.737580  10.580990  \n",
      "21   11.9   11.30          10.566275  10.462200  \n",
      "22   11.9   10.30          10.689410  10.114050  \n",
      "23   11.6   10.10          10.505480   9.971110  \n",
      "24   11.3   10.00          10.467205   9.898510  \n",
      "25   11.1    9.80          10.349260   9.818325  \n",
      "26   11.3    9.60           9.845505   9.767930  \n",
      "27   11.4    9.40           9.318530   9.677900  \n",
      "28   11.3    9.00           9.032335   9.544690  \n",
      "29   11.2    9.10           8.754755   9.081040  \n",
      "30   11.3    8.80           8.498830   9.003155  \n",
      "31   11.0    8.40           8.248040   9.174785  \n",
      "32   11.3    8.69           8.328750   9.354920  \n",
      "33   11.9    9.40           9.106245   9.821385  \n",
      "34   12.8   10.60          10.405815  10.340305  \n",
      "\n",
      "[35 rows x 74 columns]\n",
      "(43368, 74)\n",
      "Index(['ds', 'holiday', '002_0', '002_24', '005_0', '005_24', '015_0',\n",
      "       '015_24', '027_0', '027_24', '070_0', '070_24', '110_0', '110_24',\n",
      "       '120_0', '120_24', '130_0', '130_24', '145_0', '145_24', '149_0',\n",
      "       '149_24', '156_0', '156_24', '168_0', '168_24', '180_0', '180_24',\n",
      "       '190_0', '190_24', '222_0', '222_24', '240_0', '240_24', '255_0',\n",
      "       '255_24', '260_0', '260_24', '280_0', '280_24', '299_0', '299_24',\n",
      "       '434_0', '434_24', '460_0', '460_24', '481_0', '481_24', '497_0',\n",
      "       '497_24', '510_0', '510_24', '579_0', '579_24', '588_0', '588_24',\n",
      "       '621_0', '621_24', '630_0', '630_24', '643_0', '643_24', '645_0',\n",
      "       '645_24', '650_0', '650_24', '675_0', '675_24', '690_0', '690_24',\n",
      "       '747_0', '747_24', 'Th_real_24h_avant', 'Th_prev'],\n",
      "      dtype='object')\n"
     ]
    }
   ],
   "source": [
    "print(Xinput.head(35))\n",
    "print(Xinput.shape)\n",
    "print(Xinput.columns)"
   ]
  },
  {
   "cell_type": "markdown",
   "metadata": {},
   "source": [
    "Dans un premier temps, nous allons travailler uniquement avec la température France. Les températures en stations pourront être utilisées dans la partie Bonus, par exemple."
   ]
  },
  {
   "cell_type": "code",
   "execution_count": 11,
   "metadata": {},
   "outputs": [],
   "source": [
    "Xinput = Xinput[['ds', 'holiday', 'Th_real_24h_avant', 'Th_prev']]"
   ]
  },
  {
   "cell_type": "markdown",
   "metadata": {},
   "source": [
    "# Visualisation des données \n",
    "\n",
    "La DataScience et le Machine Learning supposent de bien appréhender les données sur lesquelles nos modèles vont être entrainés. Pour cela, il est utile de faire des statistiques descriptives et des visualisations de nos différentes variables.\n",
    "\n",
    "Traitant d'un problème de prévision, on visualisera en particulier des séries temporelles.\n",
    "\n",
    "Vous allez voir des :\n",
    "- échantillons de données\n",
    "- profils de courbe de consommation journaliers et saisonniers\n",
    "- visualisations de corrélation entre conso J et conso retardée\n",
    "- visualisations des séries temporelles des températures\n",
    "- calculs de corrélations entre la température et les différentes stations météo"
   ]
  },
  {
   "cell_type": "markdown",
   "metadata": {},
   "source": [
    "## Calcul de statistiques descriptives sur la consommation nationale\n",
    "A l'aide de la fonction _describe_."
   ]
  },
  {
   "cell_type": "code",
   "execution_count": 12,
   "metadata": {},
   "outputs": [
    {
     "data": {
      "text/plain": [
       "count    43368.000000\n",
       "mean     54010.378574\n",
       "std      11837.807039\n",
       "min      29477.000000\n",
       "25%      45025.250000\n",
       "50%      52422.000000\n",
       "75%      62167.000000\n",
       "max      95987.000000\n",
       "Name: y, dtype: float64"
      ]
     },
     "execution_count": 12,
     "metadata": {},
     "output_type": "execute_result"
    }
   ],
   "source": [
    "Yconso['y'].describe()"
   ]
  },
  {
   "cell_type": "code",
   "execution_count": 13,
   "metadata": {},
   "outputs": [
    {
     "data": {
      "text/plain": [
       "0"
      ]
     },
     "execution_count": 13,
     "metadata": {},
     "output_type": "execute_result"
    }
   ],
   "source": [
    "Yconso['y'].isnull().sum()"
   ]
  },
  {
   "cell_type": "markdown",
   "metadata": {},
   "source": [
    "## Visualiser la consommation d'un jour particulier\n",
    "On souhaite visualiser la consommation réalisée pour un jour donné de l'historique."
   ]
  },
  {
   "cell_type": "code",
   "execution_count": 14,
   "metadata": {},
   "outputs": [],
   "source": [
    "def plot_load(var_load, year, month, day):\n",
    "    date_cible = datetime.datetime(year=year, month=month, day=day)  # implicitement heure = minuit\n",
    "    date_lendemain_cible = date_cible + datetime.timedelta(days=1)\n",
    "    mask = (var_load.ds >= date_cible) & (var_load.ds <= date_lendemain_cible)   \n",
    "    consoJour = var_load[mask]\n",
    "    plt.plot(consoJour['ds'], consoJour['y'], color='blue')\n",
    "    plt.show()"
   ]
  },
  {
   "cell_type": "code",
   "execution_count": 15,
   "metadata": {
    "scrolled": true
   },
   "outputs": [
    {
     "data": {
      "image/png": "[encoded data removed]",
      "text/plain": [
       "<Figure size 432x288 with 1 Axes>"
      ]
     },
     "metadata": {
      "needs_background": "light"
     },
     "output_type": "display_data"
    }
   ],
   "source": [
    "plot_load(Yconso, 2016, 12, 20)"
   ]
  },
  {
   "cell_type": "markdown",
   "metadata": {},
   "source": [
    "## Afficher une semaine arbitraire de consommation\n",
    "On pourra modifier la fonction précédente en rajoutant le timedelta en paramètre."
   ]
  },
  {
   "cell_type": "code",
   "execution_count": 16,
   "metadata": {},
   "outputs": [],
   "source": [
    "def plot_load_timedelta(var_load, year, month, day, delta_days):\n",
    "    date_cible = datetime.datetime(year=year, month=month, day=day)\n",
    "    date_lendemain_cible = date_cible + datetime.timedelta(days=delta_days)\n",
    "\n",
    "    conso_periode = var_load[(var_load.ds >= date_cible) \n",
    "                                      & (var_load.ds <= date_lendemain_cible)]\n",
    "    plt.plot(conso_periode['ds'], conso_periode['y'], color='blue')\n",
    "    plt.show()"
   ]
  },
  {
   "cell_type": "code",
   "execution_count": 17,
   "metadata": {},
   "outputs": [
    {
     "data": {
      "image/png": "[encoded data removed]",
      "text/plain": [
       "<Figure size 432x288 with 1 Axes>"
      ]
     },
     "metadata": {
      "needs_background": "light"
     },
     "output_type": "display_data"
    }
   ],
   "source": [
    "plot_load_timedelta(Yconso, 2016, 12, 20, delta_days=7)"
   ]
  },
  {
   "cell_type": "markdown",
   "metadata": {},
   "source": [
    "## Observation des profils de la consommation pour les mois d'hiver et les mois d'été\n",
    "Toujours dans le but d'appréhender nos données, on va regarder les profils moyens pour les mois d'été et pour ceux d'hiver. On va également observer le min et le max pour avoir une idée de la variabilité du signal."
   ]
  },
  {
   "cell_type": "code",
   "execution_count": 18,
   "metadata": {},
   "outputs": [],
   "source": [
    "# Par commodité, on isole le mois pour après attraper les mois d'hiver et d'été\n",
    "Xinput['month'] = Xinput['ds'].dt.month\n",
    "\n",
    "# On isole aussi les heures\n",
    "Xinput['hour'] = Xinput['ds'].dt.hour\n",
    "\n",
    "# On sépare les jours de la semaine en week-end / pas week-end\n",
    "# De base, la fonction datetime.weekday() renvoie 0 => Lundi, 2 => Mardi, ..., 5 => Samedi, 6 => Dimanche\n",
    "# Ci-dessous, si on a un jour d ela semaine alors dans la colonne weekday on mettra 1, et 0 si c'est le week-end\n",
    "Xinput['weekday'] = (Xinput['ds'].dt.weekday < 5).astype(int)  # conversion bool => int"
   ]
  },
  {
   "cell_type": "code",
   "execution_count": 19,
   "metadata": {},
   "outputs": [
    {
     "data": {
      "text/html": [
       "<div>\n",
       "<style scoped>\n",
       "    .dataframe tbody tr th:only-of-type {\n",
       "        vertical-align: middle;\n",
       "    }\n",
       "\n",
       "    .dataframe tbody tr th {\n",
       "        vertical-align: top;\n",
       "    }\n",
       "\n",
       "    .dataframe thead th {\n",
       "        text-align: right;\n",
       "    }\n",
       "</style>\n",
       "<table border=\"1\" class=\"dataframe\">\n",
       "  <thead>\n",
       "    <tr style=\"text-align: right;\">\n",
       "      <th></th>\n",
       "      <th>ds</th>\n",
       "      <th>holiday</th>\n",
       "      <th>Th_real_24h_avant</th>\n",
       "      <th>Th_prev</th>\n",
       "      <th>month</th>\n",
       "      <th>hour</th>\n",
       "      <th>weekday</th>\n",
       "    </tr>\n",
       "  </thead>\n",
       "  <tbody>\n",
       "    <tr>\n",
       "      <th>0</th>\n",
       "      <td>2014-01-08 00:00:00</td>\n",
       "      <td>NaN</td>\n",
       "      <td>9.84693</td>\n",
       "      <td>9.911160</td>\n",
       "      <td>1</td>\n",
       "      <td>0</td>\n",
       "      <td>1</td>\n",
       "    </tr>\n",
       "    <tr>\n",
       "      <th>1</th>\n",
       "      <td>2014-01-08 01:00:00</td>\n",
       "      <td>NaN</td>\n",
       "      <td>9.84850</td>\n",
       "      <td>9.790830</td>\n",
       "      <td>1</td>\n",
       "      <td>1</td>\n",
       "      <td>1</td>\n",
       "    </tr>\n",
       "    <tr>\n",
       "      <th>2</th>\n",
       "      <td>2014-01-08 02:00:00</td>\n",
       "      <td>NaN</td>\n",
       "      <td>9.68158</td>\n",
       "      <td>9.634990</td>\n",
       "      <td>1</td>\n",
       "      <td>2</td>\n",
       "      <td>1</td>\n",
       "    </tr>\n",
       "    <tr>\n",
       "      <th>3</th>\n",
       "      <td>2014-01-08 03:00:00</td>\n",
       "      <td>NaN</td>\n",
       "      <td>9.48713</td>\n",
       "      <td>9.445360</td>\n",
       "      <td>1</td>\n",
       "      <td>3</td>\n",
       "      <td>1</td>\n",
       "    </tr>\n",
       "    <tr>\n",
       "      <th>4</th>\n",
       "      <td>2014-01-08 04:00:00</td>\n",
       "      <td>NaN</td>\n",
       "      <td>9.49041</td>\n",
       "      <td>9.241585</td>\n",
       "      <td>1</td>\n",
       "      <td>4</td>\n",
       "      <td>1</td>\n",
       "    </tr>\n",
       "  </tbody>\n",
       "</table>\n",
       "</div>"
      ],
      "text/plain": [
       "                   ds holiday  Th_real_24h_avant   Th_prev  month  hour  \\\n",
       "0 2014-01-08 00:00:00     NaN            9.84693  9.911160      1     0   \n",
       "1 2014-01-08 01:00:00     NaN            9.84850  9.790830      1     1   \n",
       "2 2014-01-08 02:00:00     NaN            9.68158  9.634990      1     2   \n",
       "3 2014-01-08 03:00:00     NaN            9.48713  9.445360      1     3   \n",
       "4 2014-01-08 04:00:00     NaN            9.49041  9.241585      1     4   \n",
       "\n",
       "   weekday  \n",
       "0        1  \n",
       "1        1  \n",
       "2        1  \n",
       "3        1  \n",
       "4        1  "
      ]
     },
     "execution_count": 19,
     "metadata": {},
     "output_type": "execute_result"
    }
   ],
   "source": [
    "Xinput.head(5)"
   ]
  },
  {
   "cell_type": "code",
   "execution_count": 20,
   "metadata": {},
   "outputs": [],
   "source": [
    "# On aggrège les mois d'hiver ensemble\n",
    "XY_df = pd.merge(Yconso, Xinput, on = 'ds')\n",
    "groupedHiver = XY_df[(XY_df.month == 12) | \n",
    "                                     (XY_df.month == 1) | \n",
    "                                     (XY_df.month == 2)].groupby(['weekday', 'hour'], as_index=True)\n",
    "\n",
    "# Idem pour les mois d'été\n",
    "groupedEte = XY_df[(XY_df.month == 6) | \n",
    "                                   (XY_df.month == 7) | \n",
    "                                   (XY_df.month == 8)].groupby(['weekday', 'hour'], as_index=True)\n",
    "\n",
    "statsHiver = groupedHiver['y'].aggregate([np.mean, np.min, np.max])\n",
    "statsEte = groupedEte['y'].aggregate([np.mean, np.min, np.max])"
   ]
  },
  {
   "cell_type": "code",
   "execution_count": 21,
   "metadata": {},
   "outputs": [
    {
     "name": "stdout",
     "output_type": "stream",
     "text": [
      "                      mean   amin   amax\n",
      "weekday hour                            \n",
      "0       0     67832.325203  52914  84120\n",
      "        1     63309.195122  48866  79849\n",
      "        2     62097.211382  47963  79895\n",
      "        3     59472.528455  45759  77368\n",
      "        4     56962.000000  43833  74752\n",
      "        5     56103.804878  43520  74342\n",
      "        6     57101.853659  44858  75698\n",
      "        7     58858.471545  46444  77952\n",
      "        8     60808.138211  48324  81395\n",
      "        9     62916.967480  49467  83783\n",
      "        10    65223.593496  51791  85464\n",
      "        11    65961.528455  52786  84509\n",
      "        12    66746.105691  53317  83314\n",
      "        13    67739.390244  54316  83593\n",
      "        14    64093.276423  50394  79803\n",
      "        15    61543.170732  47892  76792\n",
      "        16    60136.536585  46704  75135\n",
      "        17    60363.040650  47935  75184\n",
      "        18    64507.235772  50872  80259\n",
      "        19    68899.365854  57070  82733\n",
      "        20    68199.227642  56500  81352\n",
      "        21    65444.634146  54213  78545\n",
      "        22    63071.284553  52301  76801\n",
      "        23    66547.008130  55898  81086\n",
      "1       0     68305.757282  55360  88008\n",
      "        1     63964.527508  51056  84101\n",
      "        2     63272.245955  49822  84443\n",
      "        3     61114.116505  47461  82428\n",
      "        4     59107.537217  44996  80534\n",
      "        5     59397.983819  43500  80750\n",
      "        6     63171.896440  43767  84366\n",
      "        7     69993.330097  44488  89947\n",
      "        8     74576.514563  45625  93912\n",
      "        9     75167.508091  46014  95026\n",
      "        10    75394.003236  47856  95647\n",
      "        11    75019.498382  49284  95420\n",
      "        12    75273.572816  49767  95752\n",
      "        13    74661.161812  50632  95116\n",
      "        14    72671.601942  47169  92909\n",
      "        15    70553.576052  44658  91091\n",
      "        16    69303.330097  43710  89926\n",
      "        17    69515.504854  44615  89046\n",
      "        18    73303.692557  49378  90260\n",
      "        19    77459.304207  51419  95987\n",
      "        20    75044.025890  51743  94458\n",
      "        21    70702.566343  50835  89390\n",
      "        22    67291.951456  49712  85659\n",
      "        23    70074.423948  53433  88585\n"
     ]
    }
   ],
   "source": [
    "print(statsHiver)"
   ]
  },
  {
   "cell_type": "code",
   "execution_count": 22,
   "metadata": {},
   "outputs": [
    {
     "data": {
      "image/png": "[encoded data removed]",
      "text/plain": [
       "<Figure size 432x288 with 1 Axes>"
      ]
     },
     "metadata": {
      "needs_background": "light"
     },
     "output_type": "display_data"
    }
   ],
   "source": [
    "# On affiche des infos sur le profil pour les jours de la semaine\n",
    "semaine = statsHiver.loc[1]  # 0 pour les jours de semaine\n",
    "weekend = statsHiver.loc[0]  # 0 pour weekend\n",
    "\n",
    "plt.plot(semaine['amin'], color='cyan')\n",
    "plt.plot(semaine['mean'], color='blue')\n",
    "plt.plot(semaine['amax'], color='cyan')\n",
    "plt.show()"
   ]
  },
  {
   "cell_type": "markdown",
   "metadata": {},
   "source": [
    "## Lien avec la consommation passée\n",
    "A l'aide de la fonction shift, pour un point horaire cible on regarde  :\n",
    "- la consommation de l'heure précédente, \n",
    "- du jour précédent, \n",
    "- de la semaine précédente.\n",
    "\n",
    "On regarde ensuite si la consommation réalisée peut se deviner à partir de ces observations."
   ]
  },
  {
   "cell_type": "code",
   "execution_count": 23,
   "metadata": {},
   "outputs": [],
   "source": [
    "Xinput['lag1H'] = Yconso['y'].shift(1)\n",
    "Xinput['lag1D'] = Yconso['y'].shift(24)\n",
    "Xinput['lag1W'] = Yconso['y'].shift(24*7)"
   ]
  },
  {
   "cell_type": "code",
   "execution_count": 24,
   "metadata": {
    "scrolled": true
   },
   "outputs": [
    {
     "data": {
      "text/html": [
       "<div>\n",
       "<style scoped>\n",
       "    .dataframe tbody tr th:only-of-type {\n",
       "        vertical-align: middle;\n",
       "    }\n",
       "\n",
       "    .dataframe tbody tr th {\n",
       "        vertical-align: top;\n",
       "    }\n",
       "\n",
       "    .dataframe thead th {\n",
       "        text-align: right;\n",
       "    }\n",
       "</style>\n",
       "<table border=\"1\" class=\"dataframe\">\n",
       "  <thead>\n",
       "    <tr style=\"text-align: right;\">\n",
       "      <th></th>\n",
       "      <th>ds</th>\n",
       "      <th>holiday</th>\n",
       "      <th>Th_real_24h_avant</th>\n",
       "      <th>Th_prev</th>\n",
       "      <th>month</th>\n",
       "      <th>hour</th>\n",
       "      <th>weekday</th>\n",
       "      <th>lag1H</th>\n",
       "      <th>lag1D</th>\n",
       "      <th>lag1W</th>\n",
       "    </tr>\n",
       "  </thead>\n",
       "  <tbody>\n",
       "    <tr>\n",
       "      <th>0</th>\n",
       "      <td>2014-01-08 00:00:00</td>\n",
       "      <td>NaN</td>\n",
       "      <td>9.846930</td>\n",
       "      <td>9.911160</td>\n",
       "      <td>1</td>\n",
       "      <td>0</td>\n",
       "      <td>1</td>\n",
       "      <td>NaN</td>\n",
       "      <td>NaN</td>\n",
       "      <td>NaN</td>\n",
       "    </tr>\n",
       "    <tr>\n",
       "      <th>1</th>\n",
       "      <td>2014-01-08 01:00:00</td>\n",
       "      <td>NaN</td>\n",
       "      <td>9.848500</td>\n",
       "      <td>9.790830</td>\n",
       "      <td>1</td>\n",
       "      <td>1</td>\n",
       "      <td>1</td>\n",
       "      <td>62008.0</td>\n",
       "      <td>NaN</td>\n",
       "      <td>NaN</td>\n",
       "    </tr>\n",
       "    <tr>\n",
       "      <th>2</th>\n",
       "      <td>2014-01-08 02:00:00</td>\n",
       "      <td>NaN</td>\n",
       "      <td>9.681580</td>\n",
       "      <td>9.634990</td>\n",
       "      <td>1</td>\n",
       "      <td>2</td>\n",
       "      <td>1</td>\n",
       "      <td>57298.0</td>\n",
       "      <td>NaN</td>\n",
       "      <td>NaN</td>\n",
       "    </tr>\n",
       "    <tr>\n",
       "      <th>3</th>\n",
       "      <td>2014-01-08 03:00:00</td>\n",
       "      <td>NaN</td>\n",
       "      <td>9.487130</td>\n",
       "      <td>9.445360</td>\n",
       "      <td>1</td>\n",
       "      <td>3</td>\n",
       "      <td>1</td>\n",
       "      <td>56216.0</td>\n",
       "      <td>NaN</td>\n",
       "      <td>NaN</td>\n",
       "    </tr>\n",
       "    <tr>\n",
       "      <th>4</th>\n",
       "      <td>2014-01-08 04:00:00</td>\n",
       "      <td>NaN</td>\n",
       "      <td>9.490410</td>\n",
       "      <td>9.241585</td>\n",
       "      <td>1</td>\n",
       "      <td>4</td>\n",
       "      <td>1</td>\n",
       "      <td>53719.0</td>\n",
       "      <td>NaN</td>\n",
       "      <td>NaN</td>\n",
       "    </tr>\n",
       "    <tr>\n",
       "      <th>5</th>\n",
       "      <td>2014-01-08 05:00:00</td>\n",
       "      <td>NaN</td>\n",
       "      <td>9.346880</td>\n",
       "      <td>9.045105</td>\n",
       "      <td>1</td>\n",
       "      <td>5</td>\n",
       "      <td>1</td>\n",
       "      <td>51798.0</td>\n",
       "      <td>NaN</td>\n",
       "      <td>NaN</td>\n",
       "    </tr>\n",
       "    <tr>\n",
       "      <th>6</th>\n",
       "      <td>2014-01-08 06:00:00</td>\n",
       "      <td>NaN</td>\n",
       "      <td>9.284855</td>\n",
       "      <td>8.915265</td>\n",
       "      <td>1</td>\n",
       "      <td>6</td>\n",
       "      <td>1</td>\n",
       "      <td>52083.0</td>\n",
       "      <td>NaN</td>\n",
       "      <td>NaN</td>\n",
       "    </tr>\n",
       "    <tr>\n",
       "      <th>7</th>\n",
       "      <td>2014-01-08 07:00:00</td>\n",
       "      <td>NaN</td>\n",
       "      <td>9.377060</td>\n",
       "      <td>8.964100</td>\n",
       "      <td>1</td>\n",
       "      <td>7</td>\n",
       "      <td>1</td>\n",
       "      <td>56082.0</td>\n",
       "      <td>NaN</td>\n",
       "      <td>NaN</td>\n",
       "    </tr>\n",
       "    <tr>\n",
       "      <th>8</th>\n",
       "      <td>2014-01-08 08:00:00</td>\n",
       "      <td>NaN</td>\n",
       "      <td>9.543030</td>\n",
       "      <td>9.106500</td>\n",
       "      <td>1</td>\n",
       "      <td>8</td>\n",
       "      <td>1</td>\n",
       "      <td>63083.0</td>\n",
       "      <td>NaN</td>\n",
       "      <td>NaN</td>\n",
       "    </tr>\n",
       "    <tr>\n",
       "      <th>9</th>\n",
       "      <td>2014-01-08 09:00:00</td>\n",
       "      <td>NaN</td>\n",
       "      <td>10.109460</td>\n",
       "      <td>9.630050</td>\n",
       "      <td>1</td>\n",
       "      <td>9</td>\n",
       "      <td>1</td>\n",
       "      <td>68358.0</td>\n",
       "      <td>NaN</td>\n",
       "      <td>NaN</td>\n",
       "    </tr>\n",
       "    <tr>\n",
       "      <th>10</th>\n",
       "      <td>2014-01-08 10:00:00</td>\n",
       "      <td>NaN</td>\n",
       "      <td>11.010330</td>\n",
       "      <td>10.447800</td>\n",
       "      <td>1</td>\n",
       "      <td>10</td>\n",
       "      <td>1</td>\n",
       "      <td>69269.0</td>\n",
       "      <td>NaN</td>\n",
       "      <td>NaN</td>\n",
       "    </tr>\n",
       "    <tr>\n",
       "      <th>11</th>\n",
       "      <td>2014-01-08 11:00:00</td>\n",
       "      <td>NaN</td>\n",
       "      <td>12.087900</td>\n",
       "      <td>11.583100</td>\n",
       "      <td>1</td>\n",
       "      <td>11</td>\n",
       "      <td>1</td>\n",
       "      <td>68732.0</td>\n",
       "      <td>NaN</td>\n",
       "      <td>NaN</td>\n",
       "    </tr>\n",
       "    <tr>\n",
       "      <th>12</th>\n",
       "      <td>2014-01-08 12:00:00</td>\n",
       "      <td>NaN</td>\n",
       "      <td>12.750200</td>\n",
       "      <td>12.571250</td>\n",
       "      <td>1</td>\n",
       "      <td>12</td>\n",
       "      <td>1</td>\n",
       "      <td>68118.0</td>\n",
       "      <td>NaN</td>\n",
       "      <td>NaN</td>\n",
       "    </tr>\n",
       "    <tr>\n",
       "      <th>13</th>\n",
       "      <td>2014-01-08 13:00:00</td>\n",
       "      <td>NaN</td>\n",
       "      <td>13.010425</td>\n",
       "      <td>13.199100</td>\n",
       "      <td>1</td>\n",
       "      <td>13</td>\n",
       "      <td>1</td>\n",
       "      <td>68068.0</td>\n",
       "      <td>NaN</td>\n",
       "      <td>NaN</td>\n",
       "    </tr>\n",
       "    <tr>\n",
       "      <th>14</th>\n",
       "      <td>2014-01-08 14:00:00</td>\n",
       "      <td>NaN</td>\n",
       "      <td>13.034650</td>\n",
       "      <td>13.415650</td>\n",
       "      <td>1</td>\n",
       "      <td>14</td>\n",
       "      <td>1</td>\n",
       "      <td>67385.0</td>\n",
       "      <td>NaN</td>\n",
       "      <td>NaN</td>\n",
       "    </tr>\n",
       "    <tr>\n",
       "      <th>15</th>\n",
       "      <td>2014-01-08 15:00:00</td>\n",
       "      <td>NaN</td>\n",
       "      <td>12.795650</td>\n",
       "      <td>13.190725</td>\n",
       "      <td>1</td>\n",
       "      <td>15</td>\n",
       "      <td>1</td>\n",
       "      <td>65680.0</td>\n",
       "      <td>NaN</td>\n",
       "      <td>NaN</td>\n",
       "    </tr>\n",
       "    <tr>\n",
       "      <th>16</th>\n",
       "      <td>2014-01-08 16:00:00</td>\n",
       "      <td>NaN</td>\n",
       "      <td>12.026650</td>\n",
       "      <td>12.621550</td>\n",
       "      <td>1</td>\n",
       "      <td>16</td>\n",
       "      <td>1</td>\n",
       "      <td>63820.0</td>\n",
       "      <td>NaN</td>\n",
       "      <td>NaN</td>\n",
       "    </tr>\n",
       "    <tr>\n",
       "      <th>17</th>\n",
       "      <td>2014-01-08 17:00:00</td>\n",
       "      <td>NaN</td>\n",
       "      <td>11.561000</td>\n",
       "      <td>11.866250</td>\n",
       "      <td>1</td>\n",
       "      <td>17</td>\n",
       "      <td>1</td>\n",
       "      <td>62455.0</td>\n",
       "      <td>NaN</td>\n",
       "      <td>NaN</td>\n",
       "    </tr>\n",
       "    <tr>\n",
       "      <th>18</th>\n",
       "      <td>2014-01-08 18:00:00</td>\n",
       "      <td>NaN</td>\n",
       "      <td>11.147930</td>\n",
       "      <td>11.217425</td>\n",
       "      <td>1</td>\n",
       "      <td>18</td>\n",
       "      <td>1</td>\n",
       "      <td>63239.0</td>\n",
       "      <td>NaN</td>\n",
       "      <td>NaN</td>\n",
       "    </tr>\n",
       "    <tr>\n",
       "      <th>19</th>\n",
       "      <td>2014-01-08 19:00:00</td>\n",
       "      <td>NaN</td>\n",
       "      <td>10.985900</td>\n",
       "      <td>10.803830</td>\n",
       "      <td>1</td>\n",
       "      <td>19</td>\n",
       "      <td>1</td>\n",
       "      <td>68474.0</td>\n",
       "      <td>NaN</td>\n",
       "      <td>NaN</td>\n",
       "    </tr>\n",
       "    <tr>\n",
       "      <th>20</th>\n",
       "      <td>2014-01-08 20:00:00</td>\n",
       "      <td>NaN</td>\n",
       "      <td>10.737580</td>\n",
       "      <td>10.580990</td>\n",
       "      <td>1</td>\n",
       "      <td>20</td>\n",
       "      <td>1</td>\n",
       "      <td>71305.0</td>\n",
       "      <td>NaN</td>\n",
       "      <td>NaN</td>\n",
       "    </tr>\n",
       "    <tr>\n",
       "      <th>21</th>\n",
       "      <td>2014-01-08 21:00:00</td>\n",
       "      <td>NaN</td>\n",
       "      <td>10.566275</td>\n",
       "      <td>10.462200</td>\n",
       "      <td>1</td>\n",
       "      <td>21</td>\n",
       "      <td>1</td>\n",
       "      <td>68602.0</td>\n",
       "      <td>NaN</td>\n",
       "      <td>NaN</td>\n",
       "    </tr>\n",
       "    <tr>\n",
       "      <th>22</th>\n",
       "      <td>2014-01-08 22:00:00</td>\n",
       "      <td>NaN</td>\n",
       "      <td>10.689410</td>\n",
       "      <td>10.114050</td>\n",
       "      <td>1</td>\n",
       "      <td>22</td>\n",
       "      <td>1</td>\n",
       "      <td>64149.0</td>\n",
       "      <td>NaN</td>\n",
       "      <td>NaN</td>\n",
       "    </tr>\n",
       "    <tr>\n",
       "      <th>23</th>\n",
       "      <td>2014-01-08 23:00:00</td>\n",
       "      <td>NaN</td>\n",
       "      <td>10.505480</td>\n",
       "      <td>9.971110</td>\n",
       "      <td>1</td>\n",
       "      <td>23</td>\n",
       "      <td>1</td>\n",
       "      <td>60122.0</td>\n",
       "      <td>NaN</td>\n",
       "      <td>NaN</td>\n",
       "    </tr>\n",
       "    <tr>\n",
       "      <th>24</th>\n",
       "      <td>2014-01-09 00:00:00</td>\n",
       "      <td>NaN</td>\n",
       "      <td>10.467205</td>\n",
       "      <td>9.898510</td>\n",
       "      <td>1</td>\n",
       "      <td>0</td>\n",
       "      <td>1</td>\n",
       "      <td>62721.0</td>\n",
       "      <td>62008.0</td>\n",
       "      <td>NaN</td>\n",
       "    </tr>\n",
       "    <tr>\n",
       "      <th>25</th>\n",
       "      <td>2014-01-09 01:00:00</td>\n",
       "      <td>NaN</td>\n",
       "      <td>10.349260</td>\n",
       "      <td>9.818325</td>\n",
       "      <td>1</td>\n",
       "      <td>1</td>\n",
       "      <td>1</td>\n",
       "      <td>61752.0</td>\n",
       "      <td>57298.0</td>\n",
       "      <td>NaN</td>\n",
       "    </tr>\n",
       "    <tr>\n",
       "      <th>26</th>\n",
       "      <td>2014-01-09 02:00:00</td>\n",
       "      <td>NaN</td>\n",
       "      <td>9.845505</td>\n",
       "      <td>9.767930</td>\n",
       "      <td>1</td>\n",
       "      <td>2</td>\n",
       "      <td>1</td>\n",
       "      <td>57162.0</td>\n",
       "      <td>56216.0</td>\n",
       "      <td>NaN</td>\n",
       "    </tr>\n",
       "    <tr>\n",
       "      <th>27</th>\n",
       "      <td>2014-01-09 03:00:00</td>\n",
       "      <td>NaN</td>\n",
       "      <td>9.318530</td>\n",
       "      <td>9.677900</td>\n",
       "      <td>1</td>\n",
       "      <td>3</td>\n",
       "      <td>1</td>\n",
       "      <td>56282.0</td>\n",
       "      <td>53719.0</td>\n",
       "      <td>NaN</td>\n",
       "    </tr>\n",
       "    <tr>\n",
       "      <th>28</th>\n",
       "      <td>2014-01-09 04:00:00</td>\n",
       "      <td>NaN</td>\n",
       "      <td>9.032335</td>\n",
       "      <td>9.544690</td>\n",
       "      <td>1</td>\n",
       "      <td>4</td>\n",
       "      <td>1</td>\n",
       "      <td>54061.0</td>\n",
       "      <td>51798.0</td>\n",
       "      <td>NaN</td>\n",
       "    </tr>\n",
       "    <tr>\n",
       "      <th>29</th>\n",
       "      <td>2014-01-09 05:00:00</td>\n",
       "      <td>NaN</td>\n",
       "      <td>8.754755</td>\n",
       "      <td>9.081040</td>\n",
       "      <td>1</td>\n",
       "      <td>5</td>\n",
       "      <td>1</td>\n",
       "      <td>51882.0</td>\n",
       "      <td>52083.0</td>\n",
       "      <td>NaN</td>\n",
       "    </tr>\n",
       "    <tr>\n",
       "      <th>...</th>\n",
       "      <td>...</td>\n",
       "      <td>...</td>\n",
       "      <td>...</td>\n",
       "      <td>...</td>\n",
       "      <td>...</td>\n",
       "      <td>...</td>\n",
       "      <td>...</td>\n",
       "      <td>...</td>\n",
       "      <td>...</td>\n",
       "      <td>...</td>\n",
       "    </tr>\n",
       "    <tr>\n",
       "      <th>139</th>\n",
       "      <td>2014-01-13 19:00:00</td>\n",
       "      <td>NaN</td>\n",
       "      <td>7.452840</td>\n",
       "      <td>6.598490</td>\n",
       "      <td>1</td>\n",
       "      <td>19</td>\n",
       "      <td>1</td>\n",
       "      <td>72796.0</td>\n",
       "      <td>65572.0</td>\n",
       "      <td>NaN</td>\n",
       "    </tr>\n",
       "    <tr>\n",
       "      <th>140</th>\n",
       "      <td>2014-01-13 20:00:00</td>\n",
       "      <td>NaN</td>\n",
       "      <td>7.469520</td>\n",
       "      <td>6.377050</td>\n",
       "      <td>1</td>\n",
       "      <td>20</td>\n",
       "      <td>1</td>\n",
       "      <td>76211.0</td>\n",
       "      <td>65359.0</td>\n",
       "      <td>NaN</td>\n",
       "    </tr>\n",
       "    <tr>\n",
       "      <th>141</th>\n",
       "      <td>2014-01-13 21:00:00</td>\n",
       "      <td>NaN</td>\n",
       "      <td>7.572090</td>\n",
       "      <td>6.214500</td>\n",
       "      <td>1</td>\n",
       "      <td>21</td>\n",
       "      <td>1</td>\n",
       "      <td>73042.0</td>\n",
       "      <td>62753.0</td>\n",
       "      <td>NaN</td>\n",
       "    </tr>\n",
       "    <tr>\n",
       "      <th>142</th>\n",
       "      <td>2014-01-13 22:00:00</td>\n",
       "      <td>NaN</td>\n",
       "      <td>7.610720</td>\n",
       "      <td>6.066960</td>\n",
       "      <td>1</td>\n",
       "      <td>22</td>\n",
       "      <td>1</td>\n",
       "      <td>68737.0</td>\n",
       "      <td>59925.0</td>\n",
       "      <td>NaN</td>\n",
       "    </tr>\n",
       "    <tr>\n",
       "      <th>143</th>\n",
       "      <td>2014-01-13 23:00:00</td>\n",
       "      <td>NaN</td>\n",
       "      <td>7.546380</td>\n",
       "      <td>5.905400</td>\n",
       "      <td>1</td>\n",
       "      <td>23</td>\n",
       "      <td>1</td>\n",
       "      <td>64773.0</td>\n",
       "      <td>62884.0</td>\n",
       "      <td>NaN</td>\n",
       "    </tr>\n",
       "    <tr>\n",
       "      <th>144</th>\n",
       "      <td>2014-01-14 00:00:00</td>\n",
       "      <td>NaN</td>\n",
       "      <td>7.547150</td>\n",
       "      <td>5.762070</td>\n",
       "      <td>1</td>\n",
       "      <td>0</td>\n",
       "      <td>1</td>\n",
       "      <td>67615.0</td>\n",
       "      <td>61942.0</td>\n",
       "      <td>NaN</td>\n",
       "    </tr>\n",
       "    <tr>\n",
       "      <th>145</th>\n",
       "      <td>2014-01-14 01:00:00</td>\n",
       "      <td>NaN</td>\n",
       "      <td>7.635525</td>\n",
       "      <td>5.627375</td>\n",
       "      <td>1</td>\n",
       "      <td>1</td>\n",
       "      <td>1</td>\n",
       "      <td>66368.0</td>\n",
       "      <td>57932.0</td>\n",
       "      <td>NaN</td>\n",
       "    </tr>\n",
       "    <tr>\n",
       "      <th>146</th>\n",
       "      <td>2014-01-14 02:00:00</td>\n",
       "      <td>NaN</td>\n",
       "      <td>7.643520</td>\n",
       "      <td>5.502310</td>\n",
       "      <td>1</td>\n",
       "      <td>2</td>\n",
       "      <td>1</td>\n",
       "      <td>61958.0</td>\n",
       "      <td>57248.0</td>\n",
       "      <td>NaN</td>\n",
       "    </tr>\n",
       "    <tr>\n",
       "      <th>147</th>\n",
       "      <td>2014-01-14 03:00:00</td>\n",
       "      <td>NaN</td>\n",
       "      <td>7.569540</td>\n",
       "      <td>5.327370</td>\n",
       "      <td>1</td>\n",
       "      <td>3</td>\n",
       "      <td>1</td>\n",
       "      <td>60990.0</td>\n",
       "      <td>55033.0</td>\n",
       "      <td>NaN</td>\n",
       "    </tr>\n",
       "    <tr>\n",
       "      <th>148</th>\n",
       "      <td>2014-01-14 04:00:00</td>\n",
       "      <td>NaN</td>\n",
       "      <td>7.197810</td>\n",
       "      <td>5.182900</td>\n",
       "      <td>1</td>\n",
       "      <td>4</td>\n",
       "      <td>1</td>\n",
       "      <td>58975.0</td>\n",
       "      <td>52832.0</td>\n",
       "      <td>NaN</td>\n",
       "    </tr>\n",
       "    <tr>\n",
       "      <th>149</th>\n",
       "      <td>2014-01-14 05:00:00</td>\n",
       "      <td>NaN</td>\n",
       "      <td>7.120800</td>\n",
       "      <td>5.155500</td>\n",
       "      <td>1</td>\n",
       "      <td>5</td>\n",
       "      <td>1</td>\n",
       "      <td>57192.0</td>\n",
       "      <td>53349.0</td>\n",
       "      <td>NaN</td>\n",
       "    </tr>\n",
       "    <tr>\n",
       "      <th>150</th>\n",
       "      <td>2014-01-14 06:00:00</td>\n",
       "      <td>NaN</td>\n",
       "      <td>7.036210</td>\n",
       "      <td>4.969100</td>\n",
       "      <td>1</td>\n",
       "      <td>6</td>\n",
       "      <td>1</td>\n",
       "      <td>57510.0</td>\n",
       "      <td>57898.0</td>\n",
       "      <td>NaN</td>\n",
       "    </tr>\n",
       "    <tr>\n",
       "      <th>151</th>\n",
       "      <td>2014-01-14 07:00:00</td>\n",
       "      <td>NaN</td>\n",
       "      <td>6.858710</td>\n",
       "      <td>4.870775</td>\n",
       "      <td>1</td>\n",
       "      <td>7</td>\n",
       "      <td>1</td>\n",
       "      <td>61825.0</td>\n",
       "      <td>65818.0</td>\n",
       "      <td>NaN</td>\n",
       "    </tr>\n",
       "    <tr>\n",
       "      <th>152</th>\n",
       "      <td>2014-01-14 08:00:00</td>\n",
       "      <td>NaN</td>\n",
       "      <td>6.859000</td>\n",
       "      <td>4.928990</td>\n",
       "      <td>1</td>\n",
       "      <td>8</td>\n",
       "      <td>1</td>\n",
       "      <td>69625.0</td>\n",
       "      <td>71682.0</td>\n",
       "      <td>NaN</td>\n",
       "    </tr>\n",
       "    <tr>\n",
       "      <th>153</th>\n",
       "      <td>2014-01-14 09:00:00</td>\n",
       "      <td>NaN</td>\n",
       "      <td>7.272830</td>\n",
       "      <td>5.264610</td>\n",
       "      <td>1</td>\n",
       "      <td>9</td>\n",
       "      <td>1</td>\n",
       "      <td>75459.0</td>\n",
       "      <td>71565.0</td>\n",
       "      <td>NaN</td>\n",
       "    </tr>\n",
       "    <tr>\n",
       "      <th>154</th>\n",
       "      <td>2014-01-14 10:00:00</td>\n",
       "      <td>NaN</td>\n",
       "      <td>8.035220</td>\n",
       "      <td>5.917210</td>\n",
       "      <td>1</td>\n",
       "      <td>10</td>\n",
       "      <td>1</td>\n",
       "      <td>75389.0</td>\n",
       "      <td>71889.0</td>\n",
       "      <td>NaN</td>\n",
       "    </tr>\n",
       "    <tr>\n",
       "      <th>155</th>\n",
       "      <td>2014-01-14 11:00:00</td>\n",
       "      <td>NaN</td>\n",
       "      <td>8.685730</td>\n",
       "      <td>6.750180</td>\n",
       "      <td>1</td>\n",
       "      <td>11</td>\n",
       "      <td>1</td>\n",
       "      <td>75146.0</td>\n",
       "      <td>71896.0</td>\n",
       "      <td>NaN</td>\n",
       "    </tr>\n",
       "    <tr>\n",
       "      <th>156</th>\n",
       "      <td>2014-01-14 12:00:00</td>\n",
       "      <td>NaN</td>\n",
       "      <td>9.262670</td>\n",
       "      <td>7.495580</td>\n",
       "      <td>1</td>\n",
       "      <td>12</td>\n",
       "      <td>1</td>\n",
       "      <td>74677.0</td>\n",
       "      <td>72401.0</td>\n",
       "      <td>NaN</td>\n",
       "    </tr>\n",
       "    <tr>\n",
       "      <th>157</th>\n",
       "      <td>2014-01-14 13:00:00</td>\n",
       "      <td>NaN</td>\n",
       "      <td>9.576735</td>\n",
       "      <td>7.970775</td>\n",
       "      <td>1</td>\n",
       "      <td>13</td>\n",
       "      <td>1</td>\n",
       "      <td>74580.0</td>\n",
       "      <td>71966.0</td>\n",
       "      <td>NaN</td>\n",
       "    </tr>\n",
       "    <tr>\n",
       "      <th>158</th>\n",
       "      <td>2014-01-14 14:00:00</td>\n",
       "      <td>NaN</td>\n",
       "      <td>9.510780</td>\n",
       "      <td>8.048630</td>\n",
       "      <td>1</td>\n",
       "      <td>14</td>\n",
       "      <td>1</td>\n",
       "      <td>73477.0</td>\n",
       "      <td>70526.0</td>\n",
       "      <td>NaN</td>\n",
       "    </tr>\n",
       "    <tr>\n",
       "      <th>159</th>\n",
       "      <td>2014-01-14 15:00:00</td>\n",
       "      <td>NaN</td>\n",
       "      <td>9.255005</td>\n",
       "      <td>7.736060</td>\n",
       "      <td>1</td>\n",
       "      <td>15</td>\n",
       "      <td>1</td>\n",
       "      <td>71690.0</td>\n",
       "      <td>68685.0</td>\n",
       "      <td>NaN</td>\n",
       "    </tr>\n",
       "    <tr>\n",
       "      <th>160</th>\n",
       "      <td>2014-01-14 16:00:00</td>\n",
       "      <td>NaN</td>\n",
       "      <td>8.615125</td>\n",
       "      <td>7.008940</td>\n",
       "      <td>1</td>\n",
       "      <td>16</td>\n",
       "      <td>1</td>\n",
       "      <td>69921.0</td>\n",
       "      <td>67713.0</td>\n",
       "      <td>NaN</td>\n",
       "    </tr>\n",
       "    <tr>\n",
       "      <th>161</th>\n",
       "      <td>2014-01-14 17:00:00</td>\n",
       "      <td>NaN</td>\n",
       "      <td>7.732290</td>\n",
       "      <td>6.136330</td>\n",
       "      <td>1</td>\n",
       "      <td>17</td>\n",
       "      <td>1</td>\n",
       "      <td>68678.0</td>\n",
       "      <td>68083.0</td>\n",
       "      <td>NaN</td>\n",
       "    </tr>\n",
       "    <tr>\n",
       "      <th>162</th>\n",
       "      <td>2014-01-14 18:00:00</td>\n",
       "      <td>NaN</td>\n",
       "      <td>7.075530</td>\n",
       "      <td>5.409080</td>\n",
       "      <td>1</td>\n",
       "      <td>18</td>\n",
       "      <td>1</td>\n",
       "      <td>68956.0</td>\n",
       "      <td>72796.0</td>\n",
       "      <td>NaN</td>\n",
       "    </tr>\n",
       "    <tr>\n",
       "      <th>163</th>\n",
       "      <td>2014-01-14 19:00:00</td>\n",
       "      <td>NaN</td>\n",
       "      <td>6.704950</td>\n",
       "      <td>4.999000</td>\n",
       "      <td>1</td>\n",
       "      <td>19</td>\n",
       "      <td>1</td>\n",
       "      <td>74375.0</td>\n",
       "      <td>76211.0</td>\n",
       "      <td>NaN</td>\n",
       "    </tr>\n",
       "    <tr>\n",
       "      <th>164</th>\n",
       "      <td>2014-01-14 20:00:00</td>\n",
       "      <td>NaN</td>\n",
       "      <td>6.401730</td>\n",
       "      <td>4.849600</td>\n",
       "      <td>1</td>\n",
       "      <td>20</td>\n",
       "      <td>1</td>\n",
       "      <td>78424.0</td>\n",
       "      <td>73042.0</td>\n",
       "      <td>NaN</td>\n",
       "    </tr>\n",
       "    <tr>\n",
       "      <th>165</th>\n",
       "      <td>2014-01-14 21:00:00</td>\n",
       "      <td>NaN</td>\n",
       "      <td>6.201500</td>\n",
       "      <td>4.762620</td>\n",
       "      <td>1</td>\n",
       "      <td>21</td>\n",
       "      <td>1</td>\n",
       "      <td>76005.0</td>\n",
       "      <td>68737.0</td>\n",
       "      <td>NaN</td>\n",
       "    </tr>\n",
       "    <tr>\n",
       "      <th>166</th>\n",
       "      <td>2014-01-14 22:00:00</td>\n",
       "      <td>NaN</td>\n",
       "      <td>5.974450</td>\n",
       "      <td>4.701705</td>\n",
       "      <td>1</td>\n",
       "      <td>22</td>\n",
       "      <td>1</td>\n",
       "      <td>71543.0</td>\n",
       "      <td>64773.0</td>\n",
       "      <td>NaN</td>\n",
       "    </tr>\n",
       "    <tr>\n",
       "      <th>167</th>\n",
       "      <td>2014-01-14 23:00:00</td>\n",
       "      <td>NaN</td>\n",
       "      <td>5.760640</td>\n",
       "      <td>4.572135</td>\n",
       "      <td>1</td>\n",
       "      <td>23</td>\n",
       "      <td>1</td>\n",
       "      <td>67736.0</td>\n",
       "      <td>67615.0</td>\n",
       "      <td>NaN</td>\n",
       "    </tr>\n",
       "    <tr>\n",
       "      <th>168</th>\n",
       "      <td>2014-01-15 00:00:00</td>\n",
       "      <td>NaN</td>\n",
       "      <td>5.378660</td>\n",
       "      <td>4.479105</td>\n",
       "      <td>1</td>\n",
       "      <td>0</td>\n",
       "      <td>1</td>\n",
       "      <td>70554.0</td>\n",
       "      <td>66368.0</td>\n",
       "      <td>62008.0</td>\n",
       "    </tr>\n",
       "  </tbody>\n",
       "</table>\n",
       "<p>169 rows × 10 columns</p>\n",
       "</div>"
      ],
      "text/plain": [
       "                     ds holiday  Th_real_24h_avant    Th_prev  month  hour  \\\n",
       "0   2014-01-08 00:00:00     NaN           9.846930   9.911160      1     0   \n",
       "1   2014-01-08 01:00:00     NaN           9.848500   9.790830      1     1   \n",
       "2   2014-01-08 02:00:00     NaN           9.681580   9.634990      1     2   \n",
       "3   2014-01-08 03:00:00     NaN           9.487130   9.445360      1     3   \n",
       "4   2014-01-08 04:00:00     NaN           9.490410   9.241585      1     4   \n",
       "5   2014-01-08 05:00:00     NaN           9.346880   9.045105      1     5   \n",
       "6   2014-01-08 06:00:00     NaN           9.284855   8.915265      1     6   \n",
       "7   2014-01-08 07:00:00     NaN           9.377060   8.964100      1     7   \n",
       "8   2014-01-08 08:00:00     NaN           9.543030   9.106500      1     8   \n",
       "9   2014-01-08 09:00:00     NaN          10.109460   9.630050      1     9   \n",
       "10  2014-01-08 10:00:00     NaN          11.010330  10.447800      1    10   \n",
       "11  2014-01-08 11:00:00     NaN          12.087900  11.583100      1    11   \n",
       "12  2014-01-08 12:00:00     NaN          12.750200  12.571250      1    12   \n",
       "13  2014-01-08 13:00:00     NaN          13.010425  13.199100      1    13   \n",
       "14  2014-01-08 14:00:00     NaN          13.034650  13.415650      1    14   \n",
       "15  2014-01-08 15:00:00     NaN          12.795650  13.190725      1    15   \n",
       "16  2014-01-08 16:00:00     NaN          12.026650  12.621550      1    16   \n",
       "17  2014-01-08 17:00:00     NaN          11.561000  11.866250      1    17   \n",
       "18  2014-01-08 18:00:00     NaN          11.147930  11.217425      1    18   \n",
       "19  2014-01-08 19:00:00     NaN          10.985900  10.803830      1    19   \n",
       "20  2014-01-08 20:00:00     NaN          10.737580  10.580990      1    20   \n",
       "21  2014-01-08 21:00:00     NaN          10.566275  10.462200      1    21   \n",
       "22  2014-01-08 22:00:00     NaN          10.689410  10.114050      1    22   \n",
       "23  2014-01-08 23:00:00     NaN          10.505480   9.971110      1    23   \n",
       "24  2014-01-09 00:00:00     NaN          10.467205   9.898510      1     0   \n",
       "25  2014-01-09 01:00:00     NaN          10.349260   9.818325      1     1   \n",
       "26  2014-01-09 02:00:00     NaN           9.845505   9.767930      1     2   \n",
       "27  2014-01-09 03:00:00     NaN           9.318530   9.677900      1     3   \n",
       "28  2014-01-09 04:00:00     NaN           9.032335   9.544690      1     4   \n",
       "29  2014-01-09 05:00:00     NaN           8.754755   9.081040      1     5   \n",
       "..                  ...     ...                ...        ...    ...   ...   \n",
       "139 2014-01-13 19:00:00     NaN           7.452840   6.598490      1    19   \n",
       "140 2014-01-13 20:00:00     NaN           7.469520   6.377050      1    20   \n",
       "141 2014-01-13 21:00:00     NaN           7.572090   6.214500      1    21   \n",
       "142 2014-01-13 22:00:00     NaN           7.610720   6.066960      1    22   \n",
       "143 2014-01-13 23:00:00     NaN           7.546380   5.905400      1    23   \n",
       "144 2014-01-14 00:00:00     NaN           7.547150   5.762070      1     0   \n",
       "145 2014-01-14 01:00:00     NaN           7.635525   5.627375      1     1   \n",
       "146 2014-01-14 02:00:00     NaN           7.643520   5.502310      1     2   \n",
       "147 2014-01-14 03:00:00     NaN           7.569540   5.327370      1     3   \n",
       "148 2014-01-14 04:00:00     NaN           7.197810   5.182900      1     4   \n",
       "149 2014-01-14 05:00:00     NaN           7.120800   5.155500      1     5   \n",
       "150 2014-01-14 06:00:00     NaN           7.036210   4.969100      1     6   \n",
       "151 2014-01-14 07:00:00     NaN           6.858710   4.870775      1     7   \n",
       "152 2014-01-14 08:00:00     NaN           6.859000   4.928990      1     8   \n",
       "153 2014-01-14 09:00:00     NaN           7.272830   5.264610      1     9   \n",
       "154 2014-01-14 10:00:00     NaN           8.035220   5.917210      1    10   \n",
       "155 2014-01-14 11:00:00     NaN           8.685730   6.750180      1    11   \n",
       "156 2014-01-14 12:00:00     NaN           9.262670   7.495580      1    12   \n",
       "157 2014-01-14 13:00:00     NaN           9.576735   7.970775      1    13   \n",
       "158 2014-01-14 14:00:00     NaN           9.510780   8.048630      1    14   \n",
       "159 2014-01-14 15:00:00     NaN           9.255005   7.736060      1    15   \n",
       "160 2014-01-14 16:00:00     NaN           8.615125   7.008940      1    16   \n",
       "161 2014-01-14 17:00:00     NaN           7.732290   6.136330      1    17   \n",
       "162 2014-01-14 18:00:00     NaN           7.075530   5.409080      1    18   \n",
       "163 2014-01-14 19:00:00     NaN           6.704950   4.999000      1    19   \n",
       "164 2014-01-14 20:00:00     NaN           6.401730   4.849600      1    20   \n",
       "165 2014-01-14 21:00:00     NaN           6.201500   4.762620      1    21   \n",
       "166 2014-01-14 22:00:00     NaN           5.974450   4.701705      1    22   \n",
       "167 2014-01-14 23:00:00     NaN           5.760640   4.572135      1    23   \n",
       "168 2014-01-15 00:00:00     NaN           5.378660   4.479105      1     0   \n",
       "\n",
       "     weekday    lag1H    lag1D    lag1W  \n",
       "0          1      NaN      NaN      NaN  \n",
       "1          1  62008.0      NaN      NaN  \n",
       "2          1  57298.0      NaN      NaN  \n",
       "3          1  56216.0      NaN      NaN  \n",
       "4          1  53719.0      NaN      NaN  \n",
       "5          1  51798.0      NaN      NaN  \n",
       "6          1  52083.0      NaN      NaN  \n",
       "7          1  56082.0      NaN      NaN  \n",
       "8          1  63083.0      NaN      NaN  \n",
       "9          1  68358.0      NaN      NaN  \n",
       "10         1  69269.0      NaN      NaN  \n",
       "11         1  68732.0      NaN      NaN  \n",
       "12         1  68118.0      NaN      NaN  \n",
       "13         1  68068.0      NaN      NaN  \n",
       "14         1  67385.0      NaN      NaN  \n",
       "15         1  65680.0      NaN      NaN  \n",
       "16         1  63820.0      NaN      NaN  \n",
       "17         1  62455.0      NaN      NaN  \n",
       "18         1  63239.0      NaN      NaN  \n",
       "19         1  68474.0      NaN      NaN  \n",
       "20         1  71305.0      NaN      NaN  \n",
       "21         1  68602.0      NaN      NaN  \n",
       "22         1  64149.0      NaN      NaN  \n",
       "23         1  60122.0      NaN      NaN  \n",
       "24         1  62721.0  62008.0      NaN  \n",
       "25         1  61752.0  57298.0      NaN  \n",
       "26         1  57162.0  56216.0      NaN  \n",
       "27         1  56282.0  53719.0      NaN  \n",
       "28         1  54061.0  51798.0      NaN  \n",
       "29         1  51882.0  52083.0      NaN  \n",
       "..       ...      ...      ...      ...  \n",
       "139        1  72796.0  65572.0      NaN  \n",
       "140        1  76211.0  65359.0      NaN  \n",
       "141        1  73042.0  62753.0      NaN  \n",
       "142        1  68737.0  59925.0      NaN  \n",
       "143        1  64773.0  62884.0      NaN  \n",
       "144        1  67615.0  61942.0      NaN  \n",
       "145        1  66368.0  57932.0      NaN  \n",
       "146        1  61958.0  57248.0      NaN  \n",
       "147        1  60990.0  55033.0      NaN  \n",
       "148        1  58975.0  52832.0      NaN  \n",
       "149        1  57192.0  53349.0      NaN  \n",
       "150        1  57510.0  57898.0      NaN  \n",
       "151        1  61825.0  65818.0      NaN  \n",
       "152        1  69625.0  71682.0      NaN  \n",
       "153        1  75459.0  71565.0      NaN  \n",
       "154        1  75389.0  71889.0      NaN  \n",
       "155        1  75146.0  71896.0      NaN  \n",
       "156        1  74677.0  72401.0      NaN  \n",
       "157        1  74580.0  71966.0      NaN  \n",
       "158        1  73477.0  70526.0      NaN  \n",
       "159        1  71690.0  68685.0      NaN  \n",
       "160        1  69921.0  67713.0      NaN  \n",
       "161        1  68678.0  68083.0      NaN  \n",
       "162        1  68956.0  72796.0      NaN  \n",
       "163        1  74375.0  76211.0      NaN  \n",
       "164        1  78424.0  73042.0      NaN  \n",
       "165        1  76005.0  68737.0      NaN  \n",
       "166        1  71543.0  64773.0      NaN  \n",
       "167        1  67736.0  67615.0      NaN  \n",
       "168        1  70554.0  66368.0  62008.0  \n",
       "\n",
       "[169 rows x 10 columns]"
      ]
     },
     "execution_count": 24,
     "metadata": {},
     "output_type": "execute_result"
    }
   ],
   "source": [
    "Xinput.head(24 * 7 + 1)"
   ]
  },
  {
   "cell_type": "markdown",
   "metadata": {},
   "source": [
    "On regarde maintenant graphiquement si on a une belle corrélation ou non :"
   ]
  },
  {
   "cell_type": "code",
   "execution_count": 25,
   "metadata": {},
   "outputs": [],
   "source": [
    "def plot_scatter_load(var_x):\n",
    "    plt.scatter(Xinput[var_x],Yconso['y'])\n",
    "    plt.title(var_x)\n",
    "    plt.show()"
   ]
  },
  {
   "cell_type": "code",
   "execution_count": 26,
   "metadata": {},
   "outputs": [
    {
     "data": {
      "image/png": "[encoded data removed]",
      "text/plain": [
       "<Figure size 432x288 with 1 Axes>"
      ]
     },
     "metadata": {
      "needs_background": "light"
     },
     "output_type": "display_data"
    },
    {
     "data": {
      "image/png": "[encoded data removed]",
      "text/plain": [
       "<Figure size 432x288 with 1 Axes>"
      ]
     },
     "metadata": {
      "needs_background": "light"
     },
     "output_type": "display_data"
    },
    {
     "data": {
      "image/png": "[encoded data removed]",
      "text/plain": [
       "<Figure size 432x288 with 1 Axes>"
      ]
     },
     "metadata": {
      "needs_background": "light"
     },
     "output_type": "display_data"
    }
   ],
   "source": [
    "plot_scatter_load('lag1H')\n",
    "plot_scatter_load('lag1D')\n",
    "plot_scatter_load('lag1W')"
   ]
  },
  {
   "cell_type": "markdown",
   "metadata": {},
   "source": [
    "### Question\n",
    "Que pensez-vous de ces corrélations ?"
   ]
  },
  {
   "cell_type": "markdown",
   "metadata": {},
   "source": [
    "## Visualiser la consommation en fonction de la température \n",
    "On voudrait savoir si la consommation nationale peut s'expliquer en regardant simplement la température moyenne sur la France. Pour cela, on peut tracer un nuage de points."
   ]
  },
  {
   "cell_type": "code",
   "execution_count": 27,
   "metadata": {},
   "outputs": [
    {
     "data": {
      "image/png": "[encoded data removed]",
      "text/plain": [
       "<Figure size 432x288 with 1 Axes>"
      ]
     },
     "metadata": {
      "needs_background": "light"
     },
     "output_type": "display_data"
    }
   ],
   "source": [
    "plt.scatter(Xinput['Th_prev'], Yconso['y'], alpha=0.2)\n",
    "plt.show()"
   ]
  },
  {
   "cell_type": "markdown",
   "metadata": {},
   "source": [
    "### Question\n",
    "Que pensez-vous de ce nuage ? Est-ce suffisant ?"
   ]
  },
  {
   "cell_type": "markdown",
   "metadata": {},
   "source": [
    "# Bricolage d'un modèle prédictif naïf\n",
    "\n",
    "<img src=\"pictures/hommeNaif.png\" width=500 height=60>"
   ]
  },
  {
   "cell_type": "code",
   "execution_count": 28,
   "metadata": {},
   "outputs": [
    {
     "name": "stdout",
     "output_type": "stream",
     "text": [
      "On veut predire la consommation du 2016-12-20 14:00:00, soit 76906.0\n"
     ]
    }
   ],
   "source": [
    "# Pour se faire les dents on va considérer juste un point horaire\n",
    "datetime_a_predire = datetime.datetime.strptime(\"2016-12-20_14:00\", \"%Y-%m-%d_%H:%M\")\n",
    "y_true_point_horaire_cible = float(Yconso.loc[Yconso['ds'] == datetime_a_predire]['y'])\n",
    "\n",
    "print(\"On veut predire la consommation du {}, soit {}\".format(datetime_a_predire, y_true_point_horaire_cible))"
   ]
  },
  {
   "cell_type": "markdown",
   "metadata": {},
   "source": [
    "## Première idée, un modèle naïf : pour l'heure qui nous intéresse, on plaque bêtement la valeur de consommation nationale de la veille"
   ]
  },
  {
   "cell_type": "markdown",
   "metadata": {},
   "source": [
    "On commence par juste notre point horaire"
   ]
  },
  {
   "cell_type": "code",
   "execution_count": 29,
   "metadata": {},
   "outputs": [
    {
     "name": "stdout",
     "output_type": "stream",
     "text": [
      "Modele 1 -- pred: 78273.0, realisee: 76906.0, erreur: 1.777494603802044%\n"
     ]
    }
   ],
   "source": [
    "y_pred_modele_naif_1 = float(Xinput.loc[Xinput['ds'] == datetime_a_predire]['lag1D'])\n",
    "pred_error = abs(y_true_point_horaire_cible - y_pred_modele_naif_1)\n",
    "\n",
    "print(\"Modele 1 -- pred: {}, realisee: {}, erreur: {}%\".format(y_pred_modele_naif_1, y_true_point_horaire_cible, pred_error/y_true_point_horaire_cible * 100))"
   ]
  },
  {
   "cell_type": "markdown",
   "metadata": {},
   "source": [
    "Voyons maintenant ce que ça donne non plus sur un unique point horaire mais sur l'ensemble des points horaires :"
   ]
  },
  {
   "cell_type": "code",
   "execution_count": 30,
   "metadata": {},
   "outputs": [
    {
     "name": "stdout",
     "output_type": "stream",
     "text": [
      "5.817903709655765\n"
     ]
    }
   ],
   "source": [
    "y_pred_modele_naif_1 = Xinput[\"lag1D\"]\n",
    "\n",
    "pred_error = (np.abs(Yconso[\"y\"] - y_pred_modele_naif_1.loc[24:]) / Yconso[\"y\"] * 100)\n",
    "\n",
    "print(np.mean(pred_error))"
   ]
  },
  {
   "cell_type": "markdown",
   "metadata": {},
   "source": [
    "Bon c'est pas fou..."
   ]
  },
  {
   "cell_type": "markdown",
   "metadata": {},
   "source": [
    "## Deuxième idée : modèle naïf avec de l'expertise métier \n",
    "\n",
    "Chez RTE, on considère qu'une augmentation moyenne de 1°C conduit à une augmentation de 2400MW de la consommation nationale pour des températures inférieures à 15°C. On propose donc comme consommation prévue la consommation de la veille, corrigée par 2400 fois l'écart à la température de la veille, si l'on n'excède pas les 15°C.\n",
    "\n",
    "\n",
    "<img src=\"pictures/ExpertJamy.jpg\" width=500 height=60>"
   ]
  },
  {
   "cell_type": "code",
   "execution_count": 31,
   "metadata": {},
   "outputs": [],
   "source": [
    "delta_MW_par_degre = 2400  \n",
    "            \n",
    "threshold_temperature = 15"
   ]
  },
  {
   "cell_type": "markdown",
   "metadata": {},
   "source": [
    "On commence par juste notre point horaire préféré"
   ]
  },
  {
   "cell_type": "code",
   "execution_count": 32,
   "metadata": {},
   "outputs": [
    {
     "name": "stdout",
     "output_type": "stream",
     "text": [
      "Modele 2 -- pred: 78099.444, realisee: 76906.0, erreur: 1.551821704418385%\n"
     ]
    }
   ],
   "source": [
    "temperature_real_veille = float(Xinput.loc[Xinput['ds'] == datetime_a_predire]['Th_real_24h_avant'])\n",
    "temperature_prevu_cible = float(Xinput.loc[Xinput['ds'] == datetime_a_predire]['Th_prev'])\n",
    "delta_temp = min(threshold_temperature, temperature_prevu_cible) - min(threshold_temperature, temperature_real_veille)\n",
    "delta_MW_because_temp = delta_temp * delta_MW_par_degre\n",
    "\n",
    "y_pred_modele_naif_2 = float(Xinput.loc[Xinput['ds'] == datetime_a_predire]['lag1D']) - delta_MW_because_temp\n",
    "pred_error = abs(y_true_point_horaire_cible - y_pred_modele_naif_2)\n",
    "\n",
    "print(\"Modele 2 -- pred: {}, realisee: {}, erreur: {}%\".format(y_pred_modele_naif_2, y_true_point_horaire_cible, pred_error/y_true_point_horaire_cible * 100))"
   ]
  },
  {
   "cell_type": "markdown",
   "metadata": {},
   "source": [
    "Et maintenant sur l'ensemble des points horaires :"
   ]
  },
  {
   "cell_type": "code",
   "execution_count": 33,
   "metadata": {},
   "outputs": [
    {
     "name": "stdout",
     "output_type": "stream",
     "text": [
      "6.818406826437223\n"
     ]
    }
   ],
   "source": [
    "y_pred = Xinput[\"lag1D\"]\n",
    "\n",
    "temp_prev_with_threshold = np.minimum([threshold_temperature], Xinput['Th_prev'].values)\n",
    "temp_actual_with_threshold = np.minimum([threshold_temperature], Xinput['Th_real_24h_avant'].values)\n",
    "\n",
    "delta_temp = temp_prev_with_threshold - temp_actual_with_threshold\n",
    "delta_MW_because_temp = delta_temp * delta_MW_par_degre\n",
    "\n",
    "y_pred_modele_naif_2 = Xinput[\"lag1D\"] - delta_MW_because_temp\n",
    "pred_error = (np.abs(Yconso[\"y\"] - y_pred_modele_naif_2) / Yconso[\"y\"] * 100)\n",
    "\n",
    "print(np.mean(pred_error))"
   ]
  },
  {
   "cell_type": "markdown",
   "metadata": {},
   "source": [
    "Bon... Bien essayé avec ces modèles naïfs, mais maintenant on va être plus sérieux !"
   ]
  },
  {
   "cell_type": "markdown",
   "metadata": {},
   "source": [
    "# Préparer un jeu d'entrainement et un jeu de test\n",
    "En machine learning, il y a 2 types d'erreur que l'on peut calculer : l'erreur d'entrainement et l'erreur de test. \n",
    "\n",
    "Pour évaluer la capacité de notre modèle à bien généraliser sur de nouvelles données, il est très important de se préserver un jeu de test indépendant de celui d'entrainement.\n",
    "\n",
    "Il faut donc segmenter notre dataset en 2 : \n",
    "- un premier jeu servira pour l'entrainement, \n",
    "- tandis que le second servira à mesurer les performances du modèle prédictif."
   ]
  },
  {
   "cell_type": "code",
   "execution_count": 34,
   "metadata": {},
   "outputs": [],
   "source": [
    "def prepareDataSetEntrainementTest(Xinput, Yconso, dateDebut, dateRupture, nbJourlagRegresseur=0):\n",
    "    \n",
    "    dateStart = Xinput.iloc[0]['ds']\n",
    "    \n",
    "    DateStartWithLag = dateStart + pd.Timedelta(str(nbJourlagRegresseur)+' days')  #si un a un regresseur avec du lag, il faut prendre en compte ce lag et commencer l'entrainement a la date de debut des donnees+ce lag\n",
    "    XinputTest = Xinput[(Xinput.ds >= dateRupture)]    \n",
    "\n",
    "    XinputTrain=Xinput[(Xinput.ds < dateRupture) & (Xinput.ds > DateStartWithLag) & (Xinput.ds > dateDebut)]\n",
    "    YconsoTrain=Yconso[(Yconso.ds < dateRupture) & (Yconso.ds > DateStartWithLag) & (Yconso.ds > dateDebut)]\n",
    "    YconsoTest=Yconso[(Xinput.ds >= dateRupture)]\n",
    "    \n",
    "    return XinputTrain, XinputTest, YconsoTrain, YconsoTest"
   ]
  },
  {
   "cell_type": "markdown",
   "metadata": {},
   "source": [
    "# Fonctions utilitaires"
   ]
  },
  {
   "cell_type": "markdown",
   "metadata": {},
   "source": [
    "Créons la fonction modelError qui va calculer pour un échantillon (Y, Y_hat) différents scores :\n",
    "- erreur relative moyenne (MAPE en %)\n",
    "- erreur relative max (en %)\n",
    "- rmse (en MW)\n"
   ]
  },
  {
   "cell_type": "code",
   "execution_count": 35,
   "metadata": {},
   "outputs": [],
   "source": [
    "def modelError(Y, Yhat):\n",
    "\n",
    "    Y = Y.reset_index(drop=True)\n",
    "    \n",
    "    relativeErrorsTest = np.abs((Y['y'] - Yhat) /Y['y']) \n",
    "    errorMean = np.mean(relativeErrorsTest)\n",
    "    errorMax = np.max(relativeErrorsTest)\n",
    "    rmse = np.sqrt(mean_squared_error(Y['y'], Yhat))\n",
    "   \n",
    "    return relativeErrorsTest, errorMean, errorMax, rmse"
   ]
  },
  {
   "cell_type": "code",
   "execution_count": 36,
   "metadata": {},
   "outputs": [],
   "source": [
    "def evaluation(YTrain, YTest, YTrainHat, YTestHat):\n",
    "    # Ytrain et Ytest ont deux colonnes : ds et y\n",
    "    # YtrainHat et YTestHat sont des vecteurs\n",
    "    ErreursTest, ErreurMoyenneTest, ErreurMaxTest, RMSETest = modelError(YTest, YTestHat)\n",
    "    print(\"l'erreur relative moyenne de test est de:\" + str(round(ErreurMoyenneTest*100,1))+\"%\")\n",
    "    print(\"l'erreur relative max de test est de:\" + str(round(ErreurMaxTest*100,1)) +\"%\")\n",
    "    print('le rmse de test est de:' + str(round(RMSETest,0)))\n",
    "    print()\n",
    "    ErreursTest, ErreurMoyenneTest, ErreurMaxTest, RMSETest = modelError(YTrain, YTrainHat)\n",
    "    print(\"l'erreur relative moyenne de train est de:\" + str(round(ErreurMoyenneTest*100,1))+\"%\")\n",
    "    print(\"l'erreur relative max de train est de:\" + str(round(ErreurMaxTest*100,1)) +\"%\")\n",
    "    print('le rmse de test est de:' + str(round(RMSETest,0))) "
   ]
  },
  {
   "cell_type": "code",
   "execution_count": 37,
   "metadata": {},
   "outputs": [],
   "source": [
    "def evaluation_par(X, Y, Yhat,avecJF=True):\n",
    "    Y['weekday'] = Y['ds'].dt.weekday\n",
    "    Y['hour'] = Y['ds'].dt.hour\n",
    "    if(avecJF):\n",
    "        Y['JoursFeries'] = X['JoursFeries']\n",
    "    Y['APE'] = np.abs(Y['y']-Yhat)/Y['y']\n",
    "    dataWD = Y[['weekday','APE']]\n",
    "    groupedWD = dataWD.groupby(['weekday'], as_index=True)\n",
    "    statsWD = groupedWD.aggregate([np.mean])\n",
    "    dataHour = Y[['hour','APE']]\n",
    "    groupedHour = dataHour.groupby(['hour'], as_index=True)\n",
    "    statsHour = groupedHour.aggregate([np.mean])\n",
    "    \n",
    "    if(avecJF):\n",
    "        dataJF = Y[['JoursFeries','APE']]\n",
    "        groupedJF = dataJF.groupby(['JoursFeries'], as_index=True)\n",
    "        statsJF = groupedJF.aggregate([np.mean])\n",
    "    else:\n",
    "        statsJF = None\n",
    "    \n",
    "    return statsWD, statsHour, statsJF"
   ]
  },
  {
   "cell_type": "markdown",
   "metadata": {},
   "source": [
    "## Preparation de Xinput"
   ]
  },
  {
   "cell_type": "code",
   "execution_count": 38,
   "metadata": {},
   "outputs": [],
   "source": [
    "Xinput = Xinput.drop(['lag1H'],axis=1)  # on supprime la consommation retardée d'une heure, non disponible pour notre exercice de prévision"
   ]
  },
  {
   "cell_type": "code",
   "execution_count": 39,
   "metadata": {},
   "outputs": [
    {
     "name": "stdout",
     "output_type": "stream",
     "text": [
      "(43368, 9)\n",
      "Index(['ds', 'holiday', 'Th_real_24h_avant', 'Th_prev', 'month', 'hour',\n",
      "       'weekday', 'lag1D', 'lag1W'],\n",
      "      dtype='object')\n"
     ]
    }
   ],
   "source": [
    "print(Xinput.shape)\n",
    "print(Xinput.columns)"
   ]
  },
  {
   "cell_type": "markdown",
   "metadata": {},
   "source": [
    "On encode les données calendaires en one-hot encoding pour le modèle.\n",
    "Cet encodage est nécessaire pour que le modèle mathématique puisse appréhender la notion de date."
   ]
  },
  {
   "cell_type": "code",
   "execution_count": 40,
   "metadata": {},
   "outputs": [],
   "source": [
    "encodedWeekDay = pd.get_dummies(Xinput['weekday'],prefix=\"weekday\")\n",
    "encodedMonth = pd.get_dummies(Xinput['month'],prefix=\"month\")\n",
    "encodedHour = pd.get_dummies(Xinput['hour'],prefix=\"hour\")"
   ]
  },
  {
   "cell_type": "code",
   "execution_count": 41,
   "metadata": {},
   "outputs": [
    {
     "data": {
      "text/html": [
       "<div>\n",
       "<style scoped>\n",
       "    .dataframe tbody tr th:only-of-type {\n",
       "        vertical-align: middle;\n",
       "    }\n",
       "\n",
       "    .dataframe tbody tr th {\n",
       "        vertical-align: top;\n",
       "    }\n",
       "\n",
       "    .dataframe thead th {\n",
       "        text-align: right;\n",
       "    }\n",
       "</style>\n",
       "<table border=\"1\" class=\"dataframe\">\n",
       "  <thead>\n",
       "    <tr style=\"text-align: right;\">\n",
       "      <th></th>\n",
       "      <th>weekday_0</th>\n",
       "      <th>weekday_1</th>\n",
       "    </tr>\n",
       "  </thead>\n",
       "  <tbody>\n",
       "    <tr>\n",
       "      <th>0</th>\n",
       "      <td>0</td>\n",
       "      <td>1</td>\n",
       "    </tr>\n",
       "    <tr>\n",
       "      <th>1</th>\n",
       "      <td>0</td>\n",
       "      <td>1</td>\n",
       "    </tr>\n",
       "    <tr>\n",
       "      <th>2</th>\n",
       "      <td>0</td>\n",
       "      <td>1</td>\n",
       "    </tr>\n",
       "  </tbody>\n",
       "</table>\n",
       "</div>"
      ],
      "text/plain": [
       "   weekday_0  weekday_1\n",
       "0          0          1\n",
       "1          0          1\n",
       "2          0          1"
      ]
     },
     "execution_count": 41,
     "metadata": {},
     "output_type": "execute_result"
    }
   ],
   "source": [
    "encodedWeekDay.head(3)"
   ]
  },
  {
   "cell_type": "code",
   "execution_count": 42,
   "metadata": {},
   "outputs": [
    {
     "data": {
      "text/html": [
       "<div>\n",
       "<style scoped>\n",
       "    .dataframe tbody tr th:only-of-type {\n",
       "        vertical-align: middle;\n",
       "    }\n",
       "\n",
       "    .dataframe tbody tr th {\n",
       "        vertical-align: top;\n",
       "    }\n",
       "\n",
       "    .dataframe thead th {\n",
       "        text-align: right;\n",
       "    }\n",
       "</style>\n",
       "<table border=\"1\" class=\"dataframe\">\n",
       "  <thead>\n",
       "    <tr style=\"text-align: right;\">\n",
       "      <th></th>\n",
       "      <th>month_1</th>\n",
       "      <th>month_2</th>\n",
       "      <th>month_3</th>\n",
       "      <th>month_4</th>\n",
       "      <th>month_5</th>\n",
       "      <th>month_6</th>\n",
       "      <th>month_7</th>\n",
       "      <th>month_8</th>\n",
       "      <th>month_9</th>\n",
       "      <th>month_10</th>\n",
       "      <th>month_11</th>\n",
       "      <th>month_12</th>\n",
       "    </tr>\n",
       "  </thead>\n",
       "  <tbody>\n",
       "    <tr>\n",
       "      <th>0</th>\n",
       "      <td>1</td>\n",
       "      <td>0</td>\n",
       "      <td>0</td>\n",
       "      <td>0</td>\n",
       "      <td>0</td>\n",
       "      <td>0</td>\n",
       "      <td>0</td>\n",
       "      <td>0</td>\n",
       "      <td>0</td>\n",
       "      <td>0</td>\n",
       "      <td>0</td>\n",
       "      <td>0</td>\n",
       "    </tr>\n",
       "    <tr>\n",
       "      <th>1</th>\n",
       "      <td>1</td>\n",
       "      <td>0</td>\n",
       "      <td>0</td>\n",
       "      <td>0</td>\n",
       "      <td>0</td>\n",
       "      <td>0</td>\n",
       "      <td>0</td>\n",
       "      <td>0</td>\n",
       "      <td>0</td>\n",
       "      <td>0</td>\n",
       "      <td>0</td>\n",
       "      <td>0</td>\n",
       "    </tr>\n",
       "    <tr>\n",
       "      <th>2</th>\n",
       "      <td>1</td>\n",
       "      <td>0</td>\n",
       "      <td>0</td>\n",
       "      <td>0</td>\n",
       "      <td>0</td>\n",
       "      <td>0</td>\n",
       "      <td>0</td>\n",
       "      <td>0</td>\n",
       "      <td>0</td>\n",
       "      <td>0</td>\n",
       "      <td>0</td>\n",
       "      <td>0</td>\n",
       "    </tr>\n",
       "  </tbody>\n",
       "</table>\n",
       "</div>"
      ],
      "text/plain": [
       "   month_1  month_2  month_3  month_4  month_5  month_6  month_7  month_8  \\\n",
       "0        1        0        0        0        0        0        0        0   \n",
       "1        1        0        0        0        0        0        0        0   \n",
       "2        1        0        0        0        0        0        0        0   \n",
       "\n",
       "   month_9  month_10  month_11  month_12  \n",
       "0        0         0         0         0  \n",
       "1        0         0         0         0  \n",
       "2        0         0         0         0  "
      ]
     },
     "execution_count": 42,
     "metadata": {},
     "output_type": "execute_result"
    }
   ],
   "source": [
    "encodedMonth.head(3)"
   ]
  },
  {
   "cell_type": "code",
   "execution_count": 43,
   "metadata": {},
   "outputs": [
    {
     "data": {
      "text/html": [
       "<div>\n",
       "<style scoped>\n",
       "    .dataframe tbody tr th:only-of-type {\n",
       "        vertical-align: middle;\n",
       "    }\n",
       "\n",
       "    .dataframe tbody tr th {\n",
       "        vertical-align: top;\n",
       "    }\n",
       "\n",
       "    .dataframe thead th {\n",
       "        text-align: right;\n",
       "    }\n",
       "</style>\n",
       "<table border=\"1\" class=\"dataframe\">\n",
       "  <thead>\n",
       "    <tr style=\"text-align: right;\">\n",
       "      <th></th>\n",
       "      <th>hour_0</th>\n",
       "      <th>hour_1</th>\n",
       "      <th>hour_2</th>\n",
       "      <th>hour_3</th>\n",
       "      <th>hour_4</th>\n",
       "      <th>hour_5</th>\n",
       "      <th>hour_6</th>\n",
       "      <th>hour_7</th>\n",
       "      <th>hour_8</th>\n",
       "      <th>hour_9</th>\n",
       "      <th>...</th>\n",
       "      <th>hour_14</th>\n",
       "      <th>hour_15</th>\n",
       "      <th>hour_16</th>\n",
       "      <th>hour_17</th>\n",
       "      <th>hour_18</th>\n",
       "      <th>hour_19</th>\n",
       "      <th>hour_20</th>\n",
       "      <th>hour_21</th>\n",
       "      <th>hour_22</th>\n",
       "      <th>hour_23</th>\n",
       "    </tr>\n",
       "  </thead>\n",
       "  <tbody>\n",
       "    <tr>\n",
       "      <th>0</th>\n",
       "      <td>1</td>\n",
       "      <td>0</td>\n",
       "      <td>0</td>\n",
       "      <td>0</td>\n",
       "      <td>0</td>\n",
       "      <td>0</td>\n",
       "      <td>0</td>\n",
       "      <td>0</td>\n",
       "      <td>0</td>\n",
       "      <td>0</td>\n",
       "      <td>...</td>\n",
       "      <td>0</td>\n",
       "      <td>0</td>\n",
       "      <td>0</td>\n",
       "      <td>0</td>\n",
       "      <td>0</td>\n",
       "      <td>0</td>\n",
       "      <td>0</td>\n",
       "      <td>0</td>\n",
       "      <td>0</td>\n",
       "      <td>0</td>\n",
       "    </tr>\n",
       "    <tr>\n",
       "      <th>1</th>\n",
       "      <td>0</td>\n",
       "      <td>1</td>\n",
       "      <td>0</td>\n",
       "      <td>0</td>\n",
       "      <td>0</td>\n",
       "      <td>0</td>\n",
       "      <td>0</td>\n",
       "      <td>0</td>\n",
       "      <td>0</td>\n",
       "      <td>0</td>\n",
       "      <td>...</td>\n",
       "      <td>0</td>\n",
       "      <td>0</td>\n",
       "      <td>0</td>\n",
       "      <td>0</td>\n",
       "      <td>0</td>\n",
       "      <td>0</td>\n",
       "      <td>0</td>\n",
       "      <td>0</td>\n",
       "      <td>0</td>\n",
       "      <td>0</td>\n",
       "    </tr>\n",
       "    <tr>\n",
       "      <th>2</th>\n",
       "      <td>0</td>\n",
       "      <td>0</td>\n",
       "      <td>1</td>\n",
       "      <td>0</td>\n",
       "      <td>0</td>\n",
       "      <td>0</td>\n",
       "      <td>0</td>\n",
       "      <td>0</td>\n",
       "      <td>0</td>\n",
       "      <td>0</td>\n",
       "      <td>...</td>\n",
       "      <td>0</td>\n",
       "      <td>0</td>\n",
       "      <td>0</td>\n",
       "      <td>0</td>\n",
       "      <td>0</td>\n",
       "      <td>0</td>\n",
       "      <td>0</td>\n",
       "      <td>0</td>\n",
       "      <td>0</td>\n",
       "      <td>0</td>\n",
       "    </tr>\n",
       "  </tbody>\n",
       "</table>\n",
       "<p>3 rows × 24 columns</p>\n",
       "</div>"
      ],
      "text/plain": [
       "   hour_0  hour_1  hour_2  hour_3  hour_4  hour_5  hour_6  hour_7  hour_8  \\\n",
       "0       1       0       0       0       0       0       0       0       0   \n",
       "1       0       1       0       0       0       0       0       0       0   \n",
       "2       0       0       1       0       0       0       0       0       0   \n",
       "\n",
       "   hour_9   ...     hour_14  hour_15  hour_16  hour_17  hour_18  hour_19  \\\n",
       "0       0   ...           0        0        0        0        0        0   \n",
       "1       0   ...           0        0        0        0        0        0   \n",
       "2       0   ...           0        0        0        0        0        0   \n",
       "\n",
       "   hour_20  hour_21  hour_22  hour_23  \n",
       "0        0        0        0        0  \n",
       "1        0        0        0        0  \n",
       "2        0        0        0        0  \n",
       "\n",
       "[3 rows x 24 columns]"
      ]
     },
     "execution_count": 43,
     "metadata": {},
     "output_type": "execute_result"
    }
   ],
   "source": [
    "encodedHour.head(3)"
   ]
  },
  {
   "cell_type": "code",
   "execution_count": 44,
   "metadata": {},
   "outputs": [],
   "source": [
    "Xinput = pd.concat([Xinput, encodedMonth, encodedWeekDay, encodedHour], axis=1)\n",
    "Xinput = Xinput.drop(['month','weekday','hour'],axis=1)"
   ]
  },
  {
   "cell_type": "code",
   "execution_count": 45,
   "metadata": {},
   "outputs": [
    {
     "name": "stdout",
     "output_type": "stream",
     "text": [
      "(43368, 44)\n",
      "Index(['ds', 'holiday', 'Th_real_24h_avant', 'Th_prev', 'lag1D', 'lag1W',\n",
      "       'month_1', 'month_2', 'month_3', 'month_4', 'month_5', 'month_6',\n",
      "       'month_7', 'month_8', 'month_9', 'month_10', 'month_11', 'month_12',\n",
      "       'weekday_0', 'weekday_1', 'hour_0', 'hour_1', 'hour_2', 'hour_3',\n",
      "       'hour_4', 'hour_5', 'hour_6', 'hour_7', 'hour_8', 'hour_9', 'hour_10',\n",
      "       'hour_11', 'hour_12', 'hour_13', 'hour_14', 'hour_15', 'hour_16',\n",
      "       'hour_17', 'hour_18', 'hour_19', 'hour_20', 'hour_21', 'hour_22',\n",
      "       'hour_23'],\n",
      "      dtype='object')\n"
     ]
    }
   ],
   "source": [
    "print(Xinput.shape)\n",
    "print(Xinput.columns)"
   ]
  },
  {
   "cell_type": "code",
   "execution_count": 46,
   "metadata": {},
   "outputs": [],
   "source": [
    "# Récupération des prévisions météo à J+1 pour la veille\n",
    "colsToKeepWeather = [s for s in Xinput.columns.get_values() if 'Th_prev' in s]\n",
    "lag_colsToKeepWeather = [ s + \"_J_1\" for s in colsToKeepWeather ]\n",
    "Xinput[lag_colsToKeepWeather] = Xinput[colsToKeepWeather].shift(24)\n",
    "time = pd.to_datetime(Xinput['ds'], yearfirst=True)\n",
    "Xinput['posan']= time.dt.dayofyear"
   ]
  },
  {
   "cell_type": "code",
   "execution_count": 47,
   "metadata": {},
   "outputs": [],
   "source": [
    "#Récupération des jours fériés dans Xinput\n",
    "encodedHolidays = pd.get_dummies(Xinput[['holiday']], prefix = \"JF\")\n",
    "encodedHolidays['JoursFeries'] = encodedHolidays.sum(axis = 1)\n",
    "Xinput = pd.concat([Xinput, encodedHolidays], axis = 1)\n",
    "Xinput = Xinput.drop(['holiday'], axis = 1)"
   ]
  },
  {
   "cell_type": "markdown",
   "metadata": {},
   "source": [
    "On ajoute des températures seuillées, à 15°C pour l'effet chauffage, et à 18°C pour l'effet climatisation."
   ]
  },
  {
   "cell_type": "code",
   "execution_count": 48,
   "metadata": {},
   "outputs": [],
   "source": [
    "threshold_temperature_heat = 15\n",
    "threshold_temperature_cool = 18\n",
    "\n",
    "Xinput['temp_prev_with_threshold_heat'] = np.maximum(0, threshold_temperature_heat - Xinput['Th_prev'].values)\n",
    "Xinput['temp_prev_with_threshold_cool'] = np.maximum(0, Xinput['Th_prev'].values - threshold_temperature_cool)"
   ]
  },
  {
   "cell_type": "code",
   "execution_count": 49,
   "metadata": {},
   "outputs": [
    {
     "data": {
      "text/plain": [
       "['ds',\n",
       " 'Th_real_24h_avant',\n",
       " 'Th_prev',\n",
       " 'lag1D',\n",
       " 'lag1W',\n",
       " 'month_1',\n",
       " 'month_2',\n",
       " 'month_3',\n",
       " 'month_4',\n",
       " 'month_5',\n",
       " 'month_6',\n",
       " 'month_7',\n",
       " 'month_8',\n",
       " 'month_9',\n",
       " 'month_10',\n",
       " 'month_11',\n",
       " 'month_12',\n",
       " 'weekday_0',\n",
       " 'weekday_1',\n",
       " 'hour_0',\n",
       " 'hour_1',\n",
       " 'hour_2',\n",
       " 'hour_3',\n",
       " 'hour_4',\n",
       " 'hour_5',\n",
       " 'hour_6',\n",
       " 'hour_7',\n",
       " 'hour_8',\n",
       " 'hour_9',\n",
       " 'hour_10',\n",
       " 'hour_11',\n",
       " 'hour_12',\n",
       " 'hour_13',\n",
       " 'hour_14',\n",
       " 'hour_15',\n",
       " 'hour_16',\n",
       " 'hour_17',\n",
       " 'hour_18',\n",
       " 'hour_19',\n",
       " 'hour_20',\n",
       " 'hour_21',\n",
       " 'hour_22',\n",
       " 'hour_23',\n",
       " 'Th_prev_J_1',\n",
       " 'posan',\n",
       " 'JF_11Novembre',\n",
       " 'JF_1erMai',\n",
       " 'JF_8Mai',\n",
       " 'JF_Ascension',\n",
       " 'JF_Assomption',\n",
       " 'JF_FeteNationale',\n",
       " 'JF_Noel',\n",
       " 'JF_NouvelAn',\n",
       " 'JF_Paques',\n",
       " 'JF_Pentecote',\n",
       " 'JF_Toussaint',\n",
       " 'JoursFeries',\n",
       " 'temp_prev_with_threshold_heat',\n",
       " 'temp_prev_with_threshold_cool']"
      ]
     },
     "execution_count": 49,
     "metadata": {},
     "output_type": "execute_result"
    }
   ],
   "source": [
    "#affichage de toutes les variables de base\n",
    "list(Xinput) #list plutôt que print pour avoir la liste complète"
   ]
  },
  {
   "cell_type": "markdown",
   "metadata": {},
   "source": [
    "Enfin, nous construisons les listes pour appeler plus rapidement les colonnes d'un même type."
   ]
  },
  {
   "cell_type": "code",
   "execution_count": 50,
   "metadata": {},
   "outputs": [],
   "source": [
    "colsToKeepWeather = [s for s in Xinput.columns.get_values() if 'Th_prev' in s]\n",
    "colsToKeepMonth = [v for v in Xinput.columns.get_values() if 'month' in v]\n",
    "colsToKeepWeekday = [v for v in Xinput.columns.get_values() if 'weekday' in v]\n",
    "colsToKeepHour = [v for v in Xinput.columns.get_values() if 'hour' in v]\n",
    "colsToKeepHolidays = [v for v in Xinput.columns.get_values() if 'JF_' in v]"
   ]
  },
  {
   "cell_type": "markdown",
   "metadata": {},
   "source": [
    "# Construction des jeux d'entrainement et de test"
   ]
  },
  {
   "cell_type": "code",
   "execution_count": 51,
   "metadata": {},
   "outputs": [],
   "source": [
    "# on souhaite un jeu de test qui commence à partir du 1er mai 2017\n",
    "dateDebut = datetime.datetime(year=2014, month=1, day=8)#pour éviter les NaN dans le jeu de données\n",
    "dateRupture = datetime.datetime(year=2017, month=12, day=1)#début du challenge prevision de conso\n",
    "nbJourlagRegresseur = 0"
   ]
  },
  {
   "cell_type": "code",
   "execution_count": 52,
   "metadata": {},
   "outputs": [
    {
     "data": {
      "text/html": [
       "<div>\n",
       "<style scoped>\n",
       "    .dataframe tbody tr th:only-of-type {\n",
       "        vertical-align: middle;\n",
       "    }\n",
       "\n",
       "    .dataframe tbody tr th {\n",
       "        vertical-align: top;\n",
       "    }\n",
       "\n",
       "    .dataframe thead th {\n",
       "        text-align: right;\n",
       "    }\n",
       "</style>\n",
       "<table border=\"1\" class=\"dataframe\">\n",
       "  <thead>\n",
       "    <tr style=\"text-align: right;\">\n",
       "      <th></th>\n",
       "      <th>ds</th>\n",
       "      <th>y</th>\n",
       "    </tr>\n",
       "  </thead>\n",
       "  <tbody>\n",
       "    <tr>\n",
       "      <th>43363</th>\n",
       "      <td>2018-12-19 19:00:00</td>\n",
       "      <td>75670</td>\n",
       "    </tr>\n",
       "    <tr>\n",
       "      <th>43364</th>\n",
       "      <td>2018-12-19 20:00:00</td>\n",
       "      <td>73068</td>\n",
       "    </tr>\n",
       "    <tr>\n",
       "      <th>43365</th>\n",
       "      <td>2018-12-19 21:00:00</td>\n",
       "      <td>68589</td>\n",
       "    </tr>\n",
       "    <tr>\n",
       "      <th>43366</th>\n",
       "      <td>2018-12-19 22:00:00</td>\n",
       "      <td>65288</td>\n",
       "    </tr>\n",
       "    <tr>\n",
       "      <th>43367</th>\n",
       "      <td>2018-12-19 23:00:00</td>\n",
       "      <td>67766</td>\n",
       "    </tr>\n",
       "  </tbody>\n",
       "</table>\n",
       "</div>"
      ],
      "text/plain": [
       "                       ds      y\n",
       "43363 2018-12-19 19:00:00  75670\n",
       "43364 2018-12-19 20:00:00  73068\n",
       "43365 2018-12-19 21:00:00  68589\n",
       "43366 2018-12-19 22:00:00  65288\n",
       "43367 2018-12-19 23:00:00  67766"
      ]
     },
     "execution_count": 52,
     "metadata": {},
     "output_type": "execute_result"
    }
   ],
   "source": [
    "Yconso.tail()"
   ]
  },
  {
   "cell_type": "code",
   "execution_count": 53,
   "metadata": {},
   "outputs": [],
   "source": [
    "XinputTrain, XinputTest, YconsoTrain, YconsoTest = prepareDataSetEntrainementTest(Xinput, Yconso, \n",
    "                                                                                  dateDebut, dateRupture, \n",
    "                                                                                  nbJourlagRegresseur)"
   ]
  },
  {
   "cell_type": "code",
   "execution_count": 54,
   "metadata": {
    "scrolled": false
   },
   "outputs": [
    {
     "name": "stdout",
     "output_type": "stream",
     "text": [
      "la taille de l échantillon XinputTrain est:(34151, 59)\n",
      "la taille de l échantillon XinputTest est:(9216, 59)\n",
      "la taille de l échantillon YconsoTrain est:(34151, 2)\n",
      "la taille de l échantillon YconsoTest est:(9216, 2)\n",
      "la proportion de data d'entrainement est de:0.7874881822583992\n"
     ]
    }
   ],
   "source": [
    "print('la taille de l échantillon XinputTrain est:' + str(XinputTrain.shape))\n",
    "print('la taille de l échantillon XinputTest est:' + str(XinputTest.shape))\n",
    "print('la taille de l échantillon YconsoTrain est:' + str(YconsoTrain.shape))\n",
    "print('la taille de l échantillon YconsoTest est:' + str(YconsoTest.shape))\n",
    "print(\"la proportion de data d'entrainement est de:\" + str(YconsoTrain.shape[0] / (YconsoTrain.shape[0] + YconsoTest.shape[0])))"
   ]
  },
  {
   "cell_type": "markdown",
   "metadata": {},
   "source": [
    "\n",
    "# Régression linéaire simple\n",
    "\n",
    "Le modèle naïf avec expertise métier a été inspiré de la forme de la courbe d'évolution de la consommation en fonction de la température en France. \n",
    "Pour rappel:"
   ]
  },
  {
   "cell_type": "code",
   "execution_count": 55,
   "metadata": {},
   "outputs": [
    {
     "data": {
      "image/png": "[encoded data removed]",
      "text/plain": [
       "<Figure size 432x288 with 1 Axes>"
      ]
     },
     "metadata": {
      "needs_background": "light"
     },
     "output_type": "display_data"
    }
   ],
   "source": [
    "plt.scatter(Xinput['Th_prev'], Yconso['y'], alpha=0.2)\n",
    "plt.show()"
   ]
  },
  {
   "cell_type": "markdown",
   "metadata": {},
   "source": [
    "La consommation pourrait être modélisée par une fonction linéaire par morceaux de la température, avec une pente plus importante pour les températures froides que pour les températures élevées. Au lieu de fixer les gradients à 2400MW/°C et 0, ceux-ci pourraient être calibrés à partir des données.\n"
   ]
  },
  {
   "cell_type": "markdown",
   "metadata": {},
   "source": [
    "## Entrainer un modèle\n",
    "Notre modèle a des paramètres qu'il va falloir maintenant apprendre au vu de notre jeu d'entrainement. Il faut donc caler notre modèle sur ce jeu d'entrainement."
   ]
  },
  {
   "cell_type": "code",
   "execution_count": 56,
   "metadata": {},
   "outputs": [],
   "source": [
    "colsLR_simple = np.concatenate(([s for s in XinputTrain.columns.get_values() if 'temp_prev_with_' in s], colsToKeepHour, colsToKeepWeekday, colsToKeepMonth))\n",
    "\n",
    "mTrain = linear_model.LinearRegression(fit_intercept = False)"
   ]
  },
  {
   "cell_type": "code",
   "execution_count": 57,
   "metadata": {
    "scrolled": true
   },
   "outputs": [
    {
     "name": "stdout",
     "output_type": "stream",
     "text": [
      "['temp_prev_with_threshold_heat', 'temp_prev_with_threshold_cool', 'hour_0', 'hour_1', 'hour_2', 'hour_3', 'hour_4', 'hour_5', 'hour_6', 'hour_7', 'hour_8', 'hour_9', 'hour_10', 'hour_11', 'hour_12', 'hour_13', 'hour_14', 'hour_15', 'hour_16', 'hour_17', 'hour_18', 'hour_19', 'hour_20', 'hour_21', 'hour_22', 'hour_23', 'weekday_0', 'weekday_1', 'month_1', 'month_2', 'month_3', 'month_4', 'month_5', 'month_6', 'month_7', 'month_8', 'month_9', 'month_10', 'month_11', 'month_12']\n",
      "Coefficients: \n",
      " [[ 1.42516603e+03 -1.55233334e+00  3.08057546e+03 -2.08423526e+03\n",
      "  -3.52911323e+03 -6.09659868e+03 -8.21870787e+03 -8.28286435e+03\n",
      "  -5.62582795e+03 -6.93051528e+02  3.50816096e+03  6.33267793e+03\n",
      "   8.42279782e+03  9.51416997e+03  1.07448245e+04  1.12623677e+04\n",
      "   9.26235708e+03  7.47733594e+03  5.70938588e+03  4.52559396e+03\n",
      "   5.46315121e+03  7.76147954e+03  6.75216300e+03  3.78527882e+03\n",
      "   1.61556835e+03  4.46101840e+03  3.42674979e+04  4.08810098e+04\n",
      "   1.42229298e+04  1.30218992e+04  8.90629538e+03  4.02413845e+03\n",
      "   1.90657197e+03  3.11035595e+03  3.37754353e+03  5.06069582e+01\n",
      "   2.87698063e+03  4.61105029e+03  8.59921388e+03  1.04409217e+04]]\n"
     ]
    }
   ],
   "source": [
    "mTrain.fit(XinputTrain[colsLR_simple], YconsoTrain[['y']])\n",
    "print(list(colsLR_simple))\n",
    "print('Coefficients: \\n', mTrain.coef_)"
   ]
  },
  {
   "cell_type": "markdown",
   "metadata": {},
   "source": [
    "## Faire des prédictions\n",
    "Une fois qu'un modèle de prévision est entrainé, il ne s'avère utile que s'il est performant sur de nouvelles situations. Faisons une prévision sur notre jeu de test."
   ]
  },
  {
   "cell_type": "code",
   "execution_count": 58,
   "metadata": {},
   "outputs": [],
   "source": [
    "forecastTest = np.concatenate(mTrain.predict(XinputTest[colsLR_simple]))\n",
    "forecastTrain = np.concatenate(mTrain.predict(XinputTrain[colsLR_simple]))"
   ]
  },
  {
   "cell_type": "code",
   "execution_count": 59,
   "metadata": {
    "scrolled": true
   },
   "outputs": [
    {
     "data": {
      "image/png": "[encoded data removed]",
      "text/plain": [
       "<Figure size 432x288 with 1 Axes>"
      ]
     },
     "metadata": {
      "needs_background": "light"
     },
     "output_type": "display_data"
    },
    {
     "data": {
      "image/png": "[encoded data removed]",
      "text/plain": [
       "<Figure size 432x288 with 1 Axes>"
      ]
     },
     "metadata": {
      "needs_background": "light"
     },
     "output_type": "display_data"
    }
   ],
   "source": [
    "# on visualise nos previsions \n",
    "\n",
    "plt.scatter(forecastTest, YconsoTest[['y']])\n",
    "plt.show()\n",
    "\n",
    "plt.plot(YconsoTest['ds'], YconsoTest['y'], 'b', YconsoTest['ds'], forecastTest, 'r')\n",
    "plt.show()"
   ]
  },
  {
   "cell_type": "markdown",
   "metadata": {},
   "source": [
    "## Interpreter le modèle \n",
    "Au vu des visualisations précédentes :\n",
    "- quelles interprétations pouvez-vous faire du modèle?\n",
    "- Comment varie le comportement de la courbe de consommation?"
   ]
  },
  {
   "cell_type": "markdown",
   "metadata": {},
   "source": [
    "## Evaluer l'erreur de prévision\n",
    "Quelle est la performance de notre modèle sur ce jeu de test ?"
   ]
  },
  {
   "cell_type": "code",
   "execution_count": 60,
   "metadata": {
    "scrolled": true
   },
   "outputs": [
    {
     "name": "stdout",
     "output_type": "stream",
     "text": [
      "l'erreur relative moyenne de test est de:5.2%\n",
      "l'erreur relative max de test est de:39.7%\n",
      "le rmse de test est de:3665.0\n",
      "\n",
      "l'erreur relative moyenne de train est de:5.1%\n",
      "l'erreur relative max de train est de:52.3%\n",
      "le rmse de test est de:3390.0\n"
     ]
    }
   ],
   "source": [
    "evaluation(YconsoTrain, YconsoTest, forecastTrain,  forecastTest)"
   ]
  },
  {
   "cell_type": "markdown",
   "metadata": {},
   "source": [
    "## Enquêter autour des erreurs de prévision"
   ]
  },
  {
   "cell_type": "markdown",
   "metadata": {},
   "source": [
    "### Evaluation en fonction du jour de semaine, de l'heure, si jour férié ou non"
   ]
  },
  {
   "cell_type": "markdown",
   "metadata": {},
   "source": [
    "### Comment se distribue l'erreur ?"
   ]
  },
  {
   "cell_type": "code",
   "execution_count": 61,
   "metadata": {},
   "outputs": [],
   "source": [
    "erreur_relative_test, erreur_moyenne_test, erreur_max_test, rmse = modelError(YconsoTest, forecastTest)"
   ]
  },
  {
   "cell_type": "code",
   "execution_count": 62,
   "metadata": {},
   "outputs": [
    {
     "data": {
      "image/png": "[encoded data removed]",
      "text/plain": [
       "<Figure size 432x288 with 1 Axes>"
      ]
     },
     "metadata": {
      "needs_background": "light"
     },
     "output_type": "display_data"
    }
   ],
   "source": [
    "num_bins = 100\n",
    "plt.hist(erreur_relative_test, num_bins)\n",
    "plt.show()"
   ]
  },
  {
   "cell_type": "markdown",
   "metadata": {},
   "source": [
    "### A quel moment se trompe-t-on le plus ?"
   ]
  },
  {
   "cell_type": "code",
   "execution_count": 63,
   "metadata": {},
   "outputs": [
    {
     "data": {
      "image/png": "[encoded data removed]",
      "text/plain": [
       "<Figure size 432x288 with 1 Axes>"
      ]
     },
     "metadata": {
      "needs_background": "light"
     },
     "output_type": "display_data"
    }
   ],
   "source": [
    "plt.plot(YconsoTest['ds'], erreur_relative_test, 'r')\n",
    "plt.title(\"erreur relative sur la periode de test\")\n",
    "plt.show()"
   ]
  },
  {
   "cell_type": "code",
   "execution_count": 64,
   "metadata": {},
   "outputs": [
    {
     "data": {
      "text/plain": [
       "0    0.005432\n",
       "1    0.008301\n",
       "2    0.013933\n",
       "3    0.020725\n",
       "4    0.025443\n",
       "Name: y, dtype: float64"
      ]
     },
     "execution_count": 64,
     "metadata": {},
     "output_type": "execute_result"
    }
   ],
   "source": [
    "erreur_relative_test.head()"
   ]
  },
  {
   "cell_type": "code",
   "execution_count": 65,
   "metadata": {},
   "outputs": [
    {
     "ename": "IndexError",
     "evalue": "only integers, slices (`:`), ellipsis (`...`), numpy.newaxis (`None`) and integer or boolean arrays are valid indices",
     "output_type": "error",
     "traceback": [
      "\u001b[1;31m---------------------------------------------------------------------------\u001b[0m",
      "\u001b[1;31mIndexError\u001b[0m                                Traceback (most recent call last)",
      "\u001b[1;32m<ipython-input-65-20f2a52e0fb3>\u001b[0m in \u001b[0;36m<module>\u001b[1;34m\u001b[0m\n\u001b[0;32m      2\u001b[0m \u001b[1;33m\u001b[0m\u001b[0m\n\u001b[0;32m      3\u001b[0m \u001b[0mmask\u001b[0m \u001b[1;33m=\u001b[0m \u001b[1;33m(\u001b[0m\u001b[0merreur_relative_test\u001b[0m \u001b[1;33m>=\u001b[0m \u001b[0mthreshold\u001b[0m\u001b[1;33m)\u001b[0m\u001b[1;33m\u001b[0m\u001b[1;33m\u001b[0m\u001b[0m\n\u001b[1;32m----> 4\u001b[1;33m \u001b[0mforecastTest\u001b[0m\u001b[1;33m[\u001b[0m\u001b[1;34m'ds'\u001b[0m\u001b[1;33m]\u001b[0m\u001b[1;33m.\u001b[0m\u001b[0mloc\u001b[0m\u001b[1;33m[\u001b[0m\u001b[0mmask\u001b[0m\u001b[1;33m]\u001b[0m \u001b[1;31m#### ne marche pas\u001b[0m\u001b[1;33m\u001b[0m\u001b[1;33m\u001b[0m\u001b[0m\n\u001b[0m",
      "\u001b[1;31mIndexError\u001b[0m: only integers, slices (`:`), ellipsis (`...`), numpy.newaxis (`None`) and integer or boolean arrays are valid indices"
     ]
    }
   ],
   "source": [
    "threshold = 0.18\n",
    "\n",
    "mask = (erreur_relative_test >= threshold)\n",
    "forecastTest['ds'].loc[mask] #### ne marche pas"
   ]
  },
  {
   "cell_type": "markdown",
   "metadata": {},
   "source": [
    "## Feature engineering\n",
    "Quelles variables explicatives peuvent nous permettre de créer un modele plus perfomant ?"
   ]
  },
  {
   "cell_type": "markdown",
   "metadata": {},
   "source": [
    "# Autres modèles : RandomForest et XGBoost"
   ]
  },
  {
   "cell_type": "markdown",
   "metadata": {},
   "source": [
    "## Modèle RandomForest\n",
    "\n",
    "<img src=\"pictures/randomForestExplain.png\" width=500 height=30>"
   ]
  },
  {
   "cell_type": "code",
   "execution_count": 66,
   "metadata": {},
   "outputs": [],
   "source": [
    "from sklearn.ensemble import RandomForestRegressor"
   ]
  },
  {
   "cell_type": "markdown",
   "metadata": {},
   "source": [
    "### Préparation des données d'entrée"
   ]
  },
  {
   "cell_type": "code",
   "execution_count": 67,
   "metadata": {},
   "outputs": [
    {
     "data": {
      "text/plain": [
       "['lag1D',\n",
       " 'lag1W',\n",
       " 'JoursFeries',\n",
       " 'Th_prev',\n",
       " 'Th_prev_J_1',\n",
       " 'month_1',\n",
       " 'month_2',\n",
       " 'month_3',\n",
       " 'month_4',\n",
       " 'month_5',\n",
       " 'month_6',\n",
       " 'month_7',\n",
       " 'month_8',\n",
       " 'month_9',\n",
       " 'month_10',\n",
       " 'month_11',\n",
       " 'month_12',\n",
       " 'weekday_0',\n",
       " 'weekday_1',\n",
       " 'hour_0',\n",
       " 'hour_1',\n",
       " 'hour_2',\n",
       " 'hour_3',\n",
       " 'hour_4',\n",
       " 'hour_5',\n",
       " 'hour_6',\n",
       " 'hour_7',\n",
       " 'hour_8',\n",
       " 'hour_9',\n",
       " 'hour_10',\n",
       " 'hour_11',\n",
       " 'hour_12',\n",
       " 'hour_13',\n",
       " 'hour_14',\n",
       " 'hour_15',\n",
       " 'hour_16',\n",
       " 'hour_17',\n",
       " 'hour_18',\n",
       " 'hour_19',\n",
       " 'hour_20',\n",
       " 'hour_21',\n",
       " 'hour_22',\n",
       " 'hour_23']"
      ]
     },
     "execution_count": 67,
     "metadata": {},
     "output_type": "execute_result"
    }
   ],
   "source": [
    "colsRF = np.concatenate((['lag1D','lag1W','JoursFeries'],\n",
    "                         colsToKeepWeather,colsToKeepMonth,colsToKeepWeekday,colsToKeepHour))\n",
    "list(colsRF)"
   ]
  },
  {
   "cell_type": "markdown",
   "metadata": {},
   "source": [
    "### Entrainement du modèle"
   ]
  },
  {
   "cell_type": "code",
   "execution_count": 68,
   "metadata": {},
   "outputs": [
    {
     "name": "stdout",
     "output_type": "stream",
     "text": [
      "                    ds  Th_real_24h_avant    Th_prev  lag1D  lag1W  month_1  \\\n",
      "0  2014-01-08 00:00:00           9.846930   9.911160    NaN    NaN        1   \n",
      "1  2014-01-08 01:00:00           9.848500   9.790830    NaN    NaN        1   \n",
      "2  2014-01-08 02:00:00           9.681580   9.634990    NaN    NaN        1   \n",
      "3  2014-01-08 03:00:00           9.487130   9.445360    NaN    NaN        1   \n",
      "4  2014-01-08 04:00:00           9.490410   9.241585    NaN    NaN        1   \n",
      "5  2014-01-08 05:00:00           9.346880   9.045105    NaN    NaN        1   \n",
      "6  2014-01-08 06:00:00           9.284855   8.915265    NaN    NaN        1   \n",
      "7  2014-01-08 07:00:00           9.377060   8.964100    NaN    NaN        1   \n",
      "8  2014-01-08 08:00:00           9.543030   9.106500    NaN    NaN        1   \n",
      "9  2014-01-08 09:00:00          10.109460   9.630050    NaN    NaN        1   \n",
      "10 2014-01-08 10:00:00          11.010330  10.447800    NaN    NaN        1   \n",
      "11 2014-01-08 11:00:00          12.087900  11.583100    NaN    NaN        1   \n",
      "12 2014-01-08 12:00:00          12.750200  12.571250    NaN    NaN        1   \n",
      "13 2014-01-08 13:00:00          13.010425  13.199100    NaN    NaN        1   \n",
      "14 2014-01-08 14:00:00          13.034650  13.415650    NaN    NaN        1   \n",
      "15 2014-01-08 15:00:00          12.795650  13.190725    NaN    NaN        1   \n",
      "16 2014-01-08 16:00:00          12.026650  12.621550    NaN    NaN        1   \n",
      "17 2014-01-08 17:00:00          11.561000  11.866250    NaN    NaN        1   \n",
      "18 2014-01-08 18:00:00          11.147930  11.217425    NaN    NaN        1   \n",
      "19 2014-01-08 19:00:00          10.985900  10.803830    NaN    NaN        1   \n",
      "\n",
      "    month_2  month_3  month_4  month_5              ...                \\\n",
      "0         0        0        0        0              ...                 \n",
      "1         0        0        0        0              ...                 \n",
      "2         0        0        0        0              ...                 \n",
      "3         0        0        0        0              ...                 \n",
      "4         0        0        0        0              ...                 \n",
      "5         0        0        0        0              ...                 \n",
      "6         0        0        0        0              ...                 \n",
      "7         0        0        0        0              ...                 \n",
      "8         0        0        0        0              ...                 \n",
      "9         0        0        0        0              ...                 \n",
      "10        0        0        0        0              ...                 \n",
      "11        0        0        0        0              ...                 \n",
      "12        0        0        0        0              ...                 \n",
      "13        0        0        0        0              ...                 \n",
      "14        0        0        0        0              ...                 \n",
      "15        0        0        0        0              ...                 \n",
      "16        0        0        0        0              ...                 \n",
      "17        0        0        0        0              ...                 \n",
      "18        0        0        0        0              ...                 \n",
      "19        0        0        0        0              ...                 \n",
      "\n",
      "    JF_Assomption  JF_FeteNationale  JF_Noel  JF_NouvelAn  JF_Paques  \\\n",
      "0               0                 0        0            0          0   \n",
      "1               0                 0        0            0          0   \n",
      "2               0                 0        0            0          0   \n",
      "3               0                 0        0            0          0   \n",
      "4               0                 0        0            0          0   \n",
      "5               0                 0        0            0          0   \n",
      "6               0                 0        0            0          0   \n",
      "7               0                 0        0            0          0   \n",
      "8               0                 0        0            0          0   \n",
      "9               0                 0        0            0          0   \n",
      "10              0                 0        0            0          0   \n",
      "11              0                 0        0            0          0   \n",
      "12              0                 0        0            0          0   \n",
      "13              0                 0        0            0          0   \n",
      "14              0                 0        0            0          0   \n",
      "15              0                 0        0            0          0   \n",
      "16              0                 0        0            0          0   \n",
      "17              0                 0        0            0          0   \n",
      "18              0                 0        0            0          0   \n",
      "19              0                 0        0            0          0   \n",
      "\n",
      "    JF_Pentecote  JF_Toussaint  JoursFeries  temp_prev_with_threshold_heat  \\\n",
      "0              0             0            0                       5.088840   \n",
      "1              0             0            0                       5.209170   \n",
      "2              0             0            0                       5.365010   \n",
      "3              0             0            0                       5.554640   \n",
      "4              0             0            0                       5.758415   \n",
      "5              0             0            0                       5.954895   \n",
      "6              0             0            0                       6.084735   \n",
      "7              0             0            0                       6.035900   \n",
      "8              0             0            0                       5.893500   \n",
      "9              0             0            0                       5.369950   \n",
      "10             0             0            0                       4.552200   \n",
      "11             0             0            0                       3.416900   \n",
      "12             0             0            0                       2.428750   \n",
      "13             0             0            0                       1.800900   \n",
      "14             0             0            0                       1.584350   \n",
      "15             0             0            0                       1.809275   \n",
      "16             0             0            0                       2.378450   \n",
      "17             0             0            0                       3.133750   \n",
      "18             0             0            0                       3.782575   \n",
      "19             0             0            0                       4.196170   \n",
      "\n",
      "    temp_prev_with_threshold_cool  \n",
      "0                             0.0  \n",
      "1                             0.0  \n",
      "2                             0.0  \n",
      "3                             0.0  \n",
      "4                             0.0  \n",
      "5                             0.0  \n",
      "6                             0.0  \n",
      "7                             0.0  \n",
      "8                             0.0  \n",
      "9                             0.0  \n",
      "10                            0.0  \n",
      "11                            0.0  \n",
      "12                            0.0  \n",
      "13                            0.0  \n",
      "14                            0.0  \n",
      "15                            0.0  \n",
      "16                            0.0  \n",
      "17                            0.0  \n",
      "18                            0.0  \n",
      "19                            0.0  \n",
      "\n",
      "[20 rows x 59 columns]\n"
     ]
    },
    {
     "ename": "ValueError",
     "evalue": "Input contains NaN, infinity or a value too large for dtype('float32').",
     "output_type": "error",
     "traceback": [
      "\u001b[1;31m---------------------------------------------------------------------------\u001b[0m",
      "\u001b[1;31mValueError\u001b[0m                                Traceback (most recent call last)",
      "\u001b[1;32m<ipython-input-68-4df50d617a38>\u001b[0m in \u001b[0;36m<module>\u001b[1;34m\u001b[0m\n\u001b[0;32m      2\u001b[0m \u001b[0mprint\u001b[0m\u001b[1;33m(\u001b[0m\u001b[0mXinput\u001b[0m\u001b[1;33m.\u001b[0m\u001b[0mhead\u001b[0m\u001b[1;33m(\u001b[0m\u001b[1;36m20\u001b[0m\u001b[1;33m)\u001b[0m\u001b[1;33m)\u001b[0m\u001b[1;33m\u001b[0m\u001b[1;33m\u001b[0m\u001b[0m\n\u001b[0;32m      3\u001b[0m \u001b[0mrfTrain\u001b[0m \u001b[1;33m=\u001b[0m \u001b[0mRandomForestRegressor\u001b[0m\u001b[1;33m(\u001b[0m\u001b[0mn_estimators\u001b[0m\u001b[1;33m=\u001b[0m\u001b[1;36m30\u001b[0m\u001b[1;33m,\u001b[0m \u001b[0mmax_features\u001b[0m\u001b[1;33m=\u001b[0m\u001b[0mcolsRF\u001b[0m\u001b[1;33m.\u001b[0m\u001b[0msize\u001b[0m\u001b[1;33m,\u001b[0m \u001b[0mn_jobs\u001b[0m\u001b[1;33m=\u001b[0m\u001b[1;36m3\u001b[0m\u001b[1;33m,\u001b[0m \u001b[0moob_score\u001b[0m \u001b[1;33m=\u001b[0m \u001b[1;32mTrue\u001b[0m\u001b[1;33m,\u001b[0m \u001b[0mbootstrap\u001b[0m \u001b[1;33m=\u001b[0m \u001b[1;32mTrue\u001b[0m\u001b[1;33m)\u001b[0m\u001b[1;33m\u001b[0m\u001b[1;33m\u001b[0m\u001b[0m\n\u001b[1;32m----> 4\u001b[1;33m \u001b[0mrfTrain\u001b[0m\u001b[1;33m.\u001b[0m\u001b[0mfit\u001b[0m\u001b[1;33m(\u001b[0m\u001b[0mXinputTrain\u001b[0m\u001b[1;33m[\u001b[0m\u001b[0mcolsRF\u001b[0m\u001b[1;33m]\u001b[0m\u001b[1;33m,\u001b[0m \u001b[0mYconsoTrain\u001b[0m\u001b[1;33m[\u001b[0m\u001b[1;34m'y'\u001b[0m\u001b[1;33m]\u001b[0m\u001b[1;33m)\u001b[0m\u001b[1;33m\u001b[0m\u001b[1;33m\u001b[0m\u001b[0m\n\u001b[0m",
      "\u001b[1;32m~\\AppData\\Local\\Continuum\\anaconda3\\lib\\site-packages\\sklearn\\ensemble\\forest.py\u001b[0m in \u001b[0;36mfit\u001b[1;34m(self, X, y, sample_weight)\u001b[0m\n\u001b[0;32m    248\u001b[0m \u001b[1;33m\u001b[0m\u001b[0m\n\u001b[0;32m    249\u001b[0m         \u001b[1;31m# Validate or convert input data\u001b[0m\u001b[1;33m\u001b[0m\u001b[1;33m\u001b[0m\u001b[1;33m\u001b[0m\u001b[0m\n\u001b[1;32m--> 250\u001b[1;33m         \u001b[0mX\u001b[0m \u001b[1;33m=\u001b[0m \u001b[0mcheck_array\u001b[0m\u001b[1;33m(\u001b[0m\u001b[0mX\u001b[0m\u001b[1;33m,\u001b[0m \u001b[0maccept_sparse\u001b[0m\u001b[1;33m=\u001b[0m\u001b[1;34m\"csc\"\u001b[0m\u001b[1;33m,\u001b[0m \u001b[0mdtype\u001b[0m\u001b[1;33m=\u001b[0m\u001b[0mDTYPE\u001b[0m\u001b[1;33m)\u001b[0m\u001b[1;33m\u001b[0m\u001b[1;33m\u001b[0m\u001b[0m\n\u001b[0m\u001b[0;32m    251\u001b[0m         \u001b[0my\u001b[0m \u001b[1;33m=\u001b[0m \u001b[0mcheck_array\u001b[0m\u001b[1;33m(\u001b[0m\u001b[0my\u001b[0m\u001b[1;33m,\u001b[0m \u001b[0maccept_sparse\u001b[0m\u001b[1;33m=\u001b[0m\u001b[1;34m'csc'\u001b[0m\u001b[1;33m,\u001b[0m \u001b[0mensure_2d\u001b[0m\u001b[1;33m=\u001b[0m\u001b[1;32mFalse\u001b[0m\u001b[1;33m,\u001b[0m \u001b[0mdtype\u001b[0m\u001b[1;33m=\u001b[0m\u001b[1;32mNone\u001b[0m\u001b[1;33m)\u001b[0m\u001b[1;33m\u001b[0m\u001b[1;33m\u001b[0m\u001b[0m\n\u001b[0;32m    252\u001b[0m         \u001b[1;32mif\u001b[0m \u001b[0msample_weight\u001b[0m \u001b[1;32mis\u001b[0m \u001b[1;32mnot\u001b[0m \u001b[1;32mNone\u001b[0m\u001b[1;33m:\u001b[0m\u001b[1;33m\u001b[0m\u001b[1;33m\u001b[0m\u001b[0m\n",
      "\u001b[1;32m~\\AppData\\Local\\Continuum\\anaconda3\\lib\\site-packages\\sklearn\\utils\\validation.py\u001b[0m in \u001b[0;36mcheck_array\u001b[1;34m(array, accept_sparse, accept_large_sparse, dtype, order, copy, force_all_finite, ensure_2d, allow_nd, ensure_min_samples, ensure_min_features, warn_on_dtype, estimator)\u001b[0m\n\u001b[0;32m    571\u001b[0m         \u001b[1;32mif\u001b[0m \u001b[0mforce_all_finite\u001b[0m\u001b[1;33m:\u001b[0m\u001b[1;33m\u001b[0m\u001b[1;33m\u001b[0m\u001b[0m\n\u001b[0;32m    572\u001b[0m             _assert_all_finite(array,\n\u001b[1;32m--> 573\u001b[1;33m                                allow_nan=force_all_finite == 'allow-nan')\n\u001b[0m\u001b[0;32m    574\u001b[0m \u001b[1;33m\u001b[0m\u001b[0m\n\u001b[0;32m    575\u001b[0m     \u001b[0mshape_repr\u001b[0m \u001b[1;33m=\u001b[0m \u001b[0m_shape_repr\u001b[0m\u001b[1;33m(\u001b[0m\u001b[0marray\u001b[0m\u001b[1;33m.\u001b[0m\u001b[0mshape\u001b[0m\u001b[1;33m)\u001b[0m\u001b[1;33m\u001b[0m\u001b[1;33m\u001b[0m\u001b[0m\n",
      "\u001b[1;32m~\\AppData\\Local\\Continuum\\anaconda3\\lib\\site-packages\\sklearn\\utils\\validation.py\u001b[0m in \u001b[0;36m_assert_all_finite\u001b[1;34m(X, allow_nan)\u001b[0m\n\u001b[0;32m     54\u001b[0m                 not allow_nan and not np.isfinite(X).all()):\n\u001b[0;32m     55\u001b[0m             \u001b[0mtype_err\u001b[0m \u001b[1;33m=\u001b[0m \u001b[1;34m'infinity'\u001b[0m \u001b[1;32mif\u001b[0m \u001b[0mallow_nan\u001b[0m \u001b[1;32melse\u001b[0m \u001b[1;34m'NaN, infinity'\u001b[0m\u001b[1;33m\u001b[0m\u001b[1;33m\u001b[0m\u001b[0m\n\u001b[1;32m---> 56\u001b[1;33m             \u001b[1;32mraise\u001b[0m \u001b[0mValueError\u001b[0m\u001b[1;33m(\u001b[0m\u001b[0mmsg_err\u001b[0m\u001b[1;33m.\u001b[0m\u001b[0mformat\u001b[0m\u001b[1;33m(\u001b[0m\u001b[0mtype_err\u001b[0m\u001b[1;33m,\u001b[0m \u001b[0mX\u001b[0m\u001b[1;33m.\u001b[0m\u001b[0mdtype\u001b[0m\u001b[1;33m)\u001b[0m\u001b[1;33m)\u001b[0m\u001b[1;33m\u001b[0m\u001b[1;33m\u001b[0m\u001b[0m\n\u001b[0m\u001b[0;32m     57\u001b[0m \u001b[1;33m\u001b[0m\u001b[0m\n\u001b[0;32m     58\u001b[0m \u001b[1;33m\u001b[0m\u001b[0m\n",
      "\u001b[1;31mValueError\u001b[0m: Input contains NaN, infinity or a value too large for dtype('float32')."
     ]
    }
   ],
   "source": [
    "# La cellule peut prendre un peu de temps à exécuter\n",
    "print(Xinput.head(20))\n",
    "rfTrain = RandomForestRegressor(n_estimators=30, max_features=colsRF.size, n_jobs=3, oob_score = True, bootstrap = True)\n",
    "rfTrain.fit(XinputTrain[colsRF], YconsoTrain['y'])"
   ]
  },
  {
   "cell_type": "markdown",
   "metadata": {},
   "source": [
    "### Prediction"
   ]
  },
  {
   "cell_type": "code",
   "execution_count": 69,
   "metadata": {},
   "outputs": [
    {
     "ename": "NotFittedError",
     "evalue": "This RandomForestRegressor instance is not fitted yet. Call 'fit' with appropriate arguments before using this method.",
     "output_type": "error",
     "traceback": [
      "\u001b[1;31m---------------------------------------------------------------------------\u001b[0m",
      "\u001b[1;31mNotFittedError\u001b[0m                            Traceback (most recent call last)",
      "\u001b[1;32m<ipython-input-69-352b06af41e1>\u001b[0m in \u001b[0;36m<module>\u001b[1;34m\u001b[0m\n\u001b[1;32m----> 1\u001b[1;33m \u001b[0mforecastTest\u001b[0m \u001b[1;33m=\u001b[0m \u001b[0mrfTrain\u001b[0m\u001b[1;33m.\u001b[0m\u001b[0mpredict\u001b[0m\u001b[1;33m(\u001b[0m\u001b[0mXinputTest\u001b[0m\u001b[1;33m[\u001b[0m\u001b[0mcolsRF\u001b[0m\u001b[1;33m]\u001b[0m\u001b[1;33m)\u001b[0m\u001b[1;33m\u001b[0m\u001b[1;33m\u001b[0m\u001b[0m\n\u001b[0m\u001b[0;32m      2\u001b[0m \u001b[0mforecastTrain\u001b[0m \u001b[1;33m=\u001b[0m \u001b[0mrfTrain\u001b[0m\u001b[1;33m.\u001b[0m\u001b[0mpredict\u001b[0m\u001b[1;33m(\u001b[0m\u001b[0mXinputTrain\u001b[0m\u001b[1;33m[\u001b[0m\u001b[0mcolsRF\u001b[0m\u001b[1;33m]\u001b[0m\u001b[1;33m)\u001b[0m\u001b[1;33m\u001b[0m\u001b[1;33m\u001b[0m\u001b[0m\n",
      "\u001b[1;32m~\\AppData\\Local\\Continuum\\anaconda3\\lib\\site-packages\\sklearn\\ensemble\\forest.py\u001b[0m in \u001b[0;36mpredict\u001b[1;34m(self, X)\u001b[0m\n\u001b[0;32m    684\u001b[0m             \u001b[0mThe\u001b[0m \u001b[0mpredicted\u001b[0m \u001b[0mvalues\u001b[0m\u001b[1;33m.\u001b[0m\u001b[1;33m\u001b[0m\u001b[1;33m\u001b[0m\u001b[0m\n\u001b[0;32m    685\u001b[0m         \"\"\"\n\u001b[1;32m--> 686\u001b[1;33m         \u001b[0mcheck_is_fitted\u001b[0m\u001b[1;33m(\u001b[0m\u001b[0mself\u001b[0m\u001b[1;33m,\u001b[0m \u001b[1;34m'estimators_'\u001b[0m\u001b[1;33m)\u001b[0m\u001b[1;33m\u001b[0m\u001b[1;33m\u001b[0m\u001b[0m\n\u001b[0m\u001b[0;32m    687\u001b[0m         \u001b[1;31m# Check data\u001b[0m\u001b[1;33m\u001b[0m\u001b[1;33m\u001b[0m\u001b[1;33m\u001b[0m\u001b[0m\n\u001b[0;32m    688\u001b[0m         \u001b[0mX\u001b[0m \u001b[1;33m=\u001b[0m \u001b[0mself\u001b[0m\u001b[1;33m.\u001b[0m\u001b[0m_validate_X_predict\u001b[0m\u001b[1;33m(\u001b[0m\u001b[0mX\u001b[0m\u001b[1;33m)\u001b[0m\u001b[1;33m\u001b[0m\u001b[1;33m\u001b[0m\u001b[0m\n",
      "\u001b[1;32m~\\AppData\\Local\\Continuum\\anaconda3\\lib\\site-packages\\sklearn\\utils\\validation.py\u001b[0m in \u001b[0;36mcheck_is_fitted\u001b[1;34m(estimator, attributes, msg, all_or_any)\u001b[0m\n\u001b[0;32m    949\u001b[0m \u001b[1;33m\u001b[0m\u001b[0m\n\u001b[0;32m    950\u001b[0m     \u001b[1;32mif\u001b[0m \u001b[1;32mnot\u001b[0m \u001b[0mall_or_any\u001b[0m\u001b[1;33m(\u001b[0m\u001b[1;33m[\u001b[0m\u001b[0mhasattr\u001b[0m\u001b[1;33m(\u001b[0m\u001b[0mestimator\u001b[0m\u001b[1;33m,\u001b[0m \u001b[0mattr\u001b[0m\u001b[1;33m)\u001b[0m \u001b[1;32mfor\u001b[0m \u001b[0mattr\u001b[0m \u001b[1;32min\u001b[0m \u001b[0mattributes\u001b[0m\u001b[1;33m]\u001b[0m\u001b[1;33m)\u001b[0m\u001b[1;33m:\u001b[0m\u001b[1;33m\u001b[0m\u001b[1;33m\u001b[0m\u001b[0m\n\u001b[1;32m--> 951\u001b[1;33m         \u001b[1;32mraise\u001b[0m \u001b[0mNotFittedError\u001b[0m\u001b[1;33m(\u001b[0m\u001b[0mmsg\u001b[0m \u001b[1;33m%\u001b[0m \u001b[1;33m{\u001b[0m\u001b[1;34m'name'\u001b[0m\u001b[1;33m:\u001b[0m \u001b[0mtype\u001b[0m\u001b[1;33m(\u001b[0m\u001b[0mestimator\u001b[0m\u001b[1;33m)\u001b[0m\u001b[1;33m.\u001b[0m\u001b[0m__name__\u001b[0m\u001b[1;33m}\u001b[0m\u001b[1;33m)\u001b[0m\u001b[1;33m\u001b[0m\u001b[1;33m\u001b[0m\u001b[0m\n\u001b[0m\u001b[0;32m    952\u001b[0m \u001b[1;33m\u001b[0m\u001b[0m\n\u001b[0;32m    953\u001b[0m \u001b[1;33m\u001b[0m\u001b[0m\n",
      "\u001b[1;31mNotFittedError\u001b[0m: This RandomForestRegressor instance is not fitted yet. Call 'fit' with appropriate arguments before using this method."
     ]
    }
   ],
   "source": [
    "forecastTest = rfTrain.predict(XinputTest[colsRF])\n",
    "forecastTrain = rfTrain.predict(XinputTrain[colsRF])"
   ]
  },
  {
   "cell_type": "markdown",
   "metadata": {},
   "source": [
    "### Evaluation"
   ]
  },
  {
   "cell_type": "code",
   "execution_count": null,
   "metadata": {
    "lines_to_end_of_cell_marker": 2
   },
   "outputs": [],
   "source": [
    "evaluation(YconsoTrain, YconsoTest, forecastTrain, forecastTest)\n",
    "\n",
    "# on visualise nos previsions par rapport a la realité\n",
    "plt.plot(YconsoTest['ds'], YconsoTest['y'], 'b', YconsoTest['ds'], forecastTest, 'r')\n",
    "plt.show()\n",
    "\n",
    "print('R^2 Training Score: {:.2f} \\nOOB Score: {:.2f} \\nR^2 Validation Score: {:.2f}'.format(rfTrain.score(XinputTrain[colsRF], YconsoTrain['y']), \n",
    "                                                                                             rfTrain.oob_score_,\n",
    "rfTrain.score(XinputTest[colsRF], YconsoTest['y'])))"
   ]
  },
  {
   "cell_type": "code",
   "execution_count": null,
   "metadata": {},
   "outputs": [],
   "source": [
    "evalWD,evalHour,evalJF = evaluation_par(XinputTest,YconsoTest,forecastTest)\n",
    "print(str(round(evalWD*100,1)))\n",
    "print(str(round(evalHour*100,1)))\n",
    "print(str(round(evalJF*100,1)))"
   ]
  },
  {
   "cell_type": "markdown",
   "metadata": {},
   "source": [
    "## Modèle xgboost\n",
    "\n",
    "<img src=\"pictures/XGboost.png\" width=500 height=30>"
   ]
  },
  {
   "cell_type": "code",
   "execution_count": null,
   "metadata": {},
   "outputs": [],
   "source": [
    "import xgboost as xgb"
   ]
  },
  {
   "cell_type": "code",
   "execution_count": null,
   "metadata": {},
   "outputs": [],
   "source": [
    "xgbTrain = xgb.XGBRegressor( )\n",
    "xgbTrain.fit(XinputTrain[colsRF], YconsoTrain['y'])\n",
    "forecastTestXGB = xgbTrain.predict(XinputTest[colsRF])\n",
    "forecastTrainXGB = xgbTrain.predict(XinputTrain[colsRF])"
   ]
  },
  {
   "cell_type": "code",
   "execution_count": null,
   "metadata": {},
   "outputs": [],
   "source": [
    "evaluation(YconsoTrain, YconsoTest, forecastTrainXGB, forecastTestXGB)"
   ]
  },
  {
   "cell_type": "code",
   "execution_count": null,
   "metadata": {},
   "outputs": [],
   "source": [
    "evalWD,evalHour,evalJF = evaluation_par(XinputTest, YconsoTest, forecastTestXGB)\n",
    "print(str(round(evalWD * 100,1)))\n",
    "print(str(round(evalHour * 100,1)))\n",
    "print(str(round(evalJF * 100,1)))"
   ]
  },
  {
   "cell_type": "markdown",
   "metadata": {},
   "source": [
    "### Question\n",
    "- Selon vous, pourquoi l'erreur max est significative pour tous les modèles ?\n",
    "- Comment y remédier ?"
   ]
  },
  {
   "cell_type": "markdown",
   "metadata": {},
   "source": [
    "# Bonus: à vous de jouer\n",
    "\n",
    "Bravo ! Vous avez déjà créé un premier modèle performant pour faire des prévisions sur une fenêtre glissante à horizon 24h !\n",
    "\n",
    "Maintenant à vous de mettre votre expertise pour créer de nouveaux modèles.\n",
    "\n",
    "Vous pouvez continuer à explorer le problème selon plusieurs axes:\n",
    "- créer des modèles pour les régions françaises\n",
    "- tester votre modèle sur une autre saison (l'hiver par exemple)\n",
    "- créer de nouvelles variables explicatives ? Quid de la météo et de la température? Des jours fériés ? Du feature engineering plus complexe...\n",
    "- détecter des outliers dans les données\n",
    "- etudiez les incertitudes et les possibilités offertes par PyStan\n",
    "\n",
    "Mettez-vous en 3 groupes, explorez pendant 30 minutes, et restituez."
   ]
  },
  {
   "cell_type": "code",
   "execution_count": null,
   "metadata": {},
   "outputs": [],
   "source": []
  }
 ],
 "metadata": {
  "jupytext": {
   "formats": "ipynb,py"
  },
  "kernelspec": {
   "display_name": "Python 3",
   "language": "python",
   "name": "python3"
  },
  "language_info": {
   "codemirror_mode": {
    "name": "ipython",
    "version": 3
   },
   "file_extension": ".py",
   "mimetype": "text/x-python",
   "name": "python",
   "nbconvert_exporter": "python",
   "pygments_lexer": "ipython3",
   "version": "3.7.1"
  }
 },
 "nbformat": 4,
 "nbformat_minor": 2
}
