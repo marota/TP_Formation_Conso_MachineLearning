{
 "cells": [
  {
   "cell_type": "markdown",
   "metadata": {},
   "source": [
    "# Le problème : la prévision de consommation électrique\n",
    "\n",
    "Pour garantir l'équilibre offre-demande à chaque instant et gérer l'acheminement de l'électricité, RTE construit ses propres prévisions de la consommation nationale, régionale, et locale, à différentes échéances de temps (de l'infrajournalier au pluri-annuel).\n",
    "\n",
    "Ici on se focalise sur un problème particulier : **la prévision de la consommation électrique nationale horaire à horizon J+1** (on suppose qu'on connaît toutes les données jusqu'au jour J inclus). \n",
    "\n",
    "## Les données : Eco2mix\n",
    "\n",
    "La courbe de charge France est disponible sur eco2mix :\n",
    "http://www.rte-france.com/fr/eco2mix/eco2mix\n",
    "ou sur application mobile.\n",
    "\n",
    "Vous pouvez naviguer sur le site pour vous familiariser avec les données sur lesquelles vous allez travailler.\n",
    "\n",
    "## Objectif :\n",
    "\n",
    "Au cours de ce TP, nous allons aborder les différentes étapes nécessaires à la construction d'un modèle de prévision de consommation :\n",
    "\n",
    "1) Formalisation du problème: que souhaite-t-on prédire (quel est mon Y) ? Avec quelles variables explicatives (quel est mon X) ?\n",
    "\n",
    "2) Collecte des données: où se trouvent les données ? Quel est le format ? Comment les récupérer ? (FACULTATIF - voir TP \"TP1_Preparation_donnees\")\n",
    "\n",
    "3) Import des données et analyses descriptives : visualiser des séries temporelles, statistiques descriptives\n",
    "\n",
    "4) Transformation des données (feature engineering) pour entrainer et tester un premier modèle\n",
    "\n",
    "5) Création de prévision à dire d'expert pour servir de référence.\n",
    "\n",
    "6) Découpage des données : apprentissage - test\n",
    "\n",
    "7) Evaluer un modèle\n",
    "\n",
    "8) Tester des algorithmes de référence : régression linéaire, forêts aléatoires, xgboost\n",
    "\n",
    "9) Itérer à partir des modèles testés pour améliorer les prévisions\n",
    "\n",
    "Nous verrons qu'une difficulté majeure réside dans la construction des \"bonnes\" variables explicatives (\"garbage in, garbage out\")\n",
    "\n",
    "## Méthodes de prévision considérées\n",
    "\n",
    "Les modèles actuels reposent sur des méthodes de régression linéaire et non-linéaires. Nous étudierons ici les limites de la régression linéaire.\n",
    "\n",
    "Pour améliorer les prévisions, nous aurons recours aux méthodes dites de Machine Learning. Ces méthodes ne dépendent pas d'une formalisation a priori du lien entre les variables explicatives X et la variable à expliquer Y. \n",
    "Elles sont souvent moins interprétables mais peuvent être plus efficaces en prévision. Elles peuvent nécessiter plus de temps de calcul et plus de données pour cela.\n",
    "\n",
    "Construire un bon modèle d'apprentissage nécessite en général de la connaissance experte dans le domaine d'intérêt pour créer des modèles pertinents et efficaces. \n",
    "\n",
    "## To be continued : deep learning\n",
    "\n",
    "Le deuxième TP permettra d'investiguer les modèles \"Deep\" avec réseaux de neurones, en montrant le moindre besoin en feature engineering et leur plus grande capacité à absorber l'information grâce aux représentations hiérarchiques qu'ils créent."
   ]
  },
  {
   "cell_type": "markdown",
   "metadata": {},
   "source": [
    "# Environnement de travail \n",
    "\n",
    "Ceci est un notebook jupyter. Il permet d'exécuter du code python, d'afficher des résultats et d'écrire du texte pour décrire l'ensemble de l'étude.\n",
    "\n",
    "<font color='red'>\n",
    "    \n",
    "**NB : L'aide de python est accessible en tapant help(nom_de_la_commande)**\n",
    "\n",
    "</font>\n",
    "\n",
    "## Chargement des packages"
   ]
  },
  {
   "cell_type": "code",
   "execution_count": 86,
   "metadata": {},
   "outputs": [
    {
     "data": {
      "application/javascript": [
       "IPython.notebook.set_autosave_interval(0)"
      ]
     },
     "metadata": {},
     "output_type": "display_data"
    },
    {
     "name": "stdout",
     "output_type": "stream",
     "text": [
      "Autosave disabled\n"
     ]
    }
   ],
   "source": [
    "# Exécutez la cellule ci-dessous (par exemple avec shift-entrée)\n",
    "# Si vous exécuter ce notebook depuis votre PC, il faudra peut-etre installer certaines librairies avec \n",
    "# 'pip install ma_librairie'\n",
    "import os  # accès aux commandes système\n",
    "\n",
    "import datetime  # structure de données pour gérer des objets calendaires\n",
    "import pytz # gestion des fuseaux horaires\n",
    "import pandas as pd  # gérer des tables de données en python\n",
    "import numpy as np  # librairie d'opérations mathématiques\n",
    "from math import sqrt\n",
    "\n",
    "import sklearn  # librairie de machine learning\n",
    "from sklearn.metrics import mean_absolute_error\n",
    "from sklearn.metrics import mean_squared_error\n",
    "from sklearn import linear_model\n",
    "from sklearn.ensemble import RandomForestRegressor\n",
    "\n",
    "import matplotlib.pyplot as plt  # tracer des visualisations\n",
    "from pandas.plotting import register_matplotlib_converters\n",
    "register_matplotlib_converters()\n",
    "\n",
    "import zipfile  # compresser ou décompresser fichier\n",
    "\n",
    "%matplotlib inline\n",
    "\n",
    "%autosave 0"
   ]
  },
  {
   "cell_type": "markdown",
   "metadata": {},
   "source": [
    "## Données disponibles\n",
    "\n",
    "Choix du répertoire de travail \"data_folder\" dans lequel tous les fichiers csv seront entreposés. Ici le répertoire s'appelle *data*.\n",
    "\n",
    "Ensuite on affiche les fichiers du répertoire pour vérification"
   ]
  },
  {
   "cell_type": "code",
   "execution_count": 11,
   "metadata": {
    "lines_to_next_cell": 2
   },
   "outputs": [],
   "source": [
    "data_folder = os.path.join(os.getcwd(), \"data\")"
   ]
  },
  {
   "cell_type": "code",
   "execution_count": 87,
   "metadata": {},
   "outputs": [
    {
     "name": "stdout",
     "output_type": "stream",
     "text": [
      "Mon repertoire est : D:\\Users\\dordonnatvir\\Documents\\FIFA\\TP_Formation_Conso_MachineLearning\\data\n",
      "Fichiers contenus dans ce répertoire :\n",
      " - communes_coordonnees.csv\n",
      " - eCO2mix_RTE_Annuel-Definitif_2014.xls\n",
      " - eCO2mix_RTE_Annuel-Definitif_2014.zip\n",
      " - eCO2mix_RTE_Annuel-Definitif_2015.zip\n",
      " - eCO2mix_RTE_Annuel-Definitif_2016.zip\n",
      " - eCO2mix_RTE_Annuel-Definitif_2017.zip\n",
      " - eCO2mix_RTE_Annuel-Definitif_2018.xls\n",
      " - eCO2mix_RTE_Annuel-Definitif_2018.zip\n",
      " - eCO2mix_RTE_tempo_2017-2018.xls\n",
      " - eCO2mix_RTE_tempo_2017-2018.zip\n",
      " - joursFeries.csv\n",
      " - meteoX_T0_T24.zip\n",
      " - rstudio-export.zip\n",
      " - StationsMeteoRTE.csv\n",
      " - Xinput.csv\n",
      " - Xinput.zip\n",
      " - Xtemperature.csv\n",
      " - Xtemperature.zip\n",
      " - Yconso.csv\n",
      " - YconsoT0.csv\n",
      " - Yconso_2014_2018.csv\n"
     ]
    }
   ],
   "source": [
    "print(\"Mon repertoire est : {}\".format(data_folder))\n",
    "print(\"Fichiers contenus dans ce répertoire :\")\n",
    "for file in os.listdir(data_folder):\n",
    "    print(\" - \" + file)"
   ]
  },
  {
   "cell_type": "markdown",
   "metadata": {},
   "source": [
    "# Récupération des données dans Python\n",
    "\n",
    "Dans cette partie nous allons charger les fichiers csv nécessaires pour l'analyse, puis les convertir en data-frame python : \n",
    "- Yconso.csv\n",
    "- Xinput.csv\n",
    "\n",
    "Rappel : Les données brutes ont été pré-traitées à l'aide du notebook TP1_Preparation_donnees.ipynb pour obtenir ces deux fichiers.\n",
    "\n",
    "## import de Yconso.csv"
   ]
  },
  {
   "cell_type": "code",
   "execution_count": 99,
   "metadata": {
    "lines_to_next_cell": 2
   },
   "outputs": [
    {
     "name": "stdout",
     "output_type": "stream",
     "text": [
      "                          ds      y\n",
      "0  2014-01-08 00:00:00+00:00  62008\n",
      "1  2014-01-08 01:00:00+00:00  57298\n",
      "2  2014-01-08 02:00:00+00:00  56216\n",
      "3  2014-01-08 03:00:00+00:00  53719\n",
      "4  2014-01-08 04:00:00+00:00  51798\n",
      "ds    object\n",
      "y      int64\n",
      "dtype: object\n"
     ]
    }
   ],
   "source": [
    "Yconso_csv = os.path.join(data_folder, \"Yconso.csv\")\n",
    "Yconso = pd.read_csv(Yconso_csv)\n",
    "print(Yconso.head(5)) # affichage des premières lignes\n",
    "print(Yconso.dtypes) # affichage du type de données pour chaque colonne"
   ]
  },
  {
   "cell_type": "markdown",
   "metadata": {},
   "source": [
    "La colonne \"ds\" contient la date, mais celle-ci n'est pas reconnue en tant que telle mais en tant que chaîne de caractères (https://pbpython.com/pandas_dtypes.html). On va la convertir en objet de type \"datetime\" plus approprié pour extraire des informations comme le jour de la semaine ou l'heure.  \n",
    "Pour plus d'information, voir le TP1_Preparation_donnees."
   ]
  },
  {
   "cell_type": "code",
   "execution_count": 100,
   "metadata": {},
   "outputs": [
    {
     "name": "stdout",
     "output_type": "stream",
     "text": [
      "ds    datetime64[ns, UTC]\n",
      "y                   int64\n",
      "dtype: object\n",
      "                         ds      y\n",
      "0 2014-01-08 00:00:00+00:00  62008\n",
      "1 2014-01-08 01:00:00+00:00  57298\n",
      "2 2014-01-08 02:00:00+00:00  56216\n",
      "3 2014-01-08 03:00:00+00:00  53719\n",
      "4 2014-01-08 04:00:00+00:00  51798\n"
     ]
    }
   ],
   "source": [
    "from datetime import timezone\n",
    "Yconso['ds'] = pd.to_datetime(Yconso['ds'],utc=True)\n",
    "print(Yconso.dtypes)\n",
    "print(Yconso.head(5))"
   ]
  },
  {
   "cell_type": "markdown",
   "metadata": {},
   "source": [
    "Visuellemement cela ne change rien.\n",
    "\n",
    "On peut aussi afficher la dimension du DataFrame (toujours s'assurer que cela correspond aux valeurs attendues) : "
   ]
  },
  {
   "cell_type": "code",
   "execution_count": 96,
   "metadata": {},
   "outputs": [
    {
     "name": "stdout",
     "output_type": "stream",
     "text": [
      "(43368, 2)\n"
     ]
    }
   ],
   "source": [
    "print(Yconso.shape)"
   ]
  },
  {
   "cell_type": "markdown",
   "metadata": {},
   "source": [
    "## Import de Xinput.csv\n",
    "\n",
    "**Attention : Les données Xinput sont encryptées dans un fichier zip. du fait de données météo**  \n",
    "Pour les lire vous avez besoin d'un mot de passe qui ne peut vous être donné que dans le cadre d'un travail au sein de RTE.\n",
    "\n",
    "Sinon, la lecture se déroule comme pour le fichier Yconso.csv : transformation en datetime de la colonne *ds* et vérification des dimensions."
   ]
  },
  {
   "cell_type": "code",
   "execution_count": 16,
   "metadata": {},
   "outputs": [],
   "source": [
    "Xinput_zip = os.path.join(data_folder, \"Xinput.zip\")"
   ]
  },
  {
   "cell_type": "code",
   "execution_count": 17,
   "metadata": {
    "lines_to_next_cell": 2
   },
   "outputs": [],
   "source": [
    "password = 'FIFA2019'"
   ]
  },
  {
   "cell_type": "code",
   "execution_count": 18,
   "metadata": {},
   "outputs": [],
   "source": [
    "# Pour travailler avec les fichiers zip, on utilise la bibliothèque **zipfile**.\n",
    "zipfile_xinput = zipfile.ZipFile(Xinput_zip)\n",
    "zipfile_xinput.setpassword(bytes(password,'utf-8'))\n",
    "Xinput = pd.read_csv(zipfile_xinput.open('Xinput.csv'),sep=\",\",engine='c',header=0)\n",
    "\n",
    "Xinput['ds'] = pd.to_datetime(Xinput['ds'],utc=True)"
   ]
  },
  {
   "cell_type": "markdown",
   "metadata": {},
   "source": [
    "Vous disposez de relevés de températures en stations (voir le fichier *data/StationsMeteoRTE.csv* pour plus d'informations), d'une température France prévue (pour l'instant considéré) et réalisée (24h avant)."
   ]
  },
  {
   "cell_type": "code",
   "execution_count": 97,
   "metadata": {},
   "outputs": [
    {
     "name": "stdout",
     "output_type": "stream",
     "text": [
      "dimension de X\n",
      "(43368, 59)\n",
      "colonnes de X\n",
      "Index(['ds', 'Th_real_24h_avant', 'Th_prev', 'lag1D', 'lag1W', 'month_1',\n",
      "       'month_2', 'month_3', 'month_4', 'month_5', 'month_6', 'month_7',\n",
      "       'month_8', 'month_9', 'month_10', 'month_11', 'month_12', 'weekday_0',\n",
      "       'weekday_1', 'hour_0', 'hour_1', 'hour_2', 'hour_3', 'hour_4', 'hour_5',\n",
      "       'hour_6', 'hour_7', 'hour_8', 'hour_9', 'hour_10', 'hour_11', 'hour_12',\n",
      "       'hour_13', 'hour_14', 'hour_15', 'hour_16', 'hour_17', 'hour_18',\n",
      "       'hour_19', 'hour_20', 'hour_21', 'hour_22', 'hour_23', 'Th_prev_J_1',\n",
      "       'posan', 'JF_11Novembre', 'JF_1erMai', 'JF_8Mai', 'JF_Ascension',\n",
      "       'JF_Assomption', 'JF_FeteNationale', 'JF_Noel', 'JF_NouvelAn',\n",
      "       'JF_Paques', 'JF_Pentecote', 'JF_Toussaint', 'JoursFeries',\n",
      "       'temp_prev_with_threshold_heat', 'temp_prev_with_threshold_cool'],\n",
      "      dtype='object')\n",
      "aperçu de de X\n",
      "                          ds  Th_real_24h_avant    Th_prev    lag1D  lag1W  \\\n",
      "0  2014-01-08 00:00:00+00:00           9.846930   9.911160      NaN    NaN   \n",
      "1  2014-01-08 01:00:00+00:00           9.848500   9.790830      NaN    NaN   \n",
      "2  2014-01-08 02:00:00+00:00           9.681580   9.634990      NaN    NaN   \n",
      "3  2014-01-08 03:00:00+00:00           9.487130   9.445360      NaN    NaN   \n",
      "4  2014-01-08 04:00:00+00:00           9.490410   9.241585      NaN    NaN   \n",
      "5  2014-01-08 05:00:00+00:00           9.346880   9.045105      NaN    NaN   \n",
      "6  2014-01-08 06:00:00+00:00           9.284855   8.915265      NaN    NaN   \n",
      "7  2014-01-08 07:00:00+00:00           9.377060   8.964100      NaN    NaN   \n",
      "8  2014-01-08 08:00:00+00:00           9.543030   9.106500      NaN    NaN   \n",
      "9  2014-01-08 09:00:00+00:00          10.109460   9.630050      NaN    NaN   \n",
      "10 2014-01-08 10:00:00+00:00          11.010330  10.447800      NaN    NaN   \n",
      "11 2014-01-08 11:00:00+00:00          12.087900  11.583100      NaN    NaN   \n",
      "12 2014-01-08 12:00:00+00:00          12.750200  12.571250      NaN    NaN   \n",
      "13 2014-01-08 13:00:00+00:00          13.010425  13.199100      NaN    NaN   \n",
      "14 2014-01-08 14:00:00+00:00          13.034650  13.415650      NaN    NaN   \n",
      "15 2014-01-08 15:00:00+00:00          12.795650  13.190725      NaN    NaN   \n",
      "16 2014-01-08 16:00:00+00:00          12.026650  12.621550      NaN    NaN   \n",
      "17 2014-01-08 17:00:00+00:00          11.561000  11.866250      NaN    NaN   \n",
      "18 2014-01-08 18:00:00+00:00          11.147930  11.217425      NaN    NaN   \n",
      "19 2014-01-08 19:00:00+00:00          10.985900  10.803830      NaN    NaN   \n",
      "20 2014-01-08 20:00:00+00:00          10.737580  10.580990      NaN    NaN   \n",
      "21 2014-01-08 21:00:00+00:00          10.566275  10.462200      NaN    NaN   \n",
      "22 2014-01-08 22:00:00+00:00          10.689410  10.114050      NaN    NaN   \n",
      "23 2014-01-08 23:00:00+00:00          10.505480   9.971110      NaN    NaN   \n",
      "24 2014-01-09 00:00:00+00:00          10.467205   9.898510  62008.0    NaN   \n",
      "25 2014-01-09 01:00:00+00:00          10.349260   9.818325  57298.0    NaN   \n",
      "26 2014-01-09 02:00:00+00:00           9.845505   9.767930  56216.0    NaN   \n",
      "27 2014-01-09 03:00:00+00:00           9.318530   9.677900  53719.0    NaN   \n",
      "28 2014-01-09 04:00:00+00:00           9.032335   9.544690  51798.0    NaN   \n",
      "29 2014-01-09 05:00:00+00:00           8.754755   9.081040  52083.0    NaN   \n",
      "30 2014-01-09 06:00:00+00:00           8.498830   9.003155  56082.0    NaN   \n",
      "31 2014-01-09 07:00:00+00:00           8.248040   9.174785  63083.0    NaN   \n",
      "32 2014-01-09 08:00:00+00:00           8.328750   9.354920  68358.0    NaN   \n",
      "33 2014-01-09 09:00:00+00:00           9.106245   9.821385  69269.0    NaN   \n",
      "34 2014-01-09 10:00:00+00:00          10.405815  10.340305  68732.0    NaN   \n",
      "\n",
      "    month_1  month_2  month_3  month_4  month_5  ...  JF_Assomption  \\\n",
      "0         1        0        0        0        0  ...              0   \n",
      "1         1        0        0        0        0  ...              0   \n",
      "2         1        0        0        0        0  ...              0   \n",
      "3         1        0        0        0        0  ...              0   \n",
      "4         1        0        0        0        0  ...              0   \n",
      "5         1        0        0        0        0  ...              0   \n",
      "6         1        0        0        0        0  ...              0   \n",
      "7         1        0        0        0        0  ...              0   \n",
      "8         1        0        0        0        0  ...              0   \n",
      "9         1        0        0        0        0  ...              0   \n",
      "10        1        0        0        0        0  ...              0   \n",
      "11        1        0        0        0        0  ...              0   \n",
      "12        1        0        0        0        0  ...              0   \n",
      "13        1        0        0        0        0  ...              0   \n",
      "14        1        0        0        0        0  ...              0   \n",
      "15        1        0        0        0        0  ...              0   \n",
      "16        1        0        0        0        0  ...              0   \n",
      "17        1        0        0        0        0  ...              0   \n",
      "18        1        0        0        0        0  ...              0   \n",
      "19        1        0        0        0        0  ...              0   \n",
      "20        1        0        0        0        0  ...              0   \n",
      "21        1        0        0        0        0  ...              0   \n",
      "22        1        0        0        0        0  ...              0   \n",
      "23        1        0        0        0        0  ...              0   \n",
      "24        1        0        0        0        0  ...              0   \n",
      "25        1        0        0        0        0  ...              0   \n",
      "26        1        0        0        0        0  ...              0   \n",
      "27        1        0        0        0        0  ...              0   \n",
      "28        1        0        0        0        0  ...              0   \n",
      "29        1        0        0        0        0  ...              0   \n",
      "30        1        0        0        0        0  ...              0   \n",
      "31        1        0        0        0        0  ...              0   \n",
      "32        1        0        0        0        0  ...              0   \n",
      "33        1        0        0        0        0  ...              0   \n",
      "34        1        0        0        0        0  ...              0   \n",
      "\n",
      "    JF_FeteNationale  JF_Noel  JF_NouvelAn  JF_Paques  JF_Pentecote  \\\n",
      "0                  0        0            0          0             0   \n",
      "1                  0        0            0          0             0   \n",
      "2                  0        0            0          0             0   \n",
      "3                  0        0            0          0             0   \n",
      "4                  0        0            0          0             0   \n",
      "5                  0        0            0          0             0   \n",
      "6                  0        0            0          0             0   \n",
      "7                  0        0            0          0             0   \n",
      "8                  0        0            0          0             0   \n",
      "9                  0        0            0          0             0   \n",
      "10                 0        0            0          0             0   \n",
      "11                 0        0            0          0             0   \n",
      "12                 0        0            0          0             0   \n",
      "13                 0        0            0          0             0   \n",
      "14                 0        0            0          0             0   \n",
      "15                 0        0            0          0             0   \n",
      "16                 0        0            0          0             0   \n",
      "17                 0        0            0          0             0   \n",
      "18                 0        0            0          0             0   \n",
      "19                 0        0            0          0             0   \n",
      "20                 0        0            0          0             0   \n",
      "21                 0        0            0          0             0   \n",
      "22                 0        0            0          0             0   \n",
      "23                 0        0            0          0             0   \n",
      "24                 0        0            0          0             0   \n",
      "25                 0        0            0          0             0   \n",
      "26                 0        0            0          0             0   \n",
      "27                 0        0            0          0             0   \n",
      "28                 0        0            0          0             0   \n",
      "29                 0        0            0          0             0   \n",
      "30                 0        0            0          0             0   \n",
      "31                 0        0            0          0             0   \n",
      "32                 0        0            0          0             0   \n",
      "33                 0        0            0          0             0   \n",
      "34                 0        0            0          0             0   \n",
      "\n",
      "    JF_Toussaint  JoursFeries  temp_prev_with_threshold_heat  \\\n",
      "0              0            0                       5.088840   \n",
      "1              0            0                       5.209170   \n",
      "2              0            0                       5.365010   \n",
      "3              0            0                       5.554640   \n",
      "4              0            0                       5.758415   \n",
      "5              0            0                       5.954895   \n",
      "6              0            0                       6.084735   \n",
      "7              0            0                       6.035900   \n",
      "8              0            0                       5.893500   \n",
      "9              0            0                       5.369950   \n",
      "10             0            0                       4.552200   \n",
      "11             0            0                       3.416900   \n",
      "12             0            0                       2.428750   \n",
      "13             0            0                       1.800900   \n",
      "14             0            0                       1.584350   \n",
      "15             0            0                       1.809275   \n",
      "16             0            0                       2.378450   \n",
      "17             0            0                       3.133750   \n",
      "18             0            0                       3.782575   \n",
      "19             0            0                       4.196170   \n",
      "20             0            0                       4.419010   \n",
      "21             0            0                       4.537800   \n",
      "22             0            0                       4.885950   \n",
      "23             0            0                       5.028890   \n",
      "24             0            0                       5.101490   \n",
      "25             0            0                       5.181675   \n",
      "26             0            0                       5.232070   \n",
      "27             0            0                       5.322100   \n",
      "28             0            0                       5.455310   \n",
      "29             0            0                       5.918960   \n",
      "30             0            0                       5.996845   \n",
      "31             0            0                       5.825215   \n",
      "32             0            0                       5.645080   \n",
      "33             0            0                       5.178615   \n",
      "34             0            0                       4.659695   \n",
      "\n",
      "    temp_prev_with_threshold_cool  \n",
      "0                             0.0  \n",
      "1                             0.0  \n",
      "2                             0.0  \n",
      "3                             0.0  \n",
      "4                             0.0  \n",
      "5                             0.0  \n",
      "6                             0.0  \n",
      "7                             0.0  \n",
      "8                             0.0  \n",
      "9                             0.0  \n",
      "10                            0.0  \n",
      "11                            0.0  \n",
      "12                            0.0  \n",
      "13                            0.0  \n",
      "14                            0.0  \n",
      "15                            0.0  \n",
      "16                            0.0  \n",
      "17                            0.0  \n",
      "18                            0.0  \n",
      "19                            0.0  \n",
      "20                            0.0  \n",
      "21                            0.0  \n",
      "22                            0.0  \n",
      "23                            0.0  \n",
      "24                            0.0  \n",
      "25                            0.0  \n",
      "26                            0.0  \n",
      "27                            0.0  \n",
      "28                            0.0  \n",
      "29                            0.0  \n",
      "30                            0.0  \n",
      "31                            0.0  \n",
      "32                            0.0  \n",
      "33                            0.0  \n",
      "34                            0.0  \n",
      "\n",
      "[35 rows x 59 columns]\n"
     ]
    }
   ],
   "source": [
    "print(\"dimension de X\")\n",
    "print(Xinput.shape)\n",
    "print(\"colonnes de X\")\n",
    "print(Xinput.columns)\n",
    "print(\"aperçu de de X\")\n",
    "print(Xinput.head(35))\n"
   ]
  },
  {
   "cell_type": "markdown",
   "metadata": {},
   "source": [
    "\n",
    "Dans un premier temps, nous allons travailler **uniquement avec la température France.** Les températures en stations pourront être utilisées dans la partie Bonus, par exemple."
   ]
  },
  {
   "cell_type": "code",
   "execution_count": 20,
   "metadata": {},
   "outputs": [],
   "source": [
    "Xinput = Xinput[['ds', 'holiday', 'Th_real_24h_avant', 'Th_prev']]"
   ]
  },
  {
   "cell_type": "markdown",
   "metadata": {},
   "source": [
    "<font color='green'>\n",
    "\n",
    "* Quelles sont les variables disponibles (dans Xinput et Yconso)?\n",
    "* Quelles sont les dimensions (nombre d’observations et de variables) de Xinput et Yconso après lecture des fichiers csv?\n",
    "\n",
    "</font>"
   ]
  },
  {
   "cell_type": "markdown",
   "metadata": {},
   "source": [
    "# Visualisation des données \n",
    "\n",
    "La DataScience et le Machine Learning supposent de bien appréhender les données sur lesquelles nos modèles vont être entrainés. Pour cela, il est utile de faire des statistiques descriptives et des visualisations de nos différentes variables.\n",
    "\n",
    "Traitant d'un problème de prévision, on visualisera en particulier des séries temporelles.\n",
    "\n",
    "Vous allez voir des :\n",
    "- échantillons de données\n",
    "- profils de courbe de consommation journaliers et saisonniers\n",
    "- visualisations de corrélation entre conso J et conso retardée\n",
    "\n",
    "## Calcul de statistiques descriptives sur la consommation nationale\n",
    "\n",
    "A l'aide de la fonction *describe*, on calcule les indicateurs classiques. On cherche les données manquantes avec la fonction *isnull*.\n"
   ]
  },
  {
   "cell_type": "code",
   "execution_count": 102,
   "metadata": {},
   "outputs": [
    {
     "data": {
      "text/plain": [
       "count                         43368\n",
       "unique                        43368\n",
       "top       2015-09-21 23:00:00+00:00\n",
       "freq                              1\n",
       "first     2014-01-08 00:00:00+00:00\n",
       "last      2018-12-19 23:00:00+00:00\n",
       "Name: ds, dtype: object"
      ]
     },
     "execution_count": 102,
     "metadata": {},
     "output_type": "execute_result"
    }
   ],
   "source": [
    "Yconso['ds'].describe()"
   ]
  },
  {
   "cell_type": "code",
   "execution_count": 101,
   "metadata": {},
   "outputs": [
    {
     "data": {
      "text/html": [
       "<div>\n",
       "<style scoped>\n",
       "    .dataframe tbody tr th:only-of-type {\n",
       "        vertical-align: middle;\n",
       "    }\n",
       "\n",
       "    .dataframe tbody tr th {\n",
       "        vertical-align: top;\n",
       "    }\n",
       "\n",
       "    .dataframe thead th {\n",
       "        text-align: right;\n",
       "    }\n",
       "</style>\n",
       "<table border=\"1\" class=\"dataframe\">\n",
       "  <thead>\n",
       "    <tr style=\"text-align: right;\">\n",
       "      <th></th>\n",
       "      <th>y</th>\n",
       "    </tr>\n",
       "  </thead>\n",
       "  <tbody>\n",
       "    <tr>\n",
       "      <th>count</th>\n",
       "      <td>43368.000000</td>\n",
       "    </tr>\n",
       "    <tr>\n",
       "      <th>mean</th>\n",
       "      <td>54010.378574</td>\n",
       "    </tr>\n",
       "    <tr>\n",
       "      <th>std</th>\n",
       "      <td>11837.807039</td>\n",
       "    </tr>\n",
       "    <tr>\n",
       "      <th>min</th>\n",
       "      <td>29477.000000</td>\n",
       "    </tr>\n",
       "    <tr>\n",
       "      <th>25%</th>\n",
       "      <td>45025.250000</td>\n",
       "    </tr>\n",
       "    <tr>\n",
       "      <th>50%</th>\n",
       "      <td>52422.000000</td>\n",
       "    </tr>\n",
       "    <tr>\n",
       "      <th>75%</th>\n",
       "      <td>62167.000000</td>\n",
       "    </tr>\n",
       "    <tr>\n",
       "      <th>max</th>\n",
       "      <td>95987.000000</td>\n",
       "    </tr>\n",
       "  </tbody>\n",
       "</table>\n",
       "</div>"
      ],
      "text/plain": [
       "                  y\n",
       "count  43368.000000\n",
       "mean   54010.378574\n",
       "std    11837.807039\n",
       "min    29477.000000\n",
       "25%    45025.250000\n",
       "50%    52422.000000\n",
       "75%    62167.000000\n",
       "max    95987.000000"
      ]
     },
     "execution_count": 101,
     "metadata": {},
     "output_type": "execute_result"
    }
   ],
   "source": [
    "Yconso['y'].describe()"
   ]
  },
  {
   "cell_type": "code",
   "execution_count": 22,
   "metadata": {},
   "outputs": [
    {
     "data": {
      "text/plain": [
       "0"
      ]
     },
     "execution_count": 22,
     "metadata": {},
     "output_type": "execute_result"
    }
   ],
   "source": [
    "Yconso['y'].isnull().sum()"
   ]
  },
  {
   "cell_type": "markdown",
   "metadata": {},
   "source": [
    "<font color='green'>\n",
    "\n",
    "* Quelle est la valeur moyenne de la consommation horaire? son min et son max? \n",
    "* Quelle est la période temporelle étudiée?\n",
    "\n",
    "</font>"
   ]
  },
  {
   "cell_type": "markdown",
   "metadata": {},
   "source": [
    "## Visualiser la consommation d'un jour particulier\n",
    "On souhaite visualiser la consommation réalisée pour un jour donné de l'historique. Pour cela on construit une fonction."
   ]
  },
  {
   "cell_type": "code",
   "execution_count": 23,
   "metadata": {},
   "outputs": [],
   "source": [
    "def plot_load(var_load, year, month, day):\n",
    "    date_cible = pytz.utc.localize(datetime.datetime(year=year, month=month, day=day))  # implicitement heure = minuit\n",
    "    date_lendemain_cible = date_cible + datetime.timedelta(days=1)\n",
    "    mask = (var_load.ds >= date_cible) & (var_load.ds <= date_lendemain_cible)   \n",
    "    consoJour = var_load[mask]\n",
    "    plt.plot(consoJour['ds'], consoJour['y'], color='blue')\n",
    "    plt.show()"
   ]
  },
  {
   "cell_type": "code",
   "execution_count": 24,
   "metadata": {
    "scrolled": true
   },
   "outputs": [
    {
     "data": {
      "image/png": "[encoded data removed]",
      "text/plain": [
       "<Figure size 432x288 with 1 Axes>"
      ]
     },
     "metadata": {
      "needs_background": "light"
     },
     "output_type": "display_data"
    }
   ],
   "source": [
    "plot_load(Yconso, 2016, 12, 20)"
   ]
  },
  {
   "cell_type": "markdown",
   "metadata": {},
   "source": [
    "<font color='green'>\n",
    "\n",
    "* Afficher un jour ouvré d’hiver, un jour ouvré d’été, commenter.\n",
    "\n",
    "</font>"
   ]
  },
  {
   "cell_type": "markdown",
   "metadata": {},
   "source": [
    "## Afficher une semaine arbitraire de consommation\n",
    "On modifie la fonction précédente en rajoutant le timedelta en paramètre."
   ]
  },
  {
   "cell_type": "code",
   "execution_count": 25,
   "metadata": {},
   "outputs": [],
   "source": [
    "def plot_load_timedelta(var_load, year, month, day, delta_days):\n",
    "    date_cible = pytz.utc.localize(datetime.datetime(year=year, month=month, day=day))\n",
    "    date_lendemain_cible = date_cible + datetime.timedelta(days=delta_days)\n",
    "\n",
    "    conso_periode = var_load[(var_load.ds >= date_cible) \n",
    "                                      & (var_load.ds <= date_lendemain_cible)]\n",
    "    plt.plot(conso_periode['ds'], conso_periode['y'], color='blue')\n",
    "    plt.show()"
   ]
  },
  {
   "cell_type": "code",
   "execution_count": 26,
   "metadata": {},
   "outputs": [
    {
     "data": {
      "image/png": "[encoded data removed]",
      "text/plain": [
       "<Figure size 432x288 with 1 Axes>"
      ]
     },
     "metadata": {
      "needs_background": "light"
     },
     "output_type": "display_data"
    }
   ],
   "source": [
    "plot_load_timedelta(Yconso, 2016, 12, 20, delta_days=7)"
   ]
  },
  {
   "cell_type": "markdown",
   "metadata": {},
   "source": [
    "<font color='green'>\n",
    "\n",
    "* Commenter.\n",
    "\n",
    "</font>"
   ]
  },
  {
   "cell_type": "markdown",
   "metadata": {},
   "source": [
    "## Observation des profils de la consommation pour les mois d'hiver et les mois d'été\n",
    "Toujours dans le but d'appréhender nos données, on va regarder les profils moyens pour les mois d'été et pour ceux d'hiver. On va également observer le min et le max pour avoir une idée de la variabilité du signal."
   ]
  },
  {
   "cell_type": "code",
   "execution_count": 27,
   "metadata": {},
   "outputs": [],
   "source": [
    "# Par commodité, on isole le mois pour après attraper les mois d'hiver et d'été\n",
    "Xinput['month'] = Xinput['ds'].dt.month\n",
    "\n",
    "# On isole aussi les heures\n",
    "Xinput['hour'] = Xinput['ds'].dt.hour\n",
    "\n",
    "# On sépare les jours de la semaine en week-end / pas week-end\n",
    "# De base, la fonction datetime.weekday() renvoie 0 => Lundi, 2 => Mardi, ..., 5 => Samedi, 6 => Dimanche\n",
    "# Ci-dessous, si on a un jour d ela semaine alors dans la colonne weekday on mettra 1, et 0 si c'est le week-end\n",
    "Xinput['weekday'] = (Xinput['ds'].dt.weekday < 5).astype(int)  # conversion bool => int"
   ]
  },
  {
   "cell_type": "code",
   "execution_count": 28,
   "metadata": {},
   "outputs": [
    {
     "data": {
      "text/html": [
       "<div>\n",
       "<style scoped>\n",
       "    .dataframe tbody tr th:only-of-type {\n",
       "        vertical-align: middle;\n",
       "    }\n",
       "\n",
       "    .dataframe tbody tr th {\n",
       "        vertical-align: top;\n",
       "    }\n",
       "\n",
       "    .dataframe thead th {\n",
       "        text-align: right;\n",
       "    }\n",
       "</style>\n",
       "<table border=\"1\" class=\"dataframe\">\n",
       "  <thead>\n",
       "    <tr style=\"text-align: right;\">\n",
       "      <th></th>\n",
       "      <th>ds</th>\n",
       "      <th>holiday</th>\n",
       "      <th>Th_real_24h_avant</th>\n",
       "      <th>Th_prev</th>\n",
       "      <th>month</th>\n",
       "      <th>hour</th>\n",
       "      <th>weekday</th>\n",
       "    </tr>\n",
       "  </thead>\n",
       "  <tbody>\n",
       "    <tr>\n",
       "      <th>0</th>\n",
       "      <td>2014-01-08 00:00:00+00:00</td>\n",
       "      <td>NaN</td>\n",
       "      <td>9.84693</td>\n",
       "      <td>9.911160</td>\n",
       "      <td>1</td>\n",
       "      <td>0</td>\n",
       "      <td>1</td>\n",
       "    </tr>\n",
       "    <tr>\n",
       "      <th>1</th>\n",
       "      <td>2014-01-08 01:00:00+00:00</td>\n",
       "      <td>NaN</td>\n",
       "      <td>9.84850</td>\n",
       "      <td>9.790830</td>\n",
       "      <td>1</td>\n",
       "      <td>1</td>\n",
       "      <td>1</td>\n",
       "    </tr>\n",
       "    <tr>\n",
       "      <th>2</th>\n",
       "      <td>2014-01-08 02:00:00+00:00</td>\n",
       "      <td>NaN</td>\n",
       "      <td>9.68158</td>\n",
       "      <td>9.634990</td>\n",
       "      <td>1</td>\n",
       "      <td>2</td>\n",
       "      <td>1</td>\n",
       "    </tr>\n",
       "    <tr>\n",
       "      <th>3</th>\n",
       "      <td>2014-01-08 03:00:00+00:00</td>\n",
       "      <td>NaN</td>\n",
       "      <td>9.48713</td>\n",
       "      <td>9.445360</td>\n",
       "      <td>1</td>\n",
       "      <td>3</td>\n",
       "      <td>1</td>\n",
       "    </tr>\n",
       "    <tr>\n",
       "      <th>4</th>\n",
       "      <td>2014-01-08 04:00:00+00:00</td>\n",
       "      <td>NaN</td>\n",
       "      <td>9.49041</td>\n",
       "      <td>9.241585</td>\n",
       "      <td>1</td>\n",
       "      <td>4</td>\n",
       "      <td>1</td>\n",
       "    </tr>\n",
       "  </tbody>\n",
       "</table>\n",
       "</div>"
      ],
      "text/plain": [
       "                         ds holiday  Th_real_24h_avant   Th_prev  month  hour  \\\n",
       "0 2014-01-08 00:00:00+00:00     NaN            9.84693  9.911160      1     0   \n",
       "1 2014-01-08 01:00:00+00:00     NaN            9.84850  9.790830      1     1   \n",
       "2 2014-01-08 02:00:00+00:00     NaN            9.68158  9.634990      1     2   \n",
       "3 2014-01-08 03:00:00+00:00     NaN            9.48713  9.445360      1     3   \n",
       "4 2014-01-08 04:00:00+00:00     NaN            9.49041  9.241585      1     4   \n",
       "\n",
       "   weekday  \n",
       "0        1  \n",
       "1        1  \n",
       "2        1  \n",
       "3        1  \n",
       "4        1  "
      ]
     },
     "execution_count": 28,
     "metadata": {},
     "output_type": "execute_result"
    }
   ],
   "source": [
    "Xinput.head(5)"
   ]
  },
  {
   "cell_type": "code",
   "execution_count": 29,
   "metadata": {},
   "outputs": [],
   "source": [
    "# On aggrège les mois d'hiver ensemble\n",
    "XY_df = pd.merge(Yconso, Xinput, on = 'ds')\n",
    "groupedHiver = XY_df[(XY_df.month == 12) | \n",
    "                                     (XY_df.month == 1) | \n",
    "                                     (XY_df.month == 2)].groupby(['weekday', 'hour'], as_index=True)\n",
    "\n",
    "# Idem pour les mois d'été\n",
    "groupedEte = XY_df[(XY_df.month == 6) | \n",
    "                                   (XY_df.month == 7) | \n",
    "                                   (XY_df.month == 8)].groupby(['weekday', 'hour'], as_index=True)\n",
    "\n",
    "statsHiver = groupedHiver['y'].aggregate([np.mean, np.min, np.max])\n",
    "statsEte = groupedEte['y'].aggregate([np.mean, np.min, np.max])"
   ]
  },
  {
   "cell_type": "code",
   "execution_count": 30,
   "metadata": {},
   "outputs": [
    {
     "name": "stdout",
     "output_type": "stream",
     "text": [
      "                      mean   amin   amax\n",
      "weekday hour                            \n",
      "0       0     67832.325203  52914  84120\n",
      "        1     63309.195122  48866  79849\n",
      "        2     62097.211382  47963  79895\n",
      "        3     59472.528455  45759  77368\n",
      "        4     56962.000000  43833  74752\n",
      "        5     56103.804878  43520  74342\n",
      "        6     57101.853659  44858  75698\n",
      "        7     58858.471545  46444  77952\n",
      "        8     60808.138211  48324  81395\n",
      "        9     62916.967480  49467  83783\n",
      "        10    65223.593496  51791  85464\n",
      "        11    65961.528455  52786  84509\n",
      "        12    66746.105691  53317  83314\n",
      "        13    67739.390244  54316  83593\n",
      "        14    64093.276423  50394  79803\n",
      "        15    61543.170732  47892  76792\n",
      "        16    60136.536585  46704  75135\n",
      "        17    60363.040650  47935  75184\n",
      "        18    64507.235772  50872  80259\n",
      "        19    68899.365854  57070  82733\n",
      "        20    68199.227642  56500  81352\n",
      "        21    65444.634146  54213  78545\n",
      "        22    63071.284553  52301  76801\n",
      "        23    66547.008130  55898  81086\n",
      "1       0     68305.757282  55360  88008\n",
      "        1     63964.527508  51056  84101\n",
      "        2     63272.245955  49822  84443\n",
      "        3     61114.116505  47461  82428\n",
      "        4     59107.537217  44996  80534\n",
      "        5     59397.983819  43500  80750\n",
      "        6     63171.896440  43767  84366\n",
      "        7     69993.330097  44488  89947\n",
      "        8     74576.514563  45625  93912\n",
      "        9     75167.508091  46014  95026\n",
      "        10    75394.003236  47856  95647\n",
      "        11    75019.498382  49284  95420\n",
      "        12    75273.572816  49767  95752\n",
      "        13    74661.161812  50632  95116\n",
      "        14    72671.601942  47169  92909\n",
      "        15    70553.576052  44658  91091\n",
      "        16    69303.330097  43710  89926\n",
      "        17    69515.504854  44615  89046\n",
      "        18    73303.692557  49378  90260\n",
      "        19    77459.304207  51419  95987\n",
      "        20    75044.025890  51743  94458\n",
      "        21    70702.566343  50835  89390\n",
      "        22    67291.951456  49712  85659\n",
      "        23    70074.423948  53433  88585\n"
     ]
    }
   ],
   "source": [
    "print(statsHiver)"
   ]
  },
  {
   "cell_type": "code",
   "execution_count": 31,
   "metadata": {},
   "outputs": [
    {
     "data": {
      "image/png": "[encoded data removed]",
      "text/plain": [
       "<Figure size 432x288 with 1 Axes>"
      ]
     },
     "metadata": {
      "needs_background": "light"
     },
     "output_type": "display_data"
    }
   ],
   "source": [
    "# On affiche des infos sur le profil pour les jours de la semaine\n",
    "semaine = statsHiver.loc[1]  # 0 pour les jours de semaine\n",
    "weekend = statsHiver.loc[0]  # 0 pour weekend\n",
    "\n",
    "plt.plot(semaine['amin'], color='cyan')\n",
    "plt.plot(semaine['mean'], color='blue')\n",
    "plt.plot(semaine['amax'], color='cyan')\n",
    "plt.show()"
   ]
  },
  {
   "cell_type": "markdown",
   "metadata": {},
   "source": [
    "## Lien avec la consommation passée\n",
    "A l'aide de la fonction shift, pour un point horaire cible on regarde  :\n",
    "- la consommation de l'heure précédente, \n",
    "- du jour précédent, \n",
    "- de la semaine précédente.\n"
   ]
  },
  {
   "cell_type": "code",
   "execution_count": 32,
   "metadata": {},
   "outputs": [],
   "source": [
    "Xinput['lag1H'] = Yconso['y'].shift(1)\n",
    "Xinput['lag1D'] = Yconso['y'].shift(24)\n",
    "Xinput['lag1W'] = Yconso['y'].shift(24*7)"
   ]
  },
  {
   "cell_type": "code",
   "execution_count": 33,
   "metadata": {
    "scrolled": true
   },
   "outputs": [
    {
     "data": {
      "text/html": [
       "<div>\n",
       "<style scoped>\n",
       "    .dataframe tbody tr th:only-of-type {\n",
       "        vertical-align: middle;\n",
       "    }\n",
       "\n",
       "    .dataframe tbody tr th {\n",
       "        vertical-align: top;\n",
       "    }\n",
       "\n",
       "    .dataframe thead th {\n",
       "        text-align: right;\n",
       "    }\n",
       "</style>\n",
       "<table border=\"1\" class=\"dataframe\">\n",
       "  <thead>\n",
       "    <tr style=\"text-align: right;\">\n",
       "      <th></th>\n",
       "      <th>ds</th>\n",
       "      <th>holiday</th>\n",
       "      <th>Th_real_24h_avant</th>\n",
       "      <th>Th_prev</th>\n",
       "      <th>month</th>\n",
       "      <th>hour</th>\n",
       "      <th>weekday</th>\n",
       "      <th>lag1H</th>\n",
       "      <th>lag1D</th>\n",
       "      <th>lag1W</th>\n",
       "    </tr>\n",
       "  </thead>\n",
       "  <tbody>\n",
       "    <tr>\n",
       "      <th>0</th>\n",
       "      <td>2014-01-08 00:00:00+00:00</td>\n",
       "      <td>NaN</td>\n",
       "      <td>9.846930</td>\n",
       "      <td>9.911160</td>\n",
       "      <td>1</td>\n",
       "      <td>0</td>\n",
       "      <td>1</td>\n",
       "      <td>NaN</td>\n",
       "      <td>NaN</td>\n",
       "      <td>NaN</td>\n",
       "    </tr>\n",
       "    <tr>\n",
       "      <th>1</th>\n",
       "      <td>2014-01-08 01:00:00+00:00</td>\n",
       "      <td>NaN</td>\n",
       "      <td>9.848500</td>\n",
       "      <td>9.790830</td>\n",
       "      <td>1</td>\n",
       "      <td>1</td>\n",
       "      <td>1</td>\n",
       "      <td>62008.0</td>\n",
       "      <td>NaN</td>\n",
       "      <td>NaN</td>\n",
       "    </tr>\n",
       "    <tr>\n",
       "      <th>2</th>\n",
       "      <td>2014-01-08 02:00:00+00:00</td>\n",
       "      <td>NaN</td>\n",
       "      <td>9.681580</td>\n",
       "      <td>9.634990</td>\n",
       "      <td>1</td>\n",
       "      <td>2</td>\n",
       "      <td>1</td>\n",
       "      <td>57298.0</td>\n",
       "      <td>NaN</td>\n",
       "      <td>NaN</td>\n",
       "    </tr>\n",
       "    <tr>\n",
       "      <th>3</th>\n",
       "      <td>2014-01-08 03:00:00+00:00</td>\n",
       "      <td>NaN</td>\n",
       "      <td>9.487130</td>\n",
       "      <td>9.445360</td>\n",
       "      <td>1</td>\n",
       "      <td>3</td>\n",
       "      <td>1</td>\n",
       "      <td>56216.0</td>\n",
       "      <td>NaN</td>\n",
       "      <td>NaN</td>\n",
       "    </tr>\n",
       "    <tr>\n",
       "      <th>4</th>\n",
       "      <td>2014-01-08 04:00:00+00:00</td>\n",
       "      <td>NaN</td>\n",
       "      <td>9.490410</td>\n",
       "      <td>9.241585</td>\n",
       "      <td>1</td>\n",
       "      <td>4</td>\n",
       "      <td>1</td>\n",
       "      <td>53719.0</td>\n",
       "      <td>NaN</td>\n",
       "      <td>NaN</td>\n",
       "    </tr>\n",
       "    <tr>\n",
       "      <th>5</th>\n",
       "      <td>2014-01-08 05:00:00+00:00</td>\n",
       "      <td>NaN</td>\n",
       "      <td>9.346880</td>\n",
       "      <td>9.045105</td>\n",
       "      <td>1</td>\n",
       "      <td>5</td>\n",
       "      <td>1</td>\n",
       "      <td>51798.0</td>\n",
       "      <td>NaN</td>\n",
       "      <td>NaN</td>\n",
       "    </tr>\n",
       "    <tr>\n",
       "      <th>6</th>\n",
       "      <td>2014-01-08 06:00:00+00:00</td>\n",
       "      <td>NaN</td>\n",
       "      <td>9.284855</td>\n",
       "      <td>8.915265</td>\n",
       "      <td>1</td>\n",
       "      <td>6</td>\n",
       "      <td>1</td>\n",
       "      <td>52083.0</td>\n",
       "      <td>NaN</td>\n",
       "      <td>NaN</td>\n",
       "    </tr>\n",
       "    <tr>\n",
       "      <th>7</th>\n",
       "      <td>2014-01-08 07:00:00+00:00</td>\n",
       "      <td>NaN</td>\n",
       "      <td>9.377060</td>\n",
       "      <td>8.964100</td>\n",
       "      <td>1</td>\n",
       "      <td>7</td>\n",
       "      <td>1</td>\n",
       "      <td>56082.0</td>\n",
       "      <td>NaN</td>\n",
       "      <td>NaN</td>\n",
       "    </tr>\n",
       "    <tr>\n",
       "      <th>8</th>\n",
       "      <td>2014-01-08 08:00:00+00:00</td>\n",
       "      <td>NaN</td>\n",
       "      <td>9.543030</td>\n",
       "      <td>9.106500</td>\n",
       "      <td>1</td>\n",
       "      <td>8</td>\n",
       "      <td>1</td>\n",
       "      <td>63083.0</td>\n",
       "      <td>NaN</td>\n",
       "      <td>NaN</td>\n",
       "    </tr>\n",
       "    <tr>\n",
       "      <th>9</th>\n",
       "      <td>2014-01-08 09:00:00+00:00</td>\n",
       "      <td>NaN</td>\n",
       "      <td>10.109460</td>\n",
       "      <td>9.630050</td>\n",
       "      <td>1</td>\n",
       "      <td>9</td>\n",
       "      <td>1</td>\n",
       "      <td>68358.0</td>\n",
       "      <td>NaN</td>\n",
       "      <td>NaN</td>\n",
       "    </tr>\n",
       "    <tr>\n",
       "      <th>10</th>\n",
       "      <td>2014-01-08 10:00:00+00:00</td>\n",
       "      <td>NaN</td>\n",
       "      <td>11.010330</td>\n",
       "      <td>10.447800</td>\n",
       "      <td>1</td>\n",
       "      <td>10</td>\n",
       "      <td>1</td>\n",
       "      <td>69269.0</td>\n",
       "      <td>NaN</td>\n",
       "      <td>NaN</td>\n",
       "    </tr>\n",
       "    <tr>\n",
       "      <th>11</th>\n",
       "      <td>2014-01-08 11:00:00+00:00</td>\n",
       "      <td>NaN</td>\n",
       "      <td>12.087900</td>\n",
       "      <td>11.583100</td>\n",
       "      <td>1</td>\n",
       "      <td>11</td>\n",
       "      <td>1</td>\n",
       "      <td>68732.0</td>\n",
       "      <td>NaN</td>\n",
       "      <td>NaN</td>\n",
       "    </tr>\n",
       "    <tr>\n",
       "      <th>12</th>\n",
       "      <td>2014-01-08 12:00:00+00:00</td>\n",
       "      <td>NaN</td>\n",
       "      <td>12.750200</td>\n",
       "      <td>12.571250</td>\n",
       "      <td>1</td>\n",
       "      <td>12</td>\n",
       "      <td>1</td>\n",
       "      <td>68118.0</td>\n",
       "      <td>NaN</td>\n",
       "      <td>NaN</td>\n",
       "    </tr>\n",
       "    <tr>\n",
       "      <th>13</th>\n",
       "      <td>2014-01-08 13:00:00+00:00</td>\n",
       "      <td>NaN</td>\n",
       "      <td>13.010425</td>\n",
       "      <td>13.199100</td>\n",
       "      <td>1</td>\n",
       "      <td>13</td>\n",
       "      <td>1</td>\n",
       "      <td>68068.0</td>\n",
       "      <td>NaN</td>\n",
       "      <td>NaN</td>\n",
       "    </tr>\n",
       "    <tr>\n",
       "      <th>14</th>\n",
       "      <td>2014-01-08 14:00:00+00:00</td>\n",
       "      <td>NaN</td>\n",
       "      <td>13.034650</td>\n",
       "      <td>13.415650</td>\n",
       "      <td>1</td>\n",
       "      <td>14</td>\n",
       "      <td>1</td>\n",
       "      <td>67385.0</td>\n",
       "      <td>NaN</td>\n",
       "      <td>NaN</td>\n",
       "    </tr>\n",
       "    <tr>\n",
       "      <th>15</th>\n",
       "      <td>2014-01-08 15:00:00+00:00</td>\n",
       "      <td>NaN</td>\n",
       "      <td>12.795650</td>\n",
       "      <td>13.190725</td>\n",
       "      <td>1</td>\n",
       "      <td>15</td>\n",
       "      <td>1</td>\n",
       "      <td>65680.0</td>\n",
       "      <td>NaN</td>\n",
       "      <td>NaN</td>\n",
       "    </tr>\n",
       "    <tr>\n",
       "      <th>16</th>\n",
       "      <td>2014-01-08 16:00:00+00:00</td>\n",
       "      <td>NaN</td>\n",
       "      <td>12.026650</td>\n",
       "      <td>12.621550</td>\n",
       "      <td>1</td>\n",
       "      <td>16</td>\n",
       "      <td>1</td>\n",
       "      <td>63820.0</td>\n",
       "      <td>NaN</td>\n",
       "      <td>NaN</td>\n",
       "    </tr>\n",
       "    <tr>\n",
       "      <th>17</th>\n",
       "      <td>2014-01-08 17:00:00+00:00</td>\n",
       "      <td>NaN</td>\n",
       "      <td>11.561000</td>\n",
       "      <td>11.866250</td>\n",
       "      <td>1</td>\n",
       "      <td>17</td>\n",
       "      <td>1</td>\n",
       "      <td>62455.0</td>\n",
       "      <td>NaN</td>\n",
       "      <td>NaN</td>\n",
       "    </tr>\n",
       "    <tr>\n",
       "      <th>18</th>\n",
       "      <td>2014-01-08 18:00:00+00:00</td>\n",
       "      <td>NaN</td>\n",
       "      <td>11.147930</td>\n",
       "      <td>11.217425</td>\n",
       "      <td>1</td>\n",
       "      <td>18</td>\n",
       "      <td>1</td>\n",
       "      <td>63239.0</td>\n",
       "      <td>NaN</td>\n",
       "      <td>NaN</td>\n",
       "    </tr>\n",
       "    <tr>\n",
       "      <th>19</th>\n",
       "      <td>2014-01-08 19:00:00+00:00</td>\n",
       "      <td>NaN</td>\n",
       "      <td>10.985900</td>\n",
       "      <td>10.803830</td>\n",
       "      <td>1</td>\n",
       "      <td>19</td>\n",
       "      <td>1</td>\n",
       "      <td>68474.0</td>\n",
       "      <td>NaN</td>\n",
       "      <td>NaN</td>\n",
       "    </tr>\n",
       "    <tr>\n",
       "      <th>20</th>\n",
       "      <td>2014-01-08 20:00:00+00:00</td>\n",
       "      <td>NaN</td>\n",
       "      <td>10.737580</td>\n",
       "      <td>10.580990</td>\n",
       "      <td>1</td>\n",
       "      <td>20</td>\n",
       "      <td>1</td>\n",
       "      <td>71305.0</td>\n",
       "      <td>NaN</td>\n",
       "      <td>NaN</td>\n",
       "    </tr>\n",
       "    <tr>\n",
       "      <th>21</th>\n",
       "      <td>2014-01-08 21:00:00+00:00</td>\n",
       "      <td>NaN</td>\n",
       "      <td>10.566275</td>\n",
       "      <td>10.462200</td>\n",
       "      <td>1</td>\n",
       "      <td>21</td>\n",
       "      <td>1</td>\n",
       "      <td>68602.0</td>\n",
       "      <td>NaN</td>\n",
       "      <td>NaN</td>\n",
       "    </tr>\n",
       "    <tr>\n",
       "      <th>22</th>\n",
       "      <td>2014-01-08 22:00:00+00:00</td>\n",
       "      <td>NaN</td>\n",
       "      <td>10.689410</td>\n",
       "      <td>10.114050</td>\n",
       "      <td>1</td>\n",
       "      <td>22</td>\n",
       "      <td>1</td>\n",
       "      <td>64149.0</td>\n",
       "      <td>NaN</td>\n",
       "      <td>NaN</td>\n",
       "    </tr>\n",
       "    <tr>\n",
       "      <th>23</th>\n",
       "      <td>2014-01-08 23:00:00+00:00</td>\n",
       "      <td>NaN</td>\n",
       "      <td>10.505480</td>\n",
       "      <td>9.971110</td>\n",
       "      <td>1</td>\n",
       "      <td>23</td>\n",
       "      <td>1</td>\n",
       "      <td>60122.0</td>\n",
       "      <td>NaN</td>\n",
       "      <td>NaN</td>\n",
       "    </tr>\n",
       "    <tr>\n",
       "      <th>24</th>\n",
       "      <td>2014-01-09 00:00:00+00:00</td>\n",
       "      <td>NaN</td>\n",
       "      <td>10.467205</td>\n",
       "      <td>9.898510</td>\n",
       "      <td>1</td>\n",
       "      <td>0</td>\n",
       "      <td>1</td>\n",
       "      <td>62721.0</td>\n",
       "      <td>62008.0</td>\n",
       "      <td>NaN</td>\n",
       "    </tr>\n",
       "    <tr>\n",
       "      <th>25</th>\n",
       "      <td>2014-01-09 01:00:00+00:00</td>\n",
       "      <td>NaN</td>\n",
       "      <td>10.349260</td>\n",
       "      <td>9.818325</td>\n",
       "      <td>1</td>\n",
       "      <td>1</td>\n",
       "      <td>1</td>\n",
       "      <td>61752.0</td>\n",
       "      <td>57298.0</td>\n",
       "      <td>NaN</td>\n",
       "    </tr>\n",
       "    <tr>\n",
       "      <th>26</th>\n",
       "      <td>2014-01-09 02:00:00+00:00</td>\n",
       "      <td>NaN</td>\n",
       "      <td>9.845505</td>\n",
       "      <td>9.767930</td>\n",
       "      <td>1</td>\n",
       "      <td>2</td>\n",
       "      <td>1</td>\n",
       "      <td>57162.0</td>\n",
       "      <td>56216.0</td>\n",
       "      <td>NaN</td>\n",
       "    </tr>\n",
       "    <tr>\n",
       "      <th>27</th>\n",
       "      <td>2014-01-09 03:00:00+00:00</td>\n",
       "      <td>NaN</td>\n",
       "      <td>9.318530</td>\n",
       "      <td>9.677900</td>\n",
       "      <td>1</td>\n",
       "      <td>3</td>\n",
       "      <td>1</td>\n",
       "      <td>56282.0</td>\n",
       "      <td>53719.0</td>\n",
       "      <td>NaN</td>\n",
       "    </tr>\n",
       "    <tr>\n",
       "      <th>28</th>\n",
       "      <td>2014-01-09 04:00:00+00:00</td>\n",
       "      <td>NaN</td>\n",
       "      <td>9.032335</td>\n",
       "      <td>9.544690</td>\n",
       "      <td>1</td>\n",
       "      <td>4</td>\n",
       "      <td>1</td>\n",
       "      <td>54061.0</td>\n",
       "      <td>51798.0</td>\n",
       "      <td>NaN</td>\n",
       "    </tr>\n",
       "    <tr>\n",
       "      <th>29</th>\n",
       "      <td>2014-01-09 05:00:00+00:00</td>\n",
       "      <td>NaN</td>\n",
       "      <td>8.754755</td>\n",
       "      <td>9.081040</td>\n",
       "      <td>1</td>\n",
       "      <td>5</td>\n",
       "      <td>1</td>\n",
       "      <td>51882.0</td>\n",
       "      <td>52083.0</td>\n",
       "      <td>NaN</td>\n",
       "    </tr>\n",
       "    <tr>\n",
       "      <th>...</th>\n",
       "      <td>...</td>\n",
       "      <td>...</td>\n",
       "      <td>...</td>\n",
       "      <td>...</td>\n",
       "      <td>...</td>\n",
       "      <td>...</td>\n",
       "      <td>...</td>\n",
       "      <td>...</td>\n",
       "      <td>...</td>\n",
       "      <td>...</td>\n",
       "    </tr>\n",
       "    <tr>\n",
       "      <th>139</th>\n",
       "      <td>2014-01-13 19:00:00+00:00</td>\n",
       "      <td>NaN</td>\n",
       "      <td>7.452840</td>\n",
       "      <td>6.598490</td>\n",
       "      <td>1</td>\n",
       "      <td>19</td>\n",
       "      <td>1</td>\n",
       "      <td>72796.0</td>\n",
       "      <td>65572.0</td>\n",
       "      <td>NaN</td>\n",
       "    </tr>\n",
       "    <tr>\n",
       "      <th>140</th>\n",
       "      <td>2014-01-13 20:00:00+00:00</td>\n",
       "      <td>NaN</td>\n",
       "      <td>7.469520</td>\n",
       "      <td>6.377050</td>\n",
       "      <td>1</td>\n",
       "      <td>20</td>\n",
       "      <td>1</td>\n",
       "      <td>76211.0</td>\n",
       "      <td>65359.0</td>\n",
       "      <td>NaN</td>\n",
       "    </tr>\n",
       "    <tr>\n",
       "      <th>141</th>\n",
       "      <td>2014-01-13 21:00:00+00:00</td>\n",
       "      <td>NaN</td>\n",
       "      <td>7.572090</td>\n",
       "      <td>6.214500</td>\n",
       "      <td>1</td>\n",
       "      <td>21</td>\n",
       "      <td>1</td>\n",
       "      <td>73042.0</td>\n",
       "      <td>62753.0</td>\n",
       "      <td>NaN</td>\n",
       "    </tr>\n",
       "    <tr>\n",
       "      <th>142</th>\n",
       "      <td>2014-01-13 22:00:00+00:00</td>\n",
       "      <td>NaN</td>\n",
       "      <td>7.610720</td>\n",
       "      <td>6.066960</td>\n",
       "      <td>1</td>\n",
       "      <td>22</td>\n",
       "      <td>1</td>\n",
       "      <td>68737.0</td>\n",
       "      <td>59925.0</td>\n",
       "      <td>NaN</td>\n",
       "    </tr>\n",
       "    <tr>\n",
       "      <th>143</th>\n",
       "      <td>2014-01-13 23:00:00+00:00</td>\n",
       "      <td>NaN</td>\n",
       "      <td>7.546380</td>\n",
       "      <td>5.905400</td>\n",
       "      <td>1</td>\n",
       "      <td>23</td>\n",
       "      <td>1</td>\n",
       "      <td>64773.0</td>\n",
       "      <td>62884.0</td>\n",
       "      <td>NaN</td>\n",
       "    </tr>\n",
       "    <tr>\n",
       "      <th>144</th>\n",
       "      <td>2014-01-14 00:00:00+00:00</td>\n",
       "      <td>NaN</td>\n",
       "      <td>7.547150</td>\n",
       "      <td>5.762070</td>\n",
       "      <td>1</td>\n",
       "      <td>0</td>\n",
       "      <td>1</td>\n",
       "      <td>67615.0</td>\n",
       "      <td>61942.0</td>\n",
       "      <td>NaN</td>\n",
       "    </tr>\n",
       "    <tr>\n",
       "      <th>145</th>\n",
       "      <td>2014-01-14 01:00:00+00:00</td>\n",
       "      <td>NaN</td>\n",
       "      <td>7.635525</td>\n",
       "      <td>5.627375</td>\n",
       "      <td>1</td>\n",
       "      <td>1</td>\n",
       "      <td>1</td>\n",
       "      <td>66368.0</td>\n",
       "      <td>57932.0</td>\n",
       "      <td>NaN</td>\n",
       "    </tr>\n",
       "    <tr>\n",
       "      <th>146</th>\n",
       "      <td>2014-01-14 02:00:00+00:00</td>\n",
       "      <td>NaN</td>\n",
       "      <td>7.643520</td>\n",
       "      <td>5.502310</td>\n",
       "      <td>1</td>\n",
       "      <td>2</td>\n",
       "      <td>1</td>\n",
       "      <td>61958.0</td>\n",
       "      <td>57248.0</td>\n",
       "      <td>NaN</td>\n",
       "    </tr>\n",
       "    <tr>\n",
       "      <th>147</th>\n",
       "      <td>2014-01-14 03:00:00+00:00</td>\n",
       "      <td>NaN</td>\n",
       "      <td>7.569540</td>\n",
       "      <td>5.327370</td>\n",
       "      <td>1</td>\n",
       "      <td>3</td>\n",
       "      <td>1</td>\n",
       "      <td>60990.0</td>\n",
       "      <td>55033.0</td>\n",
       "      <td>NaN</td>\n",
       "    </tr>\n",
       "    <tr>\n",
       "      <th>148</th>\n",
       "      <td>2014-01-14 04:00:00+00:00</td>\n",
       "      <td>NaN</td>\n",
       "      <td>7.197810</td>\n",
       "      <td>5.182900</td>\n",
       "      <td>1</td>\n",
       "      <td>4</td>\n",
       "      <td>1</td>\n",
       "      <td>58975.0</td>\n",
       "      <td>52832.0</td>\n",
       "      <td>NaN</td>\n",
       "    </tr>\n",
       "    <tr>\n",
       "      <th>149</th>\n",
       "      <td>2014-01-14 05:00:00+00:00</td>\n",
       "      <td>NaN</td>\n",
       "      <td>7.120800</td>\n",
       "      <td>5.155500</td>\n",
       "      <td>1</td>\n",
       "      <td>5</td>\n",
       "      <td>1</td>\n",
       "      <td>57192.0</td>\n",
       "      <td>53349.0</td>\n",
       "      <td>NaN</td>\n",
       "    </tr>\n",
       "    <tr>\n",
       "      <th>150</th>\n",
       "      <td>2014-01-14 06:00:00+00:00</td>\n",
       "      <td>NaN</td>\n",
       "      <td>7.036210</td>\n",
       "      <td>4.969100</td>\n",
       "      <td>1</td>\n",
       "      <td>6</td>\n",
       "      <td>1</td>\n",
       "      <td>57510.0</td>\n",
       "      <td>57898.0</td>\n",
       "      <td>NaN</td>\n",
       "    </tr>\n",
       "    <tr>\n",
       "      <th>151</th>\n",
       "      <td>2014-01-14 07:00:00+00:00</td>\n",
       "      <td>NaN</td>\n",
       "      <td>6.858710</td>\n",
       "      <td>4.870775</td>\n",
       "      <td>1</td>\n",
       "      <td>7</td>\n",
       "      <td>1</td>\n",
       "      <td>61825.0</td>\n",
       "      <td>65818.0</td>\n",
       "      <td>NaN</td>\n",
       "    </tr>\n",
       "    <tr>\n",
       "      <th>152</th>\n",
       "      <td>2014-01-14 08:00:00+00:00</td>\n",
       "      <td>NaN</td>\n",
       "      <td>6.859000</td>\n",
       "      <td>4.928990</td>\n",
       "      <td>1</td>\n",
       "      <td>8</td>\n",
       "      <td>1</td>\n",
       "      <td>69625.0</td>\n",
       "      <td>71682.0</td>\n",
       "      <td>NaN</td>\n",
       "    </tr>\n",
       "    <tr>\n",
       "      <th>153</th>\n",
       "      <td>2014-01-14 09:00:00+00:00</td>\n",
       "      <td>NaN</td>\n",
       "      <td>7.272830</td>\n",
       "      <td>5.264610</td>\n",
       "      <td>1</td>\n",
       "      <td>9</td>\n",
       "      <td>1</td>\n",
       "      <td>75459.0</td>\n",
       "      <td>71565.0</td>\n",
       "      <td>NaN</td>\n",
       "    </tr>\n",
       "    <tr>\n",
       "      <th>154</th>\n",
       "      <td>2014-01-14 10:00:00+00:00</td>\n",
       "      <td>NaN</td>\n",
       "      <td>8.035220</td>\n",
       "      <td>5.917210</td>\n",
       "      <td>1</td>\n",
       "      <td>10</td>\n",
       "      <td>1</td>\n",
       "      <td>75389.0</td>\n",
       "      <td>71889.0</td>\n",
       "      <td>NaN</td>\n",
       "    </tr>\n",
       "    <tr>\n",
       "      <th>155</th>\n",
       "      <td>2014-01-14 11:00:00+00:00</td>\n",
       "      <td>NaN</td>\n",
       "      <td>8.685730</td>\n",
       "      <td>6.750180</td>\n",
       "      <td>1</td>\n",
       "      <td>11</td>\n",
       "      <td>1</td>\n",
       "      <td>75146.0</td>\n",
       "      <td>71896.0</td>\n",
       "      <td>NaN</td>\n",
       "    </tr>\n",
       "    <tr>\n",
       "      <th>156</th>\n",
       "      <td>2014-01-14 12:00:00+00:00</td>\n",
       "      <td>NaN</td>\n",
       "      <td>9.262670</td>\n",
       "      <td>7.495580</td>\n",
       "      <td>1</td>\n",
       "      <td>12</td>\n",
       "      <td>1</td>\n",
       "      <td>74677.0</td>\n",
       "      <td>72401.0</td>\n",
       "      <td>NaN</td>\n",
       "    </tr>\n",
       "    <tr>\n",
       "      <th>157</th>\n",
       "      <td>2014-01-14 13:00:00+00:00</td>\n",
       "      <td>NaN</td>\n",
       "      <td>9.576735</td>\n",
       "      <td>7.970775</td>\n",
       "      <td>1</td>\n",
       "      <td>13</td>\n",
       "      <td>1</td>\n",
       "      <td>74580.0</td>\n",
       "      <td>71966.0</td>\n",
       "      <td>NaN</td>\n",
       "    </tr>\n",
       "    <tr>\n",
       "      <th>158</th>\n",
       "      <td>2014-01-14 14:00:00+00:00</td>\n",
       "      <td>NaN</td>\n",
       "      <td>9.510780</td>\n",
       "      <td>8.048630</td>\n",
       "      <td>1</td>\n",
       "      <td>14</td>\n",
       "      <td>1</td>\n",
       "      <td>73477.0</td>\n",
       "      <td>70526.0</td>\n",
       "      <td>NaN</td>\n",
       "    </tr>\n",
       "    <tr>\n",
       "      <th>159</th>\n",
       "      <td>2014-01-14 15:00:00+00:00</td>\n",
       "      <td>NaN</td>\n",
       "      <td>9.255005</td>\n",
       "      <td>7.736060</td>\n",
       "      <td>1</td>\n",
       "      <td>15</td>\n",
       "      <td>1</td>\n",
       "      <td>71690.0</td>\n",
       "      <td>68685.0</td>\n",
       "      <td>NaN</td>\n",
       "    </tr>\n",
       "    <tr>\n",
       "      <th>160</th>\n",
       "      <td>2014-01-14 16:00:00+00:00</td>\n",
       "      <td>NaN</td>\n",
       "      <td>8.615125</td>\n",
       "      <td>7.008940</td>\n",
       "      <td>1</td>\n",
       "      <td>16</td>\n",
       "      <td>1</td>\n",
       "      <td>69921.0</td>\n",
       "      <td>67713.0</td>\n",
       "      <td>NaN</td>\n",
       "    </tr>\n",
       "    <tr>\n",
       "      <th>161</th>\n",
       "      <td>2014-01-14 17:00:00+00:00</td>\n",
       "      <td>NaN</td>\n",
       "      <td>7.732290</td>\n",
       "      <td>6.136330</td>\n",
       "      <td>1</td>\n",
       "      <td>17</td>\n",
       "      <td>1</td>\n",
       "      <td>68678.0</td>\n",
       "      <td>68083.0</td>\n",
       "      <td>NaN</td>\n",
       "    </tr>\n",
       "    <tr>\n",
       "      <th>162</th>\n",
       "      <td>2014-01-14 18:00:00+00:00</td>\n",
       "      <td>NaN</td>\n",
       "      <td>7.075530</td>\n",
       "      <td>5.409080</td>\n",
       "      <td>1</td>\n",
       "      <td>18</td>\n",
       "      <td>1</td>\n",
       "      <td>68956.0</td>\n",
       "      <td>72796.0</td>\n",
       "      <td>NaN</td>\n",
       "    </tr>\n",
       "    <tr>\n",
       "      <th>163</th>\n",
       "      <td>2014-01-14 19:00:00+00:00</td>\n",
       "      <td>NaN</td>\n",
       "      <td>6.704950</td>\n",
       "      <td>4.999000</td>\n",
       "      <td>1</td>\n",
       "      <td>19</td>\n",
       "      <td>1</td>\n",
       "      <td>74375.0</td>\n",
       "      <td>76211.0</td>\n",
       "      <td>NaN</td>\n",
       "    </tr>\n",
       "    <tr>\n",
       "      <th>164</th>\n",
       "      <td>2014-01-14 20:00:00+00:00</td>\n",
       "      <td>NaN</td>\n",
       "      <td>6.401730</td>\n",
       "      <td>4.849600</td>\n",
       "      <td>1</td>\n",
       "      <td>20</td>\n",
       "      <td>1</td>\n",
       "      <td>78424.0</td>\n",
       "      <td>73042.0</td>\n",
       "      <td>NaN</td>\n",
       "    </tr>\n",
       "    <tr>\n",
       "      <th>165</th>\n",
       "      <td>2014-01-14 21:00:00+00:00</td>\n",
       "      <td>NaN</td>\n",
       "      <td>6.201500</td>\n",
       "      <td>4.762620</td>\n",
       "      <td>1</td>\n",
       "      <td>21</td>\n",
       "      <td>1</td>\n",
       "      <td>76005.0</td>\n",
       "      <td>68737.0</td>\n",
       "      <td>NaN</td>\n",
       "    </tr>\n",
       "    <tr>\n",
       "      <th>166</th>\n",
       "      <td>2014-01-14 22:00:00+00:00</td>\n",
       "      <td>NaN</td>\n",
       "      <td>5.974450</td>\n",
       "      <td>4.701705</td>\n",
       "      <td>1</td>\n",
       "      <td>22</td>\n",
       "      <td>1</td>\n",
       "      <td>71543.0</td>\n",
       "      <td>64773.0</td>\n",
       "      <td>NaN</td>\n",
       "    </tr>\n",
       "    <tr>\n",
       "      <th>167</th>\n",
       "      <td>2014-01-14 23:00:00+00:00</td>\n",
       "      <td>NaN</td>\n",
       "      <td>5.760640</td>\n",
       "      <td>4.572135</td>\n",
       "      <td>1</td>\n",
       "      <td>23</td>\n",
       "      <td>1</td>\n",
       "      <td>67736.0</td>\n",
       "      <td>67615.0</td>\n",
       "      <td>NaN</td>\n",
       "    </tr>\n",
       "    <tr>\n",
       "      <th>168</th>\n",
       "      <td>2014-01-15 00:00:00+00:00</td>\n",
       "      <td>NaN</td>\n",
       "      <td>5.378660</td>\n",
       "      <td>4.479105</td>\n",
       "      <td>1</td>\n",
       "      <td>0</td>\n",
       "      <td>1</td>\n",
       "      <td>70554.0</td>\n",
       "      <td>66368.0</td>\n",
       "      <td>62008.0</td>\n",
       "    </tr>\n",
       "  </tbody>\n",
       "</table>\n",
       "<p>169 rows × 10 columns</p>\n",
       "</div>"
      ],
      "text/plain": [
       "                           ds holiday  Th_real_24h_avant    Th_prev  month  \\\n",
       "0   2014-01-08 00:00:00+00:00     NaN           9.846930   9.911160      1   \n",
       "1   2014-01-08 01:00:00+00:00     NaN           9.848500   9.790830      1   \n",
       "2   2014-01-08 02:00:00+00:00     NaN           9.681580   9.634990      1   \n",
       "3   2014-01-08 03:00:00+00:00     NaN           9.487130   9.445360      1   \n",
       "4   2014-01-08 04:00:00+00:00     NaN           9.490410   9.241585      1   \n",
       "5   2014-01-08 05:00:00+00:00     NaN           9.346880   9.045105      1   \n",
       "6   2014-01-08 06:00:00+00:00     NaN           9.284855   8.915265      1   \n",
       "7   2014-01-08 07:00:00+00:00     NaN           9.377060   8.964100      1   \n",
       "8   2014-01-08 08:00:00+00:00     NaN           9.543030   9.106500      1   \n",
       "9   2014-01-08 09:00:00+00:00     NaN          10.109460   9.630050      1   \n",
       "10  2014-01-08 10:00:00+00:00     NaN          11.010330  10.447800      1   \n",
       "11  2014-01-08 11:00:00+00:00     NaN          12.087900  11.583100      1   \n",
       "12  2014-01-08 12:00:00+00:00     NaN          12.750200  12.571250      1   \n",
       "13  2014-01-08 13:00:00+00:00     NaN          13.010425  13.199100      1   \n",
       "14  2014-01-08 14:00:00+00:00     NaN          13.034650  13.415650      1   \n",
       "15  2014-01-08 15:00:00+00:00     NaN          12.795650  13.190725      1   \n",
       "16  2014-01-08 16:00:00+00:00     NaN          12.026650  12.621550      1   \n",
       "17  2014-01-08 17:00:00+00:00     NaN          11.561000  11.866250      1   \n",
       "18  2014-01-08 18:00:00+00:00     NaN          11.147930  11.217425      1   \n",
       "19  2014-01-08 19:00:00+00:00     NaN          10.985900  10.803830      1   \n",
       "20  2014-01-08 20:00:00+00:00     NaN          10.737580  10.580990      1   \n",
       "21  2014-01-08 21:00:00+00:00     NaN          10.566275  10.462200      1   \n",
       "22  2014-01-08 22:00:00+00:00     NaN          10.689410  10.114050      1   \n",
       "23  2014-01-08 23:00:00+00:00     NaN          10.505480   9.971110      1   \n",
       "24  2014-01-09 00:00:00+00:00     NaN          10.467205   9.898510      1   \n",
       "25  2014-01-09 01:00:00+00:00     NaN          10.349260   9.818325      1   \n",
       "26  2014-01-09 02:00:00+00:00     NaN           9.845505   9.767930      1   \n",
       "27  2014-01-09 03:00:00+00:00     NaN           9.318530   9.677900      1   \n",
       "28  2014-01-09 04:00:00+00:00     NaN           9.032335   9.544690      1   \n",
       "29  2014-01-09 05:00:00+00:00     NaN           8.754755   9.081040      1   \n",
       "..                        ...     ...                ...        ...    ...   \n",
       "139 2014-01-13 19:00:00+00:00     NaN           7.452840   6.598490      1   \n",
       "140 2014-01-13 20:00:00+00:00     NaN           7.469520   6.377050      1   \n",
       "141 2014-01-13 21:00:00+00:00     NaN           7.572090   6.214500      1   \n",
       "142 2014-01-13 22:00:00+00:00     NaN           7.610720   6.066960      1   \n",
       "143 2014-01-13 23:00:00+00:00     NaN           7.546380   5.905400      1   \n",
       "144 2014-01-14 00:00:00+00:00     NaN           7.547150   5.762070      1   \n",
       "145 2014-01-14 01:00:00+00:00     NaN           7.635525   5.627375      1   \n",
       "146 2014-01-14 02:00:00+00:00     NaN           7.643520   5.502310      1   \n",
       "147 2014-01-14 03:00:00+00:00     NaN           7.569540   5.327370      1   \n",
       "148 2014-01-14 04:00:00+00:00     NaN           7.197810   5.182900      1   \n",
       "149 2014-01-14 05:00:00+00:00     NaN           7.120800   5.155500      1   \n",
       "150 2014-01-14 06:00:00+00:00     NaN           7.036210   4.969100      1   \n",
       "151 2014-01-14 07:00:00+00:00     NaN           6.858710   4.870775      1   \n",
       "152 2014-01-14 08:00:00+00:00     NaN           6.859000   4.928990      1   \n",
       "153 2014-01-14 09:00:00+00:00     NaN           7.272830   5.264610      1   \n",
       "154 2014-01-14 10:00:00+00:00     NaN           8.035220   5.917210      1   \n",
       "155 2014-01-14 11:00:00+00:00     NaN           8.685730   6.750180      1   \n",
       "156 2014-01-14 12:00:00+00:00     NaN           9.262670   7.495580      1   \n",
       "157 2014-01-14 13:00:00+00:00     NaN           9.576735   7.970775      1   \n",
       "158 2014-01-14 14:00:00+00:00     NaN           9.510780   8.048630      1   \n",
       "159 2014-01-14 15:00:00+00:00     NaN           9.255005   7.736060      1   \n",
       "160 2014-01-14 16:00:00+00:00     NaN           8.615125   7.008940      1   \n",
       "161 2014-01-14 17:00:00+00:00     NaN           7.732290   6.136330      1   \n",
       "162 2014-01-14 18:00:00+00:00     NaN           7.075530   5.409080      1   \n",
       "163 2014-01-14 19:00:00+00:00     NaN           6.704950   4.999000      1   \n",
       "164 2014-01-14 20:00:00+00:00     NaN           6.401730   4.849600      1   \n",
       "165 2014-01-14 21:00:00+00:00     NaN           6.201500   4.762620      1   \n",
       "166 2014-01-14 22:00:00+00:00     NaN           5.974450   4.701705      1   \n",
       "167 2014-01-14 23:00:00+00:00     NaN           5.760640   4.572135      1   \n",
       "168 2014-01-15 00:00:00+00:00     NaN           5.378660   4.479105      1   \n",
       "\n",
       "     hour  weekday    lag1H    lag1D    lag1W  \n",
       "0       0        1      NaN      NaN      NaN  \n",
       "1       1        1  62008.0      NaN      NaN  \n",
       "2       2        1  57298.0      NaN      NaN  \n",
       "3       3        1  56216.0      NaN      NaN  \n",
       "4       4        1  53719.0      NaN      NaN  \n",
       "5       5        1  51798.0      NaN      NaN  \n",
       "6       6        1  52083.0      NaN      NaN  \n",
       "7       7        1  56082.0      NaN      NaN  \n",
       "8       8        1  63083.0      NaN      NaN  \n",
       "9       9        1  68358.0      NaN      NaN  \n",
       "10     10        1  69269.0      NaN      NaN  \n",
       "11     11        1  68732.0      NaN      NaN  \n",
       "12     12        1  68118.0      NaN      NaN  \n",
       "13     13        1  68068.0      NaN      NaN  \n",
       "14     14        1  67385.0      NaN      NaN  \n",
       "15     15        1  65680.0      NaN      NaN  \n",
       "16     16        1  63820.0      NaN      NaN  \n",
       "17     17        1  62455.0      NaN      NaN  \n",
       "18     18        1  63239.0      NaN      NaN  \n",
       "19     19        1  68474.0      NaN      NaN  \n",
       "20     20        1  71305.0      NaN      NaN  \n",
       "21     21        1  68602.0      NaN      NaN  \n",
       "22     22        1  64149.0      NaN      NaN  \n",
       "23     23        1  60122.0      NaN      NaN  \n",
       "24      0        1  62721.0  62008.0      NaN  \n",
       "25      1        1  61752.0  57298.0      NaN  \n",
       "26      2        1  57162.0  56216.0      NaN  \n",
       "27      3        1  56282.0  53719.0      NaN  \n",
       "28      4        1  54061.0  51798.0      NaN  \n",
       "29      5        1  51882.0  52083.0      NaN  \n",
       "..    ...      ...      ...      ...      ...  \n",
       "139    19        1  72796.0  65572.0      NaN  \n",
       "140    20        1  76211.0  65359.0      NaN  \n",
       "141    21        1  73042.0  62753.0      NaN  \n",
       "142    22        1  68737.0  59925.0      NaN  \n",
       "143    23        1  64773.0  62884.0      NaN  \n",
       "144     0        1  67615.0  61942.0      NaN  \n",
       "145     1        1  66368.0  57932.0      NaN  \n",
       "146     2        1  61958.0  57248.0      NaN  \n",
       "147     3        1  60990.0  55033.0      NaN  \n",
       "148     4        1  58975.0  52832.0      NaN  \n",
       "149     5        1  57192.0  53349.0      NaN  \n",
       "150     6        1  57510.0  57898.0      NaN  \n",
       "151     7        1  61825.0  65818.0      NaN  \n",
       "152     8        1  69625.0  71682.0      NaN  \n",
       "153     9        1  75459.0  71565.0      NaN  \n",
       "154    10        1  75389.0  71889.0      NaN  \n",
       "155    11        1  75146.0  71896.0      NaN  \n",
       "156    12        1  74677.0  72401.0      NaN  \n",
       "157    13        1  74580.0  71966.0      NaN  \n",
       "158    14        1  73477.0  70526.0      NaN  \n",
       "159    15        1  71690.0  68685.0      NaN  \n",
       "160    16        1  69921.0  67713.0      NaN  \n",
       "161    17        1  68678.0  68083.0      NaN  \n",
       "162    18        1  68956.0  72796.0      NaN  \n",
       "163    19        1  74375.0  76211.0      NaN  \n",
       "164    20        1  78424.0  73042.0      NaN  \n",
       "165    21        1  76005.0  68737.0      NaN  \n",
       "166    22        1  71543.0  64773.0      NaN  \n",
       "167    23        1  67736.0  67615.0      NaN  \n",
       "168     0        1  70554.0  66368.0  62008.0  \n",
       "\n",
       "[169 rows x 10 columns]"
      ]
     },
     "execution_count": 33,
     "metadata": {},
     "output_type": "execute_result"
    }
   ],
   "source": [
    "Xinput.head(24 * 7 + 1)"
   ]
  },
  {
   "cell_type": "markdown",
   "metadata": {},
   "source": [
    "On trace maintenant les nuages de points afin de voir s'il y a corrélation ou non :"
   ]
  },
  {
   "cell_type": "code",
   "execution_count": 34,
   "metadata": {},
   "outputs": [],
   "source": [
    "def plot_scatter_load(var_x):\n",
    "    plt.scatter(Xinput[var_x],Yconso['y'])\n",
    "    plt.title(var_x)\n",
    "    plt.show()"
   ]
  },
  {
   "cell_type": "code",
   "execution_count": 35,
   "metadata": {},
   "outputs": [
    {
     "data": {
      "image/png": "[encoded data removed]",
      "text/plain": [
       "<Figure size 432x288 with 1 Axes>"
      ]
     },
     "metadata": {
      "needs_background": "light"
     },
     "output_type": "display_data"
    },
    {
     "data": {
      "image/png": "[encoded data removed]",
      "text/plain": [
       "<Figure size 432x288 with 1 Axes>"
      ]
     },
     "metadata": {
      "needs_background": "light"
     },
     "output_type": "display_data"
    },
    {
     "data": {
      "image/png": "[encoded data removed]",
      "text/plain": [
       "<Figure size 432x288 with 1 Axes>"
      ]
     },
     "metadata": {
      "needs_background": "light"
     },
     "output_type": "display_data"
    }
   ],
   "source": [
    "plot_scatter_load('lag1H')\n",
    "plot_scatter_load('lag1D')\n",
    "plot_scatter_load('lag1W')"
   ]
  },
  {
   "cell_type": "markdown",
   "metadata": {},
   "source": [
    "<font color='green'>\n",
    "    \n",
    "* Qu'en pensez-vous?\n",
    "\n",
    "</font>"
   ]
  },
  {
   "cell_type": "markdown",
   "metadata": {},
   "source": [
    "## Visualiser la consommation en fonction de la température \n",
    "\n",
    "On voudrait savoir si la consommation nationale peut s'expliquer en regardant simplement la température moyenne sur la France. Pour cela, on peut aussi tracer un nuage de points."
   ]
  },
  {
   "cell_type": "code",
   "execution_count": 36,
   "metadata": {},
   "outputs": [
    {
     "data": {
      "image/png": "[encoded data removed]",
      "text/plain": [
       "<Figure size 432x288 with 1 Axes>"
      ]
     },
     "metadata": {
      "needs_background": "light"
     },
     "output_type": "display_data"
    }
   ],
   "source": [
    "plt.scatter(Xinput['Th_prev'], Yconso['y'], alpha=0.2)\n",
    "plt.show()"
   ]
  },
  {
   "cell_type": "markdown",
   "metadata": {},
   "source": [
    "<font color='green'>\n",
    "    \n",
    "* Que pensez-vous de ce nuage ? Est-ce suffisant ?\n",
    "\n",
    "<font color='green'>"
   ]
  },
  {
   "cell_type": "markdown",
   "metadata": {},
   "source": [
    "# Construction d'un modèle prédictif naïf\n",
    "\n",
    "<img src=\"pictures/hommeNaif.png\" width=500 height=60>"
   ]
  },
  {
   "cell_type": "code",
   "execution_count": 37,
   "metadata": {},
   "outputs": [
    {
     "name": "stdout",
     "output_type": "stream",
     "text": [
      "On veut predire la consommation du 2016-12-20 14:00:00+00:00, soit 76906.0\n"
     ]
    }
   ],
   "source": [
    "# Pour se faire les dents on va considérer juste un point horaire\n",
    "datetime_a_predire = pytz.utc.localize(datetime.datetime.strptime(\"2016-12-20_14:00\", \"%Y-%m-%d_%H:%M\"))\n",
    "y_true_point_horaire_cible = float(Yconso.loc[Yconso['ds'] == datetime_a_predire]['y'])\n",
    "\n",
    "print(\"On veut predire la consommation du {}, soit {}\".format(datetime_a_predire, y_true_point_horaire_cible))"
   ]
  },
  {
   "cell_type": "markdown",
   "metadata": {},
   "source": [
    "## Première idée, un modèle naïf : pour l'heure qui nous intéresse, on plaque bêtement la valeur de consommation nationale de la veille"
   ]
  },
  {
   "cell_type": "markdown",
   "metadata": {},
   "source": [
    "On commence par juste notre point horaire"
   ]
  },
  {
   "cell_type": "code",
   "execution_count": 38,
   "metadata": {},
   "outputs": [
    {
     "name": "stdout",
     "output_type": "stream",
     "text": [
      "Modele 1 -- pred: 78273.0, realisee: 76906.0, erreur: 1.777494603802044%\n"
     ]
    }
   ],
   "source": [
    "y_pred_modele_naif_1 = float(Xinput.loc[Xinput['ds'] == datetime_a_predire]['lag1D'])\n",
    "pred_error = abs(y_true_point_horaire_cible - y_pred_modele_naif_1)\n",
    "\n",
    "print(\"Modele 1 -- pred: {}, realisee: {}, erreur: {}%\".format(y_pred_modele_naif_1, y_true_point_horaire_cible, pred_error/y_true_point_horaire_cible * 100))"
   ]
  },
  {
   "cell_type": "markdown",
   "metadata": {},
   "source": [
    "Voyons maintenant ce que ça donne non plus sur un unique point horaire mais sur l'ensemble des points horaires :"
   ]
  },
  {
   "cell_type": "code",
   "execution_count": 39,
   "metadata": {},
   "outputs": [
    {
     "name": "stdout",
     "output_type": "stream",
     "text": [
      "5.817903709655765\n"
     ]
    }
   ],
   "source": [
    "y_pred_modele_naif_1 = Xinput[\"lag1D\"]\n",
    "\n",
    "pred_error = (np.abs(Yconso[\"y\"] - y_pred_modele_naif_1.loc[24:]) / Yconso[\"y\"] * 100)\n",
    "\n",
    "print(np.mean(pred_error))"
   ]
  },
  {
   "cell_type": "markdown",
   "metadata": {},
   "source": [
    "Bon c'est pas fou..."
   ]
  },
  {
   "cell_type": "markdown",
   "metadata": {},
   "source": [
    "## Deuxième idée : modèle naïf avec de l'expertise métier \n",
    "\n",
    "Chez RTE, on considère qu'une augmentation moyenne de 1°C conduit à une augmentation de 2400MW de la consommation nationale pour des températures inférieures à 15°C. On propose donc comme consommation prévue la consommation de la veille, corrigée par 2400 fois l'écart à la température de la veille, si l'on n'excède pas les 15°C.\n",
    "\n",
    "\n",
    "<img src=\"pictures/ExpertJamy.jpg\" width=500 height=60>"
   ]
  },
  {
   "cell_type": "code",
   "execution_count": 40,
   "metadata": {},
   "outputs": [],
   "source": [
    "delta_MW_par_degre = 2400  \n",
    "            \n",
    "threshold_temperature = 15"
   ]
  },
  {
   "cell_type": "markdown",
   "metadata": {},
   "source": [
    "On commence par juste notre point horaire préféré"
   ]
  },
  {
   "cell_type": "code",
   "execution_count": 41,
   "metadata": {},
   "outputs": [
    {
     "name": "stdout",
     "output_type": "stream",
     "text": [
      "Modele 2 -- pred: 78099.444, realisee: 76906.0, erreur: 1.551821704418385%\n"
     ]
    }
   ],
   "source": [
    "temperature_real_veille = float(Xinput.loc[Xinput['ds'] == datetime_a_predire]['Th_real_24h_avant'])\n",
    "temperature_prevu_cible = float(Xinput.loc[Xinput['ds'] == datetime_a_predire]['Th_prev'])\n",
    "delta_temp = min(threshold_temperature, temperature_prevu_cible) - min(threshold_temperature, temperature_real_veille)\n",
    "delta_MW_because_temp = delta_temp * delta_MW_par_degre\n",
    "\n",
    "y_pred_modele_naif_2 = float(Xinput.loc[Xinput['ds'] == datetime_a_predire]['lag1D']) - delta_MW_because_temp\n",
    "pred_error = abs(y_true_point_horaire_cible - y_pred_modele_naif_2)\n",
    "\n",
    "print(\"Modele 2 -- pred: {}, realisee: {}, erreur: {}%\".format(y_pred_modele_naif_2, y_true_point_horaire_cible, pred_error/y_true_point_horaire_cible * 100))"
   ]
  },
  {
   "cell_type": "markdown",
   "metadata": {},
   "source": [
    "Et maintenant sur l'ensemble des points horaires :"
   ]
  },
  {
   "cell_type": "code",
   "execution_count": 42,
   "metadata": {},
   "outputs": [
    {
     "name": "stdout",
     "output_type": "stream",
     "text": [
      "6.818406826437223\n"
     ]
    }
   ],
   "source": [
    "y_pred = Xinput[\"lag1D\"]\n",
    "\n",
    "temp_prev_with_threshold = np.minimum([threshold_temperature], Xinput['Th_prev'].values)\n",
    "temp_actual_with_threshold = np.minimum([threshold_temperature], Xinput['Th_real_24h_avant'].values)\n",
    "\n",
    "delta_temp = temp_prev_with_threshold - temp_actual_with_threshold\n",
    "delta_MW_because_temp = delta_temp * delta_MW_par_degre\n",
    "\n",
    "y_pred_modele_naif_2 = Xinput[\"lag1D\"] - delta_MW_because_temp\n",
    "pred_error = (np.abs(Yconso[\"y\"] - y_pred_modele_naif_2) / Yconso[\"y\"] * 100)\n",
    "\n",
    "print(np.mean(pred_error))"
   ]
  },
  {
   "cell_type": "markdown",
   "metadata": {},
   "source": [
    "Bon... Bien essayé avec ces modèles naïfs, mais maintenant on va être plus sérieux !"
   ]
  },
  {
   "cell_type": "markdown",
   "metadata": {},
   "source": [
    "# Préparer un jeu d'entrainement et un jeu de test\n",
    "En machine learning, il y a 2 types d'erreur que l'on peut calculer : l'erreur d'entrainement et l'erreur de test. \n",
    "\n",
    "Pour évaluer la capacité de notre modèle à bien généraliser sur de nouvelles données, il est très important de se préserver un jeu de test indépendant de celui d'entrainement.\n",
    "\n",
    "Il faut donc segmenter notre dataset en 2 : \n",
    "- un premier jeu servira pour l'entrainement, \n",
    "- tandis que le second servira à mesurer les performances du modèle prédictif."
   ]
  },
  {
   "cell_type": "code",
   "execution_count": 43,
   "metadata": {},
   "outputs": [],
   "source": [
    "def prepareDataSetEntrainementTest(Xinput, Yconso, dateDebut, dateRupture, nbJourlagRegresseur=0):\n",
    "    \n",
    "    dateStart = Xinput.iloc[0]['ds']\n",
    "    \n",
    "    DateStartWithLag = dateStart + pd.Timedelta(str(nbJourlagRegresseur)+' days')  #si un a un regresseur avec du lag, il faut prendre en compte ce lag et commencer l'entrainement a la date de debut des donnees+ce lag\n",
    "    XinputTest = Xinput[(Xinput.ds >= dateRupture)]    \n",
    "\n",
    "    XinputTrain=Xinput[(Xinput.ds < dateRupture) & (Xinput.ds > DateStartWithLag) & (Xinput.ds > dateDebut)]\n",
    "    YconsoTrain=Yconso[(Yconso.ds < dateRupture) & (Yconso.ds > DateStartWithLag) & (Yconso.ds > dateDebut)]\n",
    "    YconsoTest=Yconso[(Xinput.ds >= dateRupture)]\n",
    "    \n",
    "    return XinputTrain, XinputTest, YconsoTrain, YconsoTest"
   ]
  },
  {
   "cell_type": "markdown",
   "metadata": {},
   "source": [
    "# Fonctions utilitaires"
   ]
  },
  {
   "cell_type": "markdown",
   "metadata": {},
   "source": [
    "Créons la fonction modelError qui va calculer pour un échantillon (Y, Y_hat) différents scores :\n",
    "- erreur relative moyenne (MAPE en %)\n",
    "- erreur relative max (en %)\n",
    "- rmse (en MW)\n"
   ]
  },
  {
   "cell_type": "code",
   "execution_count": 44,
   "metadata": {},
   "outputs": [],
   "source": [
    "def modelError(Y, Yhat):\n",
    "\n",
    "    Y = Y.reset_index(drop=True)\n",
    "    \n",
    "    relativeErrorsTest = np.abs((Y['y'] - Yhat) /Y['y']) \n",
    "    errorMean = np.mean(relativeErrorsTest)\n",
    "    errorMax = np.max(relativeErrorsTest)\n",
    "    rmse = np.sqrt(mean_squared_error(Y['y'], Yhat))\n",
    "   \n",
    "    return relativeErrorsTest, errorMean, errorMax, rmse"
   ]
  },
  {
   "cell_type": "code",
   "execution_count": 45,
   "metadata": {},
   "outputs": [],
   "source": [
    "def evaluation(YTrain, YTest, YTrainHat, YTestHat):\n",
    "    # Ytrain et Ytest ont deux colonnes : ds et y\n",
    "    # YtrainHat et YTestHat sont des vecteurs\n",
    "    ErreursTest, ErreurMoyenneTest, ErreurMaxTest, RMSETest = modelError(YTest, YTestHat)\n",
    "    print(\"l'erreur relative moyenne de test est de:\" + str(round(ErreurMoyenneTest*100,1))+\"%\")\n",
    "    print(\"l'erreur relative max de test est de:\" + str(round(ErreurMaxTest*100,1)) +\"%\")\n",
    "    print('le rmse de test est de:' + str(round(RMSETest,0)))\n",
    "    print()\n",
    "    ErreursTest, ErreurMoyenneTest, ErreurMaxTest, RMSETest = modelError(YTrain, YTrainHat)\n",
    "    print(\"l'erreur relative moyenne de train est de:\" + str(round(ErreurMoyenneTest*100,1))+\"%\")\n",
    "    print(\"l'erreur relative max de train est de:\" + str(round(ErreurMaxTest*100,1)) +\"%\")\n",
    "    print('le rmse de test est de:' + str(round(RMSETest,0))) "
   ]
  },
  {
   "cell_type": "code",
   "execution_count": 46,
   "metadata": {},
   "outputs": [],
   "source": [
    "def evaluation_par(X, Y, Yhat,avecJF=True):\n",
    "    Y['weekday'] = Y['ds'].dt.weekday\n",
    "    Y['hour'] = Y['ds'].dt.hour\n",
    "    if(avecJF):\n",
    "        Y['JoursFeries'] = X['JoursFeries']\n",
    "    Y['APE'] = np.abs(Y['y']-Yhat)/Y['y']\n",
    "    dataWD = Y[['weekday','APE']]\n",
    "    groupedWD = dataWD.groupby(['weekday'], as_index=True)\n",
    "    statsWD = groupedWD.aggregate([np.mean])\n",
    "    dataHour = Y[['hour','APE']]\n",
    "    groupedHour = dataHour.groupby(['hour'], as_index=True)\n",
    "    statsHour = groupedHour.aggregate([np.mean])\n",
    "    \n",
    "    if(avecJF):\n",
    "        dataJF = Y[['JoursFeries','APE']]\n",
    "        groupedJF = dataJF.groupby(['JoursFeries'], as_index=True)\n",
    "        statsJF = groupedJF.aggregate([np.mean])\n",
    "    else:\n",
    "        statsJF = None\n",
    "    \n",
    "    return statsWD, statsHour, statsJF"
   ]
  },
  {
   "cell_type": "markdown",
   "metadata": {},
   "source": [
    "# Feature engineering : préparation de Xinput"
   ]
  },
  {
   "cell_type": "code",
   "execution_count": 47,
   "metadata": {},
   "outputs": [],
   "source": [
    "Xinput = Xinput.drop(['lag1H'],axis=1)  # on supprime la consommation retardée d'une heure, non disponible pour notre exercice de prévision"
   ]
  },
  {
   "cell_type": "code",
   "execution_count": 48,
   "metadata": {},
   "outputs": [
    {
     "name": "stdout",
     "output_type": "stream",
     "text": [
      "(43368, 9)\n",
      "Index(['ds', 'holiday', 'Th_real_24h_avant', 'Th_prev', 'month', 'hour',\n",
      "       'weekday', 'lag1D', 'lag1W'],\n",
      "      dtype='object')\n"
     ]
    }
   ],
   "source": [
    "print(Xinput.shape)\n",
    "print(Xinput.columns)"
   ]
  },
  {
   "cell_type": "markdown",
   "metadata": {},
   "source": [
    "On encode les données calendaires en one-hot encoding pour le modèle.\n",
    "Cet encodage est nécessaire pour que le modèle mathématique puisse appréhender la notion de date."
   ]
  },
  {
   "cell_type": "code",
   "execution_count": 49,
   "metadata": {},
   "outputs": [],
   "source": [
    "encodedWeekDay = pd.get_dummies(Xinput['weekday'],prefix=\"weekday\")\n",
    "encodedMonth = pd.get_dummies(Xinput['month'],prefix=\"month\")\n",
    "encodedHour = pd.get_dummies(Xinput['hour'],prefix=\"hour\")"
   ]
  },
  {
   "cell_type": "code",
   "execution_count": 50,
   "metadata": {},
   "outputs": [
    {
     "data": {
      "text/html": [
       "<div>\n",
       "<style scoped>\n",
       "    .dataframe tbody tr th:only-of-type {\n",
       "        vertical-align: middle;\n",
       "    }\n",
       "\n",
       "    .dataframe tbody tr th {\n",
       "        vertical-align: top;\n",
       "    }\n",
       "\n",
       "    .dataframe thead th {\n",
       "        text-align: right;\n",
       "    }\n",
       "</style>\n",
       "<table border=\"1\" class=\"dataframe\">\n",
       "  <thead>\n",
       "    <tr style=\"text-align: right;\">\n",
       "      <th></th>\n",
       "      <th>weekday_0</th>\n",
       "      <th>weekday_1</th>\n",
       "    </tr>\n",
       "  </thead>\n",
       "  <tbody>\n",
       "    <tr>\n",
       "      <th>0</th>\n",
       "      <td>0</td>\n",
       "      <td>1</td>\n",
       "    </tr>\n",
       "    <tr>\n",
       "      <th>1</th>\n",
       "      <td>0</td>\n",
       "      <td>1</td>\n",
       "    </tr>\n",
       "    <tr>\n",
       "      <th>2</th>\n",
       "      <td>0</td>\n",
       "      <td>1</td>\n",
       "    </tr>\n",
       "  </tbody>\n",
       "</table>\n",
       "</div>"
      ],
      "text/plain": [
       "   weekday_0  weekday_1\n",
       "0          0          1\n",
       "1          0          1\n",
       "2          0          1"
      ]
     },
     "execution_count": 50,
     "metadata": {},
     "output_type": "execute_result"
    }
   ],
   "source": [
    "encodedWeekDay.head(3)"
   ]
  },
  {
   "cell_type": "code",
   "execution_count": 51,
   "metadata": {},
   "outputs": [
    {
     "data": {
      "text/html": [
       "<div>\n",
       "<style scoped>\n",
       "    .dataframe tbody tr th:only-of-type {\n",
       "        vertical-align: middle;\n",
       "    }\n",
       "\n",
       "    .dataframe tbody tr th {\n",
       "        vertical-align: top;\n",
       "    }\n",
       "\n",
       "    .dataframe thead th {\n",
       "        text-align: right;\n",
       "    }\n",
       "</style>\n",
       "<table border=\"1\" class=\"dataframe\">\n",
       "  <thead>\n",
       "    <tr style=\"text-align: right;\">\n",
       "      <th></th>\n",
       "      <th>month_1</th>\n",
       "      <th>month_2</th>\n",
       "      <th>month_3</th>\n",
       "      <th>month_4</th>\n",
       "      <th>month_5</th>\n",
       "      <th>month_6</th>\n",
       "      <th>month_7</th>\n",
       "      <th>month_8</th>\n",
       "      <th>month_9</th>\n",
       "      <th>month_10</th>\n",
       "      <th>month_11</th>\n",
       "      <th>month_12</th>\n",
       "    </tr>\n",
       "  </thead>\n",
       "  <tbody>\n",
       "    <tr>\n",
       "      <th>0</th>\n",
       "      <td>1</td>\n",
       "      <td>0</td>\n",
       "      <td>0</td>\n",
       "      <td>0</td>\n",
       "      <td>0</td>\n",
       "      <td>0</td>\n",
       "      <td>0</td>\n",
       "      <td>0</td>\n",
       "      <td>0</td>\n",
       "      <td>0</td>\n",
       "      <td>0</td>\n",
       "      <td>0</td>\n",
       "    </tr>\n",
       "    <tr>\n",
       "      <th>1</th>\n",
       "      <td>1</td>\n",
       "      <td>0</td>\n",
       "      <td>0</td>\n",
       "      <td>0</td>\n",
       "      <td>0</td>\n",
       "      <td>0</td>\n",
       "      <td>0</td>\n",
       "      <td>0</td>\n",
       "      <td>0</td>\n",
       "      <td>0</td>\n",
       "      <td>0</td>\n",
       "      <td>0</td>\n",
       "    </tr>\n",
       "    <tr>\n",
       "      <th>2</th>\n",
       "      <td>1</td>\n",
       "      <td>0</td>\n",
       "      <td>0</td>\n",
       "      <td>0</td>\n",
       "      <td>0</td>\n",
       "      <td>0</td>\n",
       "      <td>0</td>\n",
       "      <td>0</td>\n",
       "      <td>0</td>\n",
       "      <td>0</td>\n",
       "      <td>0</td>\n",
       "      <td>0</td>\n",
       "    </tr>\n",
       "  </tbody>\n",
       "</table>\n",
       "</div>"
      ],
      "text/plain": [
       "   month_1  month_2  month_3  month_4  month_5  month_6  month_7  month_8  \\\n",
       "0        1        0        0        0        0        0        0        0   \n",
       "1        1        0        0        0        0        0        0        0   \n",
       "2        1        0        0        0        0        0        0        0   \n",
       "\n",
       "   month_9  month_10  month_11  month_12  \n",
       "0        0         0         0         0  \n",
       "1        0         0         0         0  \n",
       "2        0         0         0         0  "
      ]
     },
     "execution_count": 51,
     "metadata": {},
     "output_type": "execute_result"
    }
   ],
   "source": [
    "encodedMonth.head(3)"
   ]
  },
  {
   "cell_type": "code",
   "execution_count": 52,
   "metadata": {},
   "outputs": [
    {
     "data": {
      "text/html": [
       "<div>\n",
       "<style scoped>\n",
       "    .dataframe tbody tr th:only-of-type {\n",
       "        vertical-align: middle;\n",
       "    }\n",
       "\n",
       "    .dataframe tbody tr th {\n",
       "        vertical-align: top;\n",
       "    }\n",
       "\n",
       "    .dataframe thead th {\n",
       "        text-align: right;\n",
       "    }\n",
       "</style>\n",
       "<table border=\"1\" class=\"dataframe\">\n",
       "  <thead>\n",
       "    <tr style=\"text-align: right;\">\n",
       "      <th></th>\n",
       "      <th>hour_0</th>\n",
       "      <th>hour_1</th>\n",
       "      <th>hour_2</th>\n",
       "      <th>hour_3</th>\n",
       "      <th>hour_4</th>\n",
       "      <th>hour_5</th>\n",
       "      <th>hour_6</th>\n",
       "      <th>hour_7</th>\n",
       "      <th>hour_8</th>\n",
       "      <th>hour_9</th>\n",
       "      <th>...</th>\n",
       "      <th>hour_14</th>\n",
       "      <th>hour_15</th>\n",
       "      <th>hour_16</th>\n",
       "      <th>hour_17</th>\n",
       "      <th>hour_18</th>\n",
       "      <th>hour_19</th>\n",
       "      <th>hour_20</th>\n",
       "      <th>hour_21</th>\n",
       "      <th>hour_22</th>\n",
       "      <th>hour_23</th>\n",
       "    </tr>\n",
       "  </thead>\n",
       "  <tbody>\n",
       "    <tr>\n",
       "      <th>0</th>\n",
       "      <td>1</td>\n",
       "      <td>0</td>\n",
       "      <td>0</td>\n",
       "      <td>0</td>\n",
       "      <td>0</td>\n",
       "      <td>0</td>\n",
       "      <td>0</td>\n",
       "      <td>0</td>\n",
       "      <td>0</td>\n",
       "      <td>0</td>\n",
       "      <td>...</td>\n",
       "      <td>0</td>\n",
       "      <td>0</td>\n",
       "      <td>0</td>\n",
       "      <td>0</td>\n",
       "      <td>0</td>\n",
       "      <td>0</td>\n",
       "      <td>0</td>\n",
       "      <td>0</td>\n",
       "      <td>0</td>\n",
       "      <td>0</td>\n",
       "    </tr>\n",
       "    <tr>\n",
       "      <th>1</th>\n",
       "      <td>0</td>\n",
       "      <td>1</td>\n",
       "      <td>0</td>\n",
       "      <td>0</td>\n",
       "      <td>0</td>\n",
       "      <td>0</td>\n",
       "      <td>0</td>\n",
       "      <td>0</td>\n",
       "      <td>0</td>\n",
       "      <td>0</td>\n",
       "      <td>...</td>\n",
       "      <td>0</td>\n",
       "      <td>0</td>\n",
       "      <td>0</td>\n",
       "      <td>0</td>\n",
       "      <td>0</td>\n",
       "      <td>0</td>\n",
       "      <td>0</td>\n",
       "      <td>0</td>\n",
       "      <td>0</td>\n",
       "      <td>0</td>\n",
       "    </tr>\n",
       "    <tr>\n",
       "      <th>2</th>\n",
       "      <td>0</td>\n",
       "      <td>0</td>\n",
       "      <td>1</td>\n",
       "      <td>0</td>\n",
       "      <td>0</td>\n",
       "      <td>0</td>\n",
       "      <td>0</td>\n",
       "      <td>0</td>\n",
       "      <td>0</td>\n",
       "      <td>0</td>\n",
       "      <td>...</td>\n",
       "      <td>0</td>\n",
       "      <td>0</td>\n",
       "      <td>0</td>\n",
       "      <td>0</td>\n",
       "      <td>0</td>\n",
       "      <td>0</td>\n",
       "      <td>0</td>\n",
       "      <td>0</td>\n",
       "      <td>0</td>\n",
       "      <td>0</td>\n",
       "    </tr>\n",
       "  </tbody>\n",
       "</table>\n",
       "<p>3 rows × 24 columns</p>\n",
       "</div>"
      ],
      "text/plain": [
       "   hour_0  hour_1  hour_2  hour_3  hour_4  hour_5  hour_6  hour_7  hour_8  \\\n",
       "0       1       0       0       0       0       0       0       0       0   \n",
       "1       0       1       0       0       0       0       0       0       0   \n",
       "2       0       0       1       0       0       0       0       0       0   \n",
       "\n",
       "   hour_9  ...  hour_14  hour_15  hour_16  hour_17  hour_18  hour_19  hour_20  \\\n",
       "0       0  ...        0        0        0        0        0        0        0   \n",
       "1       0  ...        0        0        0        0        0        0        0   \n",
       "2       0  ...        0        0        0        0        0        0        0   \n",
       "\n",
       "   hour_21  hour_22  hour_23  \n",
       "0        0        0        0  \n",
       "1        0        0        0  \n",
       "2        0        0        0  \n",
       "\n",
       "[3 rows x 24 columns]"
      ]
     },
     "execution_count": 52,
     "metadata": {},
     "output_type": "execute_result"
    }
   ],
   "source": [
    "encodedHour.head(3)"
   ]
  },
  {
   "cell_type": "code",
   "execution_count": 53,
   "metadata": {},
   "outputs": [],
   "source": [
    "Xinput = pd.concat([Xinput, encodedMonth, encodedWeekDay, encodedHour], axis=1)\n",
    "Xinput = Xinput.drop(['month','weekday','hour'],axis=1)"
   ]
  },
  {
   "cell_type": "code",
   "execution_count": 54,
   "metadata": {},
   "outputs": [
    {
     "name": "stdout",
     "output_type": "stream",
     "text": [
      "(43368, 44)\n",
      "Index(['ds', 'holiday', 'Th_real_24h_avant', 'Th_prev', 'lag1D', 'lag1W',\n",
      "       'month_1', 'month_2', 'month_3', 'month_4', 'month_5', 'month_6',\n",
      "       'month_7', 'month_8', 'month_9', 'month_10', 'month_11', 'month_12',\n",
      "       'weekday_0', 'weekday_1', 'hour_0', 'hour_1', 'hour_2', 'hour_3',\n",
      "       'hour_4', 'hour_5', 'hour_6', 'hour_7', 'hour_8', 'hour_9', 'hour_10',\n",
      "       'hour_11', 'hour_12', 'hour_13', 'hour_14', 'hour_15', 'hour_16',\n",
      "       'hour_17', 'hour_18', 'hour_19', 'hour_20', 'hour_21', 'hour_22',\n",
      "       'hour_23'],\n",
      "      dtype='object')\n"
     ]
    }
   ],
   "source": [
    "print(Xinput.shape)\n",
    "print(Xinput.columns)"
   ]
  },
  {
   "cell_type": "code",
   "execution_count": 55,
   "metadata": {},
   "outputs": [],
   "source": [
    "# Récupération des prévisions météo à J+1 pour la veille\n",
    "colsToKeepWeather = [s for s in Xinput.columns.get_values() if 'Th_prev' in s]\n",
    "lag_colsToKeepWeather = [ s + \"_J_1\" for s in colsToKeepWeather ]\n",
    "Xinput[lag_colsToKeepWeather] = Xinput[colsToKeepWeather].shift(24)\n",
    "time = pd.to_datetime(Xinput['ds'], yearfirst=True,utc=True)\n",
    "Xinput['posan']= time.dt.dayofyear"
   ]
  },
  {
   "cell_type": "code",
   "execution_count": 56,
   "metadata": {},
   "outputs": [],
   "source": [
    "#Récupération des jours fériés dans Xinput\n",
    "encodedHolidays = pd.get_dummies(Xinput[['holiday']], prefix = \"JF\")\n",
    "encodedHolidays['JoursFeries'] = encodedHolidays.sum(axis = 1)\n",
    "Xinput = pd.concat([Xinput, encodedHolidays], axis = 1)\n",
    "Xinput = Xinput.drop(['holiday'], axis = 1)"
   ]
  },
  {
   "cell_type": "markdown",
   "metadata": {},
   "source": [
    "On ajoute des températures seuillées, à 15°C pour l'effet chauffage, et à 18°C pour l'effet climatisation."
   ]
  },
  {
   "cell_type": "code",
   "execution_count": 57,
   "metadata": {},
   "outputs": [],
   "source": [
    "threshold_temperature_heat = 15\n",
    "threshold_temperature_cool = 18\n",
    "\n",
    "Xinput['temp_prev_with_threshold_heat'] = np.maximum(0, threshold_temperature_heat - Xinput['Th_prev'].values)\n",
    "Xinput['temp_prev_with_threshold_cool'] = np.maximum(0, Xinput['Th_prev'].values - threshold_temperature_cool)"
   ]
  },
  {
   "cell_type": "code",
   "execution_count": 58,
   "metadata": {},
   "outputs": [
    {
     "data": {
      "text/plain": [
       "['ds',\n",
       " 'Th_real_24h_avant',\n",
       " 'Th_prev',\n",
       " 'lag1D',\n",
       " 'lag1W',\n",
       " 'month_1',\n",
       " 'month_2',\n",
       " 'month_3',\n",
       " 'month_4',\n",
       " 'month_5',\n",
       " 'month_6',\n",
       " 'month_7',\n",
       " 'month_8',\n",
       " 'month_9',\n",
       " 'month_10',\n",
       " 'month_11',\n",
       " 'month_12',\n",
       " 'weekday_0',\n",
       " 'weekday_1',\n",
       " 'hour_0',\n",
       " 'hour_1',\n",
       " 'hour_2',\n",
       " 'hour_3',\n",
       " 'hour_4',\n",
       " 'hour_5',\n",
       " 'hour_6',\n",
       " 'hour_7',\n",
       " 'hour_8',\n",
       " 'hour_9',\n",
       " 'hour_10',\n",
       " 'hour_11',\n",
       " 'hour_12',\n",
       " 'hour_13',\n",
       " 'hour_14',\n",
       " 'hour_15',\n",
       " 'hour_16',\n",
       " 'hour_17',\n",
       " 'hour_18',\n",
       " 'hour_19',\n",
       " 'hour_20',\n",
       " 'hour_21',\n",
       " 'hour_22',\n",
       " 'hour_23',\n",
       " 'Th_prev_J_1',\n",
       " 'posan',\n",
       " 'JF_11Novembre',\n",
       " 'JF_1erMai',\n",
       " 'JF_8Mai',\n",
       " 'JF_Ascension',\n",
       " 'JF_Assomption',\n",
       " 'JF_FeteNationale',\n",
       " 'JF_Noel',\n",
       " 'JF_NouvelAn',\n",
       " 'JF_Paques',\n",
       " 'JF_Pentecote',\n",
       " 'JF_Toussaint',\n",
       " 'JoursFeries',\n",
       " 'temp_prev_with_threshold_heat',\n",
       " 'temp_prev_with_threshold_cool']"
      ]
     },
     "execution_count": 58,
     "metadata": {},
     "output_type": "execute_result"
    }
   ],
   "source": [
    "#affichage de toutes les variables de base\n",
    "list(Xinput) #list plutôt que print pour avoir la liste complète"
   ]
  },
  {
   "cell_type": "markdown",
   "metadata": {},
   "source": [
    "Enfin, nous construisons les listes pour appeler plus rapidement les colonnes d'un même type."
   ]
  },
  {
   "cell_type": "code",
   "execution_count": 59,
   "metadata": {},
   "outputs": [],
   "source": [
    "colsToKeepWeather = [s for s in Xinput.columns.get_values() if 'Th_prev' in s]\n",
    "colsToKeepMonth = [v for v in Xinput.columns.get_values() if 'month' in v]\n",
    "colsToKeepWeekday = [v for v in Xinput.columns.get_values() if 'weekday' in v]\n",
    "colsToKeepHour = [v for v in Xinput.columns.get_values() if 'hour' in v]\n",
    "colsToKeepHolidays = [v for v in Xinput.columns.get_values() if 'JF_' in v]"
   ]
  },
  {
   "cell_type": "markdown",
   "metadata": {},
   "source": [
    "# Construction des jeux d'entrainement et de test"
   ]
  },
  {
   "cell_type": "code",
   "execution_count": 60,
   "metadata": {},
   "outputs": [],
   "source": [
    "# on souhaite un jeu de test qui commence à partir du 1er mai 2017\n",
    "dateDebut = pytz.utc.localize( datetime.datetime(year=2014, month=1, day=15))#pour éviter les NaN dans le jeu de données\n",
    "dateRupture = pytz.utc.localize(datetime.datetime(year=2017, month=12, day=1))#début du challenge prevision de conso\n",
    "nbJourlagRegresseur = 0"
   ]
  },
  {
   "cell_type": "code",
   "execution_count": 61,
   "metadata": {},
   "outputs": [
    {
     "data": {
      "text/html": [
       "<div>\n",
       "<style scoped>\n",
       "    .dataframe tbody tr th:only-of-type {\n",
       "        vertical-align: middle;\n",
       "    }\n",
       "\n",
       "    .dataframe tbody tr th {\n",
       "        vertical-align: top;\n",
       "    }\n",
       "\n",
       "    .dataframe thead th {\n",
       "        text-align: right;\n",
       "    }\n",
       "</style>\n",
       "<table border=\"1\" class=\"dataframe\">\n",
       "  <thead>\n",
       "    <tr style=\"text-align: right;\">\n",
       "      <th></th>\n",
       "      <th>ds</th>\n",
       "      <th>y</th>\n",
       "    </tr>\n",
       "  </thead>\n",
       "  <tbody>\n",
       "    <tr>\n",
       "      <th>43363</th>\n",
       "      <td>2018-12-19 19:00:00+00:00</td>\n",
       "      <td>75670</td>\n",
       "    </tr>\n",
       "    <tr>\n",
       "      <th>43364</th>\n",
       "      <td>2018-12-19 20:00:00+00:00</td>\n",
       "      <td>73068</td>\n",
       "    </tr>\n",
       "    <tr>\n",
       "      <th>43365</th>\n",
       "      <td>2018-12-19 21:00:00+00:00</td>\n",
       "      <td>68589</td>\n",
       "    </tr>\n",
       "    <tr>\n",
       "      <th>43366</th>\n",
       "      <td>2018-12-19 22:00:00+00:00</td>\n",
       "      <td>65288</td>\n",
       "    </tr>\n",
       "    <tr>\n",
       "      <th>43367</th>\n",
       "      <td>2018-12-19 23:00:00+00:00</td>\n",
       "      <td>67766</td>\n",
       "    </tr>\n",
       "  </tbody>\n",
       "</table>\n",
       "</div>"
      ],
      "text/plain": [
       "                             ds      y\n",
       "43363 2018-12-19 19:00:00+00:00  75670\n",
       "43364 2018-12-19 20:00:00+00:00  73068\n",
       "43365 2018-12-19 21:00:00+00:00  68589\n",
       "43366 2018-12-19 22:00:00+00:00  65288\n",
       "43367 2018-12-19 23:00:00+00:00  67766"
      ]
     },
     "execution_count": 61,
     "metadata": {},
     "output_type": "execute_result"
    }
   ],
   "source": [
    "Yconso.tail()"
   ]
  },
  {
   "cell_type": "code",
   "execution_count": 62,
   "metadata": {},
   "outputs": [],
   "source": [
    "XinputTrain, XinputTest, YconsoTrain, YconsoTest = prepareDataSetEntrainementTest(Xinput, Yconso, \n",
    "                                                                                  dateDebut, dateRupture, \n",
    "                                                                                  nbJourlagRegresseur)"
   ]
  },
  {
   "cell_type": "code",
   "execution_count": 63,
   "metadata": {
    "scrolled": false
   },
   "outputs": [
    {
     "name": "stdout",
     "output_type": "stream",
     "text": [
      "la taille de l échantillon XinputTrain est:(33983, 59)\n",
      "la taille de l échantillon XinputTest est:(9216, 59)\n",
      "la taille de l échantillon YconsoTrain est:(33983, 2)\n",
      "la taille de l échantillon YconsoTest est:(9216, 2)\n",
      "la proportion de data d'entrainement est de:0.7866617282807472\n"
     ]
    }
   ],
   "source": [
    "print('la taille de l échantillon XinputTrain est:' + str(XinputTrain.shape))\n",
    "print('la taille de l échantillon XinputTest est:' + str(XinputTest.shape))\n",
    "print('la taille de l échantillon YconsoTrain est:' + str(YconsoTrain.shape))\n",
    "print('la taille de l échantillon YconsoTest est:' + str(YconsoTest.shape))\n",
    "print(\"la proportion de data d'entrainement est de:\" + str(YconsoTrain.shape[0] / (YconsoTrain.shape[0] + YconsoTest.shape[0])))"
   ]
  },
  {
   "cell_type": "markdown",
   "metadata": {},
   "source": [
    "## Test des fonctions sur le modèle expert\n",
    "\n",
    "Recalculons les prévisions à l'aide des deux modèles experts et évaluons ces deux approches :\n",
    "\n",
    "### Modèle naïf 1"
   ]
  },
  {
   "cell_type": "code",
   "execution_count": 64,
   "metadata": {
    "scrolled": true
   },
   "outputs": [
    {
     "name": "stdout",
     "output_type": "stream",
     "text": [
      "l'erreur relative moyenne de test est de:5.7%\n",
      "l'erreur relative max de test est de:37.8%\n",
      "le rmse de test est de:4528.0\n",
      "\n",
      "l'erreur relative moyenne de train est de:5.8%\n",
      "l'erreur relative max de train est de:41.0%\n",
      "le rmse de test est de:4590.0\n"
     ]
    }
   ],
   "source": [
    "pred_train_naif1= XinputTrain[\"lag1D\"]\n",
    "pred_test_naif1= XinputTest[\"lag1D\"]\n",
    "evaluation(YconsoTrain, YconsoTest,  pred_train_naif1.values,pred_test_naif1.values)\n"
   ]
  },
  {
   "cell_type": "markdown",
   "metadata": {},
   "source": [
    "### Modèle naïf 2"
   ]
  },
  {
   "cell_type": "code",
   "execution_count": 65,
   "metadata": {},
   "outputs": [
    {
     "name": "stdout",
     "output_type": "stream",
     "text": [
      "l'erreur relative moyenne de test est de:6.7%\n",
      "l'erreur relative max de test est de:40.1%\n",
      "le rmse de test est de:5015.0\n",
      "\n",
      "l'erreur relative moyenne de train est de:6.9%\n",
      "l'erreur relative max de train est de:44.1%\n",
      "le rmse de test est de:5045.0\n"
     ]
    }
   ],
   "source": [
    "# prévision train\n",
    "temp_prev_with_threshold = np.minimum([threshold_temperature], XinputTrain['Th_prev'].values)\n",
    "temp_actual_with_threshold = np.minimum([threshold_temperature], XinputTrain['Th_real_24h_avant'].values)\n",
    "\n",
    "delta_temp = temp_prev_with_threshold - temp_actual_with_threshold\n",
    "delta_MW_because_temp = delta_temp * delta_MW_par_degre\n",
    "\n",
    "pred_train_naif2 = XinputTrain[\"lag1D\"] - delta_MW_because_temp\n",
    "\n",
    "\n",
    "# prévision test\n",
    "temp_prev_with_threshold = np.minimum([threshold_temperature], XinputTest['Th_prev'].values)\n",
    "temp_actual_with_threshold = np.minimum([threshold_temperature], XinputTest['Th_real_24h_avant'].values)\n",
    "\n",
    "delta_temp = temp_prev_with_threshold - temp_actual_with_threshold\n",
    "delta_MW_because_temp = delta_temp * delta_MW_par_degre\n",
    "pred_test_naif2 = XinputTest[\"lag1D\"] - delta_MW_because_temp\n",
    "\n",
    "# scores\n",
    "evaluation(YconsoTrain, YconsoTest,  pred_train_naif2.values,pred_test_naif2.values)\n"
   ]
  },
  {
   "cell_type": "markdown",
   "metadata": {},
   "source": [
    "\n",
    "# Régression linéaire simple\n",
    "\n",
    "Le modèle naïf avec expertise métier a été inspiré de la forme de la courbe d'évolution de la consommation en fonction de la température en France. \n",
    "Pour rappel:"
   ]
  },
  {
   "cell_type": "code",
   "execution_count": 66,
   "metadata": {},
   "outputs": [
    {
     "data": {
      "image/png": "[encoded data removed]",
      "text/plain": [
       "<Figure size 432x288 with 1 Axes>"
      ]
     },
     "metadata": {
      "needs_background": "light"
     },
     "output_type": "display_data"
    }
   ],
   "source": [
    "plt.scatter(Xinput['Th_prev'], Yconso['y'], alpha=0.2)\n",
    "plt.show()"
   ]
  },
  {
   "cell_type": "markdown",
   "metadata": {},
   "source": [
    "La consommation pourrait être modélisée par une fonction linéaire par morceaux de la température, avec une pente plus importante pour les températures froides que pour les températures élevées. Au lieu de fixer les gradients à 2400MW/°C et 0, ceux-ci pourraient être calibrés à partir des données.\n"
   ]
  },
  {
   "cell_type": "markdown",
   "metadata": {},
   "source": [
    "## Entrainer un modèle\n",
    "Notre modèle a des paramètres qu'il va falloir maintenant apprendre au vu de notre jeu d'entrainement. Il faut donc caler notre modèle sur ce jeu d'entrainement."
   ]
  },
  {
   "cell_type": "code",
   "execution_count": 67,
   "metadata": {},
   "outputs": [],
   "source": [
    "colsLR_simple = np.concatenate(([s for s in XinputTrain.columns.get_values() if 'temp_prev_with_' in s], colsToKeepHour, colsToKeepWeekday, colsToKeepMonth))\n",
    "\n",
    "mTrain = linear_model.LinearRegression(fit_intercept = False)"
   ]
  },
  {
   "cell_type": "code",
   "execution_count": 68,
   "metadata": {
    "scrolled": true
   },
   "outputs": [
    {
     "name": "stdout",
     "output_type": "stream",
     "text": [
      "                         variable          coefficient\n",
      "0   temp_prev_with_threshold_heat   1417.5408370287034\n",
      "1   temp_prev_with_threshold_cool   0.6471653906410211\n",
      "2                          hour_0    3098.775040720738\n",
      "3                          hour_1  -2066.9583380855724\n",
      "4                          hour_2  -3511.4932768077015\n",
      "5                          hour_3   -6077.362917274427\n",
      "6                          hour_4   -8196.570957403468\n",
      "7                          hour_5   -8260.652473239421\n",
      "8                          hour_6   -5607.051928846613\n",
      "9                          hour_7     -683.41801400479\n",
      "10                         hour_8   3508.5496977590556\n",
      "11                         hour_9    6335.179156112747\n",
      "12                        hour_10    8421.447486944651\n",
      "13                        hour_11    9506.724985011435\n",
      "14                        hour_12   10731.706599402887\n",
      "15                        hour_13   11246.316701793201\n",
      "16                        hour_14    9246.352869510982\n",
      "17                        hour_15   7465.6354907082705\n",
      "18                        hour_16    5702.515841076281\n",
      "19                        hour_17    4520.672376876289\n",
      "20                        hour_18    5446.123772122488\n",
      "21                        hour_19    7746.611704997454\n",
      "22                        hour_20     6748.06263926849\n",
      "23                        hour_21   3789.7556642893783\n",
      "24                        hour_22   1630.1601536851997\n",
      "25                        hour_23   4478.1456791067885\n",
      "26                      weekday_0    34305.94819814215\n",
      "27                      weekday_1   40913.279755582196\n",
      "28                        month_1   14436.810633475787\n",
      "29                        month_2    13049.66921016982\n",
      "30                        month_3    8916.196840524544\n",
      "31                        month_4   4015.3487401742836\n",
      "32                        month_5   1880.2564850168471\n",
      "33                        month_6   3069.8113175787157\n",
      "34                        month_7    3333.260362869208\n",
      "35                        month_8   7.9243999091421875\n",
      "36                        month_9    2843.077580960615\n",
      "37                       month_10   4592.9134388354805\n",
      "38                       month_11    8606.733927545376\n",
      "39                       month_12   10467.225016664484\n"
     ]
    }
   ],
   "source": [
    "mTrain.fit(XinputTrain[colsLR_simple], YconsoTrain[['y']])\n",
    "coef_joli = pd.DataFrame(np.concatenate(( np.array([colsLR_simple]).T,mTrain.coef_.T),axis=1),columns = ['variable','coefficient'])\n",
    "print(coef_joli)\n"
   ]
  },
  {
   "cell_type": "markdown",
   "metadata": {},
   "source": [
    "* Commentez les coefficients de régression obtenus. \n",
    "* Comparez notamment les gradients obtenus avec le modèle naïf."
   ]
  },
  {
   "cell_type": "markdown",
   "metadata": {},
   "source": [
    "## Faire des prédictions\n",
    "Une fois qu'un modèle de prévision est entrainé, il ne s'avère utile que s'il est performant sur de nouvelles situations. Faisons une prévision sur notre jeu de test."
   ]
  },
  {
   "cell_type": "code",
   "execution_count": 69,
   "metadata": {},
   "outputs": [],
   "source": [
    "forecastTest = np.concatenate(mTrain.predict(XinputTest[colsLR_simple]))\n",
    "forecastTrain = np.concatenate(mTrain.predict(XinputTrain[colsLR_simple]))"
   ]
  },
  {
   "cell_type": "code",
   "execution_count": 70,
   "metadata": {
    "scrolled": true
   },
   "outputs": [
    {
     "data": {
      "image/png": "[encoded data removed]",
      "text/plain": [
       "<Figure size 432x288 with 1 Axes>"
      ]
     },
     "metadata": {
      "needs_background": "light"
     },
     "output_type": "display_data"
    },
    {
     "data": {
      "image/png": "[encoded data removed]",
      "text/plain": [
       "<Figure size 432x288 with 1 Axes>"
      ]
     },
     "metadata": {
      "needs_background": "light"
     },
     "output_type": "display_data"
    }
   ],
   "source": [
    "# on visualise nos previsions \n",
    "\n",
    "plt.scatter(forecastTest, YconsoTest[['y']])\n",
    "plt.show()\n",
    "\n",
    "plt.plot(YconsoTest['ds'], YconsoTest['y'], 'b', YconsoTest['ds'], forecastTest, 'r')\n",
    "plt.show()"
   ]
  },
  {
   "cell_type": "markdown",
   "metadata": {},
   "source": [
    "## Interpreter le modèle \n",
    "Au vu des visualisations précédentes :\n",
    "- quelles interprétations pouvez-vous faire du modèle?\n",
    "- Comment varie le comportement de la courbe de consommation?"
   ]
  },
  {
   "cell_type": "markdown",
   "metadata": {},
   "source": [
    "## Evaluer l'erreur de prévision\n",
    "Quelle est la performance de notre modèle sur ce jeu de test ?"
   ]
  },
  {
   "cell_type": "code",
   "execution_count": 71,
   "metadata": {
    "scrolled": true
   },
   "outputs": [
    {
     "name": "stdout",
     "output_type": "stream",
     "text": [
      "l'erreur relative moyenne de test est de:5.2%\n",
      "l'erreur relative max de test est de:40.1%\n",
      "le rmse de test est de:3675.0\n",
      "\n",
      "l'erreur relative moyenne de train est de:5.1%\n",
      "l'erreur relative max de train est de:52.7%\n",
      "le rmse de test est de:3388.0\n"
     ]
    }
   ],
   "source": [
    "evaluation(YconsoTrain, YconsoTest, forecastTrain,  forecastTest)"
   ]
  },
  {
   "cell_type": "markdown",
   "metadata": {},
   "source": [
    "## Enquêter autour des erreurs de prévision"
   ]
  },
  {
   "cell_type": "markdown",
   "metadata": {},
   "source": [
    "### Evaluation en fonction du jour de semaine, de l'heure, si jour férié ou non"
   ]
  },
  {
   "cell_type": "markdown",
   "metadata": {},
   "source": [
    "### Comment se distribue l'erreur ?"
   ]
  },
  {
   "cell_type": "code",
   "execution_count": 72,
   "metadata": {},
   "outputs": [],
   "source": [
    "erreur_relative_test, erreur_moyenne_test, erreur_max_test, rmse = modelError(YconsoTest, forecastTest)"
   ]
  },
  {
   "cell_type": "code",
   "execution_count": 73,
   "metadata": {},
   "outputs": [
    {
     "data": {
      "image/png": "[encoded data removed]",
      "text/plain": [
       "<Figure size 432x288 with 1 Axes>"
      ]
     },
     "metadata": {
      "needs_background": "light"
     },
     "output_type": "display_data"
    }
   ],
   "source": [
    "num_bins = 100\n",
    "plt.hist(erreur_relative_test, num_bins)\n",
    "plt.show()"
   ]
  },
  {
   "cell_type": "markdown",
   "metadata": {},
   "source": [
    "### A quel moment se trompe-t-on le plus ?"
   ]
  },
  {
   "cell_type": "code",
   "execution_count": 74,
   "metadata": {},
   "outputs": [
    {
     "data": {
      "image/png": "[encoded data removed]",
      "text/plain": [
       "<Figure size 432x288 with 1 Axes>"
      ]
     },
     "metadata": {
      "needs_background": "light"
     },
     "output_type": "display_data"
    }
   ],
   "source": [
    "plt.plot(YconsoTest['ds'], erreur_relative_test, 'r')\n",
    "plt.title(\"erreur relative sur la periode de test\")\n",
    "plt.show()"
   ]
  },
  {
   "cell_type": "code",
   "execution_count": 75,
   "metadata": {},
   "outputs": [
    {
     "data": {
      "text/plain": [
       "0    0.005789\n",
       "1    0.008707\n",
       "2    0.014343\n",
       "3    0.021133\n",
       "4    0.025835\n",
       "Name: y, dtype: float64"
      ]
     },
     "execution_count": 75,
     "metadata": {},
     "output_type": "execute_result"
    }
   ],
   "source": [
    "erreur_relative_test.head()"
   ]
  },
  {
   "cell_type": "code",
   "execution_count": 76,
   "metadata": {},
   "outputs": [
    {
     "name": "stdout",
     "output_type": "stream",
     "text": [
      "                           date      y     prev\n",
      "583   2017-12-25 07:00:00+00:00  53135    64922\n",
      "584   2017-12-25 08:00:00+00:00  54321  68854.2\n",
      "585   2017-12-25 09:00:00+00:00  55134  71127.7\n",
      "586   2017-12-25 10:00:00+00:00  57603  72090.5\n",
      "587   2017-12-25 11:00:00+00:00  59479  71283.6\n",
      "591   2017-12-25 15:00:00+00:00  55844    66877\n",
      "592   2017-12-25 16:00:00+00:00  55056  65971.7\n",
      "750   2018-01-01 06:00:00+00:00  50751  60475.6\n",
      "751   2018-01-01 07:00:00+00:00  51180    65290\n",
      "752   2018-01-01 08:00:00+00:00  51462  69241.4\n",
      "753   2018-01-01 09:00:00+00:00  51035    71515\n",
      "754   2018-01-01 10:00:00+00:00  52495  72823.8\n",
      "755   2018-01-01 11:00:00+00:00  54658  73138.2\n",
      "756   2018-01-01 12:00:00+00:00  57169  73718.8\n",
      "757   2018-01-01 13:00:00+00:00  59666  74040.8\n",
      "758   2018-01-01 14:00:00+00:00  57285  72211.9\n",
      "759   2018-01-01 15:00:00+00:00  55044  70862.9\n",
      "760   2018-01-01 16:00:00+00:00  54649  69633.1\n",
      "761   2018-01-01 17:00:00+00:00  55705  68971.4\n",
      "896   2018-01-07 08:00:00+00:00  53629  64400.3\n",
      "897   2018-01-07 09:00:00+00:00  55055  67067.7\n",
      "2162  2018-03-01 02:00:00+00:00  82426  66785.9\n",
      "2163  2018-03-01 03:00:00+00:00  80029  64216.4\n",
      "2164  2018-03-01 04:00:00+00:00  77627  62102.3\n",
      "2165  2018-03-01 05:00:00+00:00  77301  62118.8\n",
      "2166  2018-03-01 06:00:00+00:00  80211  64673.9\n",
      "2167  2018-03-01 07:00:00+00:00  85160  69073.3\n",
      "2172  2018-03-01 12:00:00+00:00  90944  74459.8\n",
      "2173  2018-03-01 13:00:00+00:00  90073  73856.3\n",
      "2174  2018-03-01 14:00:00+00:00  88123  71112.8\n",
      "...                         ...    ...      ...\n",
      "7296  2018-10-01 00:00:00+00:00  44478  52905.5\n",
      "7297  2018-10-01 01:00:00+00:00  40126  48229.7\n",
      "7298  2018-10-01 02:00:00+00:00  39077  47302.9\n",
      "7299  2018-10-01 03:00:00+00:00  36982  45318.1\n",
      "7300  2018-10-01 04:00:00+00:00  35626  43914.9\n",
      "7301  2018-10-01 05:00:00+00:00  36319  44620.9\n",
      "7320  2018-10-02 00:00:00+00:00  49056  58477.6\n",
      "7321  2018-10-02 01:00:00+00:00  43987  53829.8\n",
      "7322  2018-10-02 02:00:00+00:00  42962  52793.4\n",
      "7323  2018-10-02 03:00:00+00:00  41173  50798.3\n",
      "7324  2018-10-02 04:00:00+00:00  39535  49377.4\n",
      "7325  2018-10-02 05:00:00+00:00  39919  48446.5\n",
      "7447  2018-10-07 07:00:00+00:00  35214    42481\n",
      "7448  2018-10-07 08:00:00+00:00  36142    45641\n",
      "7449  2018-10-07 09:00:00+00:00  38438    47360\n",
      "7464  2018-10-08 00:00:00+00:00  45665  53928.9\n",
      "7465  2018-10-08 01:00:00+00:00  40971  49209.3\n",
      "7466  2018-10-08 02:00:00+00:00  39854  48206.3\n",
      "7467  2018-10-08 03:00:00+00:00  37860  46253.2\n",
      "7468  2018-10-08 04:00:00+00:00  36423  44867.9\n",
      "7469  2018-10-08 05:00:00+00:00  37101  45495.8\n",
      "7616  2018-10-14 08:00:00+00:00  35232  42407.4\n",
      "7617  2018-10-14 09:00:00+00:00  37354  45234.8\n",
      "7618  2018-10-14 10:00:00+00:00  40024  47322.1\n",
      "7783  2018-10-21 07:00:00+00:00  37614  46091.4\n",
      "7784  2018-10-21 08:00:00+00:00  39277  47751.5\n",
      "8048  2018-11-01 08:00:00+00:00  50614  61007.4\n",
      "8049  2018-11-01 09:00:00+00:00  53045    62792\n",
      "8056  2018-11-01 16:00:00+00:00  51364  60831.2\n",
      "8057  2018-11-01 17:00:00+00:00  51309    60898\n",
      "\n",
      "[196 rows x 3 columns]\n"
     ]
    }
   ],
   "source": [
    "threshold = 0.18\n",
    "\n",
    "mask = (erreur_relative_test >= threshold)\n",
    "erreurs_df = pd.DataFrame(np.concatenate((YconsoTest[['ds','y']],np.array([forecastTest]).T),axis=1),columns=[\"date\",\"y\",\"prev\"])\n",
    "print(erreurs_df[mask])\n"
   ]
  },
  {
   "cell_type": "markdown",
   "metadata": {},
   "source": [
    "## Feature engineering\n",
    "Quelles variables explicatives peuvent nous permettre de créer un modele plus perfomant ?"
   ]
  },
  {
   "cell_type": "markdown",
   "metadata": {},
   "source": [
    "# Autres modèles : RandomForest et XGBoost"
   ]
  },
  {
   "cell_type": "markdown",
   "metadata": {},
   "source": [
    "## Modèle RandomForest\n",
    "\n",
    "<img src=\"pictures/randomForestExplain.png\" width=500 height=30>"
   ]
  },
  {
   "cell_type": "markdown",
   "metadata": {},
   "source": [
    "### Préparation des données d'entrée"
   ]
  },
  {
   "cell_type": "code",
   "execution_count": 77,
   "metadata": {},
   "outputs": [
    {
     "data": {
      "text/plain": [
       "['lag1D',\n",
       " 'lag1W',\n",
       " 'Th_prev',\n",
       " 'Th_prev_J_1',\n",
       " 'month_1',\n",
       " 'month_2',\n",
       " 'month_3',\n",
       " 'month_4',\n",
       " 'month_5',\n",
       " 'month_6',\n",
       " 'month_7',\n",
       " 'month_8',\n",
       " 'month_9',\n",
       " 'month_10',\n",
       " 'month_11',\n",
       " 'month_12',\n",
       " 'weekday_0',\n",
       " 'weekday_1',\n",
       " 'hour_0',\n",
       " 'hour_1',\n",
       " 'hour_2',\n",
       " 'hour_3',\n",
       " 'hour_4',\n",
       " 'hour_5',\n",
       " 'hour_6',\n",
       " 'hour_7',\n",
       " 'hour_8',\n",
       " 'hour_9',\n",
       " 'hour_10',\n",
       " 'hour_11',\n",
       " 'hour_12',\n",
       " 'hour_13',\n",
       " 'hour_14',\n",
       " 'hour_15',\n",
       " 'hour_16',\n",
       " 'hour_17',\n",
       " 'hour_18',\n",
       " 'hour_19',\n",
       " 'hour_20',\n",
       " 'hour_21',\n",
       " 'hour_22',\n",
       " 'hour_23',\n",
       " 'JF_11Novembre',\n",
       " 'JF_1erMai',\n",
       " 'JF_8Mai',\n",
       " 'JF_Ascension',\n",
       " 'JF_Assomption',\n",
       " 'JF_FeteNationale',\n",
       " 'JF_Noel',\n",
       " 'JF_NouvelAn',\n",
       " 'JF_Paques',\n",
       " 'JF_Pentecote',\n",
       " 'JF_Toussaint']"
      ]
     },
     "execution_count": 77,
     "metadata": {},
     "output_type": "execute_result"
    }
   ],
   "source": [
    "\n",
    "colsRF = np.concatenate((['lag1D','lag1W'],\n",
    "                         colsToKeepWeather,colsToKeepMonth,colsToKeepWeekday,colsToKeepHour,colsToKeepHolidays))\n",
    "list(colsRF)"
   ]
  },
  {
   "cell_type": "markdown",
   "metadata": {},
   "source": [
    "### Entrainement du modèle"
   ]
  },
  {
   "cell_type": "code",
   "execution_count": 78,
   "metadata": {},
   "outputs": [
    {
     "name": "stdout",
     "output_type": "stream",
     "text": [
      "                          ds  Th_real_24h_avant    Th_prev  lag1D  lag1W  \\\n",
      "0  2014-01-08 00:00:00+00:00           9.846930   9.911160    NaN    NaN   \n",
      "1  2014-01-08 01:00:00+00:00           9.848500   9.790830    NaN    NaN   \n",
      "2  2014-01-08 02:00:00+00:00           9.681580   9.634990    NaN    NaN   \n",
      "3  2014-01-08 03:00:00+00:00           9.487130   9.445360    NaN    NaN   \n",
      "4  2014-01-08 04:00:00+00:00           9.490410   9.241585    NaN    NaN   \n",
      "5  2014-01-08 05:00:00+00:00           9.346880   9.045105    NaN    NaN   \n",
      "6  2014-01-08 06:00:00+00:00           9.284855   8.915265    NaN    NaN   \n",
      "7  2014-01-08 07:00:00+00:00           9.377060   8.964100    NaN    NaN   \n",
      "8  2014-01-08 08:00:00+00:00           9.543030   9.106500    NaN    NaN   \n",
      "9  2014-01-08 09:00:00+00:00          10.109460   9.630050    NaN    NaN   \n",
      "10 2014-01-08 10:00:00+00:00          11.010330  10.447800    NaN    NaN   \n",
      "11 2014-01-08 11:00:00+00:00          12.087900  11.583100    NaN    NaN   \n",
      "12 2014-01-08 12:00:00+00:00          12.750200  12.571250    NaN    NaN   \n",
      "13 2014-01-08 13:00:00+00:00          13.010425  13.199100    NaN    NaN   \n",
      "14 2014-01-08 14:00:00+00:00          13.034650  13.415650    NaN    NaN   \n",
      "15 2014-01-08 15:00:00+00:00          12.795650  13.190725    NaN    NaN   \n",
      "16 2014-01-08 16:00:00+00:00          12.026650  12.621550    NaN    NaN   \n",
      "17 2014-01-08 17:00:00+00:00          11.561000  11.866250    NaN    NaN   \n",
      "18 2014-01-08 18:00:00+00:00          11.147930  11.217425    NaN    NaN   \n",
      "19 2014-01-08 19:00:00+00:00          10.985900  10.803830    NaN    NaN   \n",
      "\n",
      "    month_1  month_2  month_3  month_4  month_5  ...  JF_Assomption  \\\n",
      "0         1        0        0        0        0  ...              0   \n",
      "1         1        0        0        0        0  ...              0   \n",
      "2         1        0        0        0        0  ...              0   \n",
      "3         1        0        0        0        0  ...              0   \n",
      "4         1        0        0        0        0  ...              0   \n",
      "5         1        0        0        0        0  ...              0   \n",
      "6         1        0        0        0        0  ...              0   \n",
      "7         1        0        0        0        0  ...              0   \n",
      "8         1        0        0        0        0  ...              0   \n",
      "9         1        0        0        0        0  ...              0   \n",
      "10        1        0        0        0        0  ...              0   \n",
      "11        1        0        0        0        0  ...              0   \n",
      "12        1        0        0        0        0  ...              0   \n",
      "13        1        0        0        0        0  ...              0   \n",
      "14        1        0        0        0        0  ...              0   \n",
      "15        1        0        0        0        0  ...              0   \n",
      "16        1        0        0        0        0  ...              0   \n",
      "17        1        0        0        0        0  ...              0   \n",
      "18        1        0        0        0        0  ...              0   \n",
      "19        1        0        0        0        0  ...              0   \n",
      "\n",
      "    JF_FeteNationale  JF_Noel  JF_NouvelAn  JF_Paques  JF_Pentecote  \\\n",
      "0                  0        0            0          0             0   \n",
      "1                  0        0            0          0             0   \n",
      "2                  0        0            0          0             0   \n",
      "3                  0        0            0          0             0   \n",
      "4                  0        0            0          0             0   \n",
      "5                  0        0            0          0             0   \n",
      "6                  0        0            0          0             0   \n",
      "7                  0        0            0          0             0   \n",
      "8                  0        0            0          0             0   \n",
      "9                  0        0            0          0             0   \n",
      "10                 0        0            0          0             0   \n",
      "11                 0        0            0          0             0   \n",
      "12                 0        0            0          0             0   \n",
      "13                 0        0            0          0             0   \n",
      "14                 0        0            0          0             0   \n",
      "15                 0        0            0          0             0   \n",
      "16                 0        0            0          0             0   \n",
      "17                 0        0            0          0             0   \n",
      "18                 0        0            0          0             0   \n",
      "19                 0        0            0          0             0   \n",
      "\n",
      "    JF_Toussaint  JoursFeries  temp_prev_with_threshold_heat  \\\n",
      "0              0            0                       5.088840   \n",
      "1              0            0                       5.209170   \n",
      "2              0            0                       5.365010   \n",
      "3              0            0                       5.554640   \n",
      "4              0            0                       5.758415   \n",
      "5              0            0                       5.954895   \n",
      "6              0            0                       6.084735   \n",
      "7              0            0                       6.035900   \n",
      "8              0            0                       5.893500   \n",
      "9              0            0                       5.369950   \n",
      "10             0            0                       4.552200   \n",
      "11             0            0                       3.416900   \n",
      "12             0            0                       2.428750   \n",
      "13             0            0                       1.800900   \n",
      "14             0            0                       1.584350   \n",
      "15             0            0                       1.809275   \n",
      "16             0            0                       2.378450   \n",
      "17             0            0                       3.133750   \n",
      "18             0            0                       3.782575   \n",
      "19             0            0                       4.196170   \n",
      "\n",
      "    temp_prev_with_threshold_cool  \n",
      "0                             0.0  \n",
      "1                             0.0  \n",
      "2                             0.0  \n",
      "3                             0.0  \n",
      "4                             0.0  \n",
      "5                             0.0  \n",
      "6                             0.0  \n",
      "7                             0.0  \n",
      "8                             0.0  \n",
      "9                             0.0  \n",
      "10                            0.0  \n",
      "11                            0.0  \n",
      "12                            0.0  \n",
      "13                            0.0  \n",
      "14                            0.0  \n",
      "15                            0.0  \n",
      "16                            0.0  \n",
      "17                            0.0  \n",
      "18                            0.0  \n",
      "19                            0.0  \n",
      "\n",
      "[20 rows x 59 columns]\n"
     ]
    },
    {
     "data": {
      "text/plain": [
       "RandomForestRegressor(bootstrap=True, criterion='mse', max_depth=None,\n",
       "                      max_features=53, max_leaf_nodes=None,\n",
       "                      min_impurity_decrease=0.0, min_impurity_split=None,\n",
       "                      min_samples_leaf=1, min_samples_split=2,\n",
       "                      min_weight_fraction_leaf=0.0, n_estimators=30, n_jobs=3,\n",
       "                      oob_score=True, random_state=None, verbose=0,\n",
       "                      warm_start=False)"
      ]
     },
     "execution_count": 78,
     "metadata": {},
     "output_type": "execute_result"
    }
   ],
   "source": [
    "# La cellule peut prendre un peu de temps à exécuter\n",
    "print(Xinput.head(20))\n",
    "rfTrain = RandomForestRegressor(n_estimators=30, max_features=colsRF.size, n_jobs=3, oob_score = True, bootstrap = True)\n",
    "rfTrain.fit(XinputTrain[colsRF], YconsoTrain['y'])"
   ]
  },
  {
   "cell_type": "markdown",
   "metadata": {},
   "source": [
    "### Prediction"
   ]
  },
  {
   "cell_type": "code",
   "execution_count": 79,
   "metadata": {},
   "outputs": [],
   "source": [
    "forecastTest = rfTrain.predict(XinputTest[colsRF])\n",
    "forecastTrain = rfTrain.predict(XinputTrain[colsRF])"
   ]
  },
  {
   "cell_type": "markdown",
   "metadata": {},
   "source": [
    "### Evaluation"
   ]
  },
  {
   "cell_type": "code",
   "execution_count": 80,
   "metadata": {
    "lines_to_end_of_cell_marker": 2
   },
   "outputs": [
    {
     "name": "stdout",
     "output_type": "stream",
     "text": [
      "l'erreur relative moyenne de test est de:2.8%\n",
      "l'erreur relative max de test est de:35.5%\n",
      "le rmse de test est de:2508.0\n",
      "\n",
      "l'erreur relative moyenne de train est de:0.9%\n",
      "l'erreur relative max de train est de:12.4%\n",
      "le rmse de test est de:722.0\n"
     ]
    },
    {
     "data": {
      "image/png": "[encoded data removed]",
      "text/plain": [
       "<Figure size 432x288 with 1 Axes>"
      ]
     },
     "metadata": {
      "needs_background": "light"
     },
     "output_type": "display_data"
    },
    {
     "name": "stdout",
     "output_type": "stream",
     "text": [
      "R^2 Training Score: 1.00 \n",
      "OOB Score: 0.97 \n",
      "R^2 Validation Score: 0.96\n"
     ]
    }
   ],
   "source": [
    "evaluation(YconsoTrain, YconsoTest, forecastTrain, forecastTest)\n",
    "\n",
    "# on visualise nos previsions par rapport a la realité\n",
    "plt.plot(YconsoTest['ds'], YconsoTest['y'], 'b', YconsoTest['ds'], forecastTest, 'r')\n",
    "plt.show()\n",
    "\n",
    "print('R^2 Training Score: {:.2f} \\nOOB Score: {:.2f} \\nR^2 Validation Score: {:.2f}'.format(rfTrain.score(XinputTrain[colsRF], YconsoTrain['y']), \n",
    "                                                                                             rfTrain.oob_score_,\n",
    "rfTrain.score(XinputTest[colsRF], YconsoTest['y'])))"
   ]
  },
  {
   "cell_type": "code",
   "execution_count": 81,
   "metadata": {},
   "outputs": [
    {
     "name": "stdout",
     "output_type": "stream",
     "text": [
      "         APE\n",
      "        mean\n",
      "weekday     \n",
      "0        5.0\n",
      "1        2.9\n",
      "2        2.4\n",
      "3        2.2\n",
      "4        2.5\n",
      "5        2.3\n",
      "6        2.6\n",
      "      APE\n",
      "     mean\n",
      "hour     \n",
      "0     2.6\n",
      "1     2.8\n",
      "2     2.9\n",
      "3     2.9\n",
      "4     3.4\n",
      "5     3.4\n",
      "6     3.3\n",
      "7     3.9\n",
      "8     3.3\n",
      "9     3.0\n",
      "10    2.6\n",
      "11    2.4\n",
      "12    2.5\n",
      "13    2.4\n",
      "14    2.5\n",
      "15    2.5\n",
      "16    2.7\n",
      "17    2.9\n",
      "18    2.8\n",
      "19    2.9\n",
      "20    2.8\n",
      "21    2.8\n",
      "22    2.6\n",
      "23    2.3\n",
      "             APE\n",
      "            mean\n",
      "JoursFeries     \n",
      "0            2.7\n",
      "1            6.5\n"
     ]
    },
    {
     "name": "stderr",
     "output_type": "stream",
     "text": [
      "C:\\Users\\dordonnatvir\\AppData\\Local\\Continuum\\anaconda3\\lib\\site-packages\\ipykernel_launcher.py:2: SettingWithCopyWarning: \n",
      "A value is trying to be set on a copy of a slice from a DataFrame.\n",
      "Try using .loc[row_indexer,col_indexer] = value instead\n",
      "\n",
      "See the caveats in the documentation: http://pandas.pydata.org/pandas-docs/stable/indexing.html#indexing-view-versus-copy\n",
      "  \n",
      "C:\\Users\\dordonnatvir\\AppData\\Local\\Continuum\\anaconda3\\lib\\site-packages\\ipykernel_launcher.py:3: SettingWithCopyWarning: \n",
      "A value is trying to be set on a copy of a slice from a DataFrame.\n",
      "Try using .loc[row_indexer,col_indexer] = value instead\n",
      "\n",
      "See the caveats in the documentation: http://pandas.pydata.org/pandas-docs/stable/indexing.html#indexing-view-versus-copy\n",
      "  This is separate from the ipykernel package so we can avoid doing imports until\n",
      "C:\\Users\\dordonnatvir\\AppData\\Local\\Continuum\\anaconda3\\lib\\site-packages\\ipykernel_launcher.py:5: SettingWithCopyWarning: \n",
      "A value is trying to be set on a copy of a slice from a DataFrame.\n",
      "Try using .loc[row_indexer,col_indexer] = value instead\n",
      "\n",
      "See the caveats in the documentation: http://pandas.pydata.org/pandas-docs/stable/indexing.html#indexing-view-versus-copy\n",
      "  \"\"\"\n",
      "C:\\Users\\dordonnatvir\\AppData\\Local\\Continuum\\anaconda3\\lib\\site-packages\\ipykernel_launcher.py:6: SettingWithCopyWarning: \n",
      "A value is trying to be set on a copy of a slice from a DataFrame.\n",
      "Try using .loc[row_indexer,col_indexer] = value instead\n",
      "\n",
      "See the caveats in the documentation: http://pandas.pydata.org/pandas-docs/stable/indexing.html#indexing-view-versus-copy\n",
      "  \n"
     ]
    }
   ],
   "source": [
    "evalWD,evalHour,evalJF = evaluation_par(XinputTest,YconsoTest,forecastTest)\n",
    "print(str(round(evalWD*100,1)))\n",
    "print(str(round(evalHour*100,1)))\n",
    "print(str(round(evalJF*100,1)))"
   ]
  },
  {
   "cell_type": "markdown",
   "metadata": {},
   "source": [
    "## Modèle xgboost\n",
    "\n",
    "<img src=\"pictures/XGboost.png\" width=500 height=30>"
   ]
  },
  {
   "cell_type": "code",
   "execution_count": 82,
   "metadata": {},
   "outputs": [],
   "source": [
    "import xgboost as xgb"
   ]
  },
  {
   "cell_type": "code",
   "execution_count": 83,
   "metadata": {},
   "outputs": [
    {
     "name": "stderr",
     "output_type": "stream",
     "text": [
      "C:\\Users\\dordonnatvir\\AppData\\Local\\Continuum\\anaconda3\\lib\\site-packages\\xgboost\\core.py:587: FutureWarning: Series.base is deprecated and will be removed in a future version\n",
      "  if getattr(data, 'base', None) is not None and \\\n",
      "C:\\Users\\dordonnatvir\\AppData\\Local\\Continuum\\anaconda3\\lib\\site-packages\\xgboost\\core.py:588: FutureWarning: Series.base is deprecated and will be removed in a future version\n",
      "  data.base is not None and isinstance(data, np.ndarray) \\\n"
     ]
    },
    {
     "name": "stdout",
     "output_type": "stream",
     "text": [
      "[16:37:52] WARNING: C:/Jenkins/workspace/xgboost-win64_release_0.90/src/objective/regression_obj.cu:152: reg:linear is now deprecated in favor of reg:squarederror.\n"
     ]
    }
   ],
   "source": [
    "xgbTrain = xgb.XGBRegressor( )\n",
    "xgbTrain.fit(XinputTrain[colsRF], YconsoTrain['y'])\n",
    "forecastTestXGB = xgbTrain.predict(XinputTest[colsRF])\n",
    "forecastTrainXGB = xgbTrain.predict(XinputTrain[colsRF])"
   ]
  },
  {
   "cell_type": "code",
   "execution_count": 84,
   "metadata": {},
   "outputs": [
    {
     "name": "stdout",
     "output_type": "stream",
     "text": [
      "l'erreur relative moyenne de test est de:3.4%\n",
      "l'erreur relative max de test est de:32.1%\n",
      "le rmse de test est de:2692.0\n",
      "\n",
      "l'erreur relative moyenne de train est de:3.1%\n",
      "l'erreur relative max de train est de:27.4%\n",
      "le rmse de test est de:2324.0\n"
     ]
    }
   ],
   "source": [
    "evaluation(YconsoTrain, YconsoTest, forecastTrainXGB, forecastTestXGB)"
   ]
  },
  {
   "cell_type": "code",
   "execution_count": 85,
   "metadata": {},
   "outputs": [
    {
     "name": "stdout",
     "output_type": "stream",
     "text": [
      "         APE\n",
      "        mean\n",
      "weekday     \n",
      "0        5.8\n",
      "1        3.1\n",
      "2        2.9\n",
      "3        2.9\n",
      "4        2.8\n",
      "5        3.1\n",
      "6        3.2\n",
      "      APE\n",
      "     mean\n",
      "hour     \n",
      "0     3.1\n",
      "1     3.3\n",
      "2     3.2\n",
      "3     3.4\n",
      "4     3.6\n",
      "5     3.4\n",
      "6     3.5\n",
      "7     4.1\n",
      "8     4.5\n",
      "9     4.2\n",
      "10    3.5\n",
      "11    3.2\n",
      "12    3.0\n",
      "13    2.8\n",
      "14    3.2\n",
      "15    3.4\n",
      "16    3.5\n",
      "17    3.6\n",
      "18    3.4\n",
      "19    3.4\n",
      "20    3.2\n",
      "21    3.2\n",
      "22    3.1\n",
      "23    2.8\n",
      "             APE\n",
      "            mean\n",
      "JoursFeries     \n",
      "0            3.3\n",
      "1            6.6\n"
     ]
    },
    {
     "name": "stderr",
     "output_type": "stream",
     "text": [
      "C:\\Users\\dordonnatvir\\AppData\\Local\\Continuum\\anaconda3\\lib\\site-packages\\ipykernel_launcher.py:2: SettingWithCopyWarning: \n",
      "A value is trying to be set on a copy of a slice from a DataFrame.\n",
      "Try using .loc[row_indexer,col_indexer] = value instead\n",
      "\n",
      "See the caveats in the documentation: http://pandas.pydata.org/pandas-docs/stable/indexing.html#indexing-view-versus-copy\n",
      "  \n",
      "C:\\Users\\dordonnatvir\\AppData\\Local\\Continuum\\anaconda3\\lib\\site-packages\\ipykernel_launcher.py:3: SettingWithCopyWarning: \n",
      "A value is trying to be set on a copy of a slice from a DataFrame.\n",
      "Try using .loc[row_indexer,col_indexer] = value instead\n",
      "\n",
      "See the caveats in the documentation: http://pandas.pydata.org/pandas-docs/stable/indexing.html#indexing-view-versus-copy\n",
      "  This is separate from the ipykernel package so we can avoid doing imports until\n",
      "C:\\Users\\dordonnatvir\\AppData\\Local\\Continuum\\anaconda3\\lib\\site-packages\\ipykernel_launcher.py:5: SettingWithCopyWarning: \n",
      "A value is trying to be set on a copy of a slice from a DataFrame.\n",
      "Try using .loc[row_indexer,col_indexer] = value instead\n",
      "\n",
      "See the caveats in the documentation: http://pandas.pydata.org/pandas-docs/stable/indexing.html#indexing-view-versus-copy\n",
      "  \"\"\"\n",
      "C:\\Users\\dordonnatvir\\AppData\\Local\\Continuum\\anaconda3\\lib\\site-packages\\ipykernel_launcher.py:6: SettingWithCopyWarning: \n",
      "A value is trying to be set on a copy of a slice from a DataFrame.\n",
      "Try using .loc[row_indexer,col_indexer] = value instead\n",
      "\n",
      "See the caveats in the documentation: http://pandas.pydata.org/pandas-docs/stable/indexing.html#indexing-view-versus-copy\n",
      "  \n"
     ]
    }
   ],
   "source": [
    "evalWD,evalHour,evalJF = evaluation_par(XinputTest, YconsoTest, forecastTestXGB)\n",
    "print(str(round(evalWD * 100,1)))\n",
    "print(str(round(evalHour * 100,1)))\n",
    "print(str(round(evalJF * 100,1)))"
   ]
  },
  {
   "cell_type": "markdown",
   "metadata": {},
   "source": [
    "### Question\n",
    "- Selon vous, pourquoi l'erreur max est significative pour tous les modèles ?\n",
    "- Comment y remédier ?"
   ]
  },
  {
   "cell_type": "markdown",
   "metadata": {},
   "source": [
    "# Bonus: à vous de jouer\n",
    "\n",
    "Bravo ! Vous avez déjà créé un premier modèle performant pour faire des prévisions sur une fenêtre glissante à horizon 24h !\n",
    "\n",
    "Maintenant à vous de mettre votre expertise pour créer de nouveaux modèles.\n",
    "\n",
    "Vous pouvez continuer à explorer le problème selon plusieurs axes:\n",
    "- créer des modèles pour les régions françaises\n",
    "- tester votre modèle sur une autre saison (l'hiver par exemple)\n",
    "- créer de nouvelles variables explicatives ? Quid de la météo et de la température? Des jours fériés ? Du feature engineering plus complexe...\n",
    "- détecter des outliers dans les données\n",
    "- etudiez les incertitudes et les possibilités offertes par PyStan\n",
    "\n",
    "Mettez-vous en 3 groupes, explorez pendant 30 minutes, et restituez."
   ]
  },
  {
   "cell_type": "code",
   "execution_count": null,
   "metadata": {},
   "outputs": [],
   "source": []
  },
  {
   "cell_type": "code",
   "execution_count": null,
   "metadata": {},
   "outputs": [],
   "source": []
  }
 ],
 "metadata": {
  "jupytext": {
   "formats": "ipynb,py"
  },
  "kernelspec": {
   "display_name": "Python 3",
   "language": "python",
   "name": "python3"
  },
  "language_info": {
   "codemirror_mode": {
    "name": "ipython",
    "version": 3
   },
   "file_extension": ".py",
   "mimetype": "text/x-python",
   "name": "python",
   "nbconvert_exporter": "python",
   "pygments_lexer": "ipython3",
   "version": "3.7.3"
  }
 },
 "nbformat": 4,
 "nbformat_minor": 2
}
