{
 "cells": [
  {
   "cell_type": "markdown",
   "metadata": {},
   "source": [
    "# Le problème\n",
    "\n",
    "Pour garantir l'équilibre offre-demande à chaque instant, RTE construit ses propres prévisions de la consommation nationale, régionale, et locale. \n",
    "\n",
    "Nous nous concentrons ici sur la prévision nationale. Un challenge lancé par RTE (https://dataanalyticspost.com/wp-content/uploads/2017/06/Challenge-RTE-Prevision-de-Consommation.pdf) a permis de tester des approches alternatives aux modèles internes (POPCORN, PREMIS).\n",
    "\n",
    "<img src=\"pictures/ChallengeConso.png\" width=1000 height=100>\n",
    "\n",
    "Comme dans ce challenge, nous voulons aider RTE à faire de meilleures prévisions de conso ! "
   ]
  },
  {
   "cell_type": "markdown",
   "metadata": {},
   "source": [
    "## Un outil: le Machine Learning\n",
    "\n",
    "Pour cela, nous allons avoir recours au Machine Learning. Cela nous permettra de créer un modèle qui apprend et s'adapte au contexte sans programmer un système expert avec des \"centaines\" de règles en dur, par de la programmation logique. \n",
    "\n",
    "Le Machine Learning nécessite toutefois de la connaissance experte dans le domaine d'intérêt pour créer des modèles pertinents et efficaces. En effet, si notre modèle embarque trop de variables peu explicatives, il sera noyé dans l'information, surapprendra sur les exemples qu'on lui a montrés, et aura du mal à généraliser en prédisant avec justesse sur de nouveaux exemples. "
   ]
  },
  {
   "cell_type": "markdown",
   "metadata": {},
   "source": [
    "## Une difficulté: le feature engineering\n",
    "\n",
    "Au-delà de la simple sélection de variables pertinentes, on fait surtout ce que l'on appelle du feature engineering avec notre expertise: on crée des variables transformées ou agrégées, comme une consommation moyenne sur le mois précédent ou une température moyenne sur la France, pour guider l'algorithme et l'aider à apprendre sur l'information la plus pertinente et synthétique. Cela implique de bien connaître nos données, de passer du temps à les visualiser, et de les prétraiter avant de les fournir au modèle de machine-learning.\n",
    "\n",
    "Nous allons ici voir ce que cela implique en terme de développement et d'implémentation de participer à un tel challenge, en montrant les capacités du Machine Learning sur la base de modèles \"classiques\".\n",
    "\n",
    "## Ce que l'on va voir dans ce premier TP :\n",
    "1) Formaliser le problème: que souhaite-t-on prédire (quel est mon Y) ? Avec quelles variables explicatives (quel est mon X) ?\n",
    "\n",
    "2) Collecter les données: où se trouvent les données ? Quel est le format ? Comment les récupérer ? (FACULTATIF - voir TP \"TP1_Preparation_donnees\")\n",
    "\n",
    "3) Investiguer les données: visualiser des séries temporelles, faire quelques statistiques descriptives\n",
    "\n",
    "4) Préparer les données: pour entrainer et tester un premier modèle\n",
    "\n",
    "5) Créer et entrainer un premier modèle simple: ce sera notre baseline\n",
    "\n",
    "6) Evaluer un modèle\n",
    "\n",
    "7) Itérer en créant de nouveaux modèles avec de nouvelles variables explicatives\n",
    "\n",
    "8) Jouez: créer vos propres modèles, tester sur une saison différente, tester sur une région différente, faire une prévision avec incertitudes, détecter des outliers\n",
    "\n",
    "## To be continued\n",
    "Le deuxième TP permettra d'investiguer les modèles \"Deep\" avec réseaux de neurones, en montrant le moindre besoin en feature engineering et leur plus grande capacité à absorber l'information grâce aux représentations hiérarchiques qu'ils créent."
   ]
  },
  {
   "cell_type": "markdown",
   "metadata": {},
   "source": [
    "## Dimensionnement en temps\n",
    "On prévoit un une durée d'environ 2h pour ce TP1, debrief inclus :\n",
    "- 20-30 minutes pour charger et préparer les données [FACULTATIF]\n",
    "- 30-40 minutes pour analyser et visualiser les données\n",
    "- 45-60 minutes pour créer, entrainer, évaluer et interpréter les modèles"
   ]
  },
  {
   "cell_type": "markdown",
   "metadata": {},
   "source": [
    "## Se familiariser avec le problème: Eco2mix\n",
    "Quand on parle de courbe de consommation France, il y a une application incontournable : eco2mix !\n",
    "Allons voir à quoi ressemblent ces courbes de consommation, pour nous faire une idée du problème et se donner quelques intuitions:\n",
    "http://www.rte-france.com/fr/eco2mix/eco2mix\n",
    "ou sur application mobile"
   ]
  },
  {
   "cell_type": "markdown",
   "metadata": {},
   "source": [
    "# On passe au code : import de librairies et configuration"
   ]
  },
  {
   "cell_type": "markdown",
   "metadata": {},
   "source": [
    "** L'aide de python est accessible en tapant help(nom_de_la_commande) **"
   ]
  },
  {
   "cell_type": "markdown",
   "metadata": {},
   "source": [
    "## Chargement des Librairies"
   ]
  },
  {
   "cell_type": "code",
   "execution_count": 1,
   "metadata": {},
   "outputs": [
    {
     "data": {
      "application/javascript": [
       "IPython.notebook.set_autosave_interval(0)"
      ]
     },
     "metadata": {},
     "output_type": "display_data"
    },
    {
     "name": "stdout",
     "output_type": "stream",
     "text": [
      "Autosave disabled\n"
     ]
    }
   ],
   "source": [
    "# Exécutez la cellule ci-dessous (par exemple avec shift-entrée)\n",
    "# Si vous exécuter ce notebook depuis votre PC, il faudra peut-etre installer certaines librairies avec \n",
    "# 'pip install ma_librairie'\n",
    "import os  # accès aux commandes système\n",
    "import datetime  # structure de données pour gérer des objets calendaires\n",
    "import pandas as pd  # gérer des tables de données en python\n",
    "import numpy as np  # librairie d'opérations mathématiques\n",
    "import matplotlib.pyplot as plt  # tracer des visualisations\n",
    "import sklearn  # librairie de machine learning\n",
    "from sklearn.metrics import mean_absolute_error\n",
    "from sklearn.metrics import mean_squared_error\n",
    "from sklearn import linear_model\n",
    "from math import sqrt\n",
    "\n",
    "import shutil  # move ou copier fichier\n",
    "import zipfile  # compresser ou décompresser fichier\n",
    "import urllib3 # téléchargement de fichier\n",
    "\n",
    "from bokeh.palettes import inferno\n",
    "from bokeh.io import show, output_notebook\n",
    "from bokeh.models import (\n",
    "  GMapPlot, GMapOptions, ColumnDataSource, Circle, Range1d, PanTool, WheelZoomTool, BoxSelectTool, ColorBar, LogTicker,\n",
    "    LabelSet, Label,HoverTool\n",
    ")\n",
    "from bokeh.models.mappers import LogColorMapper\n",
    "from collections import OrderedDict\n",
    "\n",
    "import seaborn as sns\n",
    "\n",
    "%matplotlib inline\n",
    "\n",
    "%autosave 0"
   ]
  },
  {
   "cell_type": "markdown",
   "metadata": {},
   "source": [
    "## Configuration\n",
    "Choix du répertoire de travail \"data_folder\" dans lequel tous les fichiers csv seront entreposés"
   ]
  },
  {
   "cell_type": "code",
   "execution_count": 2,
   "metadata": {
    "lines_to_next_cell": 2
   },
   "outputs": [],
   "source": [
    "data_folder = os.path.join(os.getcwd(), \"data\")"
   ]
  },
  {
   "cell_type": "code",
   "execution_count": 3,
   "metadata": {},
   "outputs": [
    {
     "name": "stdout",
     "output_type": "stream",
     "text": [
      "Mon repertoire est : D:\\Users\\montuelleluc\\Documents\\Etudes\\Formations-RTE\\MOOC IA&DeepLearning\\TP_Formation_Conso_DeepLearning\\data\n",
      "Fichiers contenus dans ce répertoire :\n",
      " - communes_coordonnees.csv\n",
      " - eCO2mix_RTE_tempo_2017-2018.xls\n",
      " - joursFeries.csv\n",
      " - meteoX_T0_T24.zip\n",
      " - StationsMeteoRTE.csv\n",
      " - Xinput.csv\n",
      " - Xinput.zip\n",
      " - Xtemperature.csv\n",
      " - Yconso.csv\n",
      " - YconsoT0.csv\n",
      " - Yconso_2014_2018.csv\n"
     ]
    }
   ],
   "source": [
    "# Petite vérification\n",
    "print(\"Mon repertoire est : {}\".format(data_folder))\n",
    "print(\"Fichiers contenus dans ce répertoire :\")\n",
    "for file in os.listdir(data_folder):\n",
    "    print(\" - \" + file)"
   ]
  },
  {
   "cell_type": "markdown",
   "metadata": {},
   "source": [
    "# Récupération des données\n",
    "\n",
    "Dans cette partie nous allons charger les fichiers csv nécessaires pour l'analyse, puis les convertir en data-frame python.\n",
    "Les données brutes ont été pré-traitées à l'aide du notebook TP1_Preparation_donnees :\n",
    "- Yconso.csv\n",
    "- Xinput.csv"
   ]
  },
  {
   "cell_type": "code",
   "execution_count": 4,
   "metadata": {
    "lines_to_next_cell": 2
   },
   "outputs": [],
   "source": [
    "Yconso_csv = os.path.join(data_folder, \"Yconso.csv\")\n",
    "Yconso = pd.read_csv(Yconso_csv)"
   ]
  },
  {
   "cell_type": "markdown",
   "metadata": {},
   "source": [
    "La colonne \"ds\" contient des objets de type string. On va la convertir en objets de type \"datetime\" plus approprié.  \n",
    "Pour plus d'information, voir le TP1_Preparation_donnees."
   ]
  },
  {
   "cell_type": "code",
   "execution_count": 5,
   "metadata": {},
   "outputs": [],
   "source": [
    "Yconso['ds'] = pd.to_datetime(Yconso['ds'])"
   ]
  },
  {
   "cell_type": "code",
   "execution_count": 6,
   "metadata": {},
   "outputs": [
    {
     "name": "stdout",
     "output_type": "stream",
     "text": [
      "                   ds      y\n",
      "0 2012-12-29 00:00:00  59182\n",
      "1 2012-12-29 01:00:00  54584\n",
      "2 2012-12-29 02:00:00  53957\n",
      "3 2012-12-29 03:00:00  51338\n",
      "4 2012-12-29 04:00:00  48852\n",
      "(39025, 2)\n"
     ]
    }
   ],
   "source": [
    "print(Yconso.head(5))\n",
    "print(Yconso.shape)"
   ]
  },
  {
   "cell_type": "markdown",
   "metadata": {},
   "source": [
    "**Attention : Les données Xinput sont encryptées dans un fichier zip. du fait de données météo**  \n",
    "Pour les lire vous avez besoin d'un mot de passe qui ne peut vous être donné que dans le cadre d'un travail au sein de RTE."
   ]
  },
  {
   "cell_type": "code",
   "execution_count": 7,
   "metadata": {},
   "outputs": [],
   "source": [
    "Xinput_zip = os.path.join(data_folder, \"Xinput.zip\")"
   ]
  },
  {
   "cell_type": "code",
   "execution_count": 8,
   "metadata": {
    "lines_to_next_cell": 2
   },
   "outputs": [],
   "source": [
    "password = \"FIFA_Meteo\""
   ]
  },
  {
   "cell_type": "code",
   "execution_count": 9,
   "metadata": {},
   "outputs": [],
   "source": [
    "# Pour travailler avec les fichiers zip, on utilise la bibliothèque **zipfile**.\n",
    "zipfile_xinput = zipfile.ZipFile(Xinput_zip)\n",
    "zipfile_xinput.setpassword(bytes(password,'utf-8'))\n",
    "Xinput = pd.read_csv(zipfile_xinput.open('Xinput.csv'),sep=\",\",engine='c',header=0)\n",
    "\n",
    "Xinput['ds'] = pd.to_datetime(Xinput['ds'])\n",
    "Xinput = Xinput[[s for s in Xinput.columns.get_values() if 'X' not in s]]"
   ]
  },
  {
   "cell_type": "code",
   "execution_count": 10,
   "metadata": {},
   "outputs": [
    {
     "name": "stdout",
     "output_type": "stream",
     "text": [
      "                    ds holiday  FranceTh_real_24h_avant  FranceTh_prev\n",
      "0  2012-12-29 00:00:00     NaN                 9.339850      10.734500\n",
      "1  2012-12-29 01:00:00     NaN                 9.339580      10.735110\n",
      "2  2012-12-29 02:00:00     NaN                 9.337955      10.733485\n",
      "3  2012-12-29 03:00:00     NaN                 9.338565      10.733050\n",
      "4  2012-12-29 04:00:00     NaN                 9.337475      10.731165\n",
      "5  2012-12-29 05:00:00     NaN                 9.335850      10.730180\n",
      "6  2012-12-29 06:00:00     NaN                 9.332855      10.728010\n",
      "7  2012-12-29 07:00:00     NaN                 9.332975      10.725145\n",
      "8  2012-12-29 08:00:00     NaN                 9.332275      10.721535\n",
      "9  2012-12-29 09:00:00     NaN                 9.327870      10.717750\n",
      "10 2012-12-29 10:00:00     NaN                 9.325125      10.714975\n",
      "11 2012-12-29 11:00:00     NaN                 9.322740      10.709655\n",
      "12 2012-12-29 12:00:00     NaN                 9.318945      10.704470\n",
      "13 2012-12-29 13:00:00     NaN                 9.316475      10.697240\n",
      "14 2012-12-29 14:00:00     NaN                 9.311625      10.691405\n",
      "15 2012-12-29 15:00:00     NaN                 9.308385      10.684225\n",
      "16 2012-12-29 16:00:00     NaN                 9.302325      10.674700\n",
      "17 2012-12-29 17:00:00     NaN                 9.297950      10.665865\n",
      "18 2012-12-29 18:00:00     NaN                 9.293705      10.655585\n",
      "19 2012-12-29 19:00:00     NaN                 9.287550      10.646265\n",
      "20 2012-12-29 20:00:00     NaN                 9.282385      10.633475\n",
      "21 2012-12-29 21:00:00     NaN                 9.275320      10.620475\n",
      "22 2012-12-29 22:00:00     NaN                 9.267825      10.608455\n",
      "23 2012-12-29 23:00:00     NaN                 9.260845      10.593800\n",
      "24 2012-12-30 00:00:00     NaN                 9.253105      10.578215\n",
      "25 2012-12-30 01:00:00     NaN                 9.244355      10.560355\n",
      "26 2012-12-30 02:00:00     NaN                 9.238675      10.543345\n",
      "27 2012-12-30 03:00:00     NaN                 9.228165      10.525225\n",
      "28 2012-12-30 04:00:00     NaN                 9.219435      10.504345\n",
      "29 2012-12-30 05:00:00     NaN                 9.209080      10.483305\n",
      "30 2012-12-30 06:00:00     NaN                 9.199690      10.461095\n",
      "31 2012-12-30 07:00:00     NaN                 9.189820      10.437880\n",
      "32 2012-12-30 08:00:00     NaN                 9.179110      10.412800\n",
      "33 2012-12-30 09:00:00     NaN                 9.167690      10.386105\n",
      "34 2012-12-30 10:00:00     NaN                 9.156910      10.357560\n",
      "(39025, 4)\n",
      "Index(['ds', 'holiday', 'FranceTh_real_24h_avant', 'FranceTh_prev'], dtype='object')\n"
     ]
    }
   ],
   "source": [
    "print(Xinput.head(35))\n",
    "print(Xinput.shape)\n",
    "print(Xinput.columns)"
   ]
  },
  {
   "cell_type": "markdown",
   "metadata": {},
   "source": [
    "# Visualisation des données \n",
    "\n",
    "La DataScience et le Machine Learning supposent de bien appréhender les données sur lesquelles nos modèles vont être entrainés. Pour cela, il est utile de faire des statistiques descriptives et des visualisations de nos différentes variables.\n",
    "\n",
    "Traitant d'un problème de prévision, on visualisera en particulier des séries temporelles.\n",
    "\n",
    "Vous allez voir des :\n",
    "- échantillons de données\n",
    "- profils de courbe de consommation journaliers et saisonniers\n",
    "- visualisations de corrélation entre conso J et conso retardée\n",
    "- visualisations des séries temporelles des températures\n",
    "- calculs de corrélations entre la température et les différentes stations météo"
   ]
  },
  {
   "cell_type": "markdown",
   "metadata": {},
   "source": [
    "## Calcul de statistiques descriptives sur la consommation nationale\n",
    "A l'aide de la fonction _describe_."
   ]
  },
  {
   "cell_type": "code",
   "execution_count": 18,
   "metadata": {},
   "outputs": [
    {
     "data": {
      "text/plain": [
       "count    39025.000000\n",
       "mean     54775.101781\n",
       "std      12027.581949\n",
       "min      29477.000000\n",
       "25%      45631.000000\n",
       "50%      53198.000000\n",
       "75%      63224.000000\n",
       "max      94190.000000\n",
       "Name: y, dtype: float64"
      ]
     },
     "execution_count": 18,
     "metadata": {},
     "output_type": "execute_result"
    }
   ],
   "source": [
    "Yconso['y'].describe()"
   ]
  },
  {
   "cell_type": "code",
   "execution_count": 17,
   "metadata": {},
   "outputs": [
    {
     "data": {
      "text/plain": [
       "0"
      ]
     },
     "execution_count": 17,
     "metadata": {},
     "output_type": "execute_result"
    }
   ],
   "source": [
    "Yconso['y'].isnull().sum()"
   ]
  },
  {
   "cell_type": "markdown",
   "metadata": {},
   "source": [
    "## Visualiser la consommation d'un jour particulier\n",
    "On souhaite visualiser la consommation réalisée pour un jour donné de l'historique."
   ]
  },
  {
   "cell_type": "code",
   "execution_count": 19,
   "metadata": {},
   "outputs": [],
   "source": [
    "def plot_load(var_load, year, month, day):\n",
    "    date_cible = datetime.datetime(year=year, month=month, day=day)  # implicitement heure = minuit\n",
    "    date_lendemain_cible = date_cible + datetime.timedelta(days=1)\n",
    "    mask = (var_load.ds >= date_cible) & (var_load.ds <= date_lendemain_cible)   \n",
    "    consoJour = var_load[mask]\n",
    "    plt.plot(consoJour['ds'], consoJour['y'], color='blue')\n",
    "    plt.show()"
   ]
  },
  {
   "cell_type": "code",
   "execution_count": 20,
   "metadata": {},
   "outputs": [
    {
     "data": {
      "image/png": "[encoded data removed]",
      "text/plain": [
       "<Figure size 432x288 with 1 Axes>"
      ]
     },
     "metadata": {
      "needs_background": "light"
     },
     "output_type": "display_data"
    }
   ],
   "source": [
    "plot_load(Yconso, 2016, 12, 20)"
   ]
  },
  {
   "cell_type": "markdown",
   "metadata": {},
   "source": [
    "## Afficher une semaine arbitraire de consommation\n",
    "On pourra modifier la fonction précédente en rajoutant le timedelta en paramètre."
   ]
  },
  {
   "cell_type": "code",
   "execution_count": 21,
   "metadata": {},
   "outputs": [],
   "source": [
    "def plot_load_timedelta(var_load, year, month, day, delta_days):\n",
    "    date_cible = datetime.datetime(year=year, month=month, day=day)\n",
    "    date_lendemain_cible = date_cible + datetime.timedelta(days=delta_days)\n",
    "\n",
    "    conso_periode = var_load[(var_load.ds >= date_cible) \n",
    "                                      & (var_load.ds <= date_lendemain_cible)]\n",
    "    plt.plot(conso_periode['ds'], conso_periode['y'], color='blue')\n",
    "    plt.show()"
   ]
  },
  {
   "cell_type": "code",
   "execution_count": 22,
   "metadata": {},
   "outputs": [
    {
     "data": {
      "image/png": "[encoded data removed]",
      "text/plain": [
       "<Figure size 432x288 with 1 Axes>"
      ]
     },
     "metadata": {
      "needs_background": "light"
     },
     "output_type": "display_data"
    }
   ],
   "source": [
    "plot_load_timedelta(Yconso, 2016, 12, 20, delta_days=7)"
   ]
  },
  {
   "cell_type": "markdown",
   "metadata": {},
   "source": [
    "## Observation des profils de la consommation pour les mois d'hiver et les mois d'été\n",
    "Toujours dans le but d'appréhender nos données, on va regarder les profils moyens pour les mois d'été et pour ceux d'hiver. On va également observer le min et le max pour avoir une idée de la variabilité du signal."
   ]
  },
  {
   "cell_type": "code",
   "execution_count": 23,
   "metadata": {},
   "outputs": [],
   "source": [
    "# Par commodité, on isole le mois pour après attraper les mois d'hiver et d'été\n",
    "Xinput['month'] = Xinput['ds'].dt.month\n",
    "\n",
    "# On isole aussi les heures\n",
    "Xinput['hour'] = Xinput['ds'].dt.hour\n",
    "\n",
    "# On sépare les jours de la semaine en week-end / pas week-end\n",
    "# De base, la fonction datetime.weekday() renvoie 0 => Lundi, 2 => Mardi, ..., 5 => Samedi, 6 => Dimanche\n",
    "# Ci-dessous, si on a un jour d ela semaine alors dans la colonne weekday on mettra 1, et 0 si c'est le week-end\n",
    "Xinput['weekday'] = (Xinput['ds'].dt.weekday < 5).astype(int)  # conversion bool => int"
   ]
  },
  {
   "cell_type": "code",
   "execution_count": 24,
   "metadata": {},
   "outputs": [
    {
     "data": {
      "text/html": [
       "<div>\n",
       "<style scoped>\n",
       "    .dataframe tbody tr th:only-of-type {\n",
       "        vertical-align: middle;\n",
       "    }\n",
       "\n",
       "    .dataframe tbody tr th {\n",
       "        vertical-align: top;\n",
       "    }\n",
       "\n",
       "    .dataframe thead th {\n",
       "        text-align: right;\n",
       "    }\n",
       "</style>\n",
       "<table border=\"1\" class=\"dataframe\">\n",
       "  <thead>\n",
       "    <tr style=\"text-align: right;\">\n",
       "      <th></th>\n",
       "      <th>ds</th>\n",
       "      <th>holiday</th>\n",
       "      <th>FranceTh_real_24h_avant</th>\n",
       "      <th>FranceTh_prev</th>\n",
       "      <th>month</th>\n",
       "      <th>hour</th>\n",
       "      <th>weekday</th>\n",
       "    </tr>\n",
       "  </thead>\n",
       "  <tbody>\n",
       "    <tr>\n",
       "      <th>0</th>\n",
       "      <td>2012-12-29 00:00:00</td>\n",
       "      <td>NaN</td>\n",
       "      <td>9.339850</td>\n",
       "      <td>10.734500</td>\n",
       "      <td>12</td>\n",
       "      <td>0</td>\n",
       "      <td>0</td>\n",
       "    </tr>\n",
       "    <tr>\n",
       "      <th>1</th>\n",
       "      <td>2012-12-29 01:00:00</td>\n",
       "      <td>NaN</td>\n",
       "      <td>9.339580</td>\n",
       "      <td>10.735110</td>\n",
       "      <td>12</td>\n",
       "      <td>1</td>\n",
       "      <td>0</td>\n",
       "    </tr>\n",
       "    <tr>\n",
       "      <th>2</th>\n",
       "      <td>2012-12-29 02:00:00</td>\n",
       "      <td>NaN</td>\n",
       "      <td>9.337955</td>\n",
       "      <td>10.733485</td>\n",
       "      <td>12</td>\n",
       "      <td>2</td>\n",
       "      <td>0</td>\n",
       "    </tr>\n",
       "    <tr>\n",
       "      <th>3</th>\n",
       "      <td>2012-12-29 03:00:00</td>\n",
       "      <td>NaN</td>\n",
       "      <td>9.338565</td>\n",
       "      <td>10.733050</td>\n",
       "      <td>12</td>\n",
       "      <td>3</td>\n",
       "      <td>0</td>\n",
       "    </tr>\n",
       "    <tr>\n",
       "      <th>4</th>\n",
       "      <td>2012-12-29 04:00:00</td>\n",
       "      <td>NaN</td>\n",
       "      <td>9.337475</td>\n",
       "      <td>10.731165</td>\n",
       "      <td>12</td>\n",
       "      <td>4</td>\n",
       "      <td>0</td>\n",
       "    </tr>\n",
       "  </tbody>\n",
       "</table>\n",
       "</div>"
      ],
      "text/plain": [
       "                   ds holiday  FranceTh_real_24h_avant  FranceTh_prev  month  \\\n",
       "0 2012-12-29 00:00:00     NaN                 9.339850      10.734500     12   \n",
       "1 2012-12-29 01:00:00     NaN                 9.339580      10.735110     12   \n",
       "2 2012-12-29 02:00:00     NaN                 9.337955      10.733485     12   \n",
       "3 2012-12-29 03:00:00     NaN                 9.338565      10.733050     12   \n",
       "4 2012-12-29 04:00:00     NaN                 9.337475      10.731165     12   \n",
       "\n",
       "   hour  weekday  \n",
       "0     0        0  \n",
       "1     1        0  \n",
       "2     2        0  \n",
       "3     3        0  \n",
       "4     4        0  "
      ]
     },
     "execution_count": 24,
     "metadata": {},
     "output_type": "execute_result"
    }
   ],
   "source": [
    "Xinput.head(5)"
   ]
  },
  {
   "cell_type": "code",
   "execution_count": 25,
   "metadata": {},
   "outputs": [],
   "source": [
    "# On aggrège les mois d'hiver ensemble\n",
    "XY_df = pd.merge(Yconso, Xinput, on = 'ds')\n",
    "groupedHiver = XY_df[(XY_df.month == 12) | \n",
    "                                     (XY_df.month == 1) | \n",
    "                                     (XY_df.month == 2)].groupby(['weekday', 'hour'], as_index=True)\n",
    "\n",
    "# Idem pour les mois d'été\n",
    "groupedEte = XY_df[(XY_df.month == 6) | \n",
    "                                   (XY_df.month == 7) | \n",
    "                                   (XY_df.month == 8)].groupby(['weekday', 'hour'], as_index=True)\n",
    "\n",
    "statsHiver = groupedHiver['y'].aggregate([np.mean, np.min, np.max])\n",
    "statsEte = groupedEte['y'].aggregate([np.mean, np.min, np.max])"
   ]
  },
  {
   "cell_type": "code",
   "execution_count": 26,
   "metadata": {},
   "outputs": [
    {
     "name": "stdout",
     "output_type": "stream",
     "text": [
      "                      mean   amin   amax\n",
      "weekday hour                            \n",
      "0       0     67983.416667  52914  84086\n",
      "        1     63497.350000  48866  79809\n",
      "        2     62439.141667  47963  79855\n",
      "        3     59820.758333  45759  77323\n",
      "        4     57227.808333  43833  74709\n",
      "        5     56318.225000  43520  74306\n",
      "        6     57280.483333  44858  75671\n",
      "        7     58994.008333  46444  77925\n",
      "        8     60924.033333  48324  81365\n",
      "        9     63016.475000  49467  83759\n",
      "        10    65326.583333  51791  85443\n",
      "        11    66056.308333  52786  84508\n",
      "        12    66815.241667  53317  83312\n",
      "        13    67815.641667  54316  84065\n",
      "        14    64132.591667  50394  81236\n",
      "        15    61574.633333  47892  79046\n",
      "        16    60116.833333  46704  77601\n",
      "        17    60404.666667  47935  77260\n",
      "        18    64754.725000  50872  80222\n",
      "        19    69327.783333  57047  85419\n",
      "        20    68657.383333  56500  84433\n",
      "        21    65902.341667  54213  80210\n",
      "        22    63454.875000  52301  77515\n",
      "        23    66991.708333  55898  81451\n",
      "1       0     68511.825083  55360  85893\n",
      "        1     64212.135314  51056  81895\n",
      "        2     63689.653465  49822  82272\n",
      "        3     61536.145215  47461  80162\n",
      "        4     59450.917492  44996  78138\n",
      "        5     59720.118812  43500  78558\n",
      "        6     63455.399340  43767  82347\n",
      "        7     70166.656766  44488  89307\n",
      "        8     74681.501650  45625  93853\n",
      "        9     75255.656766  46014  94190\n",
      "        10    75507.828383  47856  93491\n",
      "        11    75111.894389  49284  91771\n",
      "        12    75353.343234  49767  92187\n",
      "        13    74732.042904  50632  91681\n",
      "        14    72731.260726  47169  89490\n",
      "        15    70601.531353  44658  87137\n",
      "        16    69272.722772  43710  85756\n",
      "        17    69509.138614  44615  85446\n",
      "        18    73406.511551  49378  89345\n",
      "        19    77628.699670  51419  93910\n",
      "        20    75150.003300  51743  91223\n",
      "        21    70857.874587  50835  87015\n",
      "        22    67357.336634  49712  83578\n",
      "        23    70204.194719  53433  86493\n"
     ]
    }
   ],
   "source": [
    "print(statsHiver)"
   ]
  },
  {
   "cell_type": "code",
   "execution_count": 27,
   "metadata": {},
   "outputs": [
    {
     "data": {
      "image/png": "[encoded data removed]",
      "text/plain": [
       "<Figure size 432x288 with 1 Axes>"
      ]
     },
     "metadata": {
      "needs_background": "light"
     },
     "output_type": "display_data"
    }
   ],
   "source": [
    "# On affiche des infos sur le profil pour les jours de la semaine\n",
    "semaine = statsHiver.loc[1]  # 0 pour les jours de semaine\n",
    "weekend = statsHiver.loc[0]  # 0 pour weekend\n",
    "\n",
    "plt.plot(semaine['amin'], color='cyan')\n",
    "plt.plot(semaine['mean'], color='blue')\n",
    "plt.plot(semaine['amax'], color='cyan')\n",
    "plt.show()"
   ]
  },
  {
   "cell_type": "markdown",
   "metadata": {},
   "source": [
    "## Lien avec la consommation passée\n",
    "A l'aide de la fonction shift, pour un point horaire cible on regarde  :\n",
    "- la consommation de l'heure précédente, \n",
    "- du jour précédent, \n",
    "- de la semaine précédente.\n",
    "\n",
    "On regarde ensuite si la consommation réalisée peut se deviner à partir de ces observations."
   ]
  },
  {
   "cell_type": "code",
   "execution_count": 28,
   "metadata": {},
   "outputs": [],
   "source": [
    "Xinput['lag1H'] = Yconso['y'].shift(1)\n",
    "Xinput['lag1D'] = Yconso['y'].shift(24)\n",
    "Xinput['lag1W'] = Yconso['y'].shift(24*7)"
   ]
  },
  {
   "cell_type": "code",
   "execution_count": 29,
   "metadata": {
    "scrolled": true
   },
   "outputs": [
    {
     "data": {
      "text/html": [
       "<div>\n",
       "<style scoped>\n",
       "    .dataframe tbody tr th:only-of-type {\n",
       "        vertical-align: middle;\n",
       "    }\n",
       "\n",
       "    .dataframe tbody tr th {\n",
       "        vertical-align: top;\n",
       "    }\n",
       "\n",
       "    .dataframe thead th {\n",
       "        text-align: right;\n",
       "    }\n",
       "</style>\n",
       "<table border=\"1\" class=\"dataframe\">\n",
       "  <thead>\n",
       "    <tr style=\"text-align: right;\">\n",
       "      <th></th>\n",
       "      <th>ds</th>\n",
       "      <th>holiday</th>\n",
       "      <th>FranceTh_real_24h_avant</th>\n",
       "      <th>FranceTh_prev</th>\n",
       "      <th>month</th>\n",
       "      <th>hour</th>\n",
       "      <th>weekday</th>\n",
       "      <th>lag1H</th>\n",
       "      <th>lag1D</th>\n",
       "      <th>lag1W</th>\n",
       "    </tr>\n",
       "  </thead>\n",
       "  <tbody>\n",
       "    <tr>\n",
       "      <th>0</th>\n",
       "      <td>2012-12-29 00:00:00</td>\n",
       "      <td>NaN</td>\n",
       "      <td>9.339850</td>\n",
       "      <td>10.734500</td>\n",
       "      <td>12</td>\n",
       "      <td>0</td>\n",
       "      <td>0</td>\n",
       "      <td>NaN</td>\n",
       "      <td>NaN</td>\n",
       "      <td>NaN</td>\n",
       "    </tr>\n",
       "    <tr>\n",
       "      <th>1</th>\n",
       "      <td>2012-12-29 01:00:00</td>\n",
       "      <td>NaN</td>\n",
       "      <td>9.339580</td>\n",
       "      <td>10.735110</td>\n",
       "      <td>12</td>\n",
       "      <td>1</td>\n",
       "      <td>0</td>\n",
       "      <td>59182.0</td>\n",
       "      <td>NaN</td>\n",
       "      <td>NaN</td>\n",
       "    </tr>\n",
       "    <tr>\n",
       "      <th>2</th>\n",
       "      <td>2012-12-29 02:00:00</td>\n",
       "      <td>NaN</td>\n",
       "      <td>9.337955</td>\n",
       "      <td>10.733485</td>\n",
       "      <td>12</td>\n",
       "      <td>2</td>\n",
       "      <td>0</td>\n",
       "      <td>54584.0</td>\n",
       "      <td>NaN</td>\n",
       "      <td>NaN</td>\n",
       "    </tr>\n",
       "    <tr>\n",
       "      <th>3</th>\n",
       "      <td>2012-12-29 03:00:00</td>\n",
       "      <td>NaN</td>\n",
       "      <td>9.338565</td>\n",
       "      <td>10.733050</td>\n",
       "      <td>12</td>\n",
       "      <td>3</td>\n",
       "      <td>0</td>\n",
       "      <td>53957.0</td>\n",
       "      <td>NaN</td>\n",
       "      <td>NaN</td>\n",
       "    </tr>\n",
       "    <tr>\n",
       "      <th>4</th>\n",
       "      <td>2012-12-29 04:00:00</td>\n",
       "      <td>NaN</td>\n",
       "      <td>9.337475</td>\n",
       "      <td>10.731165</td>\n",
       "      <td>12</td>\n",
       "      <td>4</td>\n",
       "      <td>0</td>\n",
       "      <td>51338.0</td>\n",
       "      <td>NaN</td>\n",
       "      <td>NaN</td>\n",
       "    </tr>\n",
       "    <tr>\n",
       "      <th>5</th>\n",
       "      <td>2012-12-29 05:00:00</td>\n",
       "      <td>NaN</td>\n",
       "      <td>9.335850</td>\n",
       "      <td>10.730180</td>\n",
       "      <td>12</td>\n",
       "      <td>5</td>\n",
       "      <td>0</td>\n",
       "      <td>48852.0</td>\n",
       "      <td>NaN</td>\n",
       "      <td>NaN</td>\n",
       "    </tr>\n",
       "    <tr>\n",
       "      <th>6</th>\n",
       "      <td>2012-12-29 06:00:00</td>\n",
       "      <td>NaN</td>\n",
       "      <td>9.332855</td>\n",
       "      <td>10.728010</td>\n",
       "      <td>12</td>\n",
       "      <td>6</td>\n",
       "      <td>0</td>\n",
       "      <td>48302.0</td>\n",
       "      <td>NaN</td>\n",
       "      <td>NaN</td>\n",
       "    </tr>\n",
       "    <tr>\n",
       "      <th>7</th>\n",
       "      <td>2012-12-29 07:00:00</td>\n",
       "      <td>NaN</td>\n",
       "      <td>9.332975</td>\n",
       "      <td>10.725145</td>\n",
       "      <td>12</td>\n",
       "      <td>7</td>\n",
       "      <td>0</td>\n",
       "      <td>49614.0</td>\n",
       "      <td>NaN</td>\n",
       "      <td>NaN</td>\n",
       "    </tr>\n",
       "    <tr>\n",
       "      <th>8</th>\n",
       "      <td>2012-12-29 08:00:00</td>\n",
       "      <td>NaN</td>\n",
       "      <td>9.332275</td>\n",
       "      <td>10.721535</td>\n",
       "      <td>12</td>\n",
       "      <td>8</td>\n",
       "      <td>0</td>\n",
       "      <td>51694.0</td>\n",
       "      <td>NaN</td>\n",
       "      <td>NaN</td>\n",
       "    </tr>\n",
       "    <tr>\n",
       "      <th>9</th>\n",
       "      <td>2012-12-29 09:00:00</td>\n",
       "      <td>NaN</td>\n",
       "      <td>9.327870</td>\n",
       "      <td>10.717750</td>\n",
       "      <td>12</td>\n",
       "      <td>9</td>\n",
       "      <td>0</td>\n",
       "      <td>54337.0</td>\n",
       "      <td>NaN</td>\n",
       "      <td>NaN</td>\n",
       "    </tr>\n",
       "    <tr>\n",
       "      <th>10</th>\n",
       "      <td>2012-12-29 10:00:00</td>\n",
       "      <td>NaN</td>\n",
       "      <td>9.325125</td>\n",
       "      <td>10.714975</td>\n",
       "      <td>12</td>\n",
       "      <td>10</td>\n",
       "      <td>0</td>\n",
       "      <td>55843.0</td>\n",
       "      <td>NaN</td>\n",
       "      <td>NaN</td>\n",
       "    </tr>\n",
       "    <tr>\n",
       "      <th>11</th>\n",
       "      <td>2012-12-29 11:00:00</td>\n",
       "      <td>NaN</td>\n",
       "      <td>9.322740</td>\n",
       "      <td>10.709655</td>\n",
       "      <td>12</td>\n",
       "      <td>11</td>\n",
       "      <td>0</td>\n",
       "      <td>57571.0</td>\n",
       "      <td>NaN</td>\n",
       "      <td>NaN</td>\n",
       "    </tr>\n",
       "    <tr>\n",
       "      <th>12</th>\n",
       "      <td>2012-12-29 12:00:00</td>\n",
       "      <td>NaN</td>\n",
       "      <td>9.318945</td>\n",
       "      <td>10.704470</td>\n",
       "      <td>12</td>\n",
       "      <td>12</td>\n",
       "      <td>0</td>\n",
       "      <td>57601.0</td>\n",
       "      <td>NaN</td>\n",
       "      <td>NaN</td>\n",
       "    </tr>\n",
       "    <tr>\n",
       "      <th>13</th>\n",
       "      <td>2012-12-29 13:00:00</td>\n",
       "      <td>NaN</td>\n",
       "      <td>9.316475</td>\n",
       "      <td>10.697240</td>\n",
       "      <td>12</td>\n",
       "      <td>13</td>\n",
       "      <td>0</td>\n",
       "      <td>57867.0</td>\n",
       "      <td>NaN</td>\n",
       "      <td>NaN</td>\n",
       "    </tr>\n",
       "    <tr>\n",
       "      <th>14</th>\n",
       "      <td>2012-12-29 14:00:00</td>\n",
       "      <td>NaN</td>\n",
       "      <td>9.311625</td>\n",
       "      <td>10.691405</td>\n",
       "      <td>12</td>\n",
       "      <td>14</td>\n",
       "      <td>0</td>\n",
       "      <td>59204.0</td>\n",
       "      <td>NaN</td>\n",
       "      <td>NaN</td>\n",
       "    </tr>\n",
       "    <tr>\n",
       "      <th>15</th>\n",
       "      <td>2012-12-29 15:00:00</td>\n",
       "      <td>NaN</td>\n",
       "      <td>9.308385</td>\n",
       "      <td>10.684225</td>\n",
       "      <td>12</td>\n",
       "      <td>15</td>\n",
       "      <td>0</td>\n",
       "      <td>56321.0</td>\n",
       "      <td>NaN</td>\n",
       "      <td>NaN</td>\n",
       "    </tr>\n",
       "    <tr>\n",
       "      <th>16</th>\n",
       "      <td>2012-12-29 16:00:00</td>\n",
       "      <td>NaN</td>\n",
       "      <td>9.302325</td>\n",
       "      <td>10.674700</td>\n",
       "      <td>12</td>\n",
       "      <td>16</td>\n",
       "      <td>0</td>\n",
       "      <td>54402.0</td>\n",
       "      <td>NaN</td>\n",
       "      <td>NaN</td>\n",
       "    </tr>\n",
       "    <tr>\n",
       "      <th>17</th>\n",
       "      <td>2012-12-29 17:00:00</td>\n",
       "      <td>NaN</td>\n",
       "      <td>9.297950</td>\n",
       "      <td>10.665865</td>\n",
       "      <td>12</td>\n",
       "      <td>17</td>\n",
       "      <td>0</td>\n",
       "      <td>53249.0</td>\n",
       "      <td>NaN</td>\n",
       "      <td>NaN</td>\n",
       "    </tr>\n",
       "    <tr>\n",
       "      <th>18</th>\n",
       "      <td>2012-12-29 18:00:00</td>\n",
       "      <td>NaN</td>\n",
       "      <td>9.293705</td>\n",
       "      <td>10.655585</td>\n",
       "      <td>12</td>\n",
       "      <td>18</td>\n",
       "      <td>0</td>\n",
       "      <td>54340.0</td>\n",
       "      <td>NaN</td>\n",
       "      <td>NaN</td>\n",
       "    </tr>\n",
       "    <tr>\n",
       "      <th>19</th>\n",
       "      <td>2012-12-29 19:00:00</td>\n",
       "      <td>NaN</td>\n",
       "      <td>9.287550</td>\n",
       "      <td>10.646265</td>\n",
       "      <td>12</td>\n",
       "      <td>19</td>\n",
       "      <td>0</td>\n",
       "      <td>59955.0</td>\n",
       "      <td>NaN</td>\n",
       "      <td>NaN</td>\n",
       "    </tr>\n",
       "    <tr>\n",
       "      <th>20</th>\n",
       "      <td>2012-12-29 20:00:00</td>\n",
       "      <td>NaN</td>\n",
       "      <td>9.282385</td>\n",
       "      <td>10.633475</td>\n",
       "      <td>12</td>\n",
       "      <td>20</td>\n",
       "      <td>0</td>\n",
       "      <td>62472.0</td>\n",
       "      <td>NaN</td>\n",
       "      <td>NaN</td>\n",
       "    </tr>\n",
       "    <tr>\n",
       "      <th>21</th>\n",
       "      <td>2012-12-29 21:00:00</td>\n",
       "      <td>NaN</td>\n",
       "      <td>9.275320</td>\n",
       "      <td>10.620475</td>\n",
       "      <td>12</td>\n",
       "      <td>21</td>\n",
       "      <td>0</td>\n",
       "      <td>61231.0</td>\n",
       "      <td>NaN</td>\n",
       "      <td>NaN</td>\n",
       "    </tr>\n",
       "    <tr>\n",
       "      <th>22</th>\n",
       "      <td>2012-12-29 22:00:00</td>\n",
       "      <td>NaN</td>\n",
       "      <td>9.267825</td>\n",
       "      <td>10.608455</td>\n",
       "      <td>12</td>\n",
       "      <td>22</td>\n",
       "      <td>0</td>\n",
       "      <td>58453.0</td>\n",
       "      <td>NaN</td>\n",
       "      <td>NaN</td>\n",
       "    </tr>\n",
       "    <tr>\n",
       "      <th>23</th>\n",
       "      <td>2012-12-29 23:00:00</td>\n",
       "      <td>NaN</td>\n",
       "      <td>9.260845</td>\n",
       "      <td>10.593800</td>\n",
       "      <td>12</td>\n",
       "      <td>23</td>\n",
       "      <td>0</td>\n",
       "      <td>56087.0</td>\n",
       "      <td>NaN</td>\n",
       "      <td>NaN</td>\n",
       "    </tr>\n",
       "    <tr>\n",
       "      <th>24</th>\n",
       "      <td>2012-12-30 00:00:00</td>\n",
       "      <td>NaN</td>\n",
       "      <td>9.253105</td>\n",
       "      <td>10.578215</td>\n",
       "      <td>12</td>\n",
       "      <td>0</td>\n",
       "      <td>0</td>\n",
       "      <td>59769.0</td>\n",
       "      <td>59182.0</td>\n",
       "      <td>NaN</td>\n",
       "    </tr>\n",
       "    <tr>\n",
       "      <th>25</th>\n",
       "      <td>2012-12-30 01:00:00</td>\n",
       "      <td>NaN</td>\n",
       "      <td>9.244355</td>\n",
       "      <td>10.560355</td>\n",
       "      <td>12</td>\n",
       "      <td>1</td>\n",
       "      <td>0</td>\n",
       "      <td>59017.0</td>\n",
       "      <td>54584.0</td>\n",
       "      <td>NaN</td>\n",
       "    </tr>\n",
       "    <tr>\n",
       "      <th>26</th>\n",
       "      <td>2012-12-30 02:00:00</td>\n",
       "      <td>NaN</td>\n",
       "      <td>9.238675</td>\n",
       "      <td>10.543345</td>\n",
       "      <td>12</td>\n",
       "      <td>2</td>\n",
       "      <td>0</td>\n",
       "      <td>54674.0</td>\n",
       "      <td>53957.0</td>\n",
       "      <td>NaN</td>\n",
       "    </tr>\n",
       "    <tr>\n",
       "      <th>27</th>\n",
       "      <td>2012-12-30 03:00:00</td>\n",
       "      <td>NaN</td>\n",
       "      <td>9.228165</td>\n",
       "      <td>10.525225</td>\n",
       "      <td>12</td>\n",
       "      <td>3</td>\n",
       "      <td>0</td>\n",
       "      <td>54043.0</td>\n",
       "      <td>51338.0</td>\n",
       "      <td>NaN</td>\n",
       "    </tr>\n",
       "    <tr>\n",
       "      <th>28</th>\n",
       "      <td>2012-12-30 04:00:00</td>\n",
       "      <td>NaN</td>\n",
       "      <td>9.219435</td>\n",
       "      <td>10.504345</td>\n",
       "      <td>12</td>\n",
       "      <td>4</td>\n",
       "      <td>0</td>\n",
       "      <td>51534.0</td>\n",
       "      <td>48852.0</td>\n",
       "      <td>NaN</td>\n",
       "    </tr>\n",
       "    <tr>\n",
       "      <th>29</th>\n",
       "      <td>2012-12-30 05:00:00</td>\n",
       "      <td>NaN</td>\n",
       "      <td>9.209080</td>\n",
       "      <td>10.483305</td>\n",
       "      <td>12</td>\n",
       "      <td>5</td>\n",
       "      <td>0</td>\n",
       "      <td>48974.0</td>\n",
       "      <td>48302.0</td>\n",
       "      <td>NaN</td>\n",
       "    </tr>\n",
       "    <tr>\n",
       "      <th>...</th>\n",
       "      <td>...</td>\n",
       "      <td>...</td>\n",
       "      <td>...</td>\n",
       "      <td>...</td>\n",
       "      <td>...</td>\n",
       "      <td>...</td>\n",
       "      <td>...</td>\n",
       "      <td>...</td>\n",
       "      <td>...</td>\n",
       "      <td>...</td>\n",
       "    </tr>\n",
       "    <tr>\n",
       "      <th>139</th>\n",
       "      <td>2013-01-03 19:00:00</td>\n",
       "      <td>NaN</td>\n",
       "      <td>6.269950</td>\n",
       "      <td>8.134400</td>\n",
       "      <td>1</td>\n",
       "      <td>19</td>\n",
       "      <td>1</td>\n",
       "      <td>72429.0</td>\n",
       "      <td>74504.0</td>\n",
       "      <td>NaN</td>\n",
       "    </tr>\n",
       "    <tr>\n",
       "      <th>140</th>\n",
       "      <td>2013-01-03 20:00:00</td>\n",
       "      <td>NaN</td>\n",
       "      <td>5.928425</td>\n",
       "      <td>7.769550</td>\n",
       "      <td>1</td>\n",
       "      <td>20</td>\n",
       "      <td>1</td>\n",
       "      <td>74649.0</td>\n",
       "      <td>72250.0</td>\n",
       "      <td>NaN</td>\n",
       "    </tr>\n",
       "    <tr>\n",
       "      <th>141</th>\n",
       "      <td>2013-01-03 21:00:00</td>\n",
       "      <td>NaN</td>\n",
       "      <td>5.664250</td>\n",
       "      <td>7.614000</td>\n",
       "      <td>1</td>\n",
       "      <td>21</td>\n",
       "      <td>1</td>\n",
       "      <td>71765.0</td>\n",
       "      <td>68012.0</td>\n",
       "      <td>NaN</td>\n",
       "    </tr>\n",
       "    <tr>\n",
       "      <th>142</th>\n",
       "      <td>2013-01-03 22:00:00</td>\n",
       "      <td>NaN</td>\n",
       "      <td>5.588200</td>\n",
       "      <td>7.529275</td>\n",
       "      <td>1</td>\n",
       "      <td>22</td>\n",
       "      <td>1</td>\n",
       "      <td>67414.0</td>\n",
       "      <td>64478.0</td>\n",
       "      <td>NaN</td>\n",
       "    </tr>\n",
       "    <tr>\n",
       "      <th>143</th>\n",
       "      <td>2013-01-03 23:00:00</td>\n",
       "      <td>NaN</td>\n",
       "      <td>5.401450</td>\n",
       "      <td>7.395825</td>\n",
       "      <td>1</td>\n",
       "      <td>23</td>\n",
       "      <td>1</td>\n",
       "      <td>63613.0</td>\n",
       "      <td>67437.0</td>\n",
       "      <td>NaN</td>\n",
       "    </tr>\n",
       "    <tr>\n",
       "      <th>144</th>\n",
       "      <td>2013-01-04 00:00:00</td>\n",
       "      <td>NaN</td>\n",
       "      <td>5.373975</td>\n",
       "      <td>7.268500</td>\n",
       "      <td>1</td>\n",
       "      <td>0</td>\n",
       "      <td>1</td>\n",
       "      <td>66334.0</td>\n",
       "      <td>66174.0</td>\n",
       "      <td>NaN</td>\n",
       "    </tr>\n",
       "    <tr>\n",
       "      <th>145</th>\n",
       "      <td>2013-01-04 01:00:00</td>\n",
       "      <td>NaN</td>\n",
       "      <td>5.460825</td>\n",
       "      <td>7.132675</td>\n",
       "      <td>1</td>\n",
       "      <td>1</td>\n",
       "      <td>1</td>\n",
       "      <td>64948.0</td>\n",
       "      <td>61350.0</td>\n",
       "      <td>NaN</td>\n",
       "    </tr>\n",
       "    <tr>\n",
       "      <th>146</th>\n",
       "      <td>2013-01-04 02:00:00</td>\n",
       "      <td>NaN</td>\n",
       "      <td>5.546450</td>\n",
       "      <td>7.011575</td>\n",
       "      <td>1</td>\n",
       "      <td>2</td>\n",
       "      <td>1</td>\n",
       "      <td>60196.0</td>\n",
       "      <td>60507.0</td>\n",
       "      <td>NaN</td>\n",
       "    </tr>\n",
       "    <tr>\n",
       "      <th>147</th>\n",
       "      <td>2013-01-04 03:00:00</td>\n",
       "      <td>NaN</td>\n",
       "      <td>5.619950</td>\n",
       "      <td>6.907150</td>\n",
       "      <td>1</td>\n",
       "      <td>3</td>\n",
       "      <td>1</td>\n",
       "      <td>59062.0</td>\n",
       "      <td>58199.0</td>\n",
       "      <td>NaN</td>\n",
       "    </tr>\n",
       "    <tr>\n",
       "      <th>148</th>\n",
       "      <td>2013-01-04 04:00:00</td>\n",
       "      <td>NaN</td>\n",
       "      <td>5.697100</td>\n",
       "      <td>6.860400</td>\n",
       "      <td>1</td>\n",
       "      <td>4</td>\n",
       "      <td>1</td>\n",
       "      <td>56809.0</td>\n",
       "      <td>55804.0</td>\n",
       "      <td>NaN</td>\n",
       "    </tr>\n",
       "    <tr>\n",
       "      <th>149</th>\n",
       "      <td>2013-01-04 05:00:00</td>\n",
       "      <td>NaN</td>\n",
       "      <td>5.628375</td>\n",
       "      <td>6.859550</td>\n",
       "      <td>1</td>\n",
       "      <td>5</td>\n",
       "      <td>1</td>\n",
       "      <td>54476.0</td>\n",
       "      <td>55932.0</td>\n",
       "      <td>NaN</td>\n",
       "    </tr>\n",
       "    <tr>\n",
       "      <th>150</th>\n",
       "      <td>2013-01-04 06:00:00</td>\n",
       "      <td>NaN</td>\n",
       "      <td>5.695825</td>\n",
       "      <td>6.359100</td>\n",
       "      <td>1</td>\n",
       "      <td>6</td>\n",
       "      <td>1</td>\n",
       "      <td>54507.0</td>\n",
       "      <td>59021.0</td>\n",
       "      <td>NaN</td>\n",
       "    </tr>\n",
       "    <tr>\n",
       "      <th>151</th>\n",
       "      <td>2013-01-04 07:00:00</td>\n",
       "      <td>NaN</td>\n",
       "      <td>5.769950</td>\n",
       "      <td>6.398475</td>\n",
       "      <td>1</td>\n",
       "      <td>7</td>\n",
       "      <td>1</td>\n",
       "      <td>57502.0</td>\n",
       "      <td>64130.0</td>\n",
       "      <td>NaN</td>\n",
       "    </tr>\n",
       "    <tr>\n",
       "      <th>152</th>\n",
       "      <td>2013-01-04 08:00:00</td>\n",
       "      <td>NaN</td>\n",
       "      <td>5.878145</td>\n",
       "      <td>6.912075</td>\n",
       "      <td>1</td>\n",
       "      <td>8</td>\n",
       "      <td>1</td>\n",
       "      <td>62345.0</td>\n",
       "      <td>68769.0</td>\n",
       "      <td>NaN</td>\n",
       "    </tr>\n",
       "    <tr>\n",
       "      <th>153</th>\n",
       "      <td>2013-01-04 09:00:00</td>\n",
       "      <td>NaN</td>\n",
       "      <td>6.186625</td>\n",
       "      <td>7.215650</td>\n",
       "      <td>1</td>\n",
       "      <td>9</td>\n",
       "      <td>1</td>\n",
       "      <td>67186.0</td>\n",
       "      <td>70261.0</td>\n",
       "      <td>NaN</td>\n",
       "    </tr>\n",
       "    <tr>\n",
       "      <th>154</th>\n",
       "      <td>2013-01-04 10:00:00</td>\n",
       "      <td>NaN</td>\n",
       "      <td>6.889400</td>\n",
       "      <td>7.803075</td>\n",
       "      <td>1</td>\n",
       "      <td>10</td>\n",
       "      <td>1</td>\n",
       "      <td>68785.0</td>\n",
       "      <td>71499.0</td>\n",
       "      <td>NaN</td>\n",
       "    </tr>\n",
       "    <tr>\n",
       "      <th>155</th>\n",
       "      <td>2013-01-04 11:00:00</td>\n",
       "      <td>NaN</td>\n",
       "      <td>7.730775</td>\n",
       "      <td>8.693800</td>\n",
       "      <td>1</td>\n",
       "      <td>11</td>\n",
       "      <td>1</td>\n",
       "      <td>70304.0</td>\n",
       "      <td>71873.0</td>\n",
       "      <td>NaN</td>\n",
       "    </tr>\n",
       "    <tr>\n",
       "      <th>156</th>\n",
       "      <td>2013-01-04 12:00:00</td>\n",
       "      <td>NaN</td>\n",
       "      <td>8.375750</td>\n",
       "      <td>9.609950</td>\n",
       "      <td>1</td>\n",
       "      <td>12</td>\n",
       "      <td>1</td>\n",
       "      <td>70618.0</td>\n",
       "      <td>72740.0</td>\n",
       "      <td>NaN</td>\n",
       "    </tr>\n",
       "    <tr>\n",
       "      <th>157</th>\n",
       "      <td>2013-01-04 13:00:00</td>\n",
       "      <td>NaN</td>\n",
       "      <td>8.854450</td>\n",
       "      <td>10.431200</td>\n",
       "      <td>1</td>\n",
       "      <td>13</td>\n",
       "      <td>1</td>\n",
       "      <td>71688.0</td>\n",
       "      <td>72579.0</td>\n",
       "      <td>NaN</td>\n",
       "    </tr>\n",
       "    <tr>\n",
       "      <th>158</th>\n",
       "      <td>2013-01-04 14:00:00</td>\n",
       "      <td>NaN</td>\n",
       "      <td>9.333150</td>\n",
       "      <td>10.933000</td>\n",
       "      <td>1</td>\n",
       "      <td>14</td>\n",
       "      <td>1</td>\n",
       "      <td>71860.0</td>\n",
       "      <td>70738.0</td>\n",
       "      <td>NaN</td>\n",
       "    </tr>\n",
       "    <tr>\n",
       "      <th>159</th>\n",
       "      <td>2013-01-04 15:00:00</td>\n",
       "      <td>NaN</td>\n",
       "      <td>9.571700</td>\n",
       "      <td>11.042700</td>\n",
       "      <td>1</td>\n",
       "      <td>15</td>\n",
       "      <td>1</td>\n",
       "      <td>69654.0</td>\n",
       "      <td>68765.0</td>\n",
       "      <td>NaN</td>\n",
       "    </tr>\n",
       "    <tr>\n",
       "      <th>160</th>\n",
       "      <td>2013-01-04 16:00:00</td>\n",
       "      <td>NaN</td>\n",
       "      <td>9.435100</td>\n",
       "      <td>10.779900</td>\n",
       "      <td>1</td>\n",
       "      <td>16</td>\n",
       "      <td>1</td>\n",
       "      <td>67739.0</td>\n",
       "      <td>67282.0</td>\n",
       "      <td>NaN</td>\n",
       "    </tr>\n",
       "    <tr>\n",
       "      <th>161</th>\n",
       "      <td>2013-01-04 17:00:00</td>\n",
       "      <td>NaN</td>\n",
       "      <td>8.968200</td>\n",
       "      <td>10.186000</td>\n",
       "      <td>1</td>\n",
       "      <td>17</td>\n",
       "      <td>1</td>\n",
       "      <td>66019.0</td>\n",
       "      <td>67834.0</td>\n",
       "      <td>NaN</td>\n",
       "    </tr>\n",
       "    <tr>\n",
       "      <th>162</th>\n",
       "      <td>2013-01-04 18:00:00</td>\n",
       "      <td>NaN</td>\n",
       "      <td>8.305700</td>\n",
       "      <td>9.426550</td>\n",
       "      <td>1</td>\n",
       "      <td>18</td>\n",
       "      <td>1</td>\n",
       "      <td>66271.0</td>\n",
       "      <td>72429.0</td>\n",
       "      <td>NaN</td>\n",
       "    </tr>\n",
       "    <tr>\n",
       "      <th>163</th>\n",
       "      <td>2013-01-04 19:00:00</td>\n",
       "      <td>NaN</td>\n",
       "      <td>7.990225</td>\n",
       "      <td>8.711950</td>\n",
       "      <td>1</td>\n",
       "      <td>19</td>\n",
       "      <td>1</td>\n",
       "      <td>70700.0</td>\n",
       "      <td>74649.0</td>\n",
       "      <td>NaN</td>\n",
       "    </tr>\n",
       "    <tr>\n",
       "      <th>164</th>\n",
       "      <td>2013-01-04 20:00:00</td>\n",
       "      <td>NaN</td>\n",
       "      <td>7.653025</td>\n",
       "      <td>8.211950</td>\n",
       "      <td>1</td>\n",
       "      <td>20</td>\n",
       "      <td>1</td>\n",
       "      <td>72462.0</td>\n",
       "      <td>71765.0</td>\n",
       "      <td>NaN</td>\n",
       "    </tr>\n",
       "    <tr>\n",
       "      <th>165</th>\n",
       "      <td>2013-01-04 21:00:00</td>\n",
       "      <td>NaN</td>\n",
       "      <td>7.472100</td>\n",
       "      <td>7.876650</td>\n",
       "      <td>1</td>\n",
       "      <td>21</td>\n",
       "      <td>1</td>\n",
       "      <td>69629.0</td>\n",
       "      <td>67414.0</td>\n",
       "      <td>NaN</td>\n",
       "    </tr>\n",
       "    <tr>\n",
       "      <th>166</th>\n",
       "      <td>2013-01-04 22:00:00</td>\n",
       "      <td>NaN</td>\n",
       "      <td>7.196725</td>\n",
       "      <td>7.675100</td>\n",
       "      <td>1</td>\n",
       "      <td>22</td>\n",
       "      <td>1</td>\n",
       "      <td>65632.0</td>\n",
       "      <td>63613.0</td>\n",
       "      <td>NaN</td>\n",
       "    </tr>\n",
       "    <tr>\n",
       "      <th>167</th>\n",
       "      <td>2013-01-04 23:00:00</td>\n",
       "      <td>NaN</td>\n",
       "      <td>7.061050</td>\n",
       "      <td>7.264600</td>\n",
       "      <td>1</td>\n",
       "      <td>23</td>\n",
       "      <td>1</td>\n",
       "      <td>62355.0</td>\n",
       "      <td>66334.0</td>\n",
       "      <td>NaN</td>\n",
       "    </tr>\n",
       "    <tr>\n",
       "      <th>168</th>\n",
       "      <td>2013-01-05 00:00:00</td>\n",
       "      <td>NaN</td>\n",
       "      <td>6.904075</td>\n",
       "      <td>7.087500</td>\n",
       "      <td>1</td>\n",
       "      <td>0</td>\n",
       "      <td>0</td>\n",
       "      <td>65201.0</td>\n",
       "      <td>64948.0</td>\n",
       "      <td>59182.0</td>\n",
       "    </tr>\n",
       "  </tbody>\n",
       "</table>\n",
       "<p>169 rows × 10 columns</p>\n",
       "</div>"
      ],
      "text/plain": [
       "                     ds holiday  FranceTh_real_24h_avant  FranceTh_prev  \\\n",
       "0   2012-12-29 00:00:00     NaN                 9.339850      10.734500   \n",
       "1   2012-12-29 01:00:00     NaN                 9.339580      10.735110   \n",
       "2   2012-12-29 02:00:00     NaN                 9.337955      10.733485   \n",
       "3   2012-12-29 03:00:00     NaN                 9.338565      10.733050   \n",
       "4   2012-12-29 04:00:00     NaN                 9.337475      10.731165   \n",
       "5   2012-12-29 05:00:00     NaN                 9.335850      10.730180   \n",
       "6   2012-12-29 06:00:00     NaN                 9.332855      10.728010   \n",
       "7   2012-12-29 07:00:00     NaN                 9.332975      10.725145   \n",
       "8   2012-12-29 08:00:00     NaN                 9.332275      10.721535   \n",
       "9   2012-12-29 09:00:00     NaN                 9.327870      10.717750   \n",
       "10  2012-12-29 10:00:00     NaN                 9.325125      10.714975   \n",
       "11  2012-12-29 11:00:00     NaN                 9.322740      10.709655   \n",
       "12  2012-12-29 12:00:00     NaN                 9.318945      10.704470   \n",
       "13  2012-12-29 13:00:00     NaN                 9.316475      10.697240   \n",
       "14  2012-12-29 14:00:00     NaN                 9.311625      10.691405   \n",
       "15  2012-12-29 15:00:00     NaN                 9.308385      10.684225   \n",
       "16  2012-12-29 16:00:00     NaN                 9.302325      10.674700   \n",
       "17  2012-12-29 17:00:00     NaN                 9.297950      10.665865   \n",
       "18  2012-12-29 18:00:00     NaN                 9.293705      10.655585   \n",
       "19  2012-12-29 19:00:00     NaN                 9.287550      10.646265   \n",
       "20  2012-12-29 20:00:00     NaN                 9.282385      10.633475   \n",
       "21  2012-12-29 21:00:00     NaN                 9.275320      10.620475   \n",
       "22  2012-12-29 22:00:00     NaN                 9.267825      10.608455   \n",
       "23  2012-12-29 23:00:00     NaN                 9.260845      10.593800   \n",
       "24  2012-12-30 00:00:00     NaN                 9.253105      10.578215   \n",
       "25  2012-12-30 01:00:00     NaN                 9.244355      10.560355   \n",
       "26  2012-12-30 02:00:00     NaN                 9.238675      10.543345   \n",
       "27  2012-12-30 03:00:00     NaN                 9.228165      10.525225   \n",
       "28  2012-12-30 04:00:00     NaN                 9.219435      10.504345   \n",
       "29  2012-12-30 05:00:00     NaN                 9.209080      10.483305   \n",
       "..                  ...     ...                      ...            ...   \n",
       "139 2013-01-03 19:00:00     NaN                 6.269950       8.134400   \n",
       "140 2013-01-03 20:00:00     NaN                 5.928425       7.769550   \n",
       "141 2013-01-03 21:00:00     NaN                 5.664250       7.614000   \n",
       "142 2013-01-03 22:00:00     NaN                 5.588200       7.529275   \n",
       "143 2013-01-03 23:00:00     NaN                 5.401450       7.395825   \n",
       "144 2013-01-04 00:00:00     NaN                 5.373975       7.268500   \n",
       "145 2013-01-04 01:00:00     NaN                 5.460825       7.132675   \n",
       "146 2013-01-04 02:00:00     NaN                 5.546450       7.011575   \n",
       "147 2013-01-04 03:00:00     NaN                 5.619950       6.907150   \n",
       "148 2013-01-04 04:00:00     NaN                 5.697100       6.860400   \n",
       "149 2013-01-04 05:00:00     NaN                 5.628375       6.859550   \n",
       "150 2013-01-04 06:00:00     NaN                 5.695825       6.359100   \n",
       "151 2013-01-04 07:00:00     NaN                 5.769950       6.398475   \n",
       "152 2013-01-04 08:00:00     NaN                 5.878145       6.912075   \n",
       "153 2013-01-04 09:00:00     NaN                 6.186625       7.215650   \n",
       "154 2013-01-04 10:00:00     NaN                 6.889400       7.803075   \n",
       "155 2013-01-04 11:00:00     NaN                 7.730775       8.693800   \n",
       "156 2013-01-04 12:00:00     NaN                 8.375750       9.609950   \n",
       "157 2013-01-04 13:00:00     NaN                 8.854450      10.431200   \n",
       "158 2013-01-04 14:00:00     NaN                 9.333150      10.933000   \n",
       "159 2013-01-04 15:00:00     NaN                 9.571700      11.042700   \n",
       "160 2013-01-04 16:00:00     NaN                 9.435100      10.779900   \n",
       "161 2013-01-04 17:00:00     NaN                 8.968200      10.186000   \n",
       "162 2013-01-04 18:00:00     NaN                 8.305700       9.426550   \n",
       "163 2013-01-04 19:00:00     NaN                 7.990225       8.711950   \n",
       "164 2013-01-04 20:00:00     NaN                 7.653025       8.211950   \n",
       "165 2013-01-04 21:00:00     NaN                 7.472100       7.876650   \n",
       "166 2013-01-04 22:00:00     NaN                 7.196725       7.675100   \n",
       "167 2013-01-04 23:00:00     NaN                 7.061050       7.264600   \n",
       "168 2013-01-05 00:00:00     NaN                 6.904075       7.087500   \n",
       "\n",
       "     month  hour  weekday    lag1H    lag1D    lag1W  \n",
       "0       12     0        0      NaN      NaN      NaN  \n",
       "1       12     1        0  59182.0      NaN      NaN  \n",
       "2       12     2        0  54584.0      NaN      NaN  \n",
       "3       12     3        0  53957.0      NaN      NaN  \n",
       "4       12     4        0  51338.0      NaN      NaN  \n",
       "5       12     5        0  48852.0      NaN      NaN  \n",
       "6       12     6        0  48302.0      NaN      NaN  \n",
       "7       12     7        0  49614.0      NaN      NaN  \n",
       "8       12     8        0  51694.0      NaN      NaN  \n",
       "9       12     9        0  54337.0      NaN      NaN  \n",
       "10      12    10        0  55843.0      NaN      NaN  \n",
       "11      12    11        0  57571.0      NaN      NaN  \n",
       "12      12    12        0  57601.0      NaN      NaN  \n",
       "13      12    13        0  57867.0      NaN      NaN  \n",
       "14      12    14        0  59204.0      NaN      NaN  \n",
       "15      12    15        0  56321.0      NaN      NaN  \n",
       "16      12    16        0  54402.0      NaN      NaN  \n",
       "17      12    17        0  53249.0      NaN      NaN  \n",
       "18      12    18        0  54340.0      NaN      NaN  \n",
       "19      12    19        0  59955.0      NaN      NaN  \n",
       "20      12    20        0  62472.0      NaN      NaN  \n",
       "21      12    21        0  61231.0      NaN      NaN  \n",
       "22      12    22        0  58453.0      NaN      NaN  \n",
       "23      12    23        0  56087.0      NaN      NaN  \n",
       "24      12     0        0  59769.0  59182.0      NaN  \n",
       "25      12     1        0  59017.0  54584.0      NaN  \n",
       "26      12     2        0  54674.0  53957.0      NaN  \n",
       "27      12     3        0  54043.0  51338.0      NaN  \n",
       "28      12     4        0  51534.0  48852.0      NaN  \n",
       "29      12     5        0  48974.0  48302.0      NaN  \n",
       "..     ...   ...      ...      ...      ...      ...  \n",
       "139      1    19        1  72429.0  74504.0      NaN  \n",
       "140      1    20        1  74649.0  72250.0      NaN  \n",
       "141      1    21        1  71765.0  68012.0      NaN  \n",
       "142      1    22        1  67414.0  64478.0      NaN  \n",
       "143      1    23        1  63613.0  67437.0      NaN  \n",
       "144      1     0        1  66334.0  66174.0      NaN  \n",
       "145      1     1        1  64948.0  61350.0      NaN  \n",
       "146      1     2        1  60196.0  60507.0      NaN  \n",
       "147      1     3        1  59062.0  58199.0      NaN  \n",
       "148      1     4        1  56809.0  55804.0      NaN  \n",
       "149      1     5        1  54476.0  55932.0      NaN  \n",
       "150      1     6        1  54507.0  59021.0      NaN  \n",
       "151      1     7        1  57502.0  64130.0      NaN  \n",
       "152      1     8        1  62345.0  68769.0      NaN  \n",
       "153      1     9        1  67186.0  70261.0      NaN  \n",
       "154      1    10        1  68785.0  71499.0      NaN  \n",
       "155      1    11        1  70304.0  71873.0      NaN  \n",
       "156      1    12        1  70618.0  72740.0      NaN  \n",
       "157      1    13        1  71688.0  72579.0      NaN  \n",
       "158      1    14        1  71860.0  70738.0      NaN  \n",
       "159      1    15        1  69654.0  68765.0      NaN  \n",
       "160      1    16        1  67739.0  67282.0      NaN  \n",
       "161      1    17        1  66019.0  67834.0      NaN  \n",
       "162      1    18        1  66271.0  72429.0      NaN  \n",
       "163      1    19        1  70700.0  74649.0      NaN  \n",
       "164      1    20        1  72462.0  71765.0      NaN  \n",
       "165      1    21        1  69629.0  67414.0      NaN  \n",
       "166      1    22        1  65632.0  63613.0      NaN  \n",
       "167      1    23        1  62355.0  66334.0      NaN  \n",
       "168      1     0        0  65201.0  64948.0  59182.0  \n",
       "\n",
       "[169 rows x 10 columns]"
      ]
     },
     "execution_count": 29,
     "metadata": {},
     "output_type": "execute_result"
    }
   ],
   "source": [
    "Xinput.head(24 * 7 + 1)"
   ]
  },
  {
   "cell_type": "markdown",
   "metadata": {},
   "source": [
    "On regarde maintenant graphiquement si on a une belle corrélation ou non :"
   ]
  },
  {
   "cell_type": "code",
   "execution_count": 30,
   "metadata": {},
   "outputs": [],
   "source": [
    "def plot_scatter_load(var_x):\n",
    "    plt.scatter(Xinput[var_x],Yconso['y'])\n",
    "    plt.title(var_x)\n",
    "    plt.show()"
   ]
  },
  {
   "cell_type": "code",
   "execution_count": 31,
   "metadata": {},
   "outputs": [
    {
     "data": {
      "image/png": "[encoded data removed]",
      "text/plain": [
       "<Figure size 432x288 with 1 Axes>"
      ]
     },
     "metadata": {
      "needs_background": "light"
     },
     "output_type": "display_data"
    },
    {
     "data": {
      "image/png": "[encoded data removed]",
      "text/plain": [
       "<Figure size 432x288 with 1 Axes>"
      ]
     },
     "metadata": {
      "needs_background": "light"
     },
     "output_type": "display_data"
    },
    {
     "data": {
      "image/png": "[encoded data removed]",
      "text/plain": [
       "<Figure size 432x288 with 1 Axes>"
      ]
     },
     "metadata": {
      "needs_background": "light"
     },
     "output_type": "display_data"
    }
   ],
   "source": [
    "plot_scatter_load('lag1H')\n",
    "plot_scatter_load('lag1D')\n",
    "plot_scatter_load('lag1W')"
   ]
  },
  {
   "cell_type": "markdown",
   "metadata": {},
   "source": [
    "### Question\n",
    "Que pensez-vous de ces corrélations ?"
   ]
  },
  {
   "cell_type": "markdown",
   "metadata": {},
   "source": [
    "## Visualiser la consommation en fonction de la température \n",
    "On voudrait savoir si la consommation nationale peut s'expliquer en regardant simplement la température moyenne sur la France. Pour cela, on peut tracer un nuage de points."
   ]
  },
  {
   "cell_type": "code",
   "execution_count": 32,
   "metadata": {},
   "outputs": [
    {
     "data": {
      "image/png": "[encoded data removed]",
      "text/plain": [
       "<Figure size 432x288 with 1 Axes>"
      ]
     },
     "metadata": {
      "needs_background": "light"
     },
     "output_type": "display_data"
    }
   ],
   "source": [
    "plt.scatter(Xinput['FranceTh_prev'], Yconso['y'], alpha=0.2)\n",
    "plt.show()"
   ]
  },
  {
   "cell_type": "markdown",
   "metadata": {},
   "source": [
    "### Question\n",
    "Que pensez-vous de ce nuage ? Est-ce suffisant ?"
   ]
  },
  {
   "cell_type": "markdown",
   "metadata": {},
   "source": [
    "# Bricolage d'un modèle prédictif naïf\n",
    "\n",
    "<img src=\"pictures/hommeNaif.png\" width=500 height=60>"
   ]
  },
  {
   "cell_type": "code",
   "execution_count": 33,
   "metadata": {},
   "outputs": [
    {
     "name": "stdout",
     "output_type": "stream",
     "text": [
      "On veut predire la consommation du 2016-12-20 14:00:00, soit 76823.0\n"
     ]
    }
   ],
   "source": [
    "# Pour se faire les dents on va considérer juste un point horaire\n",
    "datetime_a_predire = datetime.datetime.strptime(\"2016-12-20_14:00\", \"%Y-%m-%d_%H:%M\")\n",
    "y_true_point_horaire_cible = float(Yconso.loc[Yconso['ds'] == datetime_a_predire]['y'])\n",
    "\n",
    "print(\"On veut predire la consommation du {}, soit {}\".format(datetime_a_predire, y_true_point_horaire_cible))"
   ]
  },
  {
   "cell_type": "markdown",
   "metadata": {},
   "source": [
    "## Première idée, un modèle naïf : pour l'heure qui nous intéresse, on plaque bêtement la valeur de consommation nationale de la veille"
   ]
  },
  {
   "cell_type": "markdown",
   "metadata": {},
   "source": [
    "On commence par juste notre point horaire"
   ]
  },
  {
   "cell_type": "code",
   "execution_count": 34,
   "metadata": {},
   "outputs": [
    {
     "name": "stdout",
     "output_type": "stream",
     "text": [
      "Modele 1 -- pred: 78134.0, realisee: 76823.0, erreur: 1.7065201827577678%\n"
     ]
    }
   ],
   "source": [
    "y_pred_modele_naif_1 = float(Xinput.loc[Xinput['ds'] == datetime_a_predire]['lag1D'])\n",
    "pred_error = abs(y_true_point_horaire_cible - y_pred_modele_naif_1)\n",
    "\n",
    "print(\"Modele 1 -- pred: {}, realisee: {}, erreur: {}%\".format(y_pred_modele_naif_1, y_true_point_horaire_cible, pred_error/y_true_point_horaire_cible * 100))"
   ]
  },
  {
   "cell_type": "markdown",
   "metadata": {},
   "source": [
    "Voyons maintenant ce que ça donne non plus sur un unique point horaire mais sur l'ensemble des points horaires :"
   ]
  },
  {
   "cell_type": "code",
   "execution_count": 35,
   "metadata": {},
   "outputs": [
    {
     "name": "stdout",
     "output_type": "stream",
     "text": [
      "5.878390261328428\n"
     ]
    }
   ],
   "source": [
    "y_pred_modele_naif_1 = Xinput[\"lag1D\"]\n",
    "\n",
    "pred_error = (np.abs(Yconso[\"y\"] - y_pred_modele_naif_1.loc[24:]) / Yconso[\"y\"] * 100)\n",
    "\n",
    "print(np.mean(pred_error))"
   ]
  },
  {
   "cell_type": "markdown",
   "metadata": {},
   "source": [
    "Bon c'est pas fou..."
   ]
  },
  {
   "cell_type": "markdown",
   "metadata": {},
   "source": [
    "## Deuxième idée : modèle naïf avec de l'expertise métier \n",
    "\n",
    "Chez RTE, on considère qu'une augmentation moyenne de 1°C conduit à une augmentation de 2400MW de la consommation nationale pour des températures inférieures à 15°C. On propose donc comme consommation prévue la consommation de la veille, corrigée par 2400 fois l'écart à la température de la veille, si l'on n'excède pas les 15°C.\n",
    "\n",
    "\n",
    "<img src=\"pictures/ExpertJamy.jpg\" width=500 height=60>"
   ]
  },
  {
   "cell_type": "code",
   "execution_count": 36,
   "metadata": {},
   "outputs": [],
   "source": [
    "delta_MW_par_degre = 2400  \n",
    "            \n",
    "threshold_temperature = 15"
   ]
  },
  {
   "cell_type": "markdown",
   "metadata": {},
   "source": [
    "On commence par juste notre point horaire préféré"
   ]
  },
  {
   "cell_type": "code",
   "execution_count": 37,
   "metadata": {},
   "outputs": [
    {
     "name": "stdout",
     "output_type": "stream",
     "text": [
      "Modele 2 -- pred: 78340.88, realisee: 76823.0, erreur: 1.9758145347096634%\n"
     ]
    }
   ],
   "source": [
    "temperature_real_veille = float(Xinput.loc[Xinput['ds'] == datetime_a_predire]['FranceTh_real_24h_avant'])\n",
    "temperature_prevu_cible = float(Xinput.loc[Xinput['ds'] == datetime_a_predire]['FranceTh_prev'])\n",
    "delta_temp = min(threshold_temperature, temperature_prevu_cible) - min(threshold_temperature, temperature_real_veille)\n",
    "delta_MW_because_temp = delta_temp * delta_MW_par_degre\n",
    "\n",
    "y_pred_modele_naif_2 = float(Xinput.loc[Xinput['ds'] == datetime_a_predire]['lag1D']) - delta_MW_because_temp\n",
    "pred_error = abs(y_true_point_horaire_cible - y_pred_modele_naif_2)\n",
    "\n",
    "print(\"Modele 2 -- pred: {}, realisee: {}, erreur: {}%\".format(y_pred_modele_naif_2, y_true_point_horaire_cible, pred_error/y_true_point_horaire_cible * 100))"
   ]
  },
  {
   "cell_type": "markdown",
   "metadata": {},
   "source": [
    "Et maintenant sur l'ensemble des points horaires :"
   ]
  },
  {
   "cell_type": "code",
   "execution_count": 38,
   "metadata": {},
   "outputs": [
    {
     "name": "stdout",
     "output_type": "stream",
     "text": [
      "6.854438942285332\n"
     ]
    }
   ],
   "source": [
    "y_pred = Xinput[\"lag1D\"]\n",
    "\n",
    "temp_prev_with_threshold = np.minimum([threshold_temperature], Xinput['FranceTh_prev'].values)\n",
    "temp_actual_with_threshold = np.minimum([threshold_temperature], Xinput['FranceTh_real_24h_avant'].values)\n",
    "\n",
    "delta_temp = temp_prev_with_threshold - temp_actual_with_threshold\n",
    "delta_MW_because_temp = delta_temp * delta_MW_par_degre\n",
    "\n",
    "y_pred_modele_naif_2 = Xinput[\"lag1D\"] - delta_MW_because_temp\n",
    "pred_error = (np.abs(Yconso[\"y\"] - y_pred_modele_naif_2) / Yconso[\"y\"] * 100)\n",
    "\n",
    "print(np.mean(pred_error))"
   ]
  },
  {
   "cell_type": "markdown",
   "metadata": {},
   "source": [
    "Bon... Bien essayé avec ces modèles naïfs, mais maintenant on va être plus sérieux !"
   ]
  },
  {
   "cell_type": "markdown",
   "metadata": {},
   "source": [
    "# Préparer un jeu d'entrainement et un jeu de test\n",
    "En machine learning, il y a 2 types d'erreur que l'on peut calculer : l'erreur d'entrainement et l'erreur de test. \n",
    "\n",
    "Pour évaluer la capacité de notre modèle à bien généraliser sur de nouvelles données, il est très important de se préserver un jeu de test indépendant de celui d'entrainement.\n",
    "\n",
    "Il faut donc segmenter notre dataset en 2 : \n",
    "- un premier jeu servira pour l'entrainement, \n",
    "- tandis que le second servira à mesurer les performances du modèle prédictif."
   ]
  },
  {
   "cell_type": "code",
   "execution_count": 39,
   "metadata": {},
   "outputs": [],
   "source": [
    "def prepareDataSetEntrainementTest(Xinput, Yconso, dateDebut, dateRupture, nbJourlagRegresseur=0):\n",
    "    \n",
    "    dateStart = Xinput.iloc[0]['ds']\n",
    "    \n",
    "    DateStartWithLag = dateStart + pd.Timedelta(str(nbJourlagRegresseur)+' days')  #si un a un regresseur avec du lag, il faut prendre en compte ce lag et commencer l'entrainement a la date de debut des donnees+ce lag\n",
    "    XinputTest = Xinput[(Xinput.ds >= dateRupture)]    \n",
    "\n",
    "    XinputTrain=Xinput[(Xinput.ds < dateRupture) & (Xinput.ds > DateStartWithLag) & (Xinput.ds > dateDebut)]\n",
    "    YconsoTrain=Yconso[(Yconso.ds < dateRupture) & (Yconso.ds > DateStartWithLag) & (Yconso.ds > dateDebut)]\n",
    "    YconsoTest=Yconso[(Xinput.ds >= dateRupture)]\n",
    "    \n",
    "    return XinputTrain, XinputTest, YconsoTrain, YconsoTest"
   ]
  },
  {
   "cell_type": "markdown",
   "metadata": {},
   "source": [
    "# Fonctions utilitaires"
   ]
  },
  {
   "cell_type": "markdown",
   "metadata": {},
   "source": [
    "Créons la fonction modelError qui va calculer pour un échantillon (Y, Y_hat) différents scores :\n",
    "- erreur relative moyenne (MAPE en %)\n",
    "- erreur relative max (en %)\n",
    "- rmse (en MW)\n"
   ]
  },
  {
   "cell_type": "code",
   "execution_count": 40,
   "metadata": {},
   "outputs": [],
   "source": [
    "def modelError(Y, Yhat):\n",
    "\n",
    "    Y = Y.reset_index(drop=True)\n",
    "    \n",
    "    relativeErrorsTest = np.abs((Y['y'] - Yhat) /Y['y']) \n",
    "    errorMean = np.mean(relativeErrorsTest)\n",
    "    errorMax = np.max(relativeErrorsTest)\n",
    "    rmse = np.sqrt(mean_squared_error(Y['y'], Yhat))\n",
    "   \n",
    "    return relativeErrorsTest, errorMean, errorMax, rmse"
   ]
  },
  {
   "cell_type": "code",
   "execution_count": 41,
   "metadata": {},
   "outputs": [],
   "source": [
    "def evaluation(YTrain, YTest, YTrainHat, YTestHat):\n",
    "    # Ytrain et Ytest ont deux colonnes : ds et y\n",
    "    # YtrainHat et YTestHat sont des vecteurs\n",
    "    ErreursTest, ErreurMoyenneTest, ErreurMaxTest, RMSETest = modelError(YTest, YTestHat)\n",
    "    print(\"l'erreur relative moyenne de test est de:\" + str(round(ErreurMoyenneTest*100,1))+\"%\")\n",
    "    print(\"l'erreur relative max de test est de:\" + str(round(ErreurMaxTest*100,1)) +\"%\")\n",
    "    print('le rmse de test est de:' + str(round(RMSETest,0)))\n",
    "    print()\n",
    "    ErreursTest, ErreurMoyenneTest, ErreurMaxTest, RMSETest = modelError(YTrain, YTrainHat)\n",
    "    print(\"l'erreur relative moyenne de train est de:\" + str(round(ErreurMoyenneTest*100,1))+\"%\")\n",
    "    print(\"l'erreur relative max de train est de:\" + str(round(ErreurMaxTest*100,1)) +\"%\")\n",
    "    print('le rmse de test est de:' + str(round(RMSETest,0))) "
   ]
  },
  {
   "cell_type": "code",
   "execution_count": 42,
   "metadata": {},
   "outputs": [],
   "source": [
    "def evaluation_par(X, Y, Yhat,avecJF=True):\n",
    "    Y['weekday'] = Y['ds'].dt.weekday\n",
    "    Y['hour'] = Y['ds'].dt.hour\n",
    "    if(avecJF):\n",
    "        Y['JoursFeries'] = X['JoursFeries']\n",
    "    Y['APE'] = np.abs(Y['y']-Yhat)/Y['y']\n",
    "    dataWD = Y[['weekday','APE']]\n",
    "    groupedWD = dataWD.groupby(['weekday'], as_index=True)\n",
    "    statsWD = groupedWD.aggregate([np.mean])\n",
    "    dataHour = Y[['hour','APE']]\n",
    "    groupedHour = dataHour.groupby(['hour'], as_index=True)\n",
    "    statsHour = groupedHour.aggregate([np.mean])\n",
    "    \n",
    "    if(avecJF):\n",
    "        dataJF = Y[['JoursFeries','APE']]\n",
    "        groupedJF = dataJF.groupby(['JoursFeries'], as_index=True)\n",
    "        statsJF = groupedJF.aggregate([np.mean])\n",
    "    else:\n",
    "        statsJF = None\n",
    "    \n",
    "    return statsWD, statsHour, statsJF"
   ]
  },
  {
   "cell_type": "markdown",
   "metadata": {},
   "source": [
    "## Preparation de Xinput"
   ]
  },
  {
   "cell_type": "code",
   "execution_count": 43,
   "metadata": {},
   "outputs": [],
   "source": [
    "Xinput = Xinput.drop(['lag1H'],axis=1)  # on supprime la consommation retardée d'une heure, non disponible pour notre exercice de prévision"
   ]
  },
  {
   "cell_type": "code",
   "execution_count": 44,
   "metadata": {},
   "outputs": [
    {
     "name": "stdout",
     "output_type": "stream",
     "text": [
      "(39025, 9)\n",
      "Index(['ds', 'holiday', 'FranceTh_real_24h_avant', 'FranceTh_prev', 'month',\n",
      "       'hour', 'weekday', 'lag1D', 'lag1W'],\n",
      "      dtype='object')\n"
     ]
    }
   ],
   "source": [
    "print(Xinput.shape)\n",
    "print(Xinput.columns)"
   ]
  },
  {
   "cell_type": "markdown",
   "metadata": {},
   "source": [
    "On encode les données calendaires en one-hot encoding pour le modèle.\n",
    "Cet encodage est nécessaire pour que le modèle mathématique puisse appréhender la notion de date."
   ]
  },
  {
   "cell_type": "code",
   "execution_count": 45,
   "metadata": {},
   "outputs": [],
   "source": [
    "encodedWeekDay = pd.get_dummies(Xinput['weekday'],prefix=\"weekday\")\n",
    "encodedMonth = pd.get_dummies(Xinput['month'],prefix=\"month\")\n",
    "encodedHour = pd.get_dummies(Xinput['hour'],prefix=\"hour\")"
   ]
  },
  {
   "cell_type": "code",
   "execution_count": 46,
   "metadata": {},
   "outputs": [
    {
     "data": {
      "text/html": [
       "<div>\n",
       "<style scoped>\n",
       "    .dataframe tbody tr th:only-of-type {\n",
       "        vertical-align: middle;\n",
       "    }\n",
       "\n",
       "    .dataframe tbody tr th {\n",
       "        vertical-align: top;\n",
       "    }\n",
       "\n",
       "    .dataframe thead th {\n",
       "        text-align: right;\n",
       "    }\n",
       "</style>\n",
       "<table border=\"1\" class=\"dataframe\">\n",
       "  <thead>\n",
       "    <tr style=\"text-align: right;\">\n",
       "      <th></th>\n",
       "      <th>weekday_0</th>\n",
       "      <th>weekday_1</th>\n",
       "    </tr>\n",
       "  </thead>\n",
       "  <tbody>\n",
       "    <tr>\n",
       "      <th>0</th>\n",
       "      <td>1</td>\n",
       "      <td>0</td>\n",
       "    </tr>\n",
       "    <tr>\n",
       "      <th>1</th>\n",
       "      <td>1</td>\n",
       "      <td>0</td>\n",
       "    </tr>\n",
       "    <tr>\n",
       "      <th>2</th>\n",
       "      <td>1</td>\n",
       "      <td>0</td>\n",
       "    </tr>\n",
       "  </tbody>\n",
       "</table>\n",
       "</div>"
      ],
      "text/plain": [
       "   weekday_0  weekday_1\n",
       "0          1          0\n",
       "1          1          0\n",
       "2          1          0"
      ]
     },
     "execution_count": 46,
     "metadata": {},
     "output_type": "execute_result"
    }
   ],
   "source": [
    "encodedWeekDay.head(3)"
   ]
  },
  {
   "cell_type": "code",
   "execution_count": 47,
   "metadata": {},
   "outputs": [
    {
     "data": {
      "text/html": [
       "<div>\n",
       "<style scoped>\n",
       "    .dataframe tbody tr th:only-of-type {\n",
       "        vertical-align: middle;\n",
       "    }\n",
       "\n",
       "    .dataframe tbody tr th {\n",
       "        vertical-align: top;\n",
       "    }\n",
       "\n",
       "    .dataframe thead th {\n",
       "        text-align: right;\n",
       "    }\n",
       "</style>\n",
       "<table border=\"1\" class=\"dataframe\">\n",
       "  <thead>\n",
       "    <tr style=\"text-align: right;\">\n",
       "      <th></th>\n",
       "      <th>month_1</th>\n",
       "      <th>month_2</th>\n",
       "      <th>month_3</th>\n",
       "      <th>month_4</th>\n",
       "      <th>month_5</th>\n",
       "      <th>month_6</th>\n",
       "      <th>month_7</th>\n",
       "      <th>month_8</th>\n",
       "      <th>month_9</th>\n",
       "      <th>month_10</th>\n",
       "      <th>month_11</th>\n",
       "      <th>month_12</th>\n",
       "    </tr>\n",
       "  </thead>\n",
       "  <tbody>\n",
       "    <tr>\n",
       "      <th>0</th>\n",
       "      <td>0</td>\n",
       "      <td>0</td>\n",
       "      <td>0</td>\n",
       "      <td>0</td>\n",
       "      <td>0</td>\n",
       "      <td>0</td>\n",
       "      <td>0</td>\n",
       "      <td>0</td>\n",
       "      <td>0</td>\n",
       "      <td>0</td>\n",
       "      <td>0</td>\n",
       "      <td>1</td>\n",
       "    </tr>\n",
       "    <tr>\n",
       "      <th>1</th>\n",
       "      <td>0</td>\n",
       "      <td>0</td>\n",
       "      <td>0</td>\n",
       "      <td>0</td>\n",
       "      <td>0</td>\n",
       "      <td>0</td>\n",
       "      <td>0</td>\n",
       "      <td>0</td>\n",
       "      <td>0</td>\n",
       "      <td>0</td>\n",
       "      <td>0</td>\n",
       "      <td>1</td>\n",
       "    </tr>\n",
       "    <tr>\n",
       "      <th>2</th>\n",
       "      <td>0</td>\n",
       "      <td>0</td>\n",
       "      <td>0</td>\n",
       "      <td>0</td>\n",
       "      <td>0</td>\n",
       "      <td>0</td>\n",
       "      <td>0</td>\n",
       "      <td>0</td>\n",
       "      <td>0</td>\n",
       "      <td>0</td>\n",
       "      <td>0</td>\n",
       "      <td>1</td>\n",
       "    </tr>\n",
       "  </tbody>\n",
       "</table>\n",
       "</div>"
      ],
      "text/plain": [
       "   month_1  month_2  month_3  month_4  month_5  month_6  month_7  month_8  \\\n",
       "0        0        0        0        0        0        0        0        0   \n",
       "1        0        0        0        0        0        0        0        0   \n",
       "2        0        0        0        0        0        0        0        0   \n",
       "\n",
       "   month_9  month_10  month_11  month_12  \n",
       "0        0         0         0         1  \n",
       "1        0         0         0         1  \n",
       "2        0         0         0         1  "
      ]
     },
     "execution_count": 47,
     "metadata": {},
     "output_type": "execute_result"
    }
   ],
   "source": [
    "encodedMonth.head(3)"
   ]
  },
  {
   "cell_type": "code",
   "execution_count": 48,
   "metadata": {},
   "outputs": [
    {
     "data": {
      "text/html": [
       "<div>\n",
       "<style scoped>\n",
       "    .dataframe tbody tr th:only-of-type {\n",
       "        vertical-align: middle;\n",
       "    }\n",
       "\n",
       "    .dataframe tbody tr th {\n",
       "        vertical-align: top;\n",
       "    }\n",
       "\n",
       "    .dataframe thead th {\n",
       "        text-align: right;\n",
       "    }\n",
       "</style>\n",
       "<table border=\"1\" class=\"dataframe\">\n",
       "  <thead>\n",
       "    <tr style=\"text-align: right;\">\n",
       "      <th></th>\n",
       "      <th>hour_0</th>\n",
       "      <th>hour_1</th>\n",
       "      <th>hour_2</th>\n",
       "      <th>hour_3</th>\n",
       "      <th>hour_4</th>\n",
       "      <th>hour_5</th>\n",
       "      <th>hour_6</th>\n",
       "      <th>hour_7</th>\n",
       "      <th>hour_8</th>\n",
       "      <th>hour_9</th>\n",
       "      <th>...</th>\n",
       "      <th>hour_14</th>\n",
       "      <th>hour_15</th>\n",
       "      <th>hour_16</th>\n",
       "      <th>hour_17</th>\n",
       "      <th>hour_18</th>\n",
       "      <th>hour_19</th>\n",
       "      <th>hour_20</th>\n",
       "      <th>hour_21</th>\n",
       "      <th>hour_22</th>\n",
       "      <th>hour_23</th>\n",
       "    </tr>\n",
       "  </thead>\n",
       "  <tbody>\n",
       "    <tr>\n",
       "      <th>0</th>\n",
       "      <td>1</td>\n",
       "      <td>0</td>\n",
       "      <td>0</td>\n",
       "      <td>0</td>\n",
       "      <td>0</td>\n",
       "      <td>0</td>\n",
       "      <td>0</td>\n",
       "      <td>0</td>\n",
       "      <td>0</td>\n",
       "      <td>0</td>\n",
       "      <td>...</td>\n",
       "      <td>0</td>\n",
       "      <td>0</td>\n",
       "      <td>0</td>\n",
       "      <td>0</td>\n",
       "      <td>0</td>\n",
       "      <td>0</td>\n",
       "      <td>0</td>\n",
       "      <td>0</td>\n",
       "      <td>0</td>\n",
       "      <td>0</td>\n",
       "    </tr>\n",
       "    <tr>\n",
       "      <th>1</th>\n",
       "      <td>0</td>\n",
       "      <td>1</td>\n",
       "      <td>0</td>\n",
       "      <td>0</td>\n",
       "      <td>0</td>\n",
       "      <td>0</td>\n",
       "      <td>0</td>\n",
       "      <td>0</td>\n",
       "      <td>0</td>\n",
       "      <td>0</td>\n",
       "      <td>...</td>\n",
       "      <td>0</td>\n",
       "      <td>0</td>\n",
       "      <td>0</td>\n",
       "      <td>0</td>\n",
       "      <td>0</td>\n",
       "      <td>0</td>\n",
       "      <td>0</td>\n",
       "      <td>0</td>\n",
       "      <td>0</td>\n",
       "      <td>0</td>\n",
       "    </tr>\n",
       "    <tr>\n",
       "      <th>2</th>\n",
       "      <td>0</td>\n",
       "      <td>0</td>\n",
       "      <td>1</td>\n",
       "      <td>0</td>\n",
       "      <td>0</td>\n",
       "      <td>0</td>\n",
       "      <td>0</td>\n",
       "      <td>0</td>\n",
       "      <td>0</td>\n",
       "      <td>0</td>\n",
       "      <td>...</td>\n",
       "      <td>0</td>\n",
       "      <td>0</td>\n",
       "      <td>0</td>\n",
       "      <td>0</td>\n",
       "      <td>0</td>\n",
       "      <td>0</td>\n",
       "      <td>0</td>\n",
       "      <td>0</td>\n",
       "      <td>0</td>\n",
       "      <td>0</td>\n",
       "    </tr>\n",
       "  </tbody>\n",
       "</table>\n",
       "<p>3 rows × 24 columns</p>\n",
       "</div>"
      ],
      "text/plain": [
       "   hour_0  hour_1  hour_2  hour_3  hour_4  hour_5  hour_6  hour_7  hour_8  \\\n",
       "0       1       0       0       0       0       0       0       0       0   \n",
       "1       0       1       0       0       0       0       0       0       0   \n",
       "2       0       0       1       0       0       0       0       0       0   \n",
       "\n",
       "   hour_9   ...     hour_14  hour_15  hour_16  hour_17  hour_18  hour_19  \\\n",
       "0       0   ...           0        0        0        0        0        0   \n",
       "1       0   ...           0        0        0        0        0        0   \n",
       "2       0   ...           0        0        0        0        0        0   \n",
       "\n",
       "   hour_20  hour_21  hour_22  hour_23  \n",
       "0        0        0        0        0  \n",
       "1        0        0        0        0  \n",
       "2        0        0        0        0  \n",
       "\n",
       "[3 rows x 24 columns]"
      ]
     },
     "execution_count": 48,
     "metadata": {},
     "output_type": "execute_result"
    }
   ],
   "source": [
    "encodedHour.head(3)"
   ]
  },
  {
   "cell_type": "code",
   "execution_count": 49,
   "metadata": {},
   "outputs": [],
   "source": [
    "Xinput = pd.concat([Xinput, encodedMonth, encodedWeekDay, encodedHour], axis=1)\n",
    "Xinput = Xinput.drop(['month','weekday','hour'],axis=1)"
   ]
  },
  {
   "cell_type": "code",
   "execution_count": 50,
   "metadata": {},
   "outputs": [
    {
     "name": "stdout",
     "output_type": "stream",
     "text": [
      "(39025, 44)\n",
      "Index(['ds', 'holiday', 'FranceTh_real_24h_avant', 'FranceTh_prev', 'lag1D',\n",
      "       'lag1W', 'month_1', 'month_2', 'month_3', 'month_4', 'month_5',\n",
      "       'month_6', 'month_7', 'month_8', 'month_9', 'month_10', 'month_11',\n",
      "       'month_12', 'weekday_0', 'weekday_1', 'hour_0', 'hour_1', 'hour_2',\n",
      "       'hour_3', 'hour_4', 'hour_5', 'hour_6', 'hour_7', 'hour_8', 'hour_9',\n",
      "       'hour_10', 'hour_11', 'hour_12', 'hour_13', 'hour_14', 'hour_15',\n",
      "       'hour_16', 'hour_17', 'hour_18', 'hour_19', 'hour_20', 'hour_21',\n",
      "       'hour_22', 'hour_23'],\n",
      "      dtype='object')\n"
     ]
    }
   ],
   "source": [
    "print(Xinput.shape)\n",
    "print(Xinput.columns)"
   ]
  },
  {
   "cell_type": "code",
   "execution_count": 52,
   "metadata": {},
   "outputs": [],
   "source": [
    "# Récupération des prévisions météo à J+1 pour la veille\n",
    "colsToKeepWeather = [s for s in Xinput.columns.get_values() if 'Th_prev' in s]\n",
    "lag_colsToKeepWeather = [ s + \"_J_1\" for s in colsToKeepWeather ]\n",
    "Xinput[lag_colsToKeepWeather] = Xinput[colsToKeepWeather].shift(24)\n",
    "time = pd.to_datetime(Xinput['ds'], yearfirst=True)\n",
    "Xinput['posan']= time.dt.dayofyear"
   ]
  },
  {
   "cell_type": "code",
   "execution_count": 53,
   "metadata": {},
   "outputs": [],
   "source": [
    "#Récupération des jours fériés dans Xinput\n",
    "encodedHolidays = pd.get_dummies(Xinput[['holiday']], prefix = \"JF\")\n",
    "encodedHolidays['JoursFeries'] = encodedHolidays.sum(axis = 1)\n",
    "Xinput = pd.concat([Xinput, encodedHolidays], axis = 1)\n",
    "Xinput = Xinput.drop(['holiday'], axis = 1)"
   ]
  },
  {
   "cell_type": "markdown",
   "metadata": {},
   "source": [
    "On ajoute des températures seuillées, à 15°C pour l'effet chauffage, et à 18°C pour l'effet climatisation."
   ]
  },
  {
   "cell_type": "code",
   "execution_count": 55,
   "metadata": {},
   "outputs": [],
   "source": [
    "threshold_temperature_heat = 15\n",
    "threshold_temperature_cool = 18\n",
    "\n",
    "Xinput['temp_prev_with_threshold_heat'] = np.maximum(0, threshold_temperature_heat - Xinput['FranceTh_prev'].values)\n",
    "Xinput['temp_prev_with_threshold_cool'] = np.maximum(0, Xinput['FranceTh_prev'].values - threshold_temperature_cool)"
   ]
  },
  {
   "cell_type": "code",
   "execution_count": 56,
   "metadata": {},
   "outputs": [
    {
     "data": {
      "text/plain": [
       "['ds',\n",
       " 'FranceTh_real_24h_avant',\n",
       " 'FranceTh_prev',\n",
       " 'lag1D',\n",
       " 'lag1W',\n",
       " 'month_1',\n",
       " 'month_2',\n",
       " 'month_3',\n",
       " 'month_4',\n",
       " 'month_5',\n",
       " 'month_6',\n",
       " 'month_7',\n",
       " 'month_8',\n",
       " 'month_9',\n",
       " 'month_10',\n",
       " 'month_11',\n",
       " 'month_12',\n",
       " 'weekday_0',\n",
       " 'weekday_1',\n",
       " 'hour_0',\n",
       " 'hour_1',\n",
       " 'hour_2',\n",
       " 'hour_3',\n",
       " 'hour_4',\n",
       " 'hour_5',\n",
       " 'hour_6',\n",
       " 'hour_7',\n",
       " 'hour_8',\n",
       " 'hour_9',\n",
       " 'hour_10',\n",
       " 'hour_11',\n",
       " 'hour_12',\n",
       " 'hour_13',\n",
       " 'hour_14',\n",
       " 'hour_15',\n",
       " 'hour_16',\n",
       " 'hour_17',\n",
       " 'hour_18',\n",
       " 'hour_19',\n",
       " 'hour_20',\n",
       " 'hour_21',\n",
       " 'hour_22',\n",
       " 'hour_23',\n",
       " 'FranceTh_prev_J_1',\n",
       " 'posan',\n",
       " 'FranceTh_prev_J_1_J_1',\n",
       " 'JF_11Novembre',\n",
       " 'JF_1erMai',\n",
       " 'JF_8Mai',\n",
       " 'JF_Ascension',\n",
       " 'JF_Assomption',\n",
       " 'JF_FeteNationale',\n",
       " 'JF_Noel',\n",
       " 'JF_NouvelAn',\n",
       " 'JF_Paques',\n",
       " 'JF_Pentecote',\n",
       " 'JF_Toussaint',\n",
       " 'JoursFeries',\n",
       " 'temp_prev_with_threshold_heat',\n",
       " 'temp_prev_with_threshold_cool']"
      ]
     },
     "execution_count": 56,
     "metadata": {},
     "output_type": "execute_result"
    }
   ],
   "source": [
    "#affichage de toutes les variables de base\n",
    "list(Xinput) #list plutôt que print pour avoir la liste complète"
   ]
  },
  {
   "cell_type": "markdown",
   "metadata": {},
   "source": [
    "Enfin, nous construisons les listes pour appeler plus rapidement les colonnes d'un même type."
   ]
  },
  {
   "cell_type": "code",
   "execution_count": 57,
   "metadata": {},
   "outputs": [],
   "source": [
    "colsToKeepWeather = [s for s in Xinput.columns.get_values() if 'Th_prev' in s]\n",
    "colsToKeepMonth = [v for v in Xinput.columns.get_values() if 'month' in v]\n",
    "colsToKeepWeekday = [v for v in Xinput.columns.get_values() if 'weekday' in v]\n",
    "colsToKeepHour = [v for v in Xinput.columns.get_values() if 'hour' in v]\n",
    "colsToKeepHolidays = [v for v in Xinput.columns.get_values() if 'JF_' in v]"
   ]
  },
  {
   "cell_type": "markdown",
   "metadata": {},
   "source": [
    "# Construction des jeux d'entrainement et de test"
   ]
  },
  {
   "cell_type": "code",
   "execution_count": 60,
   "metadata": {},
   "outputs": [],
   "source": [
    "# on souhaite un jeu de test qui commence à partir du 1er mai 2017\n",
    "dateDebut = datetime.datetime(year=2013, month=1, day=7)#pour éviter les NaN dans le jeu de données\n",
    "dateRupture = datetime.datetime(year=2017, month=5, day=1)#début du challenge prevision de conso\n",
    "nbJourlagRegresseur = 0"
   ]
  },
  {
   "cell_type": "code",
   "execution_count": 61,
   "metadata": {},
   "outputs": [],
   "source": [
    "XinputTrain, XinputTest, YconsoTrain, YconsoTest = prepareDataSetEntrainementTest(Xinput, Yconso, \n",
    "                                                                                  dateDebut, dateRupture, \n",
    "                                                                                  nbJourlagRegresseur)"
   ]
  },
  {
   "cell_type": "code",
   "execution_count": 62,
   "metadata": {
    "scrolled": true
   },
   "outputs": [
    {
     "name": "stdout",
     "output_type": "stream",
     "text": [
      "la taille de l échantillon XinputTrain est:(37798, 60)\n",
      "la taille de l échantillon XinputTest est:(1010, 60)\n",
      "la taille de l échantillon YconsoTrain est:(37798, 2)\n",
      "la taille de l échantillon YconsoTest est:(1010, 2)\n",
      "la proportion de data d'entrainement est de:0.9739744382601525\n"
     ]
    }
   ],
   "source": [
    "print('la taille de l échantillon XinputTrain est:' + str(XinputTrain.shape))\n",
    "print('la taille de l échantillon XinputTest est:' + str(XinputTest.shape))\n",
    "print('la taille de l échantillon YconsoTrain est:' + str(YconsoTrain.shape))\n",
    "print('la taille de l échantillon YconsoTest est:' + str(YconsoTest.shape))\n",
    "print(\"la proportion de data d'entrainement est de:\" + str(YconsoTrain.shape[0] / (YconsoTrain.shape[0] + YconsoTest.shape[0])))"
   ]
  },
  {
   "cell_type": "markdown",
   "metadata": {},
   "source": [
    "\n",
    "# Régression linéaire simple\n",
    "\n",
    "Le modèle naïf avec expertise métier a été inspiré de la forme de la courbe d'évolution de la consommation en fonction de la température en France. \n",
    "Pour rappel:"
   ]
  },
  {
   "cell_type": "code",
   "execution_count": 64,
   "metadata": {},
   "outputs": [
    {
     "data": {
      "image/png": "[encoded data removed]",
      "text/plain": [
       "<Figure size 432x288 with 1 Axes>"
      ]
     },
     "metadata": {
      "needs_background": "light"
     },
     "output_type": "display_data"
    }
   ],
   "source": [
    "plt.scatter(Xinput['FranceTh_prev'], Yconso['y'], alpha=0.2)\n",
    "plt.show()"
   ]
  },
  {
   "cell_type": "markdown",
   "metadata": {},
   "source": [
    "La consommation pourrait être modélisée par une fonction linéaire par morceaux de la température, avec une pente plus importante pour les températures froides que pour les températures élevées. Au lieu de fixer les gradients à 2400MW/°C et 0, ceux-ci pourraient être calibrés à partir des données.\n"
   ]
  },
  {
   "cell_type": "markdown",
   "metadata": {},
   "source": [
    "## Entrainer un modèle\n",
    "Notre modèle a des paramètres qu'il va falloir maintenant apprendre au vu de notre jeu d'entrainement. Il faut donc caler notre modèle sur ce jeu d'entrainement."
   ]
  },
  {
   "cell_type": "code",
   "execution_count": 65,
   "metadata": {},
   "outputs": [],
   "source": [
    "colsLR_simple = np.concatenate(([s for s in XinputTrain.columns.get_values() if 'temp_prev_with_' in s], colsToKeepHour, colsToKeepWeekday, colsToKeepMonth))\n",
    "\n",
    "mTrain = linear_model.LinearRegression(fit_intercept = False)"
   ]
  },
  {
   "cell_type": "code",
   "execution_count": 66,
   "metadata": {
    "scrolled": true
   },
   "outputs": [
    {
     "name": "stdout",
     "output_type": "stream",
     "text": [
      "Coefficients: \n",
      " [[ 1549.84915993   -52.35788298  3307.51084828 -1872.22322562\n",
      "  -3260.72244623 -5843.5771014  -8073.70451927 -8391.36345019\n",
      "  -6182.59004722 -1850.37129915  1934.91925846  4772.78416888\n",
      "   7166.85468557  8645.7550115  10249.67012052 11116.01092028\n",
      "   9426.55684623  7856.64810232  6277.42082214  5287.92769983\n",
      "   6364.20740489  8705.14767636  7550.43980621  4508.68310205\n",
      "   2123.28629634  4809.65227204 34012.23768224 40616.68527059\n",
      "  12862.53777532 12448.809857    8965.20956572  4297.91032366\n",
      "   2045.89529389  3276.76868237  4070.28900467   390.95806427\n",
      "   3267.89641884  4772.1355168   8260.51927147  9969.99317882]]\n"
     ]
    }
   ],
   "source": [
    "mTrain.fit(XinputTrain[colsLR_simple], YconsoTrain[['y']])\n",
    "print('Coefficients: \\n', mTrain.coef_)"
   ]
  },
  {
   "cell_type": "markdown",
   "metadata": {},
   "source": [
    "## Faire des prédictions\n",
    "Une fois qu'un modèle de prévision est entrainé, il ne s'avère utile que s'il est performant sur de nouvelles situations. Faisons une prévision sur notre jeu de test."
   ]
  },
  {
   "cell_type": "code",
   "execution_count": 80,
   "metadata": {},
   "outputs": [],
   "source": [
    "forecastTest = np.concatenate(mTrain.predict(XinputTest[colsLR_simple]))\n",
    "forecastTrain = np.concatenate(mTrain.predict(XinputTrain[colsLR_simple]))"
   ]
  },
  {
   "cell_type": "code",
   "execution_count": 81,
   "metadata": {
    "scrolled": true
   },
   "outputs": [
    {
     "data": {
      "image/png": "[encoded data removed]",
      "text/plain": [
       "<Figure size 432x288 with 1 Axes>"
      ]
     },
     "metadata": {
      "needs_background": "light"
     },
     "output_type": "display_data"
    },
    {
     "data": {
      "image/png": "[encoded data removed]",
      "text/plain": [
       "<Figure size 432x288 with 1 Axes>"
      ]
     },
     "metadata": {
      "needs_background": "light"
     },
     "output_type": "display_data"
    }
   ],
   "source": [
    "# on visualise nos previsions \n",
    "\n",
    "plt.scatter(forecastTest, YconsoTest[['y']])\n",
    "plt.show()\n",
    "\n",
    "plt.plot(YconsoTest['ds'], YconsoTest['y'], 'b', YconsoTest['ds'], forecastTest, 'r')\n",
    "plt.show()"
   ]
  },
  {
   "cell_type": "markdown",
   "metadata": {},
   "source": [
    "## Interpreter le modèle \n",
    "Au vu des visualisations précédentes :\n",
    "- quelles interprétations pouvez-vous faire du modèle?\n",
    "- Comment varie le comportement de la courbe de consommation?"
   ]
  },
  {
   "cell_type": "markdown",
   "metadata": {},
   "source": [
    "## Evaluer l'erreur de prévision\n",
    "Quelle est la performance de notre modèle sur ce jeu de test ?"
   ]
  },
  {
   "cell_type": "code",
   "execution_count": 83,
   "metadata": {
    "scrolled": true
   },
   "outputs": [
    {
     "name": "stdout",
     "output_type": "stream",
     "text": [
      "l'erreur relative moyenne de test est de:6.3%\n",
      "l'erreur relative max de test est de:33.5%\n",
      "le rmse de test est de:3583.0\n",
      "\n",
      "l'erreur relative moyenne de train est de:5.1%\n",
      "l'erreur relative max de train est de:50.5%\n",
      "le rmse de test est de:3435.0\n"
     ]
    }
   ],
   "source": [
    "evaluation(YconsoTrain, YconsoTest, forecastTrain,  forecastTest)"
   ]
  },
  {
   "cell_type": "markdown",
   "metadata": {},
   "source": [
    "## Enquêter autour des erreurs de prévision"
   ]
  },
  {
   "cell_type": "markdown",
   "metadata": {},
   "source": [
    "### Evaluation en fonction du jour de semaine, de l'heure, si jour férié ou non"
   ]
  },
  {
   "cell_type": "markdown",
   "metadata": {},
   "source": [
    "### Comment se distribue l'erreur ?"
   ]
  },
  {
   "cell_type": "code",
   "execution_count": 85,
   "metadata": {},
   "outputs": [],
   "source": [
    "erreur_relative_test, erreur_moyenne_test, erreur_max_test, rmse = modelError(YconsoTest, forecastTest)"
   ]
  },
  {
   "cell_type": "code",
   "execution_count": 86,
   "metadata": {},
   "outputs": [
    {
     "data": {
      "image/png": "[encoded data removed]",
      "text/plain": [
       "<Figure size 432x288 with 1 Axes>"
      ]
     },
     "metadata": {
      "needs_background": "light"
     },
     "output_type": "display_data"
    }
   ],
   "source": [
    "num_bins = 100\n",
    "plt.hist(erreur_relative_test, num_bins)\n",
    "plt.show()"
   ]
  },
  {
   "cell_type": "markdown",
   "metadata": {},
   "source": [
    "### A quel moment se trompe-t-on le plus ?"
   ]
  },
  {
   "cell_type": "code",
   "execution_count": 88,
   "metadata": {},
   "outputs": [
    {
     "data": {
      "image/png": "[encoded data removed]",
      "text/plain": [
       "<Figure size 432x288 with 1 Axes>"
      ]
     },
     "metadata": {
      "needs_background": "light"
     },
     "output_type": "display_data"
    }
   ],
   "source": [
    "plt.plot(YconsoTest['ds'], erreur_relative_test, 'r')\n",
    "plt.title(\"erreur relative sur la periode de test\")\n",
    "plt.show()"
   ]
  },
  {
   "cell_type": "code",
   "execution_count": 103,
   "metadata": {},
   "outputs": [
    {
     "name": "stderr",
     "output_type": "stream",
     "text": [
      "D:\\Users\\montuelleluc\\AppData\\Local\\Continuum\\anaconda3\\lib\\site-packages\\ipykernel_launcher.py:4: UserWarning: Boolean Series key will be reindexed to match DataFrame index.\n",
      "  after removing the cwd from sys.path.\n"
     ]
    },
    {
     "ename": "IndexingError",
     "evalue": "Unalignable boolean Series provided as indexer (index of the boolean Series and of the indexed object do not match",
     "output_type": "error",
     "traceback": [
      "\u001b[1;31m---------------------------------------------------------------------------\u001b[0m",
      "\u001b[1;31mIndexingError\u001b[0m                             Traceback (most recent call last)",
      "\u001b[1;32m<ipython-input-103-1b4846f6af9b>\u001b[0m in \u001b[0;36m<module>\u001b[1;34m\u001b[0m\n\u001b[0;32m      2\u001b[0m \u001b[1;33m\u001b[0m\u001b[0m\n\u001b[0;32m      3\u001b[0m \u001b[0mmask\u001b[0m \u001b[1;33m=\u001b[0m \u001b[1;33m(\u001b[0m\u001b[0merreur_relative_test\u001b[0m \u001b[1;33m>=\u001b[0m \u001b[0mthreshold\u001b[0m\u001b[1;33m)\u001b[0m\u001b[1;33m\u001b[0m\u001b[1;33m\u001b[0m\u001b[0m\n\u001b[1;32m----> 4\u001b[1;33m \u001b[0mYconsoTest\u001b[0m\u001b[1;33m[\u001b[0m\u001b[0mmask\u001b[0m\u001b[1;33m]\u001b[0m \u001b[1;31m##### ne marche pas!!!\u001b[0m\u001b[1;33m\u001b[0m\u001b[1;33m\u001b[0m\u001b[0m\n\u001b[0m",
      "\u001b[1;32m~\\AppData\\Local\\Continuum\\anaconda3\\lib\\site-packages\\pandas\\core\\frame.py\u001b[0m in \u001b[0;36m__getitem__\u001b[1;34m(self, key)\u001b[0m\n\u001b[0;32m   2680\u001b[0m         \u001b[1;32mif\u001b[0m \u001b[0misinstance\u001b[0m\u001b[1;33m(\u001b[0m\u001b[0mkey\u001b[0m\u001b[1;33m,\u001b[0m \u001b[1;33m(\u001b[0m\u001b[0mSeries\u001b[0m\u001b[1;33m,\u001b[0m \u001b[0mnp\u001b[0m\u001b[1;33m.\u001b[0m\u001b[0mndarray\u001b[0m\u001b[1;33m,\u001b[0m \u001b[0mIndex\u001b[0m\u001b[1;33m,\u001b[0m \u001b[0mlist\u001b[0m\u001b[1;33m)\u001b[0m\u001b[1;33m)\u001b[0m\u001b[1;33m:\u001b[0m\u001b[1;33m\u001b[0m\u001b[1;33m\u001b[0m\u001b[0m\n\u001b[0;32m   2681\u001b[0m             \u001b[1;31m# either boolean or fancy integer index\u001b[0m\u001b[1;33m\u001b[0m\u001b[1;33m\u001b[0m\u001b[1;33m\u001b[0m\u001b[0m\n\u001b[1;32m-> 2682\u001b[1;33m             \u001b[1;32mreturn\u001b[0m \u001b[0mself\u001b[0m\u001b[1;33m.\u001b[0m\u001b[0m_getitem_array\u001b[0m\u001b[1;33m(\u001b[0m\u001b[0mkey\u001b[0m\u001b[1;33m)\u001b[0m\u001b[1;33m\u001b[0m\u001b[1;33m\u001b[0m\u001b[0m\n\u001b[0m\u001b[0;32m   2683\u001b[0m         \u001b[1;32melif\u001b[0m \u001b[0misinstance\u001b[0m\u001b[1;33m(\u001b[0m\u001b[0mkey\u001b[0m\u001b[1;33m,\u001b[0m \u001b[0mDataFrame\u001b[0m\u001b[1;33m)\u001b[0m\u001b[1;33m:\u001b[0m\u001b[1;33m\u001b[0m\u001b[1;33m\u001b[0m\u001b[0m\n\u001b[0;32m   2684\u001b[0m             \u001b[1;32mreturn\u001b[0m \u001b[0mself\u001b[0m\u001b[1;33m.\u001b[0m\u001b[0m_getitem_frame\u001b[0m\u001b[1;33m(\u001b[0m\u001b[0mkey\u001b[0m\u001b[1;33m)\u001b[0m\u001b[1;33m\u001b[0m\u001b[1;33m\u001b[0m\u001b[0m\n",
      "\u001b[1;32m~\\AppData\\Local\\Continuum\\anaconda3\\lib\\site-packages\\pandas\\core\\frame.py\u001b[0m in \u001b[0;36m_getitem_array\u001b[1;34m(self, key)\u001b[0m\n\u001b[0;32m   2720\u001b[0m             \u001b[1;31m# check_bool_indexer will throw exception if Series key cannot\u001b[0m\u001b[1;33m\u001b[0m\u001b[1;33m\u001b[0m\u001b[1;33m\u001b[0m\u001b[0m\n\u001b[0;32m   2721\u001b[0m             \u001b[1;31m# be reindexed to match DataFrame rows\u001b[0m\u001b[1;33m\u001b[0m\u001b[1;33m\u001b[0m\u001b[1;33m\u001b[0m\u001b[0m\n\u001b[1;32m-> 2722\u001b[1;33m             \u001b[0mkey\u001b[0m \u001b[1;33m=\u001b[0m \u001b[0mcheck_bool_indexer\u001b[0m\u001b[1;33m(\u001b[0m\u001b[0mself\u001b[0m\u001b[1;33m.\u001b[0m\u001b[0mindex\u001b[0m\u001b[1;33m,\u001b[0m \u001b[0mkey\u001b[0m\u001b[1;33m)\u001b[0m\u001b[1;33m\u001b[0m\u001b[1;33m\u001b[0m\u001b[0m\n\u001b[0m\u001b[0;32m   2723\u001b[0m             \u001b[0mindexer\u001b[0m \u001b[1;33m=\u001b[0m \u001b[0mkey\u001b[0m\u001b[1;33m.\u001b[0m\u001b[0mnonzero\u001b[0m\u001b[1;33m(\u001b[0m\u001b[1;33m)\u001b[0m\u001b[1;33m[\u001b[0m\u001b[1;36m0\u001b[0m\u001b[1;33m]\u001b[0m\u001b[1;33m\u001b[0m\u001b[1;33m\u001b[0m\u001b[0m\n\u001b[0;32m   2724\u001b[0m             \u001b[1;32mreturn\u001b[0m \u001b[0mself\u001b[0m\u001b[1;33m.\u001b[0m\u001b[0m_take\u001b[0m\u001b[1;33m(\u001b[0m\u001b[0mindexer\u001b[0m\u001b[1;33m,\u001b[0m \u001b[0maxis\u001b[0m\u001b[1;33m=\u001b[0m\u001b[1;36m0\u001b[0m\u001b[1;33m)\u001b[0m\u001b[1;33m\u001b[0m\u001b[1;33m\u001b[0m\u001b[0m\n",
      "\u001b[1;32m~\\AppData\\Local\\Continuum\\anaconda3\\lib\\site-packages\\pandas\\core\\indexing.py\u001b[0m in \u001b[0;36mcheck_bool_indexer\u001b[1;34m(ax, key)\u001b[0m\n\u001b[0;32m   2354\u001b[0m         \u001b[0mmask\u001b[0m \u001b[1;33m=\u001b[0m \u001b[0misna\u001b[0m\u001b[1;33m(\u001b[0m\u001b[0mresult\u001b[0m\u001b[1;33m.\u001b[0m\u001b[0m_values\u001b[0m\u001b[1;33m)\u001b[0m\u001b[1;33m\u001b[0m\u001b[1;33m\u001b[0m\u001b[0m\n\u001b[0;32m   2355\u001b[0m         \u001b[1;32mif\u001b[0m \u001b[0mmask\u001b[0m\u001b[1;33m.\u001b[0m\u001b[0many\u001b[0m\u001b[1;33m(\u001b[0m\u001b[1;33m)\u001b[0m\u001b[1;33m:\u001b[0m\u001b[1;33m\u001b[0m\u001b[1;33m\u001b[0m\u001b[0m\n\u001b[1;32m-> 2356\u001b[1;33m             raise IndexingError('Unalignable boolean Series provided as '\n\u001b[0m\u001b[0;32m   2357\u001b[0m                                 \u001b[1;34m'indexer (index of the boolean Series and of '\u001b[0m\u001b[1;33m\u001b[0m\u001b[1;33m\u001b[0m\u001b[0m\n\u001b[0;32m   2358\u001b[0m                                 'the indexed object do not match')\n",
      "\u001b[1;31mIndexingError\u001b[0m: Unalignable boolean Series provided as indexer (index of the boolean Series and of the indexed object do not match"
     ]
    }
   ],
   "source": [
    "threshold = 0.18\n",
    "\n",
    "mask = (erreur_relative_test >= threshold)\n",
    "forecastTest['ds'].loc[mask] #### ne marche pas"
   ]
  },
  {
   "cell_type": "markdown",
   "metadata": {},
   "source": [
    "## Feature engineering\n",
    "Quelles variables explicatives peuvent nous permettre de créer un modele plus perfomant ?"
   ]
  },
  {
   "cell_type": "markdown",
   "metadata": {},
   "source": [
    "# Autres modèles : RandomForest et XGBoost"
   ]
  },
  {
   "cell_type": "markdown",
   "metadata": {},
   "source": [
    "## Modèle RandomForest\n",
    "\n",
    "<img src=\"pictures/randomForestExplain.png\" width=500 height=30>"
   ]
  },
  {
   "cell_type": "code",
   "execution_count": 93,
   "metadata": {},
   "outputs": [],
   "source": [
    "from sklearn.ensemble import RandomForestRegressor"
   ]
  },
  {
   "cell_type": "markdown",
   "metadata": {},
   "source": [
    "### Préparation des données d'entrée"
   ]
  },
  {
   "cell_type": "code",
   "execution_count": 94,
   "metadata": {},
   "outputs": [
    {
     "data": {
      "text/plain": [
       "['lag1D',\n",
       " 'lag1W',\n",
       " 'JoursFeries',\n",
       " 'FranceTh_prev',\n",
       " 'FranceTh_prev_J_1',\n",
       " 'FranceTh_prev_J_1_J_1',\n",
       " 'month_1',\n",
       " 'month_2',\n",
       " 'month_3',\n",
       " 'month_4',\n",
       " 'month_5',\n",
       " 'month_6',\n",
       " 'month_7',\n",
       " 'month_8',\n",
       " 'month_9',\n",
       " 'month_10',\n",
       " 'month_11',\n",
       " 'month_12',\n",
       " 'weekday_0',\n",
       " 'weekday_1',\n",
       " 'hour_0',\n",
       " 'hour_1',\n",
       " 'hour_2',\n",
       " 'hour_3',\n",
       " 'hour_4',\n",
       " 'hour_5',\n",
       " 'hour_6',\n",
       " 'hour_7',\n",
       " 'hour_8',\n",
       " 'hour_9',\n",
       " 'hour_10',\n",
       " 'hour_11',\n",
       " 'hour_12',\n",
       " 'hour_13',\n",
       " 'hour_14',\n",
       " 'hour_15',\n",
       " 'hour_16',\n",
       " 'hour_17',\n",
       " 'hour_18',\n",
       " 'hour_19',\n",
       " 'hour_20',\n",
       " 'hour_21',\n",
       " 'hour_22',\n",
       " 'hour_23']"
      ]
     },
     "execution_count": 94,
     "metadata": {},
     "output_type": "execute_result"
    }
   ],
   "source": [
    "colsRF = np.concatenate((['lag1D','lag1W','JoursFeries'],\n",
    "                         colsToKeepWeather,colsToKeepMonth,colsToKeepWeekday,colsToKeepHour))\n",
    "list(colsRF)"
   ]
  },
  {
   "cell_type": "markdown",
   "metadata": {},
   "source": [
    "### Entrainement du modèle"
   ]
  },
  {
   "cell_type": "code",
   "execution_count": 109,
   "metadata": {},
   "outputs": [
    {
     "data": {
      "text/plain": [
       "RandomForestRegressor(bootstrap=True, criterion='mse', max_depth=None,\n",
       "           max_features=44, max_leaf_nodes=None, min_impurity_decrease=0.0,\n",
       "           min_impurity_split=None, min_samples_leaf=1,\n",
       "           min_samples_split=2, min_weight_fraction_leaf=0.0,\n",
       "           n_estimators=30, n_jobs=3, oob_score=True, random_state=None,\n",
       "           verbose=0, warm_start=False)"
      ]
     },
     "execution_count": 109,
     "metadata": {},
     "output_type": "execute_result"
    }
   ],
   "source": [
    "# La cellule peut prendre un peu de temps à exécuter\n",
    "rfTrain = RandomForestRegressor(n_estimators=30, max_features=colsRF.size, n_jobs=3, oob_score = True, bootstrap = True)\n",
    "rfTrain.fit(XinputTrain[colsRF], YconsoTrain['y'])"
   ]
  },
  {
   "cell_type": "markdown",
   "metadata": {},
   "source": [
    "### Prediction"
   ]
  },
  {
   "cell_type": "code",
   "execution_count": 110,
   "metadata": {},
   "outputs": [],
   "source": [
    "forecastTest = rfTrain.predict(XinputTest[colsRF])\n",
    "forecastTrain = rfTrain.predict(XinputTrain[colsRF])"
   ]
  },
  {
   "cell_type": "markdown",
   "metadata": {},
   "source": [
    "### Evaluation"
   ]
  },
  {
   "cell_type": "code",
   "execution_count": 116,
   "metadata": {},
   "outputs": [
    {
     "name": "stdout",
     "output_type": "stream",
     "text": [
      "l'erreur relative moyenne de test est de:2.7%\n",
      "l'erreur relative max de test est de:22.3%\n",
      "le rmse de test est de:1783.0\n",
      "\n",
      "l'erreur relative moyenne de train est de:0.8%\n",
      "l'erreur relative max de train est de:17.7%\n",
      "le rmse de test est de:710.0\n"
     ]
    },
    {
     "data": {
      "image/png": "[encoded data removed]",
      "text/plain": [
       "<Figure size 432x288 with 1 Axes>"
      ]
     },
     "metadata": {
      "needs_background": "light"
     },
     "output_type": "display_data"
    },
    {
     "name": "stdout",
     "output_type": "stream",
     "text": [
      "R^2 Training Score: 1.00 \n",
      "OOB Score: 0.98 \n",
      "R^2 Validation Score: 0.92\n"
     ]
    }
   ],
   "source": [
    "evaluation(YconsoTrain, YconsoTest, forecastTrain, forecastTest)\n",
    "\n",
    "# on visualise nos previsions par rapport a la realité\n",
    "plt.plot(YconsoTest['ds'], YconsoTest['y'], 'b', YconsoTest['ds'], forecastTest, 'r')\n",
    "plt.show()\n",
    "\n",
    "print('R^2 Training Score: {:.2f} \\nOOB Score: {:.2f} \\nR^2 Validation Score: {:.2f}'.format(rfTrain.score(XinputTrain[colsRF], YconsoTrain['y']), \n",
    "                                                                                             rfTrain.oob_score_,\n",
    "rfTrain.score(XinputTest[colsRF], YconsoTest['y'])))\n",
    "\n"
   ]
  },
  {
   "cell_type": "code",
   "execution_count": 98,
   "metadata": {},
   "outputs": [
    {
     "name": "stdout",
     "output_type": "stream",
     "text": [
      "         APE\n",
      "        mean\n",
      "weekday     \n",
      "0        3.4\n",
      "1        2.5\n",
      "2        1.3\n",
      "3        2.2\n",
      "4        3.8\n",
      "5        2.7\n",
      "6        2.7\n",
      "      APE\n",
      "     mean\n",
      "hour     \n",
      "0     2.6\n",
      "1     2.2\n",
      "2     2.1\n",
      "3     2.5\n",
      "4     2.9\n",
      "5     2.7\n",
      "6     3.6\n",
      "7     4.5\n",
      "8     4.1\n",
      "9     3.1\n",
      "10    2.4\n",
      "11    2.3\n",
      "12    2.1\n",
      "13    2.4\n",
      "14    2.6\n",
      "15    2.3\n",
      "16    2.7\n",
      "17    2.3\n",
      "18    2.7\n",
      "19    2.7\n",
      "20    2.3\n",
      "21    2.7\n",
      "22    2.1\n",
      "23    2.3\n",
      "             APE\n",
      "            mean\n",
      "JoursFeries     \n",
      "0            2.6\n",
      "1            3.6\n"
     ]
    },
    {
     "name": "stderr",
     "output_type": "stream",
     "text": [
      "D:\\Users\\montuelleluc\\AppData\\Local\\Continuum\\anaconda3\\lib\\site-packages\\ipykernel_launcher.py:2: SettingWithCopyWarning: \n",
      "A value is trying to be set on a copy of a slice from a DataFrame.\n",
      "Try using .loc[row_indexer,col_indexer] = value instead\n",
      "\n",
      "See the caveats in the documentation: http://pandas.pydata.org/pandas-docs/stable/indexing.html#indexing-view-versus-copy\n",
      "  \n",
      "D:\\Users\\montuelleluc\\AppData\\Local\\Continuum\\anaconda3\\lib\\site-packages\\ipykernel_launcher.py:3: SettingWithCopyWarning: \n",
      "A value is trying to be set on a copy of a slice from a DataFrame.\n",
      "Try using .loc[row_indexer,col_indexer] = value instead\n",
      "\n",
      "See the caveats in the documentation: http://pandas.pydata.org/pandas-docs/stable/indexing.html#indexing-view-versus-copy\n",
      "  This is separate from the ipykernel package so we can avoid doing imports until\n",
      "D:\\Users\\montuelleluc\\AppData\\Local\\Continuum\\anaconda3\\lib\\site-packages\\ipykernel_launcher.py:5: SettingWithCopyWarning: \n",
      "A value is trying to be set on a copy of a slice from a DataFrame.\n",
      "Try using .loc[row_indexer,col_indexer] = value instead\n",
      "\n",
      "See the caveats in the documentation: http://pandas.pydata.org/pandas-docs/stable/indexing.html#indexing-view-versus-copy\n",
      "  \"\"\"\n",
      "D:\\Users\\montuelleluc\\AppData\\Local\\Continuum\\anaconda3\\lib\\site-packages\\ipykernel_launcher.py:6: SettingWithCopyWarning: \n",
      "A value is trying to be set on a copy of a slice from a DataFrame.\n",
      "Try using .loc[row_indexer,col_indexer] = value instead\n",
      "\n",
      "See the caveats in the documentation: http://pandas.pydata.org/pandas-docs/stable/indexing.html#indexing-view-versus-copy\n",
      "  \n"
     ]
    }
   ],
   "source": [
    "evalWD,evalHour,evalJF = evaluation_par(XinputTest,YconsoTest,forecastTest)\n",
    "print(str(round(evalWD*100,1)))\n",
    "print(str(round(evalHour*100,1)))\n",
    "print(str(round(evalJF*100,1)))"
   ]
  },
  {
   "cell_type": "markdown",
   "metadata": {},
   "source": [
    "## Modèle xgboost\n",
    "\n",
    "<img src=\"pictures/XGboost.png\" width=500 height=30>"
   ]
  },
  {
   "cell_type": "code",
   "execution_count": 105,
   "metadata": {},
   "outputs": [],
   "source": [
    "import xgboost as xgb"
   ]
  },
  {
   "cell_type": "code",
   "execution_count": 106,
   "metadata": {},
   "outputs": [
    {
     "name": "stderr",
     "output_type": "stream",
     "text": [
      "D:\\Users\\montuelleluc\\AppData\\Local\\Continuum\\anaconda3\\lib\\site-packages\\xgboost\\core.py:587: FutureWarning: Series.base is deprecated and will be removed in a future version\n",
      "  if getattr(data, 'base', None) is not None and \\\n",
      "D:\\Users\\montuelleluc\\AppData\\Local\\Continuum\\anaconda3\\lib\\site-packages\\xgboost\\core.py:588: FutureWarning: Series.base is deprecated and will be removed in a future version\n",
      "  data.base is not None and isinstance(data, np.ndarray) \\\n"
     ]
    },
    {
     "name": "stdout",
     "output_type": "stream",
     "text": [
      "[17:49:16] WARNING: C:/Jenkins/workspace/xgboost-win64_release_0.90/src/objective/regression_obj.cu:152: reg:linear is now deprecated in favor of reg:squarederror.\n"
     ]
    }
   ],
   "source": [
    "xgbTrain = xgb.XGBRegressor( )\n",
    "xgbTrain.fit(XinputTrain[colsRF], YconsoTrain['y'])\n",
    "forecastTestXGB = xgbTrain.predict(XinputTest[colsRF])\n",
    "forecastTrainXGB = xgbTrain.predict(XinputTrain[colsRF])"
   ]
  },
  {
   "cell_type": "code",
   "execution_count": 107,
   "metadata": {},
   "outputs": [
    {
     "name": "stdout",
     "output_type": "stream",
     "text": [
      "l'erreur relative moyenne de test est de:3.9%\n",
      "l'erreur relative max de test est de:19.8%\n",
      "le rmse de test est de:2305.0\n",
      "\n",
      "l'erreur relative moyenne de train est de:3.1%\n",
      "l'erreur relative max de train est de:28.4%\n",
      "le rmse de test est de:2340.0\n"
     ]
    }
   ],
   "source": [
    "evaluation(YconsoTrain, YconsoTest, forecastTrainXGB, forecastTestXGB)"
   ]
  },
  {
   "cell_type": "code",
   "execution_count": 108,
   "metadata": {},
   "outputs": [
    {
     "name": "stdout",
     "output_type": "stream",
     "text": [
      "         APE\n",
      "        mean\n",
      "weekday     \n",
      "0        5.2\n",
      "1        2.9\n",
      "2        2.5\n",
      "3        4.9\n",
      "4        5.4\n",
      "5        3.0\n",
      "6        3.1\n",
      "      APE\n",
      "     mean\n",
      "hour     \n",
      "0     3.3\n",
      "1     3.7\n",
      "2     4.2\n",
      "3     4.4\n",
      "4     4.3\n",
      "5     3.9\n",
      "6     4.9\n",
      "7     5.3\n",
      "8     5.7\n",
      "9     4.8\n",
      "10    4.0\n",
      "11    3.6\n",
      "12    3.2\n",
      "13    2.9\n",
      "14    3.4\n",
      "15    3.6\n",
      "16    3.7\n",
      "17    4.0\n",
      "18    3.7\n",
      "19    3.2\n",
      "20    3.2\n",
      "21    3.7\n",
      "22    3.1\n",
      "23    3.0\n",
      "             APE\n",
      "            mean\n",
      "JoursFeries     \n",
      "0            3.6\n",
      "1            6.2\n"
     ]
    },
    {
     "name": "stderr",
     "output_type": "stream",
     "text": [
      "D:\\Users\\montuelleluc\\AppData\\Local\\Continuum\\anaconda3\\lib\\site-packages\\ipykernel_launcher.py:2: SettingWithCopyWarning: \n",
      "A value is trying to be set on a copy of a slice from a DataFrame.\n",
      "Try using .loc[row_indexer,col_indexer] = value instead\n",
      "\n",
      "See the caveats in the documentation: http://pandas.pydata.org/pandas-docs/stable/indexing.html#indexing-view-versus-copy\n",
      "  \n",
      "D:\\Users\\montuelleluc\\AppData\\Local\\Continuum\\anaconda3\\lib\\site-packages\\ipykernel_launcher.py:3: SettingWithCopyWarning: \n",
      "A value is trying to be set on a copy of a slice from a DataFrame.\n",
      "Try using .loc[row_indexer,col_indexer] = value instead\n",
      "\n",
      "See the caveats in the documentation: http://pandas.pydata.org/pandas-docs/stable/indexing.html#indexing-view-versus-copy\n",
      "  This is separate from the ipykernel package so we can avoid doing imports until\n",
      "D:\\Users\\montuelleluc\\AppData\\Local\\Continuum\\anaconda3\\lib\\site-packages\\ipykernel_launcher.py:5: SettingWithCopyWarning: \n",
      "A value is trying to be set on a copy of a slice from a DataFrame.\n",
      "Try using .loc[row_indexer,col_indexer] = value instead\n",
      "\n",
      "See the caveats in the documentation: http://pandas.pydata.org/pandas-docs/stable/indexing.html#indexing-view-versus-copy\n",
      "  \"\"\"\n",
      "D:\\Users\\montuelleluc\\AppData\\Local\\Continuum\\anaconda3\\lib\\site-packages\\ipykernel_launcher.py:6: SettingWithCopyWarning: \n",
      "A value is trying to be set on a copy of a slice from a DataFrame.\n",
      "Try using .loc[row_indexer,col_indexer] = value instead\n",
      "\n",
      "See the caveats in the documentation: http://pandas.pydata.org/pandas-docs/stable/indexing.html#indexing-view-versus-copy\n",
      "  \n"
     ]
    }
   ],
   "source": [
    "evalWD,evalHour,evalJF = evaluation_par(XinputTest, YconsoTest, forecastTestXGB)\n",
    "print(str(round(evalWD * 100,1)))\n",
    "print(str(round(evalHour * 100,1)))\n",
    "print(str(round(evalJF * 100,1)))"
   ]
  },
  {
   "cell_type": "markdown",
   "metadata": {},
   "source": [
    "### Question\n",
    "- Selon vous, pourquoi l'erreur max est significative pour tous les modèles ?\n",
    "- Comment y remédier ?"
   ]
  },
  {
   "cell_type": "markdown",
   "metadata": {},
   "source": [
    "# Bonus: à vous de jouer\n",
    "\n",
    "Bravo ! Vous avez déjà créé un premier modèle performant pour faire des prévisions sur une fenêtre glissante à horizon 24h !\n",
    "\n",
    "Maintenant à vous de mettre votre expertise pour créer de nouveaux modèles.\n",
    "\n",
    "Vous pouvez continuer à explorer le problème selon plusieurs axes:\n",
    "- créer des modèles pour les régions françaises\n",
    "- tester votre modèle sur une autre saison (l'hiver par exemple)\n",
    "- créer de nouvelles variables explicatives ? Quid de la météo et de la température? Des jours fériés ? Du feature engineering plus complexe...\n",
    "- détecter des outliers dans les données\n",
    "- etudiez les incertitudes et les possibilités offertes par PyStan\n",
    "\n",
    "Mettez-vous en 3 groupes, explorez pendant 30 minutes, et restituez."
   ]
  },
  {
   "cell_type": "code",
   "execution_count": null,
   "metadata": {},
   "outputs": [],
   "source": []
  }
 ],
 "metadata": {
  "jupytext": {
   "formats": "ipynb,py"
  },
  "kernelspec": {
   "display_name": "Python 3",
   "language": "python",
   "name": "python3"
  },
  "language_info": {
   "codemirror_mode": {
    "name": "ipython",
    "version": 3
   },
   "file_extension": ".py",
   "mimetype": "text/x-python",
   "name": "python",
   "nbconvert_exporter": "python",
   "pygments_lexer": "ipython3",
   "version": "3.7.1"
  }
 },
 "nbformat": 4,
 "nbformat_minor": 2
}
