{
 "cells": [
  {
   "cell_type": "markdown",
   "metadata": {},
   "source": [
    "# TP facultatif : Préparation du jeu de données brut"
   ]
  },
  {
   "cell_type": "markdown",
   "metadata": {},
   "source": [
    "Quand on se lance avec enthousiasme dans un nouveau projet de machine-learning, on pense avant tout au choix du modèle que l'on va utiliser. Cependant, et même s'il ne s'agit pas de l'étape la plus agréable du travail, un préalable indispensable est de réunir les données brutes et de les mettre en forme pour qu'elles puissent être ingérées par le modèle.\n",
    "\n",
    "L'objectif de ce TP est de comprendre comment, à partir de différentes sources de données, on construit nos jeux de données \"propres\" pour ensuite construire le meilleur modèle d'apprentissage possible pour la prévision de consommation nationale.\n",
    "\n",
    "Nos fichiers d'entrée bruts sont les suivants :\n",
    "> * YconsoT0.csv\n",
    "> * joursFeries.csv\n",
    "> * StationsMeteoRTE.csv  # Les coordonnées géographiques et les poids associés aux stations météos\n",
    "> * meteoX_T0_T24.zip\n",
    "> * eCO2mix_RTE_tempo_2017-2018.xls  # le sinformations sur les jours TEMPO\n",
    "\n",
    "Et les fichiers que l'on va créer sont :\n",
    "> * Xinput.csv  # Les entrées pour le modèle d'apprentissage\n",
    "> * Yconso.csv  # les sorties pour le modèle d'apprentissage"
   ]
  },
  {
   "cell_type": "markdown",
   "metadata": {},
   "source": [
    "## Environnement\n",
    "\n",
    "Chargement des librairies python, et quelques éléments de configuration."
   ]
  },
  {
   "cell_type": "code",
   "execution_count": 131,
   "metadata": {},
   "outputs": [
    {
     "data": {
      "application/javascript": [
       "IPython.notebook.set_autosave_interval(0)"
      ]
     },
     "metadata": {},
     "output_type": "display_data"
    },
    {
     "name": "stdout",
     "output_type": "stream",
     "text": [
      "Autosave disabled\n",
      "\n",
      "Mon repertoire de data est : D:\\Users\\montuelleluc\\Documents\\Formations-RTE\\MOOC IA&DeepLearning\\TP_Formation_Conso_DeepLearning\\data\n",
      "\n",
      "Fichiers contenus dans ce répertoire :\n",
      " - communes_coordonnees.csv\n",
      " - eCO2mix_RTE_tempo_2017-2018.xls\n",
      " - joursFeries.csv\n",
      " - meteoX_T0_T24.zip\n",
      " - StationsMeteoRTE.csv\n",
      " - X2input.csv\n",
      " - Xinput.csv\n",
      " - Xinput.zip\n",
      " - Xtemperature.csv\n",
      " - Xtemperature.zip\n",
      " - Yconso.csv\n",
      " - YconsoT0.csv\n",
      " - Yconso_2014_2018.csv\n"
     ]
    }
   ],
   "source": [
    "# Exécutez la cellule ci-dessous (par exemple avec shift-entrée)\n",
    "# Si vous exécuter ce notebook depuis votre PC, il faudra peut-etre installer certaines librairies avec \n",
    "# 'pip3 install ma_librairie'\n",
    "import os  # accès aux commandes système\n",
    "import datetime  # structure de données pour gérer des objets calendaires\n",
    "import pandas as pd  # gérer des tables de données en python\n",
    "import numpy as np  # librairie d'opérations mathématiques\n",
    "import zipfile # manipulation de fichiers zip\n",
    "import urllib3 # téléchargement de fichier\n",
    "import pytz\n",
    "\n",
    "import plotly\n",
    "from plotly.offline import download_plotlyjs, init_notebook_mode, plot, iplot, iplot_mpl\n",
    "import matplotlib.pyplot as plt  # tracer des visualisations\n",
    "from pandas.plotting import register_matplotlib_converters\n",
    "register_matplotlib_converters()\n",
    "\n",
    "%autosave 0\n",
    "\n",
    "data_folder = os.path.join(os.getcwd(),\"data\")\n",
    "\n",
    "print(\"\")\n",
    "print(\"Mon repertoire de data est : {}\".format(data_folder))\n",
    "print(\"\")\n",
    "print(\"Fichiers contenus dans ce répertoire :\")\n",
    "for file in os.listdir(data_folder):\n",
    "    print(\" - \" + file)"
   ]
  },
  {
   "cell_type": "markdown",
   "metadata": {},
   "source": [
    "## Récupération des données\n",
    "\n",
    "Dans cette partie nous allons charger les fichiers csv nécessaires pour l'analyse, puis les convertir en data-frame python. \n",
    "\n",
    "Les données de base à récupérer sont :\n",
    "- Les historiques de consommation\n",
    "- Le calendrier des jours fériés\n",
    "- Les données météo, ainsi que la liste des stations\n",
    "- Le calendrier des jours TEMPO"
   ]
  },
  {
   "cell_type": "markdown",
   "metadata": {},
   "source": [
    "### Données de consommation\n",
    "\n",
    "Dans un premier temps on importe les données de consommation réalisée à partir du fichier \"YconsoT0.csv\". La date et l'heure sont données dans les deux premières colonnes, et les autres colonnes correspondent aux consommations des 12 régions françaises (hors Corse) et à la consommation nationale.\n",
    "\n",
    "Pour cela on utilise la bibliothèque **pandas** pour la manipulation de données et la fonction **read_csv**."
   ]
  },
  {
   "cell_type": "markdown",
   "metadata": {},
   "source": [
    "#### Import depuis un csv"
   ]
  },
  {
   "cell_type": "code",
   "execution_count": 132,
   "metadata": {},
   "outputs": [],
   "source": [
    "# Les données du csv sont importé dans un objet de type dataframe\n",
    "conso_csv = os.path.join(data_folder, \"YconsoT0.csv\")\n",
    "conso_df = pd.read_csv(conso_csv, sep=\";\")"
   ]
  },
  {
   "cell_type": "markdown",
   "metadata": {},
   "source": [
    "Il faut ensuite vérifier que les données sont importées correctement"
   ]
  },
  {
   "cell_type": "code",
   "execution_count": 133,
   "metadata": {},
   "outputs": [
    {
     "name": "stdout",
     "output_type": "stream",
     "text": [
      "(156172, 15)\n"
     ]
    }
   ],
   "source": [
    "# Afficher les dimensions et le noms des colonnes de la data frame\n",
    "print(conso_df.shape)  # Nombre de lignes, nombre de colonnes"
   ]
  },
  {
   "cell_type": "code",
   "execution_count": 134,
   "metadata": {},
   "outputs": [
    {
     "name": "stdout",
     "output_type": "stream",
     "text": [
      "Index(['date', 'time', 'Consommation.PAC.t0', 'Consommation.PLO.t0',\n",
      "       'Consommation.NOR.t0', 'Consommation.NPP.t0', 'Consommation.LRM.t0',\n",
      "       'Consommation.IDF.t0', 'Consommation.CEN.t0', 'Consommation.BRE.t0',\n",
      "       'Consommation.BFC.t0', 'Consommation.ARA.t0', 'Consommation.ALP.t0',\n",
      "       'Consommation.ACA.t0', 'Consommation.NAT.t0'],\n",
      "      dtype='object')\n"
     ]
    }
   ],
   "source": [
    "# Liste des colonnes de la data-frama\n",
    "print(conso_df.columns)"
   ]
  },
  {
   "cell_type": "code",
   "execution_count": 135,
   "metadata": {},
   "outputs": [
    {
     "name": "stdout",
     "output_type": "stream",
     "text": [
      "         date   time  Consommation.PAC.t0  Consommation.PLO.t0  \\\n",
      "0  2012-12-28  00:00                 5824                 3126   \n",
      "1  2012-12-28  00:15                 5949                 2896   \n",
      "2  2012-12-28  00:30                 6072                 2670   \n",
      "3  2012-12-28  00:45                 6193                 2446   \n",
      "4  2012-12-28  01:00                 6312                 2226   \n",
      "\n",
      "   Consommation.NOR.t0  Consommation.NPP.t0  Consommation.LRM.t0  \\\n",
      "0                 3417                 5677                 4686   \n",
      "1                 3286                 5525                 4420   \n",
      "2                 3158                 5374                 4158   \n",
      "3                 3031                 5226                 3899   \n",
      "4                 2906                 5081                 3644   \n",
      "\n",
      "   Consommation.IDF.t0  Consommation.CEN.t0  Consommation.BRE.t0  \\\n",
      "0                 8514                 2164                 2684   \n",
      "1                 8210                 2012                 2505   \n",
      "2                 7910                 1862                 2328   \n",
      "3                 7614                 1715                 2153   \n",
      "4                 7322                 1569                 1981   \n",
      "\n",
      "   Consommation.BFC.t0  Consommation.ARA.t0  Consommation.ALP.t0  \\\n",
      "0                 2222                 7718                 5381   \n",
      "1                 2156                 7495                 5340   \n",
      "2                 2091                 7275                 5300   \n",
      "3                 2026                 7059                 5261   \n",
      "4                 1963                 6845                 5222   \n",
      "\n",
      "   Consommation.ACA.t0  Consommation.NAT.t0  \n",
      "0                 4681                59679  \n",
      "1                 4552                59632  \n",
      "2                 4426                58103  \n",
      "3                 4301                56438  \n",
      "4                 4178                55354  \n"
     ]
    }
   ],
   "source": [
    "# Affichage des premières lignes\n",
    "print(conso_df.head(5))"
   ]
  },
  {
   "cell_type": "markdown",
   "metadata": {},
   "source": [
    "#### Petit détour pour gérer les dates\n",
    "\n",
    "Le fichier YconsoT0.csv contient en particulier 2 colonnes 'date' et 'time'. Celles-ci contiennent des objets de type \"string\" correspondant à la date et à l'heure. \n",
    "\n",
    "<img src=\"pictures/clock.png\" width=60 height=60>\n",
    "\n",
    "Nous allons fusionner ces informations en une nouvelle colonne d'objets de type **datetime** mieux adaptés pour la manipulation de dates et d'heures. En effet, pour manipuler des dates (effectuer des tris, des sélections, récupérer si c'est un lundi, mardi,...), il est plus efficace de passer par un objet \"datetime\" plutôt que de se débrouiller en manipulant des chaînes de caractères."
   ]
  },
  {
   "cell_type": "code",
   "execution_count": 136,
   "metadata": {},
   "outputs": [],
   "source": [
    "# On appelle \"ds\" (dateStamp) cette nouvelle colonne\n",
    "conso_df['ds'] = pd.to_datetime(conso_df['date'] + \" \" + conso_df['time'])"
   ]
  },
  {
   "cell_type": "code",
   "execution_count": 137,
   "metadata": {},
   "outputs": [
    {
     "data": {
      "text/html": [
       "<div>\n",
       "<style scoped>\n",
       "    .dataframe tbody tr th:only-of-type {\n",
       "        vertical-align: middle;\n",
       "    }\n",
       "\n",
       "    .dataframe tbody tr th {\n",
       "        vertical-align: top;\n",
       "    }\n",
       "\n",
       "    .dataframe thead th {\n",
       "        text-align: right;\n",
       "    }\n",
       "</style>\n",
       "<table border=\"1\" class=\"dataframe\">\n",
       "  <thead>\n",
       "    <tr style=\"text-align: right;\">\n",
       "      <th></th>\n",
       "      <th>ds</th>\n",
       "      <th>date</th>\n",
       "      <th>time</th>\n",
       "    </tr>\n",
       "  </thead>\n",
       "  <tbody>\n",
       "    <tr>\n",
       "      <td>0</td>\n",
       "      <td>2012-12-28 00:00:00</td>\n",
       "      <td>2012-12-28</td>\n",
       "      <td>00:00</td>\n",
       "    </tr>\n",
       "    <tr>\n",
       "      <td>1</td>\n",
       "      <td>2012-12-28 00:15:00</td>\n",
       "      <td>2012-12-28</td>\n",
       "      <td>00:15</td>\n",
       "    </tr>\n",
       "    <tr>\n",
       "      <td>2</td>\n",
       "      <td>2012-12-28 00:30:00</td>\n",
       "      <td>2012-12-28</td>\n",
       "      <td>00:30</td>\n",
       "    </tr>\n",
       "    <tr>\n",
       "      <td>3</td>\n",
       "      <td>2012-12-28 00:45:00</td>\n",
       "      <td>2012-12-28</td>\n",
       "      <td>00:45</td>\n",
       "    </tr>\n",
       "    <tr>\n",
       "      <td>4</td>\n",
       "      <td>2012-12-28 01:00:00</td>\n",
       "      <td>2012-12-28</td>\n",
       "      <td>01:00</td>\n",
       "    </tr>\n",
       "  </tbody>\n",
       "</table>\n",
       "</div>"
      ],
      "text/plain": [
       "                   ds        date   time\n",
       "0 2012-12-28 00:00:00  2012-12-28  00:00\n",
       "1 2012-12-28 00:15:00  2012-12-28  00:15\n",
       "2 2012-12-28 00:30:00  2012-12-28  00:30\n",
       "3 2012-12-28 00:45:00  2012-12-28  00:45\n",
       "4 2012-12-28 01:00:00  2012-12-28  01:00"
      ]
     },
     "execution_count": 137,
     "metadata": {},
     "output_type": "execute_result"
    }
   ],
   "source": [
    "conso_df[['ds', 'date', 'time']].head(5)"
   ]
  },
  {
   "cell_type": "markdown",
   "metadata": {},
   "source": [
    "La cellule ci-dessous a pour but d'illustrer comment utiliser ces objets."
   ]
  },
  {
   "cell_type": "code",
   "execution_count": 138,
   "metadata": {},
   "outputs": [
    {
     "name": "stdout",
     "output_type": "stream",
     "text": [
      "noel_2017_date vaut : 2017-12-25, et est de type <class 'datetime.date'>\n",
      "noel_2017_str vaut : 2017-12-25, et est de type <class 'str'>\n",
      "---\n",
      "starwars_day_2017_date vaut : 2017-05-04 00:00:00, et est de type <class 'datetime.datetime'>\n",
      "D'ailleurs, c'était le 4 ème jour de la semaine, où 0 correspond à lundi et 6 correspond à dimanche\n",
      "starwars_day_2017_str vaut : 2017-05-04, et est de type <class 'str'>\n",
      "---\n",
      "Le 31 décembre 2017 plus un jour ça donne le 2018-01-01\n"
     ]
    }
   ],
   "source": [
    "# datetime vers string\n",
    "noel_2017_date = datetime.date(2017, 12, 25)\n",
    "noel_2017_str = datetime.datetime.strftime(noel_2017_date, format=\"%Y-%m-%d\")\n",
    "print(\"noel_2017_date vaut : {}, et est de type {}\".format(noel_2017_date, str(type(noel_2017_date))))\n",
    "print(\"noel_2017_str vaut : {}, et est de type {}\".format(noel_2017_str, str(type(noel_2017_str))))\n",
    "print(\"---\")\n",
    "\n",
    "# string vers datetime\n",
    "starwars_day_2017_str = \"2017-05-04\"\n",
    "starwars_day_2017_date = datetime.datetime.strptime(starwars_day_2017_str, \"%Y-%m-%d\")\n",
    "print(\"starwars_day_2017_date vaut : {}, et est de type {}\".format(starwars_day_2017_date, str(type(starwars_day_2017_date))))\n",
    "print(\"D'ailleurs, c'était le \" + str(starwars_day_2017_date.weekday() + 1) + \" ème jour de la semaine, où 0 correspond à lundi et 6 correspond à dimanche\")\n",
    "print(\"starwars_day_2017_str vaut : {}, et est de type {}\".format(starwars_day_2017_str, str(type(starwars_day_2017_str))))\n",
    "print(\"---\")\n",
    "\n",
    "# Voyager dans le temps\n",
    "saint_sylvestre_2017_date = datetime.date(2017, 12, 31)\n",
    "bienvenu_en_2018_date = saint_sylvestre_2017_date + datetime.timedelta(days=1)\n",
    "print(\"Le 31 décembre 2017 plus un jour ça donne le {}\".format(bienvenu_en_2018_date))"
   ]
  },
  {
   "cell_type": "markdown",
   "metadata": {},
   "source": [
    "#### Réduction du problème : se débarrasser des données qui ne nous intéressent pas\n",
    "\n",
    "Le dataframe de consommation est volumineux, et contient beaucoup d'informations inutiles (au moins en première approximation) pour notre problème de prévision de la consommation nationale. On va donc le simplifier.\n",
    "\n",
    "On va se concentrer sur la consommation à l'**échelle nationale** au **pas horaire**. On va donc ne conserver que la colonne qui nous intéresse, et ne conserver que les lignes qui correspondent aux heures pleines."
   ]
  },
  {
   "cell_type": "code",
   "execution_count": 139,
   "metadata": {},
   "outputs": [],
   "source": [
    "# on commence par ecarter les colonnes inutiles\n",
    "conso_france_df = conso_df[['ds', 'Consommation.NAT.t0']]"
   ]
  },
  {
   "cell_type": "code",
   "execution_count": 140,
   "metadata": {},
   "outputs": [],
   "source": [
    "# et maintenant on ne garde que les heures pleines\n",
    "# Pour cela on va utiliser notre colonne d'objet datetime\n",
    "minutes = conso_france_df['ds'].dt.minute\n",
    "indices_hours = np.where(minutes.values == 0.0)\n",
    "\n",
    "#print(conso_france_df['ds'])\n",
    "#print(minutes)\n",
    "#print(indices_hours)"
   ]
  },
  {
   "cell_type": "code",
   "execution_count": 141,
   "metadata": {},
   "outputs": [
    {
     "data": {
      "text/html": [
       "<div>\n",
       "<style scoped>\n",
       "    .dataframe tbody tr th:only-of-type {\n",
       "        vertical-align: middle;\n",
       "    }\n",
       "\n",
       "    .dataframe tbody tr th {\n",
       "        vertical-align: top;\n",
       "    }\n",
       "\n",
       "    .dataframe thead th {\n",
       "        text-align: right;\n",
       "    }\n",
       "</style>\n",
       "<table border=\"1\" class=\"dataframe\">\n",
       "  <thead>\n",
       "    <tr style=\"text-align: right;\">\n",
       "      <th></th>\n",
       "      <th>ds</th>\n",
       "      <th>Consommation.NAT.t0</th>\n",
       "    </tr>\n",
       "  </thead>\n",
       "  <tbody>\n",
       "    <tr>\n",
       "      <td>0</td>\n",
       "      <td>2012-12-28 00:00:00</td>\n",
       "      <td>59679</td>\n",
       "    </tr>\n",
       "    <tr>\n",
       "      <td>4</td>\n",
       "      <td>2012-12-28 01:00:00</td>\n",
       "      <td>55354</td>\n",
       "    </tr>\n",
       "    <tr>\n",
       "      <td>8</td>\n",
       "      <td>2012-12-28 02:00:00</td>\n",
       "      <td>54324</td>\n",
       "    </tr>\n",
       "    <tr>\n",
       "      <td>12</td>\n",
       "      <td>2012-12-28 03:00:00</td>\n",
       "      <td>52066</td>\n",
       "    </tr>\n",
       "    <tr>\n",
       "      <td>16</td>\n",
       "      <td>2012-12-28 04:00:00</td>\n",
       "      <td>49684</td>\n",
       "    </tr>\n",
       "  </tbody>\n",
       "</table>\n",
       "</div>"
      ],
      "text/plain": [
       "                    ds  Consommation.NAT.t0\n",
       "0  2012-12-28 00:00:00                59679\n",
       "4  2012-12-28 01:00:00                55354\n",
       "8  2012-12-28 02:00:00                54324\n",
       "12 2012-12-28 03:00:00                52066\n",
       "16 2012-12-28 04:00:00                49684"
      ]
     },
     "execution_count": 141,
     "metadata": {},
     "output_type": "execute_result"
    }
   ],
   "source": [
    "conso_france_horaire_df = conso_france_df.loc[indices_hours]\n",
    "conso_france_horaire_df.head(5)"
   ]
  },
  {
   "cell_type": "code",
   "execution_count": 142,
   "metadata": {},
   "outputs": [
    {
     "name": "stdout",
     "output_type": "stream",
     "text": [
      "                   ds  Consommation.NAT.t0\n",
      "0 2012-12-28 00:00:00                59679\n",
      "1 2012-12-28 01:00:00                55354\n",
      "2 2012-12-28 02:00:00                54324\n",
      "3 2012-12-28 03:00:00                52066\n",
      "4 2012-12-28 04:00:00                49684\n",
      "(39043, 2)\n"
     ]
    }
   ],
   "source": [
    "# les index de ce sous-dataframe correspondent à celle du dataframe de base,\n",
    "# et donc sont pour l'instant des multiples de 4.\n",
    "# on va les réinitialiser pour avoir une dataframe \"neuve\"\n",
    "conso_france_horaire_df = conso_france_horaire_df.reset_index(drop=True)  \n",
    "print(conso_france_horaire_df.head(5))\n",
    "print(conso_france_horaire_df.shape)"
   ]
  },
  {
   "cell_type": "markdown",
   "metadata": {},
   "source": [
    "### Récuperation des jours fériés\n",
    "\n",
    "Même principe"
   ]
  },
  {
   "cell_type": "code",
   "execution_count": 143,
   "metadata": {},
   "outputs": [
    {
     "data": {
      "text/html": [
       "<div>\n",
       "<style scoped>\n",
       "    .dataframe tbody tr th:only-of-type {\n",
       "        vertical-align: middle;\n",
       "    }\n",
       "\n",
       "    .dataframe tbody tr th {\n",
       "        vertical-align: top;\n",
       "    }\n",
       "\n",
       "    .dataframe thead th {\n",
       "        text-align: right;\n",
       "    }\n",
       "</style>\n",
       "<table border=\"1\" class=\"dataframe\">\n",
       "  <thead>\n",
       "    <tr style=\"text-align: right;\">\n",
       "      <th></th>\n",
       "      <th>ds</th>\n",
       "      <th>holiday</th>\n",
       "    </tr>\n",
       "  </thead>\n",
       "  <tbody>\n",
       "    <tr>\n",
       "      <td>0</td>\n",
       "      <td>2012-12-25</td>\n",
       "      <td>Noel</td>\n",
       "    </tr>\n",
       "    <tr>\n",
       "      <td>1</td>\n",
       "      <td>2013-01-01</td>\n",
       "      <td>NouvelAn</td>\n",
       "    </tr>\n",
       "    <tr>\n",
       "      <td>2</td>\n",
       "      <td>2013-04-01</td>\n",
       "      <td>Paques</td>\n",
       "    </tr>\n",
       "    <tr>\n",
       "      <td>3</td>\n",
       "      <td>2013-05-01</td>\n",
       "      <td>1erMai</td>\n",
       "    </tr>\n",
       "    <tr>\n",
       "      <td>4</td>\n",
       "      <td>2013-05-08</td>\n",
       "      <td>8Mai</td>\n",
       "    </tr>\n",
       "  </tbody>\n",
       "</table>\n",
       "</div>"
      ],
      "text/plain": [
       "           ds   holiday\n",
       "0  2012-12-25      Noel\n",
       "1  2013-01-01  NouvelAn\n",
       "2  2013-04-01    Paques\n",
       "3  2013-05-01    1erMai\n",
       "4  2013-05-08      8Mai"
      ]
     },
     "execution_count": 143,
     "metadata": {},
     "output_type": "execute_result"
    }
   ],
   "source": [
    "jours_feries_csv = os.path.join(data_folder,\"joursFeries.csv\")\n",
    "jours_feries_df = pd.read_csv(jours_feries_csv, sep=\";\")\n",
    "\n",
    "jours_feries_df.head(5)"
   ]
  },
  {
   "cell_type": "code",
   "execution_count": 144,
   "metadata": {},
   "outputs": [
    {
     "name": "stdout",
     "output_type": "stream",
     "text": [
      "Après import du csv, la colonne ds est de type <class 'str'>\n"
     ]
    }
   ],
   "source": [
    "# Pour la première colonne, les dates sont au format \"string\"\n",
    "# Nous allons les convertir en objet \"datetime\" mieux adaptés pour la manipulation de dates\n",
    "print(\"Après import du csv, la colonne ds est de type \" + str(type(jours_feries_df.ds[0])))"
   ]
  },
  {
   "cell_type": "code",
   "execution_count": 145,
   "metadata": {},
   "outputs": [
    {
     "name": "stdout",
     "output_type": "stream",
     "text": [
      "maintenant, la colonne ds est de type <class 'pandas._libs.tslibs.timestamps.Timestamp'>\n"
     ]
    }
   ],
   "source": [
    "jours_feries_df.ds = pd.to_datetime(jours_feries_df.ds)\n",
    "print(\"maintenant, la colonne ds est de type \" + str(type(jours_feries_df.ds[0])))"
   ]
  },
  {
   "cell_type": "code",
   "execution_count": 146,
   "metadata": {},
   "outputs": [
    {
     "data": {
      "text/html": [
       "<div>\n",
       "<style scoped>\n",
       "    .dataframe tbody tr th:only-of-type {\n",
       "        vertical-align: middle;\n",
       "    }\n",
       "\n",
       "    .dataframe tbody tr th {\n",
       "        vertical-align: top;\n",
       "    }\n",
       "\n",
       "    .dataframe thead th {\n",
       "        text-align: right;\n",
       "    }\n",
       "</style>\n",
       "<table border=\"1\" class=\"dataframe\">\n",
       "  <thead>\n",
       "    <tr style=\"text-align: right;\">\n",
       "      <th></th>\n",
       "      <th>ds</th>\n",
       "      <th>holiday</th>\n",
       "    </tr>\n",
       "  </thead>\n",
       "  <tbody>\n",
       "    <tr>\n",
       "      <td>0</td>\n",
       "      <td>2012-12-25</td>\n",
       "      <td>Noel</td>\n",
       "    </tr>\n",
       "    <tr>\n",
       "      <td>1</td>\n",
       "      <td>2013-01-01</td>\n",
       "      <td>NouvelAn</td>\n",
       "    </tr>\n",
       "    <tr>\n",
       "      <td>2</td>\n",
       "      <td>2013-04-01</td>\n",
       "      <td>Paques</td>\n",
       "    </tr>\n",
       "    <tr>\n",
       "      <td>3</td>\n",
       "      <td>2013-05-01</td>\n",
       "      <td>1erMai</td>\n",
       "    </tr>\n",
       "    <tr>\n",
       "      <td>4</td>\n",
       "      <td>2013-05-08</td>\n",
       "      <td>8Mai</td>\n",
       "    </tr>\n",
       "    <tr>\n",
       "      <td>5</td>\n",
       "      <td>2013-05-09</td>\n",
       "      <td>Ascension</td>\n",
       "    </tr>\n",
       "    <tr>\n",
       "      <td>6</td>\n",
       "      <td>2013-05-20</td>\n",
       "      <td>Pentecote</td>\n",
       "    </tr>\n",
       "    <tr>\n",
       "      <td>7</td>\n",
       "      <td>2013-07-14</td>\n",
       "      <td>FeteNationale</td>\n",
       "    </tr>\n",
       "  </tbody>\n",
       "</table>\n",
       "</div>"
      ],
      "text/plain": [
       "          ds        holiday\n",
       "0 2012-12-25           Noel\n",
       "1 2013-01-01       NouvelAn\n",
       "2 2013-04-01         Paques\n",
       "3 2013-05-01         1erMai\n",
       "4 2013-05-08           8Mai\n",
       "5 2013-05-09      Ascension\n",
       "6 2013-05-20      Pentecote\n",
       "7 2013-07-14  FeteNationale"
      ]
     },
     "execution_count": 146,
     "metadata": {},
     "output_type": "execute_result"
    }
   ],
   "source": [
    "jours_feries_df.head(8)"
   ]
  },
  {
   "cell_type": "markdown",
   "metadata": {},
   "source": [
    "Cette dataframe fait correspondre le timestamp \"2012-12-25\" avec \"Noël\". Cependant, le timestamp \"2012-12-25\" correspond implicitemlent au timestamp \"2012-12-25 00:00\", ce qui fait que pour l'instant les timestamp \"2012-12-25 00:05\" ou \"2012-12-25 03:00\" ne sont pas identifiés comme étant aussi Noël, ce qui va poser problème plus tard.\n",
    "\n",
    "La cellule ci-dessous va étendre la dataframe des jours fériés de sorte à résoudre ce problème."
   ]
  },
  {
   "cell_type": "code",
   "execution_count": 147,
   "metadata": {},
   "outputs": [
    {
     "name": "stdout",
     "output_type": "stream",
     "text": [
      "                     ds   holiday\n",
      "450 2013-01-01 16:30:00  NouvelAn\n",
      "451 2013-01-01 16:45:00  NouvelAn\n",
      "452 2013-01-01 17:00:00  NouvelAn\n",
      "453 2013-01-01 17:15:00  NouvelAn\n",
      "454 2013-01-01 17:30:00  NouvelAn\n",
      "455 2013-01-01 17:45:00  NouvelAn\n",
      "456 2013-01-01 18:00:00  NouvelAn\n",
      "457 2013-01-01 18:15:00  NouvelAn\n",
      "458 2013-01-01 18:30:00  NouvelAn\n",
      "459 2013-01-01 18:45:00  NouvelAn\n",
      "460 2013-01-01 19:00:00  NouvelAn\n",
      "461 2013-01-01 19:15:00  NouvelAn\n",
      "462 2013-01-01 19:30:00  NouvelAn\n",
      "463 2013-01-01 19:45:00  NouvelAn\n",
      "464 2013-01-01 20:00:00  NouvelAn\n",
      "465 2013-01-01 20:15:00  NouvelAn\n",
      "466 2013-01-01 20:30:00  NouvelAn\n",
      "467 2013-01-01 20:45:00  NouvelAn\n",
      "468 2013-01-01 21:00:00  NouvelAn\n",
      "469 2013-01-01 21:15:00  NouvelAn\n",
      "470 2013-01-01 21:30:00  NouvelAn\n",
      "471 2013-01-01 21:45:00  NouvelAn\n",
      "472 2013-01-01 22:00:00  NouvelAn\n",
      "473 2013-01-01 22:15:00  NouvelAn\n",
      "474 2013-01-01 22:30:00  NouvelAn\n",
      "475 2013-01-01 22:45:00  NouvelAn\n",
      "476 2013-01-01 23:00:00  NouvelAn\n",
      "477 2013-01-01 23:15:00  NouvelAn\n",
      "478 2013-01-01 23:30:00  NouvelAn\n",
      "479 2013-01-01 23:45:00  NouvelAn\n",
      "480 2013-01-02 00:00:00       NaN\n",
      "481 2013-01-02 00:15:00       NaN\n",
      "482 2013-01-02 00:30:00       NaN\n",
      "483 2013-01-02 00:45:00       NaN\n",
      "484 2013-01-02 01:00:00       NaN\n",
      "485 2013-01-02 01:15:00       NaN\n",
      "486 2013-01-02 01:30:00       NaN\n",
      "487 2013-01-02 01:45:00       NaN\n",
      "488 2013-01-02 02:00:00       NaN\n",
      "489 2013-01-02 02:15:00       NaN\n",
      "490 2013-01-02 02:30:00       NaN\n",
      "491 2013-01-02 02:45:00       NaN\n",
      "492 2013-01-02 03:00:00       NaN\n",
      "493 2013-01-02 03:15:00       NaN\n",
      "494 2013-01-02 03:30:00       NaN\n",
      "495 2013-01-02 03:45:00       NaN\n",
      "496 2013-01-02 04:00:00       NaN\n",
      "497 2013-01-02 04:15:00       NaN\n",
      "498 2013-01-02 04:30:00       NaN\n",
      "499 2013-01-02 04:45:00       NaN\n",
      "500 2013-01-02 05:00:00       NaN\n"
     ]
    },
    {
     "name": "stderr",
     "output_type": "stream",
     "text": [
      "D:\\Users\\montuelleluc\\Documents\\Portable\\Anaconda\\lib\\site-packages\\ipykernel_launcher.py:2: SettingWithCopyWarning:\n",
      "\n",
      "\n",
      "A value is trying to be set on a copy of a slice from a DataFrame.\n",
      "Try using .loc[row_indexer,col_indexer] = value instead\n",
      "\n",
      "See the caveats in the documentation: http://pandas.pydata.org/pandas-docs/stable/user_guide/indexing.html#returning-a-view-versus-a-copy\n",
      "\n"
     ]
    }
   ],
   "source": [
    "timestamps_of_interest = conso_df[['ds']]\n",
    "timestamps_of_interest[\"day\"] = timestamps_of_interest[\"ds\"].apply(lambda x: datetime.datetime.strftime(x, format=\"%Y-%m-%d\"))\n",
    "\n",
    "tmp_df = jours_feries_df\n",
    "tmp_df[\"day\"] = jours_feries_df[\"ds\"].apply(lambda x: datetime.datetime.strftime(x, format=\"%Y-%m-%d\"))\n",
    "\n",
    "tmp_df = pd.merge(timestamps_of_interest, tmp_df, on='day', how=\"left\", suffixes=(\"\", \"_tmp\"))\n",
    "\n",
    "jours_feries_df = tmp_df[[\"ds\", \"holiday\"]]\n",
    "print(jours_feries_df.loc[450:500])"
   ]
  },
  {
   "cell_type": "markdown",
   "metadata": {},
   "source": [
    "### Récupération des coordonnées géographiques des stations météo - au boulot !\n",
    "\n",
    "On va charger le csv qui à chaque station météo attribue sa longitude/latitude/poids. Pour en savoir plus sur les poids :  \n",
    "https://clients.rte-france.com/lang/fr/visiteurs/services/actualites.jsp?id=9482&mode=detail\n",
    "\n",
    "**Votre mission** :\n",
    "- Importez les données contenues dans le fichier csv *StationsMeteoRTE.csv* qui se situe dans data_folder vers un dataframe *stations_meteo_df*\n",
    "- Regardez à quoi ces données ressemblent "
   ]
  },
  {
   "cell_type": "code",
   "execution_count": 148,
   "metadata": {},
   "outputs": [],
   "source": [
    "# Chargez les données de StationsMeteoRTE.csv vers stations_meteo_df\n",
    "stations_meteo_csv = os.path.join(data_folder, \"StationsMeteoRTE.csv\")\n",
    "stations_meteo_df = pd.read_csv(stations_meteo_csv, sep=\";\")"
   ]
  },
  {
   "cell_type": "code",
   "execution_count": 149,
   "metadata": {},
   "outputs": [
    {
     "data": {
      "text/html": [
       "<div>\n",
       "<style scoped>\n",
       "    .dataframe tbody tr th:only-of-type {\n",
       "        vertical-align: middle;\n",
       "    }\n",
       "\n",
       "    .dataframe tbody tr th {\n",
       "        vertical-align: top;\n",
       "    }\n",
       "\n",
       "    .dataframe thead th {\n",
       "        text-align: right;\n",
       "    }\n",
       "</style>\n",
       "<table border=\"1\" class=\"dataframe\">\n",
       "  <thead>\n",
       "    <tr style=\"text-align: right;\">\n",
       "      <th></th>\n",
       "      <th>ID</th>\n",
       "      <th>Nom</th>\n",
       "      <th>longitude</th>\n",
       "      <th>latitude</th>\n",
       "      <th>Poids</th>\n",
       "    </tr>\n",
       "  </thead>\n",
       "  <tbody>\n",
       "    <tr>\n",
       "      <td>0</td>\n",
       "      <td>2</td>\n",
       "      <td>BOULOGNE-SUR-MER</td>\n",
       "      <td>1.616670</td>\n",
       "      <td>50.716670</td>\n",
       "      <td>0.010</td>\n",
       "    </tr>\n",
       "    <tr>\n",
       "      <td>1</td>\n",
       "      <td>5</td>\n",
       "      <td>ABBEVILLE</td>\n",
       "      <td>1.833330</td>\n",
       "      <td>50.100000</td>\n",
       "      <td>0.010</td>\n",
       "    </tr>\n",
       "    <tr>\n",
       "      <td>2</td>\n",
       "      <td>15</td>\n",
       "      <td>LILLE</td>\n",
       "      <td>3.058580</td>\n",
       "      <td>50.632970</td>\n",
       "      <td>0.030</td>\n",
       "    </tr>\n",
       "    <tr>\n",
       "      <td>3</td>\n",
       "      <td>27</td>\n",
       "      <td>CAEN</td>\n",
       "      <td>-0.359120</td>\n",
       "      <td>49.185850</td>\n",
       "      <td>0.025</td>\n",
       "    </tr>\n",
       "    <tr>\n",
       "      <td>4</td>\n",
       "      <td>70</td>\n",
       "      <td>REIMS</td>\n",
       "      <td>4.031696</td>\n",
       "      <td>49.258329</td>\n",
       "      <td>0.000</td>\n",
       "    </tr>\n",
       "  </tbody>\n",
       "</table>\n",
       "</div>"
      ],
      "text/plain": [
       "   ID               Nom  longitude   latitude  Poids\n",
       "0   2  BOULOGNE-SUR-MER   1.616670  50.716670  0.010\n",
       "1   5         ABBEVILLE   1.833330  50.100000  0.010\n",
       "2  15             LILLE   3.058580  50.632970  0.030\n",
       "3  27              CAEN  -0.359120  49.185850  0.025\n",
       "4  70             REIMS   4.031696  49.258329  0.000"
      ]
     },
     "execution_count": 149,
     "metadata": {},
     "output_type": "execute_result"
    }
   ],
   "source": [
    "stations_meteo_df.head(5)"
   ]
  },
  {
   "cell_type": "code",
   "execution_count": 150,
   "metadata": {},
   "outputs": [
    {
     "name": "stdout",
     "output_type": "stream",
     "text": [
      "35\n"
     ]
    }
   ],
   "source": [
    "# Pour compter le nombre de stations il suffit de compter le nombre de lignes dans le data-frame\n",
    "# Ceci se fait un utilisant \"shape\"\n",
    "nb_stations = stations_meteo_df.shape[0]\n",
    "print(nb_stations)"
   ]
  },
  {
   "cell_type": "markdown",
   "metadata": {},
   "source": [
    "## Récupération du dataframe de météo\n",
    "\n",
    "<img src=\"pictures/weather.png\" width=60 height=60>\n",
    "\n",
    "On va utiliser les mêmes fonctions que précédemment pour lire le fichier **'meteoX_T.csv'**, qui est situé dans data_folder et contient les historiques de température réalisée et prévue pour différentes stations Météo France.\n",
    "\n",
    "**Attention : Les données météo sont encryptées dans un fichier zip.**  \n",
    "Pour les lire vous avez besoin d'un mot de passe qui ne peut vous être donné que dans le cadre d'un travail au sein de RTE."
   ]
  },
  {
   "cell_type": "code",
   "execution_count": 151,
   "metadata": {},
   "outputs": [],
   "source": [
    "meteo_zip = os.path.join(data_folder, \"meteoX_T0_T24.zip\")"
   ]
  },
  {
   "cell_type": "code",
   "execution_count": 152,
   "metadata": {
    "lines_to_next_cell": 2
   },
   "outputs": [],
   "source": [
    "password = 'FIFA_Meteo'"
   ]
  },
  {
   "cell_type": "code",
   "execution_count": 153,
   "metadata": {},
   "outputs": [],
   "source": [
    "# Cette étape peut être un peu longue car le fichier est volumineux\n",
    "\n",
    "# Pour travailler avec les fichiers zip, on utilise la bibliothèque **zipfile**.\n",
    "zipfile_meteo = zipfile.ZipFile(meteo_zip)\n",
    "zipfile_meteo.setpassword(bytes(password,'utf-8'))\n",
    "meteo_df = pd.read_csv(zipfile_meteo.open('meteoX_T0_T24'),sep=\";\",engine='c',header=0)"
   ]
  },
  {
   "cell_type": "code",
   "execution_count": 154,
   "metadata": {},
   "outputs": [],
   "source": [
    "# On se crée une colonne avec des objets timestamp pour les dates\n",
    "meteo_df['ds'] = pd.to_datetime(meteo_df['date'] + ' ' + meteo_df['time'])"
   ]
  },
  {
   "cell_type": "code",
   "execution_count": 155,
   "metadata": {},
   "outputs": [
    {
     "name": "stdout",
     "output_type": "stream",
     "text": [
      "(156176, 74)\n"
     ]
    }
   ],
   "source": [
    "print(meteo_df.shape)  # (nb lignes , nb_colonnes)"
   ]
  },
  {
   "cell_type": "code",
   "execution_count": 156,
   "metadata": {},
   "outputs": [
    {
     "name": "stdout",
     "output_type": "stream",
     "text": [
      "   Unnamed: 0        date   time  X002Th+0  X005Th+0  X015Th+0  X027Th+0  \\\n",
      "0           1  2012-12-28  00:00       9.5      11.9      10.5     11.70   \n",
      "1           2  2012-12-28  00:15       9.5      11.9      10.5     11.70   \n",
      "2           3  2012-12-28  00:30       9.5      11.9      10.5     11.70   \n",
      "3           4  2012-12-28  00:45       9.5      11.9      10.5     11.70   \n",
      "4           5  2012-12-28  01:00       9.5      11.9      10.5     11.69   \n",
      "\n",
      "   X070Th+0  X110Th+0  X120Th+0  ...  X588Th+24  X621Th+24  X630Th+24  \\\n",
      "0     10.10      12.4     13.00  ...        9.7       11.6        7.6   \n",
      "1     10.10      12.4     13.00  ...        9.7       11.6        7.6   \n",
      "2     10.10      12.4     13.00  ...        9.7       11.6        7.6   \n",
      "3     10.10      12.4     13.01  ...        9.7       11.6        7.6   \n",
      "4     10.11      12.4     13.01  ...        9.7       11.6        7.6   \n",
      "\n",
      "   X643Th+24  X645Th+24  X650Th+24  X675Th+24  X690Th+24  X747Th+24  \\\n",
      "0        9.9       11.1       11.6       11.8       11.1      12.00   \n",
      "1        9.9       11.1       11.6       11.8       11.1      12.00   \n",
      "2        9.9       11.1       11.6       11.8       11.1      12.00   \n",
      "3        9.9       11.1       11.6       11.8       11.1      12.00   \n",
      "4        9.9       11.1       11.6       11.8       11.1      12.01   \n",
      "\n",
      "                   ds  \n",
      "0 2012-12-28 00:00:00  \n",
      "1 2012-12-28 00:15:00  \n",
      "2 2012-12-28 00:30:00  \n",
      "3 2012-12-28 00:45:00  \n",
      "4 2012-12-28 01:00:00  \n",
      "\n",
      "[5 rows x 74 columns]\n"
     ]
    }
   ],
   "source": [
    "print(meteo_df.head(5))"
   ]
  },
  {
   "cell_type": "markdown",
   "metadata": {},
   "source": [
    "Comme pour la consommation, on ne retient que les données des heures rondes afin de réduire la taille du problème."
   ]
  },
  {
   "cell_type": "code",
   "execution_count": 157,
   "metadata": {
    "lines_to_next_cell": 2
   },
   "outputs": [],
   "source": [
    "minutes = meteo_df['ds'].dt.minute\n",
    "mask = np.where(minutes.values == 0.0)\n",
    "meteo_horaire_df = meteo_df.loc[mask]\n",
    "\n",
    "# On remet les index au propre\n",
    "meteo_horaire_df = meteo_horaire_df.reset_index(drop=True)"
   ]
  },
  {
   "cell_type": "markdown",
   "metadata": {},
   "source": [
    "Pour se mettre dans le cadre d'un exercice de prévision, et toujours dans l'idée de réduire la taille du problème, on ne va conserver que les températures réalisées, les températures prévues à 24h (noms de colonnes finissant par 'Th+24'), ainsi que la colonne _ds_."
   ]
  },
  {
   "cell_type": "code",
   "execution_count": 158,
   "metadata": {},
   "outputs": [],
   "source": [
    "colonnes_a_garder = ['ds'] + list(meteo_horaire_df.columns[meteo_horaire_df.columns.str.endswith(\"Th+0\")]) + list(meteo_horaire_df.columns[meteo_horaire_df.columns.str.endswith(\"Th+24\")])\n",
    "meteo_prev_df = meteo_horaire_df[colonnes_a_garder]"
   ]
  },
  {
   "cell_type": "code",
   "execution_count": 159,
   "metadata": {},
   "outputs": [
    {
     "name": "stdout",
     "output_type": "stream",
     "text": [
      "                   ds  X002Th+0  X005Th+0  X015Th+0  X027Th+0  X070Th+0  \\\n",
      "0 2012-12-28 00:00:00      9.50     11.90     10.50     11.70     10.10   \n",
      "1 2012-12-28 01:00:00      9.50     11.90     10.50     11.69     10.11   \n",
      "2 2012-12-28 02:00:00      9.50     11.89     10.51     11.68     10.12   \n",
      "3 2012-12-28 03:00:00      9.51     11.88     10.53     11.66     10.14   \n",
      "4 2012-12-28 04:00:00      9.51     11.86     10.54     11.63     10.17   \n",
      "\n",
      "   X110Th+0  X120Th+0  X130Th+0  X145Th+0  ...  X579Th+24  X588Th+24  \\\n",
      "0     12.40     13.00     11.80      9.90  ...       9.50       9.70   \n",
      "1     12.40     13.01     11.80      9.90  ...       9.51       9.70   \n",
      "2     12.39     13.02     11.81      9.89  ...       9.52       9.71   \n",
      "3     12.39     13.05     11.82      9.89  ...       9.54       9.72   \n",
      "4     12.38     13.08     11.83      9.88  ...       9.57       9.74   \n",
      "\n",
      "   X621Th+24  X630Th+24  X643Th+24  X645Th+24  X650Th+24  X675Th+24  \\\n",
      "0       11.6       7.60       9.90      11.10      11.60      11.80   \n",
      "1       11.6       7.60       9.90      11.10      11.60      11.80   \n",
      "2       11.6       7.60       9.91      11.11      11.61      11.81   \n",
      "3       11.6       7.61       9.91      11.11      11.61      11.81   \n",
      "4       11.6       7.62       9.92      11.12      11.62      11.82   \n",
      "\n",
      "   X690Th+24  X747Th+24  \n",
      "0      11.10      12.00  \n",
      "1      11.10      12.01  \n",
      "2      11.10      12.02  \n",
      "3      11.11      12.04  \n",
      "4      11.11      12.06  \n",
      "\n",
      "[5 rows x 71 columns]\n",
      "(39049, 71)\n"
     ]
    }
   ],
   "source": [
    "print(meteo_prev_df.head(5))\n",
    "print(meteo_prev_df.shape)"
   ]
  },
  {
   "cell_type": "markdown",
   "metadata": {},
   "source": [
    "## Bonus : récupération de données depuis internet\n",
    "\n",
    "Dans le but d'automatiser un processus, nous pouvons implémenter une fonction qui va chercher les dernières données mises à disposition sur internet.  \n",
    "\n",
    "Pour l'exemple de la prévision de consommation, il serait pertinent de fournir en entrée du modèle l'information sur le type de jour Tempo. Les clients ayant souscrit à ce type de contrat sont incités à réduire leur consommations les jours BLANC et ROUGE, aussi on peut penser que cette information permettra d'améliorer la qualité des prédictions."
   ]
  },
  {
   "cell_type": "markdown",
   "metadata": {},
   "source": [
    "### Manipulation à la main\n",
    "\n",
    "Avant d'implémenter la version automatique, faisons une fois à la main cette manipulation.\n",
    "\n",
    " - Recupérez à la main le calendrier TEMPO pour 2017-2018 :\n",
    " http://www.rte-france.com/fr/eco2mix/eco2mix-telechargement\n",
    " - Le déposer dans _data&#95;folder_\n",
    " - Le dézipper\n",
    " - Regarder les données dans excel ou autre. Notez en particulier la fin du fichier, la supprimer\n",
    " \n",
    "Importez ces données dans un dataframe avec 'read_excel' de la librairie pandas ou autre méthode"
   ]
  },
  {
   "cell_type": "code",
   "execution_count": 160,
   "metadata": {},
   "outputs": [],
   "source": [
    "tempo_xls = os.path.join(data_folder, \"eCO2mix_RTE_tempo_2017-2018.xls\")\n",
    "tempo_df = pd.read_csv(tempo_xls, sep=\"\\t\", encoding=\"ISO-8859-1\")  # ce fichier est en fait un csv et non un xls..."
   ]
  },
  {
   "cell_type": "code",
   "execution_count": 161,
   "metadata": {},
   "outputs": [
    {
     "name": "stdout",
     "output_type": "stream",
     "text": [
      "         Date Type de jour TEMPO\n",
      "0  2017-09-01               BLEU\n",
      "1  2017-09-02               BLEU\n",
      "2  2017-09-03               BLEU\n",
      "3  2017-09-04               BLEU\n",
      "4  2017-09-05               BLEU\n"
     ]
    }
   ],
   "source": [
    "print(tempo_df.head(5))"
   ]
  },
  {
   "cell_type": "markdown",
   "metadata": {},
   "source": [
    "### La même chose automatisée\n",
    "\n",
    "On récupère maintenant automatiquement les informations sur Internet à partir de l'url, sans devoir les chercher à la main soi-même."
   ]
  },
  {
   "cell_type": "code",
   "execution_count": 162,
   "metadata": {},
   "outputs": [],
   "source": [
    "def get_tempo_data(url, data_folder, tempo_xls_zip_name):\n",
    "    \n",
    "    tempo_xls_zip = os.path.join(data_folder, tempo_xls_zip_name)\n",
    "    \n",
    "    # Récupération du fichier zip depuis internet\n",
    "    urllib3.disable_warnings(urllib3.exceptions.InsecureRequestWarning)\n",
    "    http = urllib3.PoolManager()    \n",
    "    with http.request('GET', url, preload_content=False) as resp, open(tempo_xls_zip, 'wb') as out_file:\n",
    "        shutil.copyfileobj(resp, out_file)\n",
    "        \n",
    "    with zipfile.ZipFile(tempo_xls_zip, \"r\") as zip_file:\n",
    "        zip_file.extractall(data_folder)\n",
    "\n",
    "    # Petite vérification\n",
    "    if not os.path.isfile(tempo_xls_zip):\n",
    "        print(\"ERROR!! {} not found in {}\".format(\"eCO2mix_RTE_tempo_2017-2018.xls\", data_folder))\n",
    "        raise RuntimeError(\"Tempo data not uploaded :-(\")\n",
    "\n",
    "    # Import de ces données dans un dataframe\n",
    "    tempo_df = pd.read_csv(tempo_xls_zip, sep=\"\\t\", encoding=\"ISO-8859-1\")\n",
    "    # Suppression du disclaimer de la dernière ligne de tempo_df, par exemple avec la méthode drop d'un dataframe\n",
    "    last_row = len(tempo_df.index) - 1\n",
    "    tempo_df = tempo_df.drop(tempo_df.index[last_row])\n",
    "\n",
    "    return tempo_df"
   ]
  },
  {
   "cell_type": "markdown",
   "metadata": {},
   "source": [
    "On teste la fonction définie ci-dessus. Parfois pour de sombres raisons de proxy la connection au serveur peut échouer. Comme ce TP porte sur le machine-learning on ne s'acharnera pas sur cette partie en cas d'échec :-)"
   ]
  },
  {
   "cell_type": "code",
   "execution_count": 163,
   "metadata": {},
   "outputs": [],
   "source": [
    "#url = \"https://eco2mix.rte-france.com/curves/downloadCalendrierTempo?season=17-18\"\n",
    "#tempo_xls_zip_name = \"eCO2mix_RTE_tempo_2017-2018.zip\"\n",
    "\n",
    "#tempo_df = get_tempo_data(url, data_folder, tempo_xls_zip_name)\n",
    "\n",
    "#print(tempo_df)"
   ]
  },
  {
   "cell_type": "markdown",
   "metadata": {},
   "source": [
    "Pour les personnes intéressées par le webscrapping, jeter un oeil du côté de <a href=\"https://www.crummy.com/software/BeautifulSoup/bs4/doc/\" title=\"link to google\">BeautifulSoup</a>"
   ]
  },
  {
   "cell_type": "markdown",
   "metadata": {},
   "source": [
    "##  Fusion des données\n",
    "\n",
    "<img src=\"pictures/fusion.png\" width=600 height=200>\n",
    "\n",
    "On va maintenant construire un dataframe unique qui regroupe toutes les données nécessaire à notre modèle de prévision. On aura ici une ligne pour chaque timestamp, et dans cette ligne à la fois notre X et notre Y pour le futur modèle de machine-learning."
   ]
  },
  {
   "cell_type": "code",
   "execution_count": 164,
   "metadata": {},
   "outputs": [],
   "source": [
    "# Dans un premier temps, on fusionne la consommation et la température.\n",
    "merged_df = pd.merge(conso_france_horaire_df, meteo_prev_df, on = 'ds')"
   ]
  },
  {
   "cell_type": "code",
   "execution_count": 165,
   "metadata": {},
   "outputs": [
    {
     "name": "stdout",
     "output_type": "stream",
     "text": [
      "(39049, 72)\n",
      "Index(['ds', 'Consommation.NAT.t0', 'X002Th+0', 'X005Th+0', 'X015Th+0',\n",
      "       'X027Th+0', 'X070Th+0', 'X110Th+0', 'X120Th+0', 'X130Th+0', 'X145Th+0',\n",
      "       'X149Th+0', 'X156Th+0', 'X168Th+0', 'X180Th+0', 'X190Th+0', 'X222Th+0',\n",
      "       'X240Th+0', 'X255Th+0', 'X260Th+0', 'X280Th+0', 'X299Th+0', 'X434Th+0',\n",
      "       'X460Th+0', 'X481Th+0', 'X497Th+0', 'X510Th+0', 'X579Th+0', 'X588Th+0',\n",
      "       'X621Th+0', 'X630Th+0', 'X643Th+0', 'X645Th+0', 'X650Th+0', 'X675Th+0',\n",
      "       'X690Th+0', 'X747Th+0', 'X002Th+24', 'X005Th+24', 'X015Th+24',\n",
      "       'X027Th+24', 'X070Th+24', 'X110Th+24', 'X120Th+24', 'X130Th+24',\n",
      "       'X145Th+24', 'X149Th+24', 'X156Th+24', 'X168Th+24', 'X180Th+24',\n",
      "       'X190Th+24', 'X222Th+24', 'X240Th+24', 'X255Th+24', 'X260Th+24',\n",
      "       'X280Th+24', 'X299Th+24', 'X434Th+24', 'X460Th+24', 'X481Th+24',\n",
      "       'X497Th+24', 'X510Th+24', 'X579Th+24', 'X588Th+24', 'X621Th+24',\n",
      "       'X630Th+24', 'X643Th+24', 'X645Th+24', 'X650Th+24', 'X675Th+24',\n",
      "       'X690Th+24', 'X747Th+24'],\n",
      "      dtype='object')\n"
     ]
    }
   ],
   "source": [
    "print(merged_df.shape)\n",
    "print(merged_df.columns)"
   ]
  },
  {
   "cell_type": "markdown",
   "metadata": {},
   "source": [
    "Ensuite, on fusionne avec le calendrier des jours fériés en joignant sur la colle \"ds\" des timestamps."
   ]
  },
  {
   "cell_type": "code",
   "execution_count": 166,
   "metadata": {},
   "outputs": [],
   "source": [
    "merged_df = pd.merge(merged_df, jours_feries_df, how = \"left\", on = \"ds\")"
   ]
  },
  {
   "cell_type": "code",
   "execution_count": 167,
   "metadata": {},
   "outputs": [
    {
     "name": "stdout",
     "output_type": "stream",
     "text": [
      "(39049, 73)\n",
      "Index(['ds', 'Consommation.NAT.t0', 'X002Th+0', 'X005Th+0', 'X015Th+0',\n",
      "       'X027Th+0', 'X070Th+0', 'X110Th+0', 'X120Th+0', 'X130Th+0', 'X145Th+0',\n",
      "       'X149Th+0', 'X156Th+0', 'X168Th+0', 'X180Th+0', 'X190Th+0', 'X222Th+0',\n",
      "       'X240Th+0', 'X255Th+0', 'X260Th+0', 'X280Th+0', 'X299Th+0', 'X434Th+0',\n",
      "       'X460Th+0', 'X481Th+0', 'X497Th+0', 'X510Th+0', 'X579Th+0', 'X588Th+0',\n",
      "       'X621Th+0', 'X630Th+0', 'X643Th+0', 'X645Th+0', 'X650Th+0', 'X675Th+0',\n",
      "       'X690Th+0', 'X747Th+0', 'X002Th+24', 'X005Th+24', 'X015Th+24',\n",
      "       'X027Th+24', 'X070Th+24', 'X110Th+24', 'X120Th+24', 'X130Th+24',\n",
      "       'X145Th+24', 'X149Th+24', 'X156Th+24', 'X168Th+24', 'X180Th+24',\n",
      "       'X190Th+24', 'X222Th+24', 'X240Th+24', 'X255Th+24', 'X260Th+24',\n",
      "       'X280Th+24', 'X299Th+24', 'X434Th+24', 'X460Th+24', 'X481Th+24',\n",
      "       'X497Th+24', 'X510Th+24', 'X579Th+24', 'X588Th+24', 'X621Th+24',\n",
      "       'X630Th+24', 'X643Th+24', 'X645Th+24', 'X650Th+24', 'X675Th+24',\n",
      "       'X690Th+24', 'X747Th+24', 'holiday'],\n",
      "      dtype='object')\n"
     ]
    }
   ],
   "source": [
    "print(merged_df.shape)\n",
    "print(merged_df.columns)"
   ]
  },
  {
   "cell_type": "markdown",
   "metadata": {},
   "source": [
    "### Calcul de la température France 32 villes \n",
    "\n",
    "On va ajouter une colonne à notre dataframe, colonne que - par expérience/expertise - on sait pouvoir être utile pour prévoir la consommation.\n",
    "\n",
    "La température France est une moyenne pondérée de la température de 32 stations. On a donc besoin des poids de stations_meteo_df."
   ]
  },
  {
   "cell_type": "code",
   "execution_count": 168,
   "metadata": {
    "lines_to_next_cell": 2
   },
   "outputs": [],
   "source": [
    "merged_df['FranceTh+0'] = np.dot(merged_df[list(merged_df.columns[merged_df.columns.str.endswith(\"Th+0\")])], stations_meteo_df['Poids'])\n",
    "merged_df['FranceTh+24'] = np.dot(merged_df[list(merged_df.columns[merged_df.columns.str.endswith(\"Th+24\")])], stations_meteo_df['Poids'])"
   ]
  },
  {
   "cell_type": "code",
   "execution_count": 169,
   "metadata": {},
   "outputs": [
    {
     "name": "stdout",
     "output_type": "stream",
     "text": [
      "(39049, 75)\n",
      "Index(['ds', 'Consommation.NAT.t0', 'X002Th+0', 'X005Th+0', 'X015Th+0',\n",
      "       'X027Th+0', 'X070Th+0', 'X110Th+0', 'X120Th+0', 'X130Th+0', 'X145Th+0',\n",
      "       'X149Th+0', 'X156Th+0', 'X168Th+0', 'X180Th+0', 'X190Th+0', 'X222Th+0',\n",
      "       'X240Th+0', 'X255Th+0', 'X260Th+0', 'X280Th+0', 'X299Th+0', 'X434Th+0',\n",
      "       'X460Th+0', 'X481Th+0', 'X497Th+0', 'X510Th+0', 'X579Th+0', 'X588Th+0',\n",
      "       'X621Th+0', 'X630Th+0', 'X643Th+0', 'X645Th+0', 'X650Th+0', 'X675Th+0',\n",
      "       'X690Th+0', 'X747Th+0', 'X002Th+24', 'X005Th+24', 'X015Th+24',\n",
      "       'X027Th+24', 'X070Th+24', 'X110Th+24', 'X120Th+24', 'X130Th+24',\n",
      "       'X145Th+24', 'X149Th+24', 'X156Th+24', 'X168Th+24', 'X180Th+24',\n",
      "       'X190Th+24', 'X222Th+24', 'X240Th+24', 'X255Th+24', 'X260Th+24',\n",
      "       'X280Th+24', 'X299Th+24', 'X434Th+24', 'X460Th+24', 'X481Th+24',\n",
      "       'X497Th+24', 'X510Th+24', 'X579Th+24', 'X588Th+24', 'X621Th+24',\n",
      "       'X630Th+24', 'X643Th+24', 'X645Th+24', 'X650Th+24', 'X675Th+24',\n",
      "       'X690Th+24', 'X747Th+24', 'holiday', 'FranceTh+0', 'FranceTh+24'],\n",
      "      dtype='object')\n"
     ]
    }
   ],
   "source": [
    "print(merged_df.shape)\n",
    "print(merged_df.columns)"
   ]
  },
  {
   "cell_type": "markdown",
   "metadata": {},
   "source": [
    "### Cohérence temporelle des données pour notre modèle de prédiction"
   ]
  },
  {
   "cell_type": "markdown",
   "metadata": {},
   "source": [
    "Prenons quelques instants pour regarder les données que l'on a pour l'instant :"
   ]
  },
  {
   "cell_type": "code",
   "execution_count": 170,
   "metadata": {},
   "outputs": [
    {
     "data": {
      "text/html": [
       "<div>\n",
       "<style scoped>\n",
       "    .dataframe tbody tr th:only-of-type {\n",
       "        vertical-align: middle;\n",
       "    }\n",
       "\n",
       "    .dataframe tbody tr th {\n",
       "        vertical-align: top;\n",
       "    }\n",
       "\n",
       "    .dataframe thead th {\n",
       "        text-align: right;\n",
       "    }\n",
       "</style>\n",
       "<table border=\"1\" class=\"dataframe\">\n",
       "  <thead>\n",
       "    <tr style=\"text-align: right;\">\n",
       "      <th></th>\n",
       "      <th>ds</th>\n",
       "      <th>Consommation.NAT.t0</th>\n",
       "      <th>X002Th+0</th>\n",
       "      <th>X005Th+0</th>\n",
       "      <th>X015Th+0</th>\n",
       "      <th>X027Th+0</th>\n",
       "      <th>X070Th+0</th>\n",
       "      <th>X110Th+0</th>\n",
       "      <th>X120Th+0</th>\n",
       "      <th>X130Th+0</th>\n",
       "      <th>...</th>\n",
       "      <th>X630Th+24</th>\n",
       "      <th>X643Th+24</th>\n",
       "      <th>X645Th+24</th>\n",
       "      <th>X650Th+24</th>\n",
       "      <th>X675Th+24</th>\n",
       "      <th>X690Th+24</th>\n",
       "      <th>X747Th+24</th>\n",
       "      <th>holiday</th>\n",
       "      <th>FranceTh+0</th>\n",
       "      <th>FranceTh+24</th>\n",
       "    </tr>\n",
       "  </thead>\n",
       "  <tbody>\n",
       "    <tr>\n",
       "      <td>0</td>\n",
       "      <td>2012-12-28 00:00:00</td>\n",
       "      <td>59679</td>\n",
       "      <td>9.50</td>\n",
       "      <td>11.90</td>\n",
       "      <td>10.50</td>\n",
       "      <td>11.70</td>\n",
       "      <td>10.10</td>\n",
       "      <td>12.40</td>\n",
       "      <td>13.00</td>\n",
       "      <td>11.80</td>\n",
       "      <td>...</td>\n",
       "      <td>7.60</td>\n",
       "      <td>9.90</td>\n",
       "      <td>11.10</td>\n",
       "      <td>11.60</td>\n",
       "      <td>11.80</td>\n",
       "      <td>11.10</td>\n",
       "      <td>12.00</td>\n",
       "      <td>NaN</td>\n",
       "      <td>9.339850</td>\n",
       "      <td>10.734500</td>\n",
       "    </tr>\n",
       "    <tr>\n",
       "      <td>1</td>\n",
       "      <td>2012-12-28 01:00:00</td>\n",
       "      <td>55354</td>\n",
       "      <td>9.50</td>\n",
       "      <td>11.90</td>\n",
       "      <td>10.50</td>\n",
       "      <td>11.69</td>\n",
       "      <td>10.11</td>\n",
       "      <td>12.40</td>\n",
       "      <td>13.01</td>\n",
       "      <td>11.80</td>\n",
       "      <td>...</td>\n",
       "      <td>7.60</td>\n",
       "      <td>9.90</td>\n",
       "      <td>11.10</td>\n",
       "      <td>11.60</td>\n",
       "      <td>11.80</td>\n",
       "      <td>11.10</td>\n",
       "      <td>12.01</td>\n",
       "      <td>NaN</td>\n",
       "      <td>9.339580</td>\n",
       "      <td>10.735110</td>\n",
       "    </tr>\n",
       "    <tr>\n",
       "      <td>2</td>\n",
       "      <td>2012-12-28 02:00:00</td>\n",
       "      <td>54324</td>\n",
       "      <td>9.50</td>\n",
       "      <td>11.89</td>\n",
       "      <td>10.51</td>\n",
       "      <td>11.68</td>\n",
       "      <td>10.12</td>\n",
       "      <td>12.39</td>\n",
       "      <td>13.02</td>\n",
       "      <td>11.81</td>\n",
       "      <td>...</td>\n",
       "      <td>7.60</td>\n",
       "      <td>9.91</td>\n",
       "      <td>11.11</td>\n",
       "      <td>11.61</td>\n",
       "      <td>11.81</td>\n",
       "      <td>11.10</td>\n",
       "      <td>12.02</td>\n",
       "      <td>NaN</td>\n",
       "      <td>9.337955</td>\n",
       "      <td>10.733485</td>\n",
       "    </tr>\n",
       "    <tr>\n",
       "      <td>3</td>\n",
       "      <td>2012-12-28 03:00:00</td>\n",
       "      <td>52066</td>\n",
       "      <td>9.51</td>\n",
       "      <td>11.88</td>\n",
       "      <td>10.53</td>\n",
       "      <td>11.66</td>\n",
       "      <td>10.14</td>\n",
       "      <td>12.39</td>\n",
       "      <td>13.05</td>\n",
       "      <td>11.82</td>\n",
       "      <td>...</td>\n",
       "      <td>7.61</td>\n",
       "      <td>9.91</td>\n",
       "      <td>11.11</td>\n",
       "      <td>11.61</td>\n",
       "      <td>11.81</td>\n",
       "      <td>11.11</td>\n",
       "      <td>12.04</td>\n",
       "      <td>NaN</td>\n",
       "      <td>9.338565</td>\n",
       "      <td>10.733050</td>\n",
       "    </tr>\n",
       "    <tr>\n",
       "      <td>4</td>\n",
       "      <td>2012-12-28 04:00:00</td>\n",
       "      <td>49684</td>\n",
       "      <td>9.51</td>\n",
       "      <td>11.86</td>\n",
       "      <td>10.54</td>\n",
       "      <td>11.63</td>\n",
       "      <td>10.17</td>\n",
       "      <td>12.38</td>\n",
       "      <td>13.08</td>\n",
       "      <td>11.83</td>\n",
       "      <td>...</td>\n",
       "      <td>7.62</td>\n",
       "      <td>9.92</td>\n",
       "      <td>11.12</td>\n",
       "      <td>11.62</td>\n",
       "      <td>11.82</td>\n",
       "      <td>11.11</td>\n",
       "      <td>12.06</td>\n",
       "      <td>NaN</td>\n",
       "      <td>9.337475</td>\n",
       "      <td>10.731165</td>\n",
       "    </tr>\n",
       "    <tr>\n",
       "      <td>...</td>\n",
       "      <td>...</td>\n",
       "      <td>...</td>\n",
       "      <td>...</td>\n",
       "      <td>...</td>\n",
       "      <td>...</td>\n",
       "      <td>...</td>\n",
       "      <td>...</td>\n",
       "      <td>...</td>\n",
       "      <td>...</td>\n",
       "      <td>...</td>\n",
       "      <td>...</td>\n",
       "      <td>...</td>\n",
       "      <td>...</td>\n",
       "      <td>...</td>\n",
       "      <td>...</td>\n",
       "      <td>...</td>\n",
       "      <td>...</td>\n",
       "      <td>...</td>\n",
       "      <td>...</td>\n",
       "      <td>...</td>\n",
       "      <td>...</td>\n",
       "    </tr>\n",
       "    <tr>\n",
       "      <td>39044</td>\n",
       "      <td>2017-06-11 21:00:00</td>\n",
       "      <td>41801</td>\n",
       "      <td>15.00</td>\n",
       "      <td>15.90</td>\n",
       "      <td>18.10</td>\n",
       "      <td>17.50</td>\n",
       "      <td>25.80</td>\n",
       "      <td>15.10</td>\n",
       "      <td>17.10</td>\n",
       "      <td>17.40</td>\n",
       "      <td>...</td>\n",
       "      <td>28.20</td>\n",
       "      <td>29.10</td>\n",
       "      <td>30.40</td>\n",
       "      <td>26.50</td>\n",
       "      <td>27.50</td>\n",
       "      <td>23.40</td>\n",
       "      <td>27.40</td>\n",
       "      <td>NaN</td>\n",
       "      <td>23.737000</td>\n",
       "      <td>22.078150</td>\n",
       "    </tr>\n",
       "    <tr>\n",
       "      <td>39045</td>\n",
       "      <td>2017-06-11 22:00:00</td>\n",
       "      <td>42202</td>\n",
       "      <td>14.10</td>\n",
       "      <td>15.70</td>\n",
       "      <td>17.60</td>\n",
       "      <td>14.80</td>\n",
       "      <td>24.20</td>\n",
       "      <td>13.30</td>\n",
       "      <td>15.90</td>\n",
       "      <td>15.90</td>\n",
       "      <td>...</td>\n",
       "      <td>26.90</td>\n",
       "      <td>27.70</td>\n",
       "      <td>28.20</td>\n",
       "      <td>25.30</td>\n",
       "      <td>25.90</td>\n",
       "      <td>22.80</td>\n",
       "      <td>26.40</td>\n",
       "      <td>NaN</td>\n",
       "      <td>22.114300</td>\n",
       "      <td>20.449650</td>\n",
       "    </tr>\n",
       "    <tr>\n",
       "      <td>39046</td>\n",
       "      <td>2017-06-11 23:00:00</td>\n",
       "      <td>46724</td>\n",
       "      <td>13.90</td>\n",
       "      <td>14.90</td>\n",
       "      <td>17.10</td>\n",
       "      <td>13.20</td>\n",
       "      <td>20.50</td>\n",
       "      <td>12.40</td>\n",
       "      <td>13.50</td>\n",
       "      <td>14.50</td>\n",
       "      <td>...</td>\n",
       "      <td>25.40</td>\n",
       "      <td>26.20</td>\n",
       "      <td>26.30</td>\n",
       "      <td>24.40</td>\n",
       "      <td>24.40</td>\n",
       "      <td>22.10</td>\n",
       "      <td>25.60</td>\n",
       "      <td>NaN</td>\n",
       "      <td>20.333650</td>\n",
       "      <td>18.947900</td>\n",
       "    </tr>\n",
       "    <tr>\n",
       "      <td>39047</td>\n",
       "      <td>2017-06-11 23:00:00</td>\n",
       "      <td>46724</td>\n",
       "      <td>13.90</td>\n",
       "      <td>14.90</td>\n",
       "      <td>17.10</td>\n",
       "      <td>13.20</td>\n",
       "      <td>20.50</td>\n",
       "      <td>12.40</td>\n",
       "      <td>13.50</td>\n",
       "      <td>14.50</td>\n",
       "      <td>...</td>\n",
       "      <td>25.40</td>\n",
       "      <td>26.20</td>\n",
       "      <td>26.30</td>\n",
       "      <td>24.40</td>\n",
       "      <td>24.40</td>\n",
       "      <td>22.10</td>\n",
       "      <td>25.60</td>\n",
       "      <td>NaN</td>\n",
       "      <td>20.333650</td>\n",
       "      <td>18.947900</td>\n",
       "    </tr>\n",
       "    <tr>\n",
       "      <td>39048</td>\n",
       "      <td>2017-06-11 23:00:00</td>\n",
       "      <td>46724</td>\n",
       "      <td>13.90</td>\n",
       "      <td>14.90</td>\n",
       "      <td>17.10</td>\n",
       "      <td>13.20</td>\n",
       "      <td>20.50</td>\n",
       "      <td>12.40</td>\n",
       "      <td>13.50</td>\n",
       "      <td>14.50</td>\n",
       "      <td>...</td>\n",
       "      <td>25.40</td>\n",
       "      <td>26.20</td>\n",
       "      <td>26.30</td>\n",
       "      <td>24.40</td>\n",
       "      <td>24.40</td>\n",
       "      <td>22.10</td>\n",
       "      <td>25.60</td>\n",
       "      <td>NaN</td>\n",
       "      <td>20.333650</td>\n",
       "      <td>18.947900</td>\n",
       "    </tr>\n",
       "  </tbody>\n",
       "</table>\n",
       "<p>39049 rows × 75 columns</p>\n",
       "</div>"
      ],
      "text/plain": [
       "                       ds  Consommation.NAT.t0  X002Th+0  X005Th+0  X015Th+0  \\\n",
       "0     2012-12-28 00:00:00                59679      9.50     11.90     10.50   \n",
       "1     2012-12-28 01:00:00                55354      9.50     11.90     10.50   \n",
       "2     2012-12-28 02:00:00                54324      9.50     11.89     10.51   \n",
       "3     2012-12-28 03:00:00                52066      9.51     11.88     10.53   \n",
       "4     2012-12-28 04:00:00                49684      9.51     11.86     10.54   \n",
       "...                   ...                  ...       ...       ...       ...   \n",
       "39044 2017-06-11 21:00:00                41801     15.00     15.90     18.10   \n",
       "39045 2017-06-11 22:00:00                42202     14.10     15.70     17.60   \n",
       "39046 2017-06-11 23:00:00                46724     13.90     14.90     17.10   \n",
       "39047 2017-06-11 23:00:00                46724     13.90     14.90     17.10   \n",
       "39048 2017-06-11 23:00:00                46724     13.90     14.90     17.10   \n",
       "\n",
       "       X027Th+0  X070Th+0  X110Th+0  X120Th+0  X130Th+0  ...  X630Th+24  \\\n",
       "0         11.70     10.10     12.40     13.00     11.80  ...       7.60   \n",
       "1         11.69     10.11     12.40     13.01     11.80  ...       7.60   \n",
       "2         11.68     10.12     12.39     13.02     11.81  ...       7.60   \n",
       "3         11.66     10.14     12.39     13.05     11.82  ...       7.61   \n",
       "4         11.63     10.17     12.38     13.08     11.83  ...       7.62   \n",
       "...         ...       ...       ...       ...       ...  ...        ...   \n",
       "39044     17.50     25.80     15.10     17.10     17.40  ...      28.20   \n",
       "39045     14.80     24.20     13.30     15.90     15.90  ...      26.90   \n",
       "39046     13.20     20.50     12.40     13.50     14.50  ...      25.40   \n",
       "39047     13.20     20.50     12.40     13.50     14.50  ...      25.40   \n",
       "39048     13.20     20.50     12.40     13.50     14.50  ...      25.40   \n",
       "\n",
       "       X643Th+24  X645Th+24  X650Th+24  X675Th+24  X690Th+24  X747Th+24  \\\n",
       "0           9.90      11.10      11.60      11.80      11.10      12.00   \n",
       "1           9.90      11.10      11.60      11.80      11.10      12.01   \n",
       "2           9.91      11.11      11.61      11.81      11.10      12.02   \n",
       "3           9.91      11.11      11.61      11.81      11.11      12.04   \n",
       "4           9.92      11.12      11.62      11.82      11.11      12.06   \n",
       "...          ...        ...        ...        ...        ...        ...   \n",
       "39044      29.10      30.40      26.50      27.50      23.40      27.40   \n",
       "39045      27.70      28.20      25.30      25.90      22.80      26.40   \n",
       "39046      26.20      26.30      24.40      24.40      22.10      25.60   \n",
       "39047      26.20      26.30      24.40      24.40      22.10      25.60   \n",
       "39048      26.20      26.30      24.40      24.40      22.10      25.60   \n",
       "\n",
       "       holiday  FranceTh+0  FranceTh+24  \n",
       "0          NaN    9.339850    10.734500  \n",
       "1          NaN    9.339580    10.735110  \n",
       "2          NaN    9.337955    10.733485  \n",
       "3          NaN    9.338565    10.733050  \n",
       "4          NaN    9.337475    10.731165  \n",
       "...        ...         ...          ...  \n",
       "39044      NaN   23.737000    22.078150  \n",
       "39045      NaN   22.114300    20.449650  \n",
       "39046      NaN   20.333650    18.947900  \n",
       "39047      NaN   20.333650    18.947900  \n",
       "39048      NaN   20.333650    18.947900  \n",
       "\n",
       "[39049 rows x 75 columns]"
      ]
     },
     "execution_count": 170,
     "metadata": {},
     "output_type": "execute_result"
    }
   ],
   "source": [
    "merged_df"
   ]
  },
  {
   "cell_type": "markdown",
   "metadata": {},
   "source": [
    "Pour chaque point horaire, on a :\n",
    "* la consommation réalisée (au niveau national\n",
    "* la température réalisée pour chaque station météo, ainsi qu'une valeur représentative de la température moyenne à l'échelle nationale\n",
    "* une prévision de température pour 24 heures plus tard pour chaque station météo, ainsi qu'une prévision de la température moyenne France pour dans 24 heures\n",
    "* l'information si le point horaire appartient à un jour férié ou non    "
   ]
  },
  {
   "cell_type": "markdown",
   "metadata": {},
   "source": [
    "Ce que l'on veut faire, c'est mettre au point un modèle qui prédit comme Y :\n",
    "* la consommation nationale pour point_horaire_cible\n",
    "prenant en entrée un X qui comporte tout ou partie de :\n",
    "* l'information si point_horaire_cible appartient à un jour férié\n",
    "* La prévision météo pour point_horaire_cible, prévision établie 24h à l'avance\n",
    "* La consommation réalisée 24h avant point_horaire_cible\n",
    "* La température réalisée 24h avant point_horaire_cible\n",
    "Il faut simplement être vigilant sur le fait qu'il est interdit de prédire une consommation pour point horaire cible en ayant comme entrée la température réalisée pour point horaire cible (on n'est pas dans minority report)\n",
    "\n",
    "Ainsi, on va adapter *merged_df* de sorte à ce que chaque ligne correspondent à un point horaire cible à prédire, avec en colonne :\n",
    "* le Y (la consommation nationale pour point_horaire_cible)\n",
    "* Le X (cf. ci-dessus)\n",
    "\n",
    "Ainsi, on va devoir décaler toutes les données de températures de 24 heures"
   ]
  },
  {
   "cell_type": "code",
   "execution_count": 171,
   "metadata": {},
   "outputs": [],
   "source": [
    "merged_df[list(merged_df.columns[merged_df.columns.str.endswith(\"Th+0\")])] = merged_df[list(merged_df.columns[merged_df.columns.str.endswith(\"Th+0\")])].shift(24)\n",
    "merged_df[list(merged_df.columns[merged_df.columns.str.endswith(\"Th+24\")])] = merged_df[list(merged_df.columns[merged_df.columns.str.endswith(\"Th+24\")])].shift(24)"
   ]
  },
  {
   "cell_type": "markdown",
   "metadata": {},
   "source": [
    "Par souci de clarté on renomme les colonnes"
   ]
  },
  {
   "cell_type": "code",
   "execution_count": 172,
   "metadata": {},
   "outputs": [
    {
     "name": "stdout",
     "output_type": "stream",
     "text": [
      "['ds', 'Consommation.NAT.t0', 'X002Th_real_24h_avant', 'X005Th_real_24h_avant', 'X015Th_real_24h_avant', 'X027Th_real_24h_avant', 'X070Th_real_24h_avant', 'X110Th_real_24h_avant', 'X120Th_real_24h_avant', 'X130Th_real_24h_avant', 'X145Th_real_24h_avant', 'X149Th_real_24h_avant', 'X156Th_real_24h_avant', 'X168Th_real_24h_avant', 'X180Th_real_24h_avant', 'X190Th_real_24h_avant', 'X222Th_real_24h_avant', 'X240Th_real_24h_avant', 'X255Th_real_24h_avant', 'X260Th_real_24h_avant', 'X280Th_real_24h_avant', 'X299Th_real_24h_avant', 'X434Th_real_24h_avant', 'X460Th_real_24h_avant', 'X481Th_real_24h_avant', 'X497Th_real_24h_avant', 'X510Th_real_24h_avant', 'X579Th_real_24h_avant', 'X588Th_real_24h_avant', 'X621Th_real_24h_avant', 'X630Th_real_24h_avant', 'X643Th_real_24h_avant', 'X645Th_real_24h_avant', 'X650Th_real_24h_avant', 'X675Th_real_24h_avant', 'X690Th_real_24h_avant', 'X747Th_real_24h_avant', 'X002Th_prev', 'X005Th_prev', 'X015Th_prev', 'X027Th_prev', 'X070Th_prev', 'X110Th_prev', 'X120Th_prev', 'X130Th_prev', 'X145Th_prev', 'X149Th_prev', 'X156Th_prev', 'X168Th_prev', 'X180Th_prev', 'X190Th_prev', 'X222Th_prev', 'X240Th_prev', 'X255Th_prev', 'X260Th_prev', 'X280Th_prev', 'X299Th_prev', 'X434Th_prev', 'X460Th_prev', 'X481Th_prev', 'X497Th_prev', 'X510Th_prev', 'X579Th_prev', 'X588Th_prev', 'X621Th_prev', 'X630Th_prev', 'X643Th_prev', 'X645Th_prev', 'X650Th_prev', 'X675Th_prev', 'X690Th_prev', 'X747Th_prev', 'holiday', 'FranceTh_real_24h_avant', 'FranceTh_prev']\n"
     ]
    }
   ],
   "source": [
    "new_columns = [column.replace(\"Th+0\", \"Th_real_24h_avant\").replace(\"Th+24\", \"Th_prev\") for column in merged_df.columns]\n",
    "print(new_columns)\n",
    "\n",
    "merged_df.columns = new_columns"
   ]
  },
  {
   "cell_type": "markdown",
   "metadata": {},
   "source": [
    "## Suppression des NaN"
   ]
  },
  {
   "cell_type": "code",
   "execution_count": 173,
   "metadata": {},
   "outputs": [
    {
     "name": "stdout",
     "output_type": "stream",
     "text": [
      "                   ds  Consommation.NAT.t0  X002Th_real_24h_avant  \\\n",
      "0 2012-12-28 00:00:00                59679                    NaN   \n",
      "1 2012-12-28 01:00:00                55354                    NaN   \n",
      "2 2012-12-28 02:00:00                54324                    NaN   \n",
      "\n",
      "   X005Th_real_24h_avant  X015Th_real_24h_avant  X027Th_real_24h_avant  \\\n",
      "0                    NaN                    NaN                    NaN   \n",
      "1                    NaN                    NaN                    NaN   \n",
      "2                    NaN                    NaN                    NaN   \n",
      "\n",
      "   X070Th_real_24h_avant  X110Th_real_24h_avant  X120Th_real_24h_avant  \\\n",
      "0                    NaN                    NaN                    NaN   \n",
      "1                    NaN                    NaN                    NaN   \n",
      "2                    NaN                    NaN                    NaN   \n",
      "\n",
      "   X130Th_real_24h_avant  ...  X630Th_prev  X643Th_prev  X645Th_prev  \\\n",
      "0                    NaN  ...          NaN          NaN          NaN   \n",
      "1                    NaN  ...          NaN          NaN          NaN   \n",
      "2                    NaN  ...          NaN          NaN          NaN   \n",
      "\n",
      "   X650Th_prev  X675Th_prev  X690Th_prev  X747Th_prev  holiday  \\\n",
      "0          NaN          NaN          NaN          NaN      NaN   \n",
      "1          NaN          NaN          NaN          NaN      NaN   \n",
      "2          NaN          NaN          NaN          NaN      NaN   \n",
      "\n",
      "   FranceTh_real_24h_avant  FranceTh_prev  \n",
      "0                      NaN            NaN  \n",
      "1                      NaN            NaN  \n",
      "2                      NaN            NaN  \n",
      "\n",
      "[3 rows x 75 columns]\n"
     ]
    },
    {
     "data": {
      "text/plain": [
       "(39049, 75)"
      ]
     },
     "execution_count": 173,
     "metadata": {},
     "output_type": "execute_result"
    }
   ],
   "source": [
    "print(merged_df.head(3))\n",
    "merged_df.shape"
   ]
  },
  {
   "cell_type": "markdown",
   "metadata": {},
   "source": [
    "NB : Attention il est normal que la colonne \"_holiday_\" comporte des NaN"
   ]
  },
  {
   "cell_type": "code",
   "execution_count": 174,
   "metadata": {},
   "outputs": [],
   "source": [
    "mask = ~merged_df[[\"FranceTh_real_24h_avant\"]].isnull().any(axis=1)\n",
    "merged_df = merged_df[mask]"
   ]
  },
  {
   "cell_type": "code",
   "execution_count": 175,
   "metadata": {},
   "outputs": [
    {
     "name": "stdout",
     "output_type": "stream",
     "text": [
      "                    ds  Consommation.NAT.t0  X002Th_real_24h_avant  \\\n",
      "24 2012-12-29 00:00:00                59182                    9.5   \n",
      "25 2012-12-29 01:00:00                54584                    9.5   \n",
      "26 2012-12-29 02:00:00                53957                    9.5   \n",
      "\n",
      "    X005Th_real_24h_avant  X015Th_real_24h_avant  X027Th_real_24h_avant  \\\n",
      "24                  11.90                  10.50                  11.70   \n",
      "25                  11.90                  10.50                  11.69   \n",
      "26                  11.89                  10.51                  11.68   \n",
      "\n",
      "    X070Th_real_24h_avant  X110Th_real_24h_avant  X120Th_real_24h_avant  \\\n",
      "24                  10.10                  12.40                  13.00   \n",
      "25                  10.11                  12.40                  13.01   \n",
      "26                  10.12                  12.39                  13.02   \n",
      "\n",
      "    X130Th_real_24h_avant  ...  X630Th_prev  X643Th_prev  X645Th_prev  \\\n",
      "24                  11.80  ...          7.6         9.90        11.10   \n",
      "25                  11.80  ...          7.6         9.90        11.10   \n",
      "26                  11.81  ...          7.6         9.91        11.11   \n",
      "\n",
      "    X650Th_prev  X675Th_prev  X690Th_prev  X747Th_prev  holiday  \\\n",
      "24        11.60        11.80         11.1        12.00      NaN   \n",
      "25        11.60        11.80         11.1        12.01      NaN   \n",
      "26        11.61        11.81         11.1        12.02      NaN   \n",
      "\n",
      "    FranceTh_real_24h_avant  FranceTh_prev  \n",
      "24                 9.339850      10.734500  \n",
      "25                 9.339580      10.735110  \n",
      "26                 9.337955      10.733485  \n",
      "\n",
      "[3 rows x 75 columns]\n"
     ]
    },
    {
     "data": {
      "text/plain": [
       "(39025, 75)"
      ]
     },
     "execution_count": 175,
     "metadata": {},
     "output_type": "execute_result"
    }
   ],
   "source": [
    "print(merged_df.head(3))\n",
    "merged_df.shape"
   ]
  },
  {
   "cell_type": "markdown",
   "metadata": {},
   "source": [
    "## Sauvegarde du fichier \n",
    "\n",
    "Tout d'abord on sépare les données en deux : \n",
    "- le vecteur de consommation à prévoir : y_conso\n",
    "- La matrice des variables explicatives : X_input\n",
    "\n",
    "Sachant que plus tard notre modèle aura pour mission d'établir une correspondance _f_ telle que l'on ait du mieux possible une relation *y = f(X)*."
   ]
  },
  {
   "cell_type": "code",
   "execution_count": 176,
   "metadata": {},
   "outputs": [],
   "source": [
    "y_conso = merged_df[['ds', 'Consommation.NAT.t0']]\n",
    "y_conso.columns = ['ds', 'y']"
   ]
  },
  {
   "cell_type": "code",
   "execution_count": 177,
   "metadata": {},
   "outputs": [],
   "source": [
    "X_input = merged_df.drop(['Consommation.NAT.t0'], axis=1)"
   ]
  },
  {
   "cell_type": "code",
   "execution_count": 178,
   "metadata": {},
   "outputs": [],
   "source": [
    "y_conso.to_csv(\"data/Yconso.csv\", index = False)\n",
    "X_input.to_csv(\"data/Xinput.csv\", index = False)"
   ]
  },
  {
   "cell_type": "markdown",
   "metadata": {},
   "source": [
    "Et enfin on zip Xinput.csv avec un mot de passe.  \n",
    "Depuis un terminal :\n",
    "\n",
    "> zip -e Xinput.zip Xinput.csv"
   ]
  },
  {
   "cell_type": "markdown",
   "metadata": {},
   "source": [
    "# Visualisation des données \n",
    "\n",
    "La DataScience et le Machine Learning supposent de bien appréhender les données sur lesquelles nos modèles vont être entrainés. Pour cela, il est utile de faire des statistiques descriptives et des visualisations de nos différentes variables.\n",
    "\n",
    "Traitant d'un problème de prévision, on visualisera en particulier des séries temporelles.\n",
    "\n",
    "Vous allez voir des :\n",
    "- échantillons de données\n",
    "- profils de courbe de consommation journaliers et saisonniers\n",
    "- visualisations de corrélation entre conso J et conso retardée\n",
    "\n",
    "## Calcul de statistiques descriptives sur la consommation nationale\n",
    "\n",
    "A l'aide de la fonction *describe*, on calcule les indicateurs classiques. On cherche les données manquantes avec la fonction *isnull*.\n"
   ]
  },
  {
   "cell_type": "code",
   "execution_count": 179,
   "metadata": {},
   "outputs": [
    {
     "name": "stderr",
     "output_type": "stream",
     "text": [
      "D:\\Users\\montuelleluc\\Documents\\Portable\\Anaconda\\lib\\site-packages\\ipykernel_launcher.py:6: SettingWithCopyWarning:\n",
      "\n",
      "\n",
      "A value is trying to be set on a copy of a slice from a DataFrame.\n",
      "Try using .loc[row_indexer,col_indexer] = value instead\n",
      "\n",
      "See the caveats in the documentation: http://pandas.pydata.org/pandas-docs/stable/user_guide/indexing.html#returning-a-view-versus-a-copy\n",
      "\n"
     ]
    }
   ],
   "source": [
    "Yconso = y_conso\n",
    "Xinput = X_input\n",
    "\n",
    "#Yconso_csv = os.path.join(data_folder, \"Yconso.csv\")\n",
    "#Yconso = pd.read_csv(Yconso_csv)\n",
    "Yconso['ds'] = pd.to_datetime(Yconso['ds'],utc=True)\n",
    "\n",
    "#password = 'FIFA_2019'\n",
    "#Xinput_zip = os.path.join(data_folder, \"Xinput.zip\")\n",
    "# Pour travailler avec les fichiers zip, on utilise la bibliothèque **zipfile**.\n",
    "#zipfile_xinput = zipfile.ZipFile(Xinput_zip)\n",
    "#zipfile_xinput.setpassword(bytes(password,'utf-8'))\n",
    "#Xinput = pd.read_csv(zipfile_xinput.open('Xinput.csv'),sep=\",\",engine='c',header=0)\n",
    "\n",
    "Xinput['ds'] = pd.to_datetime(Xinput['ds'],utc=True)\n"
   ]
  },
  {
   "cell_type": "code",
   "execution_count": 180,
   "metadata": {},
   "outputs": [
    {
     "data": {
      "text/plain": [
       "count                         39025\n",
       "unique                        39019\n",
       "top       2017-06-11 23:00:00+00:00\n",
       "freq                              3\n",
       "first     2012-12-29 00:00:00+00:00\n",
       "last      2017-06-11 23:00:00+00:00\n",
       "Name: ds, dtype: object"
      ]
     },
     "execution_count": 180,
     "metadata": {},
     "output_type": "execute_result"
    }
   ],
   "source": [
    "Yconso['ds'].describe()"
   ]
  },
  {
   "cell_type": "code",
   "execution_count": 181,
   "metadata": {},
   "outputs": [
    {
     "data": {
      "text/plain": [
       "count    39025.000000\n",
       "mean     54775.101781\n",
       "std      12027.581949\n",
       "min      29477.000000\n",
       "25%      45631.000000\n",
       "50%      53198.000000\n",
       "75%      63224.000000\n",
       "max      94190.000000\n",
       "Name: y, dtype: float64"
      ]
     },
     "execution_count": 181,
     "metadata": {},
     "output_type": "execute_result"
    }
   ],
   "source": [
    "Yconso['y'].describe()"
   ]
  },
  {
   "cell_type": "code",
   "execution_count": 182,
   "metadata": {},
   "outputs": [
    {
     "data": {
      "text/plain": [
       "0"
      ]
     },
     "execution_count": 182,
     "metadata": {},
     "output_type": "execute_result"
    }
   ],
   "source": [
    "Yconso['y'].isnull().sum()"
   ]
  },
  {
   "cell_type": "markdown",
   "metadata": {},
   "source": [
    "<font color='green'>\n",
    "\n",
    "* Quelle est la valeur moyenne de la consommation horaire? son min et son max? \n",
    "* Quelle est la période temporelle étudiée?\n",
    "\n",
    "</font>"
   ]
  },
  {
   "cell_type": "markdown",
   "metadata": {},
   "source": [
    "## Visualiser la consommation d'un jour particulier\n",
    "On souhaite visualiser la consommation réalisée pour un jour donné de l'historique. Pour cela on construit une fonction."
   ]
  },
  {
   "cell_type": "code",
   "execution_count": 183,
   "metadata": {},
   "outputs": [],
   "source": [
    "def plot_load(var_load, year, month, day, delta_days):\n",
    "    date_cible = pytz.utc.localize(datetime.datetime(year=year, month=month, day=day))\n",
    "    date_lendemain_cible = date_cible + datetime.timedelta(days=delta_days)\n",
    "\n",
    "    conso_periode = var_load[(var_load.ds >= date_cible) \n",
    "                                      & (var_load.ds <= date_lendemain_cible)]\n",
    "    plt.plot(conso_periode['ds'], conso_periode['y'], color='blue')\n",
    "    plt.show()"
   ]
  },
  {
   "cell_type": "code",
   "execution_count": 184,
   "metadata": {},
   "outputs": [
    {
     "data": {
      "image/png": "[encoded data removed]",
      "text/plain": [
       "<Figure size 432x288 with 1 Axes>"
      ]
     },
     "metadata": {
      "needs_background": "light"
     },
     "output_type": "display_data"
    }
   ],
   "source": [
    "plot_load(Yconso, 2016, 12, 20,1)"
   ]
  },
  {
   "cell_type": "markdown",
   "metadata": {},
   "source": [
    "<font color='green'>\n",
    "\n",
    "* Afficher un jour ouvré d’hiver, un jour ouvré d’été, commenter.\n",
    "\n",
    "</font>"
   ]
  },
  {
   "cell_type": "markdown",
   "metadata": {},
   "source": [
    "## Afficher une semaine arbitraire de consommation"
   ]
  },
  {
   "cell_type": "code",
   "execution_count": 185,
   "metadata": {},
   "outputs": [
    {
     "data": {
      "image/png": "[encoded data removed]",
      "text/plain": [
       "<Figure size 432x288 with 1 Axes>"
      ]
     },
     "metadata": {
      "needs_background": "light"
     },
     "output_type": "display_data"
    }
   ],
   "source": [
    "plot_load(Yconso, 2016, 12, 20, delta_days=7)"
   ]
  },
  {
   "cell_type": "markdown",
   "metadata": {},
   "source": [
    "<font color='green'>\n",
    "\n",
    "* Commenter.\n",
    "\n",
    "</font>"
   ]
  },
  {
   "cell_type": "markdown",
   "metadata": {},
   "source": [
    "## Observation des profils de la consommation pour les mois d'hiver et les mois d'été\n",
    "Toujours dans le but d'appréhender nos données, on va regarder les profils moyens pour les mois d'été et pour ceux d'hiver. On va également observer le min et le max pour avoir une idée de la variabilité du signal."
   ]
  },
  {
   "cell_type": "code",
   "execution_count": 186,
   "metadata": {},
   "outputs": [],
   "source": [
    "# Par commodité, on isole le mois pour après attraper les mois d'hiver et d'été\n",
    "Xinput['month'] = Xinput['ds'].dt.month\n",
    "\n",
    "# On isole aussi les heures\n",
    "Xinput['hour'] = Xinput['ds'].dt.hour\n",
    "\n",
    "# On sépare les jours de la semaine \n",
    "# La fonction datetime.weekday() renvoie 0 => Lundi, 1 => Mardi, ..., 5 => Samedi, 6 => Dimanche\n",
    "Xinput['weekday'] = Xinput['ds'].dt.weekday "
   ]
  },
  {
   "cell_type": "code",
   "execution_count": 187,
   "metadata": {},
   "outputs": [
    {
     "data": {
      "text/html": [
       "<div>\n",
       "<style scoped>\n",
       "    .dataframe tbody tr th:only-of-type {\n",
       "        vertical-align: middle;\n",
       "    }\n",
       "\n",
       "    .dataframe tbody tr th {\n",
       "        vertical-align: top;\n",
       "    }\n",
       "\n",
       "    .dataframe thead th {\n",
       "        text-align: right;\n",
       "    }\n",
       "</style>\n",
       "<table border=\"1\" class=\"dataframe\">\n",
       "  <thead>\n",
       "    <tr style=\"text-align: right;\">\n",
       "      <th></th>\n",
       "      <th>ds</th>\n",
       "      <th>X002Th_real_24h_avant</th>\n",
       "      <th>X005Th_real_24h_avant</th>\n",
       "      <th>X015Th_real_24h_avant</th>\n",
       "      <th>X027Th_real_24h_avant</th>\n",
       "      <th>X070Th_real_24h_avant</th>\n",
       "      <th>X110Th_real_24h_avant</th>\n",
       "      <th>X120Th_real_24h_avant</th>\n",
       "      <th>X130Th_real_24h_avant</th>\n",
       "      <th>X145Th_real_24h_avant</th>\n",
       "      <th>...</th>\n",
       "      <th>X650Th_prev</th>\n",
       "      <th>X675Th_prev</th>\n",
       "      <th>X690Th_prev</th>\n",
       "      <th>X747Th_prev</th>\n",
       "      <th>holiday</th>\n",
       "      <th>FranceTh_real_24h_avant</th>\n",
       "      <th>FranceTh_prev</th>\n",
       "      <th>month</th>\n",
       "      <th>hour</th>\n",
       "      <th>weekday</th>\n",
       "    </tr>\n",
       "  </thead>\n",
       "  <tbody>\n",
       "    <tr>\n",
       "      <td>24</td>\n",
       "      <td>2012-12-29 00:00:00+00:00</td>\n",
       "      <td>9.50</td>\n",
       "      <td>11.90</td>\n",
       "      <td>10.50</td>\n",
       "      <td>11.70</td>\n",
       "      <td>10.10</td>\n",
       "      <td>12.40</td>\n",
       "      <td>13.00</td>\n",
       "      <td>11.80</td>\n",
       "      <td>9.90</td>\n",
       "      <td>...</td>\n",
       "      <td>11.60</td>\n",
       "      <td>11.80</td>\n",
       "      <td>11.10</td>\n",
       "      <td>12.00</td>\n",
       "      <td>NaN</td>\n",
       "      <td>9.339850</td>\n",
       "      <td>10.734500</td>\n",
       "      <td>12</td>\n",
       "      <td>0</td>\n",
       "      <td>5</td>\n",
       "    </tr>\n",
       "    <tr>\n",
       "      <td>25</td>\n",
       "      <td>2012-12-29 01:00:00+00:00</td>\n",
       "      <td>9.50</td>\n",
       "      <td>11.90</td>\n",
       "      <td>10.50</td>\n",
       "      <td>11.69</td>\n",
       "      <td>10.11</td>\n",
       "      <td>12.40</td>\n",
       "      <td>13.01</td>\n",
       "      <td>11.80</td>\n",
       "      <td>9.90</td>\n",
       "      <td>...</td>\n",
       "      <td>11.60</td>\n",
       "      <td>11.80</td>\n",
       "      <td>11.10</td>\n",
       "      <td>12.01</td>\n",
       "      <td>NaN</td>\n",
       "      <td>9.339580</td>\n",
       "      <td>10.735110</td>\n",
       "      <td>12</td>\n",
       "      <td>1</td>\n",
       "      <td>5</td>\n",
       "    </tr>\n",
       "    <tr>\n",
       "      <td>26</td>\n",
       "      <td>2012-12-29 02:00:00+00:00</td>\n",
       "      <td>9.50</td>\n",
       "      <td>11.89</td>\n",
       "      <td>10.51</td>\n",
       "      <td>11.68</td>\n",
       "      <td>10.12</td>\n",
       "      <td>12.39</td>\n",
       "      <td>13.02</td>\n",
       "      <td>11.81</td>\n",
       "      <td>9.89</td>\n",
       "      <td>...</td>\n",
       "      <td>11.61</td>\n",
       "      <td>11.81</td>\n",
       "      <td>11.10</td>\n",
       "      <td>12.02</td>\n",
       "      <td>NaN</td>\n",
       "      <td>9.337955</td>\n",
       "      <td>10.733485</td>\n",
       "      <td>12</td>\n",
       "      <td>2</td>\n",
       "      <td>5</td>\n",
       "    </tr>\n",
       "    <tr>\n",
       "      <td>27</td>\n",
       "      <td>2012-12-29 03:00:00+00:00</td>\n",
       "      <td>9.51</td>\n",
       "      <td>11.88</td>\n",
       "      <td>10.53</td>\n",
       "      <td>11.66</td>\n",
       "      <td>10.14</td>\n",
       "      <td>12.39</td>\n",
       "      <td>13.05</td>\n",
       "      <td>11.82</td>\n",
       "      <td>9.89</td>\n",
       "      <td>...</td>\n",
       "      <td>11.61</td>\n",
       "      <td>11.81</td>\n",
       "      <td>11.11</td>\n",
       "      <td>12.04</td>\n",
       "      <td>NaN</td>\n",
       "      <td>9.338565</td>\n",
       "      <td>10.733050</td>\n",
       "      <td>12</td>\n",
       "      <td>3</td>\n",
       "      <td>5</td>\n",
       "    </tr>\n",
       "    <tr>\n",
       "      <td>28</td>\n",
       "      <td>2012-12-29 04:00:00+00:00</td>\n",
       "      <td>9.51</td>\n",
       "      <td>11.86</td>\n",
       "      <td>10.54</td>\n",
       "      <td>11.63</td>\n",
       "      <td>10.17</td>\n",
       "      <td>12.38</td>\n",
       "      <td>13.08</td>\n",
       "      <td>11.83</td>\n",
       "      <td>9.88</td>\n",
       "      <td>...</td>\n",
       "      <td>11.62</td>\n",
       "      <td>11.82</td>\n",
       "      <td>11.11</td>\n",
       "      <td>12.06</td>\n",
       "      <td>NaN</td>\n",
       "      <td>9.337475</td>\n",
       "      <td>10.731165</td>\n",
       "      <td>12</td>\n",
       "      <td>4</td>\n",
       "      <td>5</td>\n",
       "    </tr>\n",
       "  </tbody>\n",
       "</table>\n",
       "<p>5 rows × 77 columns</p>\n",
       "</div>"
      ],
      "text/plain": [
       "                          ds  X002Th_real_24h_avant  X005Th_real_24h_avant  \\\n",
       "24 2012-12-29 00:00:00+00:00                   9.50                  11.90   \n",
       "25 2012-12-29 01:00:00+00:00                   9.50                  11.90   \n",
       "26 2012-12-29 02:00:00+00:00                   9.50                  11.89   \n",
       "27 2012-12-29 03:00:00+00:00                   9.51                  11.88   \n",
       "28 2012-12-29 04:00:00+00:00                   9.51                  11.86   \n",
       "\n",
       "    X015Th_real_24h_avant  X027Th_real_24h_avant  X070Th_real_24h_avant  \\\n",
       "24                  10.50                  11.70                  10.10   \n",
       "25                  10.50                  11.69                  10.11   \n",
       "26                  10.51                  11.68                  10.12   \n",
       "27                  10.53                  11.66                  10.14   \n",
       "28                  10.54                  11.63                  10.17   \n",
       "\n",
       "    X110Th_real_24h_avant  X120Th_real_24h_avant  X130Th_real_24h_avant  \\\n",
       "24                  12.40                  13.00                  11.80   \n",
       "25                  12.40                  13.01                  11.80   \n",
       "26                  12.39                  13.02                  11.81   \n",
       "27                  12.39                  13.05                  11.82   \n",
       "28                  12.38                  13.08                  11.83   \n",
       "\n",
       "    X145Th_real_24h_avant  ...  X650Th_prev  X675Th_prev  X690Th_prev  \\\n",
       "24                   9.90  ...        11.60        11.80        11.10   \n",
       "25                   9.90  ...        11.60        11.80        11.10   \n",
       "26                   9.89  ...        11.61        11.81        11.10   \n",
       "27                   9.89  ...        11.61        11.81        11.11   \n",
       "28                   9.88  ...        11.62        11.82        11.11   \n",
       "\n",
       "    X747Th_prev  holiday  FranceTh_real_24h_avant  FranceTh_prev  month  hour  \\\n",
       "24        12.00      NaN                 9.339850      10.734500     12     0   \n",
       "25        12.01      NaN                 9.339580      10.735110     12     1   \n",
       "26        12.02      NaN                 9.337955      10.733485     12     2   \n",
       "27        12.04      NaN                 9.338565      10.733050     12     3   \n",
       "28        12.06      NaN                 9.337475      10.731165     12     4   \n",
       "\n",
       "    weekday  \n",
       "24        5  \n",
       "25        5  \n",
       "26        5  \n",
       "27        5  \n",
       "28        5  \n",
       "\n",
       "[5 rows x 77 columns]"
      ]
     },
     "execution_count": 187,
     "metadata": {},
     "output_type": "execute_result"
    }
   ],
   "source": [
    "Xinput.head(5)"
   ]
  },
  {
   "cell_type": "code",
   "execution_count": 188,
   "metadata": {},
   "outputs": [
    {
     "data": {
      "text/html": [
       "<div>\n",
       "<style scoped>\n",
       "    .dataframe tbody tr th:only-of-type {\n",
       "        vertical-align: middle;\n",
       "    }\n",
       "\n",
       "    .dataframe tbody tr th {\n",
       "        vertical-align: top;\n",
       "    }\n",
       "\n",
       "    .dataframe thead th {\n",
       "        text-align: right;\n",
       "    }\n",
       "</style>\n",
       "<table border=\"1\" class=\"dataframe\">\n",
       "  <thead>\n",
       "    <tr style=\"text-align: right;\">\n",
       "      <th></th>\n",
       "      <th></th>\n",
       "      <th>mean</th>\n",
       "      <th>amin</th>\n",
       "      <th>amax</th>\n",
       "    </tr>\n",
       "    <tr>\n",
       "      <th>weekday</th>\n",
       "      <th>hour</th>\n",
       "      <th></th>\n",
       "      <th></th>\n",
       "      <th></th>\n",
       "    </tr>\n",
       "  </thead>\n",
       "  <tbody>\n",
       "    <tr>\n",
       "      <td rowspan=\"5\" valign=\"top\">0</td>\n",
       "      <td>0</td>\n",
       "      <td>65783.655738</td>\n",
       "      <td>55360</td>\n",
       "      <td>78404</td>\n",
       "    </tr>\n",
       "    <tr>\n",
       "      <td>1</td>\n",
       "      <td>61865.557377</td>\n",
       "      <td>51056</td>\n",
       "      <td>75157</td>\n",
       "    </tr>\n",
       "    <tr>\n",
       "      <td>2</td>\n",
       "      <td>61269.918033</td>\n",
       "      <td>49822</td>\n",
       "      <td>74962</td>\n",
       "    </tr>\n",
       "    <tr>\n",
       "      <td>3</td>\n",
       "      <td>59220.655738</td>\n",
       "      <td>47461</td>\n",
       "      <td>73056</td>\n",
       "    </tr>\n",
       "    <tr>\n",
       "      <td>4</td>\n",
       "      <td>57217.803279</td>\n",
       "      <td>45691</td>\n",
       "      <td>71163</td>\n",
       "    </tr>\n",
       "    <tr>\n",
       "      <td>...</td>\n",
       "      <td>...</td>\n",
       "      <td>...</td>\n",
       "      <td>...</td>\n",
       "      <td>...</td>\n",
       "    </tr>\n",
       "    <tr>\n",
       "      <td rowspan=\"5\" valign=\"top\">6</td>\n",
       "      <td>19</td>\n",
       "      <td>68453.016667</td>\n",
       "      <td>57047</td>\n",
       "      <td>81711</td>\n",
       "    </tr>\n",
       "    <tr>\n",
       "      <td>20</td>\n",
       "      <td>68466.100000</td>\n",
       "      <td>57139</td>\n",
       "      <td>82094</td>\n",
       "    </tr>\n",
       "    <tr>\n",
       "      <td>21</td>\n",
       "      <td>66030.750000</td>\n",
       "      <td>55295</td>\n",
       "      <td>79228</td>\n",
       "    </tr>\n",
       "    <tr>\n",
       "      <td>22</td>\n",
       "      <td>63457.750000</td>\n",
       "      <td>53033</td>\n",
       "      <td>76323</td>\n",
       "    </tr>\n",
       "    <tr>\n",
       "      <td>23</td>\n",
       "      <td>66646.583333</td>\n",
       "      <td>56162</td>\n",
       "      <td>79646</td>\n",
       "    </tr>\n",
       "  </tbody>\n",
       "</table>\n",
       "<p>168 rows × 3 columns</p>\n",
       "</div>"
      ],
      "text/plain": [
       "                      mean   amin   amax\n",
       "weekday hour                            \n",
       "0       0     65783.655738  55360  78404\n",
       "        1     61865.557377  51056  75157\n",
       "        2     61269.918033  49822  74962\n",
       "        3     59220.655738  47461  73056\n",
       "        4     57217.803279  45691  71163\n",
       "...                    ...    ...    ...\n",
       "6       19    68453.016667  57047  81711\n",
       "        20    68466.100000  57139  82094\n",
       "        21    66030.750000  55295  79228\n",
       "        22    63457.750000  53033  76323\n",
       "        23    66646.583333  56162  79646\n",
       "\n",
       "[168 rows x 3 columns]"
      ]
     },
     "metadata": {},
     "output_type": "display_data"
    }
   ],
   "source": [
    "# On aggrège les mois d'hiver ensemble\n",
    "XY_df = pd.merge(Yconso, Xinput, on = 'ds')\n",
    "groupedHiver = XY_df[(XY_df.month == 12) | \n",
    "                                     (XY_df.month == 1) | \n",
    "                                     (XY_df.month == 2)].groupby(['weekday', 'hour'], as_index=True)\n",
    "\n",
    "# Idem pour les mois d'été\n",
    "groupedEte = XY_df[(XY_df.month == 6) | \n",
    "                                   (XY_df.month == 7) | \n",
    "                                   (XY_df.month == 8)].groupby(['weekday', 'hour'], as_index=True)\n",
    "\n",
    "statsHiver = groupedHiver['y'].aggregate([np.mean, np.min, np.max])\n",
    "statsEte = groupedEte['y'].aggregate([np.mean, np.min, np.max])\n",
    "display(statsHiver)"
   ]
  },
  {
   "cell_type": "code",
   "execution_count": 189,
   "metadata": {},
   "outputs": [
    {
     "data": {
      "image/png": "[encoded data removed]",
      "text/plain": [
       "<Figure size 432x288 with 1 Axes>"
      ]
     },
     "metadata": {
      "needs_background": "light"
     },
     "output_type": "display_data"
    }
   ],
   "source": [
    "# On affiche des infos sur le profil pour les jours de la semaine\n",
    "# 0 => Lundi, 1 => Mardi, ..., 5 => Samedi, 6 => Dimanche\n",
    "jour = statsHiver.loc[6]  \n",
    "\n",
    "plt.plot(jour['amin'], color='cyan')\n",
    "plt.plot(jour['mean'], color='blue')\n",
    "plt.plot(jour['amax'], color='cyan')\n",
    "plt.show()"
   ]
  },
  {
   "cell_type": "markdown",
   "metadata": {},
   "source": [
    "## Lien avec la consommation passée\n",
    "A l'aide de la fonction shift, pour un point horaire cible on regarde  :\n",
    "- la consommation de l'heure précédente, \n",
    "- du jour précédent, \n",
    "- de la semaine précédente.\n"
   ]
  },
  {
   "cell_type": "code",
   "execution_count": 190,
   "metadata": {},
   "outputs": [
    {
     "data": {
      "text/html": [
       "<div>\n",
       "<style scoped>\n",
       "    .dataframe tbody tr th:only-of-type {\n",
       "        vertical-align: middle;\n",
       "    }\n",
       "\n",
       "    .dataframe tbody tr th {\n",
       "        vertical-align: top;\n",
       "    }\n",
       "\n",
       "    .dataframe thead th {\n",
       "        text-align: right;\n",
       "    }\n",
       "</style>\n",
       "<table border=\"1\" class=\"dataframe\">\n",
       "  <thead>\n",
       "    <tr style=\"text-align: right;\">\n",
       "      <th></th>\n",
       "      <th>ds</th>\n",
       "      <th>X002Th_real_24h_avant</th>\n",
       "      <th>X005Th_real_24h_avant</th>\n",
       "      <th>X015Th_real_24h_avant</th>\n",
       "      <th>X027Th_real_24h_avant</th>\n",
       "      <th>X070Th_real_24h_avant</th>\n",
       "      <th>X110Th_real_24h_avant</th>\n",
       "      <th>X120Th_real_24h_avant</th>\n",
       "      <th>X130Th_real_24h_avant</th>\n",
       "      <th>X145Th_real_24h_avant</th>\n",
       "      <th>...</th>\n",
       "      <th>X747Th_prev</th>\n",
       "      <th>holiday</th>\n",
       "      <th>FranceTh_real_24h_avant</th>\n",
       "      <th>FranceTh_prev</th>\n",
       "      <th>month</th>\n",
       "      <th>hour</th>\n",
       "      <th>weekday</th>\n",
       "      <th>lag1H</th>\n",
       "      <th>lag1D</th>\n",
       "      <th>lag1W</th>\n",
       "    </tr>\n",
       "  </thead>\n",
       "  <tbody>\n",
       "    <tr>\n",
       "      <td>24</td>\n",
       "      <td>2012-12-29 00:00:00+00:00</td>\n",
       "      <td>9.50</td>\n",
       "      <td>11.90</td>\n",
       "      <td>10.50</td>\n",
       "      <td>11.70</td>\n",
       "      <td>10.10</td>\n",
       "      <td>12.40</td>\n",
       "      <td>13.00</td>\n",
       "      <td>11.80</td>\n",
       "      <td>9.90</td>\n",
       "      <td>...</td>\n",
       "      <td>12.00</td>\n",
       "      <td>NaN</td>\n",
       "      <td>9.339850</td>\n",
       "      <td>10.734500</td>\n",
       "      <td>12</td>\n",
       "      <td>0</td>\n",
       "      <td>5</td>\n",
       "      <td>NaN</td>\n",
       "      <td>NaN</td>\n",
       "      <td>NaN</td>\n",
       "    </tr>\n",
       "    <tr>\n",
       "      <td>25</td>\n",
       "      <td>2012-12-29 01:00:00+00:00</td>\n",
       "      <td>9.50</td>\n",
       "      <td>11.90</td>\n",
       "      <td>10.50</td>\n",
       "      <td>11.69</td>\n",
       "      <td>10.11</td>\n",
       "      <td>12.40</td>\n",
       "      <td>13.01</td>\n",
       "      <td>11.80</td>\n",
       "      <td>9.90</td>\n",
       "      <td>...</td>\n",
       "      <td>12.01</td>\n",
       "      <td>NaN</td>\n",
       "      <td>9.339580</td>\n",
       "      <td>10.735110</td>\n",
       "      <td>12</td>\n",
       "      <td>1</td>\n",
       "      <td>5</td>\n",
       "      <td>59182.0</td>\n",
       "      <td>NaN</td>\n",
       "      <td>NaN</td>\n",
       "    </tr>\n",
       "    <tr>\n",
       "      <td>26</td>\n",
       "      <td>2012-12-29 02:00:00+00:00</td>\n",
       "      <td>9.50</td>\n",
       "      <td>11.89</td>\n",
       "      <td>10.51</td>\n",
       "      <td>11.68</td>\n",
       "      <td>10.12</td>\n",
       "      <td>12.39</td>\n",
       "      <td>13.02</td>\n",
       "      <td>11.81</td>\n",
       "      <td>9.89</td>\n",
       "      <td>...</td>\n",
       "      <td>12.02</td>\n",
       "      <td>NaN</td>\n",
       "      <td>9.337955</td>\n",
       "      <td>10.733485</td>\n",
       "      <td>12</td>\n",
       "      <td>2</td>\n",
       "      <td>5</td>\n",
       "      <td>54584.0</td>\n",
       "      <td>NaN</td>\n",
       "      <td>NaN</td>\n",
       "    </tr>\n",
       "    <tr>\n",
       "      <td>27</td>\n",
       "      <td>2012-12-29 03:00:00+00:00</td>\n",
       "      <td>9.51</td>\n",
       "      <td>11.88</td>\n",
       "      <td>10.53</td>\n",
       "      <td>11.66</td>\n",
       "      <td>10.14</td>\n",
       "      <td>12.39</td>\n",
       "      <td>13.05</td>\n",
       "      <td>11.82</td>\n",
       "      <td>9.89</td>\n",
       "      <td>...</td>\n",
       "      <td>12.04</td>\n",
       "      <td>NaN</td>\n",
       "      <td>9.338565</td>\n",
       "      <td>10.733050</td>\n",
       "      <td>12</td>\n",
       "      <td>3</td>\n",
       "      <td>5</td>\n",
       "      <td>53957.0</td>\n",
       "      <td>NaN</td>\n",
       "      <td>NaN</td>\n",
       "    </tr>\n",
       "    <tr>\n",
       "      <td>28</td>\n",
       "      <td>2012-12-29 04:00:00+00:00</td>\n",
       "      <td>9.51</td>\n",
       "      <td>11.86</td>\n",
       "      <td>10.54</td>\n",
       "      <td>11.63</td>\n",
       "      <td>10.17</td>\n",
       "      <td>12.38</td>\n",
       "      <td>13.08</td>\n",
       "      <td>11.83</td>\n",
       "      <td>9.88</td>\n",
       "      <td>...</td>\n",
       "      <td>12.06</td>\n",
       "      <td>NaN</td>\n",
       "      <td>9.337475</td>\n",
       "      <td>10.731165</td>\n",
       "      <td>12</td>\n",
       "      <td>4</td>\n",
       "      <td>5</td>\n",
       "      <td>51338.0</td>\n",
       "      <td>NaN</td>\n",
       "      <td>NaN</td>\n",
       "    </tr>\n",
       "    <tr>\n",
       "      <td>...</td>\n",
       "      <td>...</td>\n",
       "      <td>...</td>\n",
       "      <td>...</td>\n",
       "      <td>...</td>\n",
       "      <td>...</td>\n",
       "      <td>...</td>\n",
       "      <td>...</td>\n",
       "      <td>...</td>\n",
       "      <td>...</td>\n",
       "      <td>...</td>\n",
       "      <td>...</td>\n",
       "      <td>...</td>\n",
       "      <td>...</td>\n",
       "      <td>...</td>\n",
       "      <td>...</td>\n",
       "      <td>...</td>\n",
       "      <td>...</td>\n",
       "      <td>...</td>\n",
       "      <td>...</td>\n",
       "      <td>...</td>\n",
       "      <td>...</td>\n",
       "    </tr>\n",
       "    <tr>\n",
       "      <td>188</td>\n",
       "      <td>2013-01-04 20:00:00+00:00</td>\n",
       "      <td>9.10</td>\n",
       "      <td>9.70</td>\n",
       "      <td>10.00</td>\n",
       "      <td>10.00</td>\n",
       "      <td>9.70</td>\n",
       "      <td>9.90</td>\n",
       "      <td>9.90</td>\n",
       "      <td>10.10</td>\n",
       "      <td>9.40</td>\n",
       "      <td>...</td>\n",
       "      <td>13.40</td>\n",
       "      <td>NaN</td>\n",
       "      <td>7.653025</td>\n",
       "      <td>8.211950</td>\n",
       "      <td>1</td>\n",
       "      <td>20</td>\n",
       "      <td>4</td>\n",
       "      <td>72462.0</td>\n",
       "      <td>71765.0</td>\n",
       "      <td>NaN</td>\n",
       "    </tr>\n",
       "    <tr>\n",
       "      <td>189</td>\n",
       "      <td>2013-01-04 21:00:00+00:00</td>\n",
       "      <td>9.20</td>\n",
       "      <td>9.60</td>\n",
       "      <td>9.90</td>\n",
       "      <td>9.90</td>\n",
       "      <td>9.70</td>\n",
       "      <td>10.00</td>\n",
       "      <td>9.80</td>\n",
       "      <td>9.90</td>\n",
       "      <td>9.20</td>\n",
       "      <td>...</td>\n",
       "      <td>13.40</td>\n",
       "      <td>NaN</td>\n",
       "      <td>7.472100</td>\n",
       "      <td>7.876650</td>\n",
       "      <td>1</td>\n",
       "      <td>21</td>\n",
       "      <td>4</td>\n",
       "      <td>69629.0</td>\n",
       "      <td>67414.0</td>\n",
       "      <td>NaN</td>\n",
       "    </tr>\n",
       "    <tr>\n",
       "      <td>190</td>\n",
       "      <td>2013-01-04 22:00:00+00:00</td>\n",
       "      <td>9.30</td>\n",
       "      <td>9.60</td>\n",
       "      <td>9.80</td>\n",
       "      <td>10.00</td>\n",
       "      <td>9.80</td>\n",
       "      <td>9.90</td>\n",
       "      <td>9.60</td>\n",
       "      <td>10.00</td>\n",
       "      <td>9.00</td>\n",
       "      <td>...</td>\n",
       "      <td>13.50</td>\n",
       "      <td>NaN</td>\n",
       "      <td>7.196725</td>\n",
       "      <td>7.675100</td>\n",
       "      <td>1</td>\n",
       "      <td>22</td>\n",
       "      <td>4</td>\n",
       "      <td>65632.0</td>\n",
       "      <td>63613.0</td>\n",
       "      <td>NaN</td>\n",
       "    </tr>\n",
       "    <tr>\n",
       "      <td>191</td>\n",
       "      <td>2013-01-04 23:00:00+00:00</td>\n",
       "      <td>9.40</td>\n",
       "      <td>9.60</td>\n",
       "      <td>9.80</td>\n",
       "      <td>9.80</td>\n",
       "      <td>9.60</td>\n",
       "      <td>9.80</td>\n",
       "      <td>9.40</td>\n",
       "      <td>9.90</td>\n",
       "      <td>8.90</td>\n",
       "      <td>...</td>\n",
       "      <td>13.80</td>\n",
       "      <td>NaN</td>\n",
       "      <td>7.061050</td>\n",
       "      <td>7.264600</td>\n",
       "      <td>1</td>\n",
       "      <td>23</td>\n",
       "      <td>4</td>\n",
       "      <td>62355.0</td>\n",
       "      <td>66334.0</td>\n",
       "      <td>NaN</td>\n",
       "    </tr>\n",
       "    <tr>\n",
       "      <td>192</td>\n",
       "      <td>2013-01-05 00:00:00+00:00</td>\n",
       "      <td>9.60</td>\n",
       "      <td>9.70</td>\n",
       "      <td>9.90</td>\n",
       "      <td>9.60</td>\n",
       "      <td>9.60</td>\n",
       "      <td>9.60</td>\n",
       "      <td>9.30</td>\n",
       "      <td>10.00</td>\n",
       "      <td>8.80</td>\n",
       "      <td>...</td>\n",
       "      <td>14.10</td>\n",
       "      <td>NaN</td>\n",
       "      <td>6.904075</td>\n",
       "      <td>7.087500</td>\n",
       "      <td>1</td>\n",
       "      <td>0</td>\n",
       "      <td>5</td>\n",
       "      <td>65201.0</td>\n",
       "      <td>64948.0</td>\n",
       "      <td>59182.0</td>\n",
       "    </tr>\n",
       "  </tbody>\n",
       "</table>\n",
       "<p>169 rows × 80 columns</p>\n",
       "</div>"
      ],
      "text/plain": [
       "                           ds  X002Th_real_24h_avant  X005Th_real_24h_avant  \\\n",
       "24  2012-12-29 00:00:00+00:00                   9.50                  11.90   \n",
       "25  2012-12-29 01:00:00+00:00                   9.50                  11.90   \n",
       "26  2012-12-29 02:00:00+00:00                   9.50                  11.89   \n",
       "27  2012-12-29 03:00:00+00:00                   9.51                  11.88   \n",
       "28  2012-12-29 04:00:00+00:00                   9.51                  11.86   \n",
       "..                        ...                    ...                    ...   \n",
       "188 2013-01-04 20:00:00+00:00                   9.10                   9.70   \n",
       "189 2013-01-04 21:00:00+00:00                   9.20                   9.60   \n",
       "190 2013-01-04 22:00:00+00:00                   9.30                   9.60   \n",
       "191 2013-01-04 23:00:00+00:00                   9.40                   9.60   \n",
       "192 2013-01-05 00:00:00+00:00                   9.60                   9.70   \n",
       "\n",
       "     X015Th_real_24h_avant  X027Th_real_24h_avant  X070Th_real_24h_avant  \\\n",
       "24                   10.50                  11.70                  10.10   \n",
       "25                   10.50                  11.69                  10.11   \n",
       "26                   10.51                  11.68                  10.12   \n",
       "27                   10.53                  11.66                  10.14   \n",
       "28                   10.54                  11.63                  10.17   \n",
       "..                     ...                    ...                    ...   \n",
       "188                  10.00                  10.00                   9.70   \n",
       "189                   9.90                   9.90                   9.70   \n",
       "190                   9.80                  10.00                   9.80   \n",
       "191                   9.80                   9.80                   9.60   \n",
       "192                   9.90                   9.60                   9.60   \n",
       "\n",
       "     X110Th_real_24h_avant  X120Th_real_24h_avant  X130Th_real_24h_avant  \\\n",
       "24                   12.40                  13.00                  11.80   \n",
       "25                   12.40                  13.01                  11.80   \n",
       "26                   12.39                  13.02                  11.81   \n",
       "27                   12.39                  13.05                  11.82   \n",
       "28                   12.38                  13.08                  11.83   \n",
       "..                     ...                    ...                    ...   \n",
       "188                   9.90                   9.90                  10.10   \n",
       "189                  10.00                   9.80                   9.90   \n",
       "190                   9.90                   9.60                  10.00   \n",
       "191                   9.80                   9.40                   9.90   \n",
       "192                   9.60                   9.30                  10.00   \n",
       "\n",
       "     X145Th_real_24h_avant  ...  X747Th_prev  holiday  \\\n",
       "24                    9.90  ...        12.00      NaN   \n",
       "25                    9.90  ...        12.01      NaN   \n",
       "26                    9.89  ...        12.02      NaN   \n",
       "27                    9.89  ...        12.04      NaN   \n",
       "28                    9.88  ...        12.06      NaN   \n",
       "..                     ...  ...          ...      ...   \n",
       "188                   9.40  ...        13.40      NaN   \n",
       "189                   9.20  ...        13.40      NaN   \n",
       "190                   9.00  ...        13.50      NaN   \n",
       "191                   8.90  ...        13.80      NaN   \n",
       "192                   8.80  ...        14.10      NaN   \n",
       "\n",
       "     FranceTh_real_24h_avant  FranceTh_prev  month  hour  weekday    lag1H  \\\n",
       "24                  9.339850      10.734500     12     0        5      NaN   \n",
       "25                  9.339580      10.735110     12     1        5  59182.0   \n",
       "26                  9.337955      10.733485     12     2        5  54584.0   \n",
       "27                  9.338565      10.733050     12     3        5  53957.0   \n",
       "28                  9.337475      10.731165     12     4        5  51338.0   \n",
       "..                       ...            ...    ...   ...      ...      ...   \n",
       "188                 7.653025       8.211950      1    20        4  72462.0   \n",
       "189                 7.472100       7.876650      1    21        4  69629.0   \n",
       "190                 7.196725       7.675100      1    22        4  65632.0   \n",
       "191                 7.061050       7.264600      1    23        4  62355.0   \n",
       "192                 6.904075       7.087500      1     0        5  65201.0   \n",
       "\n",
       "       lag1D    lag1W  \n",
       "24       NaN      NaN  \n",
       "25       NaN      NaN  \n",
       "26       NaN      NaN  \n",
       "27       NaN      NaN  \n",
       "28       NaN      NaN  \n",
       "..       ...      ...  \n",
       "188  71765.0      NaN  \n",
       "189  67414.0      NaN  \n",
       "190  63613.0      NaN  \n",
       "191  66334.0      NaN  \n",
       "192  64948.0  59182.0  \n",
       "\n",
       "[169 rows x 80 columns]"
      ]
     },
     "execution_count": 190,
     "metadata": {},
     "output_type": "execute_result"
    }
   ],
   "source": [
    "Xinput['lag1H'] = Yconso['y'].shift(1)\n",
    "Xinput['lag1D'] = Yconso['y'].shift(24)\n",
    "Xinput['lag1W'] = Yconso['y'].shift(24*7)\n",
    "\n",
    "Xinput.head(24 * 7 + 1)"
   ]
  },
  {
   "cell_type": "markdown",
   "metadata": {},
   "source": [
    "On trace maintenant les nuages de points afin de voir s'il y a corrélation ou non :"
   ]
  },
  {
   "cell_type": "code",
   "execution_count": 191,
   "metadata": {},
   "outputs": [],
   "source": [
    "def plot_scatter_load(var_x):\n",
    "    plt.scatter(Xinput[var_x],Yconso['y'])\n",
    "    plt.title(var_x)\n",
    "    plt.show()"
   ]
  },
  {
   "cell_type": "code",
   "execution_count": 192,
   "metadata": {},
   "outputs": [
    {
     "data": {
      "image/png": "[encoded data removed]",
      "text/plain": [
       "<Figure size 432x288 with 1 Axes>"
      ]
     },
     "metadata": {
      "needs_background": "light"
     },
     "output_type": "display_data"
    },
    {
     "data": {
      "image/png": "[encoded data removed]",
      "text/plain": [
       "<Figure size 432x288 with 1 Axes>"
      ]
     },
     "metadata": {
      "needs_background": "light"
     },
     "output_type": "display_data"
    },
    {
     "data": {
      "image/png": "[encoded data removed]",
      "text/plain": [
       "<Figure size 432x288 with 1 Axes>"
      ]
     },
     "metadata": {
      "needs_background": "light"
     },
     "output_type": "display_data"
    }
   ],
   "source": [
    "plot_scatter_load('lag1H')\n",
    "plot_scatter_load('lag1D')\n",
    "plot_scatter_load('lag1W')"
   ]
  },
  {
   "cell_type": "markdown",
   "metadata": {},
   "source": [
    "<font color='green'>\n",
    "    \n",
    "* Quelle(s) variable(s) vous semble(nt) pertinentes pour construire un modèle de prévision à J+1?\n",
    "\n",
    "* Lesquelles pouvez-vous raisonnablement utiliser dans un processus opérationnel?\n",
    "\n",
    "</font>"
   ]
  },
  {
   "cell_type": "markdown",
   "metadata": {},
   "source": [
    "## Visualiser la consommation en fonction de la température \n",
    "\n",
    "On voudrait savoir si la consommation nationale peut s'expliquer en regardant simplement la température moyenne sur la France. Pour cela, on peut aussi tracer un nuage de points."
   ]
  },
  {
   "cell_type": "code",
   "execution_count": 193,
   "metadata": {},
   "outputs": [
    {
     "data": {
      "image/png": "[encoded data removed]",
      "text/plain": [
       "<Figure size 432x288 with 1 Axes>"
      ]
     },
     "metadata": {
      "needs_background": "light"
     },
     "output_type": "display_data"
    }
   ],
   "source": [
    "plt.scatter(Xinput['FranceTh_prev'], Yconso['y'], alpha=0.2)\n",
    "plt.show()"
   ]
  },
  {
   "cell_type": "markdown",
   "metadata": {},
   "source": [
    "<font color='green'>\n",
    "    \n",
    "* Que pensez-vous de ce nuage ? \n",
    "* Quelles autres variables explicatives proposeriez-vous? De quels types sont-elles?\n",
    "\n",
    "<font color='green'>"
   ]
  },
  {
   "cell_type": "markdown",
   "metadata": {},
   "source": [
    "# Ajout de variables"
   ]
  },
  {
   "cell_type": "markdown",
   "metadata": {},
   "source": [
    "On récupère le jour de l'année grâce à la fonction *dayofyear*"
   ]
  },
  {
   "cell_type": "code",
   "execution_count": 194,
   "metadata": {},
   "outputs": [],
   "source": [
    "time = pd.to_datetime(Xinput['ds'], yearfirst=True,utc=True)\n",
    "Xinput['posan']= time.dt.dayofyear"
   ]
  },
  {
   "cell_type": "code",
   "execution_count": 195,
   "metadata": {},
   "outputs": [
    {
     "data": {
      "text/plain": [
       "Index(['ds', 'X002Th_real_24h_avant', 'X005Th_real_24h_avant',\n",
       "       'X015Th_real_24h_avant', 'X027Th_real_24h_avant',\n",
       "       'X070Th_real_24h_avant', 'X110Th_real_24h_avant',\n",
       "       'X120Th_real_24h_avant', 'X130Th_real_24h_avant',\n",
       "       'X145Th_real_24h_avant', 'X149Th_real_24h_avant',\n",
       "       'X156Th_real_24h_avant', 'X168Th_real_24h_avant',\n",
       "       'X180Th_real_24h_avant', 'X190Th_real_24h_avant',\n",
       "       'X222Th_real_24h_avant', 'X240Th_real_24h_avant',\n",
       "       'X255Th_real_24h_avant', 'X260Th_real_24h_avant',\n",
       "       'X280Th_real_24h_avant', 'X299Th_real_24h_avant',\n",
       "       'X434Th_real_24h_avant', 'X460Th_real_24h_avant',\n",
       "       'X481Th_real_24h_avant', 'X497Th_real_24h_avant',\n",
       "       'X510Th_real_24h_avant', 'X579Th_real_24h_avant',\n",
       "       'X588Th_real_24h_avant', 'X621Th_real_24h_avant',\n",
       "       'X630Th_real_24h_avant', 'X643Th_real_24h_avant',\n",
       "       'X645Th_real_24h_avant', 'X650Th_real_24h_avant',\n",
       "       'X675Th_real_24h_avant', 'X690Th_real_24h_avant',\n",
       "       'X747Th_real_24h_avant', 'X002Th_prev', 'X005Th_prev', 'X015Th_prev',\n",
       "       'X027Th_prev', 'X070Th_prev', 'X110Th_prev', 'X120Th_prev',\n",
       "       'X130Th_prev', 'X145Th_prev', 'X149Th_prev', 'X156Th_prev',\n",
       "       'X168Th_prev', 'X180Th_prev', 'X190Th_prev', 'X222Th_prev',\n",
       "       'X240Th_prev', 'X255Th_prev', 'X260Th_prev', 'X280Th_prev',\n",
       "       'X299Th_prev', 'X434Th_prev', 'X460Th_prev', 'X481Th_prev',\n",
       "       'X497Th_prev', 'X510Th_prev', 'X579Th_prev', 'X588Th_prev',\n",
       "       'X621Th_prev', 'X630Th_prev', 'X643Th_prev', 'X645Th_prev',\n",
       "       'X650Th_prev', 'X675Th_prev', 'X690Th_prev', 'X747Th_prev', 'holiday',\n",
       "       'FranceTh_real_24h_avant', 'FranceTh_prev', 'month', 'hour', 'weekday',\n",
       "       'lag1H', 'lag1D', 'lag1W', 'posan'],\n",
       "      dtype='object')"
      ]
     },
     "execution_count": 195,
     "metadata": {},
     "output_type": "execute_result"
    }
   ],
   "source": [
    "Xinput.columns\n"
   ]
  },
  {
   "cell_type": "code",
   "execution_count": 196,
   "metadata": {},
   "outputs": [],
   "source": [
    "Xinput.to_csv(\"data/X2input.csv\", index = False)"
   ]
  }
 ],
 "metadata": {
  "jupytext": {
   "formats": "ipynb,py"
  },
  "kernelspec": {
   "display_name": "Python 3",
   "language": "python",
   "name": "python3"
  },
  "language_info": {
   "codemirror_mode": {
    "name": "ipython",
    "version": 3
   },
   "file_extension": ".py",
   "mimetype": "text/x-python",
   "name": "python",
   "nbconvert_exporter": "python",
   "pygments_lexer": "ipython3",
   "version": "3.7.4"
  }
 },
 "nbformat": 4,
 "nbformat_minor": 2
}
